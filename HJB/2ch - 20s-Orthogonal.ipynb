{
 "cells": [
  {
   "cell_type": "code",
   "execution_count": null,
   "metadata": {
    "colab": {
     "base_uri": "https://localhost:8080/",
     "height": 188
    },
    "colab_type": "code",
    "id": "T3Y6t3dmt6Sh",
    "outputId": "3f7b5321-7778-44b7-a507-e0df156858f7"
   },
   "outputs": [],
   "source": [
    "!pip install mne"
   ]
  },
  {
   "cell_type": "code",
   "execution_count": null,
   "metadata": {
    "colab": {
     "base_uri": "https://localhost:8080/",
     "height": 34
    },
    "colab_type": "code",
    "id": "6rJvVJ14vMBS",
    "outputId": "f90cf9a7-013b-430f-ce36-89df966486a0"
   },
   "outputs": [],
   "source": [
    "\n",
    "import matplotlib\n",
    "\n",
    "from matplotlib import pyplot as plt\n",
    "import numpy as np\n",
    "\n",
    "\n",
    "\n",
    "import random\n",
    "import mne\n",
    "from mne.preprocessing import create_ecg_epochs, create_eog_epochs\n",
    "from mne import io\n",
    "from mne import viz\n",
    "#from mne.datasets import testing\n",
    "from mne import Epochs, io, pick_types\n",
    "from mne.event import define_target_events\n",
    "from mne.time_frequency import psd_welch\n",
    "print(__doc__)"
   ]
  },
  {
   "cell_type": "code",
   "execution_count": null,
   "metadata": {
    "colab": {
     "base_uri": "https://localhost:8080/",
     "height": 6065
    },
    "colab_type": "code",
    "id": "LmBnMz2QvTdo",
    "outputId": "9d4abe84-3c78-439d-a9fd-c32567018146"
   },
   "outputs": [],
   "source": [
    "subject_number=20\n",
    "\n",
    "\n",
    "# load dataset in array\n",
    "list_raw_fnames = [[0]*2]*subject_number\n",
    "for x in range(subject_number):\n",
    "    list_raw_fnames[x] = mne.datasets.eegbci.load_data(x+1,[1,2])\n",
    "\n",
    "list_rawdata = np.zeros((subject_number,2), dtype='object')\n",
    "\n",
    "for i in range(subject_number):\n",
    "    for j in range(2):\n",
    "        list_rawdata[i][j] = mne.io.read_raw_edf(list_raw_fnames[i][j], preload=True)\n",
    "print( list_rawdata[:][:])"
   ]
  },
  {
   "cell_type": "code",
   "execution_count": null,
   "metadata": {
    "colab": {
     "base_uri": "https://localhost:8080/",
     "height": 34
    },
    "colab_type": "code",
    "id": "d-iW3M6zvXVE",
    "outputId": "65ea74f2-7ffa-4ca8-9090-072cb61ef614"
   },
   "outputs": [],
   "source": [
    "import math\n",
    "\n",
    "\n",
    "task_number=1\n",
    "task_time = 60\n",
    "sampel_number_per_sec =  160 # sampel rate\n",
    "total_sampel_number =  sampel_number_per_sec *task_time # 60*160\n",
    "sample_shift = 4 #step len\n",
    "window_len= 20\n",
    "\n",
    "# img for each one\n",
    "subject_img_number = math.floor((total_sampel_number - sampel_number_per_sec) / sample_shift) +1 - window_len +1\n",
    "test_start_index=subject_img_number - math.floor(subject_img_number/4) \n",
    "\n",
    "train_number =  test_start_index \n",
    "test_number = subject_img_number - test_start_index\n",
    "\n",
    "print(train_number,test_number)\n"
   ]
  },
  {
   "cell_type": "code",
   "execution_count": null,
   "metadata": {
    "colab": {
     "base_uri": "https://localhost:8080/",
     "height": 34
    },
    "colab_type": "code",
    "id": "9ueWuVOIvyyS",
    "outputId": "3ac2788e-530c-47de-9038-68c105cad683"
   },
   "outputs": [],
   "source": [
    "ch_number = 2\n",
    "\n",
    "train_img = np.zeros((train_number*subject_number, ch_number, window_len + 1, 160), dtype = float)\n",
    "train_label =[]\n",
    "\n",
    "\n",
    "test_img = np.zeros((test_number*subject_number, ch_number, window_len, 160), dtype = float)\n",
    "test_label =[]\n",
    "\n",
    "\n",
    "print(train_img.shape)\n",
    "print(test_img.shape)"
   ]
  },
  {
   "cell_type": "code",
   "execution_count": null,
   "metadata": {
    "colab": {},
    "colab_type": "code",
    "id": "JhRgEkfcwdYQ"
   },
   "outputs": [],
   "source": [
    "def normalize_channel_data(ch , i, ch_min, ch_max):\n",
    "  ch = ((ch - ch_min[i]) / (ch_max[i] - ch_min[i] ) )\n",
    "  return ch\n",
    "\n",
    "def ProjectionVector(VecA,VecB):\n",
    "    Projeted_VecB_on_VecA=np.dot(VecA,VecB)/np.dot(VecA,VecA)*VecA\n",
    "    return Projeted_VecB_on_VecA"
   ]
  },
  {
   "cell_type": "code",
   "execution_count": null,
   "metadata": {
    "colab": {},
    "colab_type": "code",
    "id": "pS3qsxAG4UqV"
   },
   "outputs": [],
   "source": [
    "list_rawdataTest=list_rawdata.copy()\n",
    "for s in range(subject_number):\n",
    "    \n",
    "    DataChannelsRaw, times =list_rawdataTest[s][0][:64,:9600]\n",
    "    \n",
    "    # make a copy\n",
    "    DataChannelsRaw_t=DataChannelsRaw.copy()\n",
    "    times_t=times.copy()\n",
    "    \n",
    "    # find min/max per channel\n",
    "    ch_max =[]\n",
    "    ch_min =[]\n",
    "    for p in range(len(DataChannelsRaw_t)):\n",
    "        ch_max = np.append(ch_max, max(DataChannelsRaw_t[p])) # max for each cannel\n",
    "        ch_min = np.append(ch_min, min(DataChannelsRaw_t[p])) # min for each cannel\n",
    "        \n",
    "    # Normalize Channels\n",
    "    DataChannelsNormal=np.zeros((ch_number,times.size),dtype = float)\n",
    "    for i in range(ch_number):\n",
    "        DataChannelsNormal[i]=normalize_channel_data(DataChannelsRaw_t[i], i, ch_min, ch_max)\n",
    "    \n",
    "    # Orthogonal Second Channel\n",
    "    DataChannelsOrt=np.zeros((ch_number,times.size),dtype = float)\n",
    "    DataChannelsOrt[0]=DataChannelsNormal[0]\n",
    "    DataChannelsOrt[1]=DataChannelsNormal[1]-ProjectionVector(DataChannelsNormal[0],DataChannelsNormal[1])\n",
    "    \n",
    "    \n",
    "    for j in range (subject_img_number):\n",
    "        for i in range(ch_number):\n",
    "            for z in range (window_len):\n",
    "                ExtractedData=DataChannelsOrt[i,0+(j+z)*sample_shift:sampel_number_per_sec+(j+z)*sample_shift]\n",
    "\n",
    "                if j <test_start_index :\n",
    "                    train_img[s*train_number + j][i][z] = ExtractedData\n",
    "                    if z==window_len-1 :\n",
    "                      train_img[s*train_number + j][i][z+1] = s\n",
    "                      \n",
    "                else:\n",
    "                    test_img[s*test_number + j - test_start_index][i][z] = ExtractedData\n",
    "        if j >=test_start_index :\n",
    "          test_label = np.append(test_label, (s))\n",
    "\n",
    "           "
   ]
  },
  {
   "cell_type": "code",
   "execution_count": null,
   "metadata": {},
   "outputs": [],
   "source": [
    "# BACKUP:\n",
    "\n",
    "# for s in range(subject_number):\n",
    "#     rawdataChannels_t, times_t=rawdataChannels, times =list_rawdata[s][0][:64,:9600]\n",
    "#     ch_max =[]\n",
    "#     ch_min =[]\n",
    "#     for p in range(len(rawdataChannels_t)):\n",
    "#         ch_max = np.append(ch_max, max(rawdataChannels_t[p])) # max for each cannel\n",
    "#         ch_min = np.append(ch_min, min(rawdataChannels_t[p])) # min for each cannel\n",
    "\n",
    "#     for j in range (subject_img_number):\n",
    "#         for i in range(ch_number):\n",
    "#             for z in range (window_len):\n",
    "#                 rawdataChannels, times=rawdataChannels, times =list_rawdata[s][0][i,0+(j+z)*sample_shift:sampel_number_per_sec+(j+z)*sample_shift]\n",
    "\n",
    "#                       # normalize method\n",
    "#                 rawdataChannels = normalize_channel_data(rawdataChannels, i, ch_min, ch_max)\n",
    "#                 if j <test_start_index :\n",
    "#                     train_img[s*train_number + j][i][z] = rawdataChannels\n",
    "#                     if z==window_len-1 :\n",
    "#                       train_img[s*train_number + j][i][z+1] = s\n",
    "                      \n",
    "                      \n",
    "#                 else:\n",
    "#                     test_img[s*test_number + j - test_start_index][i][z] = rawdataChannels\n",
    "#         if j >=test_start_index :\n",
    "#           test_label = np.append(test_label, (s))\n",
    "\n",
    "           "
   ]
  },
  {
   "cell_type": "code",
   "execution_count": null,
   "metadata": {
    "colab": {},
    "colab_type": "code",
    "id": "Ahuuy3MywsXh"
   },
   "outputs": [],
   "source": [
    "#shaffle train img array\n",
    "train_img_shuffle = train_img.copy()\n",
    "\n",
    "np.random.shuffle(train_img_shuffle)\n",
    "\n",
    "train_img_2 = np.zeros((train_number*subject_number, ch_number, window_len, 160), dtype = float)\n",
    "train_img_2.shape"
   ]
  },
  {
   "cell_type": "code",
   "execution_count": null,
   "metadata": {
    "colab": {},
    "colab_type": "code",
    "id": "rNp-sUV60qka"
   },
   "outputs": [],
   "source": [
    "# img label \n",
    "\n",
    "train_img_shuffle_len =len(train_img_shuffle)\n",
    "for i in range(train_img_shuffle_len):\n",
    "    train_label = np.append(train_label, (train_img_shuffle[i][0][window_len][0] ))\n",
    "    for j in range (ch_number):\n",
    "      train_img_2[i][j] = np.delete(train_img_shuffle[i][j], window_len, axis=0)"
   ]
  },
  {
   "cell_type": "code",
   "execution_count": null,
   "metadata": {
    "colab": {
     "base_uri": "https://localhost:8080/",
     "height": 34
    },
    "colab_type": "code",
    "id": "fcohyUUd-bUS",
    "outputId": "5d54811c-e164-46d6-daa0-52a10d25e83e"
   },
   "outputs": [],
   "source": [
    "import keras\n",
    "from keras.utils import to_categorical"
   ]
  },
  {
   "cell_type": "code",
   "execution_count": null,
   "metadata": {
    "colab": {},
    "colab_type": "code",
    "id": "avj5JZL--CIb"
   },
   "outputs": [],
   "source": [
    "train_label = to_categorical(train_label, subject_number)\n",
    "test_label = to_categorical(test_label, subject_number)"
   ]
  },
  {
   "cell_type": "code",
   "execution_count": null,
   "metadata": {
    "colab": {
     "base_uri": "https://localhost:8080/",
     "height": 34
    },
    "colab_type": "code",
    "id": "wGXxfUBc-iwT",
    "outputId": "68e70be7-5506-47ca-f2b3-e5b47a3c2509"
   },
   "outputs": [],
   "source": [
    "# valid & train\n",
    "x_train =train_img_2[:20000]\n",
    "y_train =train_label[:20000]\n",
    "\n",
    "x_valid =train_img_2[20000:]\n",
    "y_valid =train_label[20000:]\n",
    "\n",
    "x_train.shape"
   ]
  },
  {
   "cell_type": "code",
   "execution_count": null,
   "metadata": {
    "colab": {
     "base_uri": "https://localhost:8080/",
     "height": 353
    },
    "colab_type": "code",
    "id": "rNRepclQOtWn",
    "outputId": "0bdbc96b-a0db-45fc-9c9a-c30b8727014e"
   },
   "outputs": [],
   "source": [
    "train_label[:10]"
   ]
  },
  {
   "cell_type": "code",
   "execution_count": null,
   "metadata": {
    "colab": {
     "base_uri": "https://localhost:8080/",
     "height": 124
    },
    "colab_type": "code",
    "id": "oJPj5Pw4-lXH",
    "outputId": "8e0ef2a3-790d-41e3-ee3f-b0a41fd4c717"
   },
   "outputs": [],
   "source": [
    "from keras import layers\n",
    "from keras import models\n",
    "from keras import regularizers\n",
    "\n",
    "\n",
    "model = models.Sequential()\n",
    "model.add(layers.Conv2D(64, (3,3), activation = 'relu', input_shape = (ch_number,window_len,160), data_format= \"channels_first\" ))\n",
    "print(model.output.shape)\n",
    "model.add(layers.MaxPooling2D((2,2)))\n",
    "print(model.output.shape)\n",
    "model.add(layers.Conv2D(128, (3,3), activation = 'relu'))\n",
    "print(model.output.shape)\n",
    "model.add(layers.MaxPooling2D((2,2)))\n",
    "\n",
    "model.add(layers.Flatten())\n",
    "print(model.output.shape)\n",
    "model.add(layers.Dense(512, activation = 'relu'))\n",
    "model.add(layers.Dropout(0.5))\n",
    "print(model.output.shape)\n",
    "model.add(layers.Dense(subject_number, activation = 'softmax'))\n",
    "print(model.output.shape)"
   ]
  },
  {
   "cell_type": "code",
   "execution_count": null,
   "metadata": {
    "colab": {},
    "colab_type": "code",
    "id": "w8TTCrGy-lfv"
   },
   "outputs": [],
   "source": [
    "\n",
    "from keras import optimizers\n",
    "\n",
    "model.compile(loss= 'categorical_crossentropy',\n",
    "              optimizer= optimizers.RMSprop(lr= 1e-4),\n",
    "              metrics = ['acc'])"
   ]
  },
  {
   "cell_type": "code",
   "execution_count": null,
   "metadata": {
    "colab": {
     "base_uri": "https://localhost:8080/",
     "height": 568
    },
    "colab_type": "code",
    "id": "RdNLORh0AZYc",
    "outputId": "efd66a44-f72f-4095-be9d-29f446146873"
   },
   "outputs": [],
   "source": [
    "history = model.fit(\n",
    "        x_train,\n",
    "        y_train,\n",
    "        epochs = 15,\n",
    "        batch_size = 10,\n",
    "        validation_data = (x_valid, y_valid)\n",
    ")"
   ]
  },
  {
   "cell_type": "code",
   "execution_count": null,
   "metadata": {
    "colab": {
     "base_uri": "https://localhost:8080/",
     "height": 52
    },
    "colab_type": "code",
    "id": "Jl50FoGlAZb0",
    "outputId": "11e05e3f-22ff-4341-a6b5-91df476b2956"
   },
   "outputs": [],
   "source": [
    "model.evaluate(test_img, test_label)\n"
   ]
  },
  {
   "cell_type": "code",
   "execution_count": null,
   "metadata": {
    "colab": {},
    "colab_type": "code",
    "id": "JgwRtpWuW1RR"
   },
   "outputs": [],
   "source": []
  }
 ],
 "metadata": {
  "colab": {
   "collapsed_sections": [],
   "include_colab_link": true,
   "name": "Untitled10.ipynb",
   "provenance": [],
   "version": "0.3.2"
  },
  "kernelspec": {
   "display_name": "Python 3",
   "language": "python",
   "name": "python3"
  },
  "language_info": {
   "codemirror_mode": {
    "name": "ipython",
    "version": 3
   },
   "file_extension": ".py",
   "mimetype": "text/x-python",
   "name": "python",
   "nbconvert_exporter": "python",
   "pygments_lexer": "ipython3",
   "version": "3.6.8"
  }
 },
 "nbformat": 4,
 "nbformat_minor": 1
}
