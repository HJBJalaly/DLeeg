{
 "cells": [
  {
   "cell_type": "code",
   "execution_count": null,
   "metadata": {
    "colab": {
     "base_uri": "https://localhost:8080/",
     "height": 203
    },
    "colab_type": "code",
    "id": "ugNHdREkvO6h",
    "outputId": "0aa4ea5b-11b4-4909-e640-42366a31fa0a"
   },
   "outputs": [],
   "source": [
    "'''\n",
    "1 channel :  Cz (index =10)\n",
    "\n",
    "layers: 3 conv2D(3,3) & maxpooling(2,2)\n",
    "epoch: 20 \n",
    "batch size: 20\n",
    "\n",
    "test acc: 0.7886\n",
    "test loss: 0.6802\n",
    "\n",
    "'''\n",
    "\n",
    "\n",
    "import matplotlib\n",
    "from matplotlib import pyplot as plt\n",
    "import numpy as np\n",
    "\n",
    "\n",
    "\n",
    "import random\n",
    "import mne\n",
    "from mne.preprocessing import create_ecg_epochs, create_eog_epochs\n",
    "from mne import io\n",
    "from mne import viz\n",
    "#from mne.datasets import testing\n",
    "from mne import Epochs, io, pick_types\n",
    "from mne.event import define_target_events\n",
    "from mne.time_frequency import psd_welch\n",
    "print(__doc__)"
   ]
  },
  {
   "cell_type": "code",
   "execution_count": null,
   "metadata": {
    "colab": {
     "base_uri": "https://localhost:8080/",
     "height": 1000
    },
    "colab_type": "code",
    "id": "EMBxiZ8KvXUP",
    "outputId": "57886af8-899c-4083-ea24-df239bacff67"
   },
   "outputs": [],
   "source": [
    "subject_number=20\n",
    "\n",
    "\n",
    "# load dataset in array\n",
    "list_raw_fnames = [[0]*2]*subject_number\n",
    "for x in range(subject_number):\n",
    "    list_raw_fnames[x] = mne.datasets.eegbci.load_data(x+1,[1,2])\n",
    "\n",
    "list_rawdata1 = np.zeros((subject_number,2), dtype='object')\n",
    "list_rawdata = np.zeros((subject_number,2), dtype='object')\n",
    "\n",
    "for i in range(subject_number):\n",
    "    for j in range(2):\n",
    "        list_rawdata[i][j] = mne.io.read_raw_edf(list_raw_fnames[i][j], preload=True)\n",
    "       "
   ]
  },
  {
   "cell_type": "code",
   "execution_count": null,
   "metadata": {
    "colab": {
     "base_uri": "https://localhost:8080/",
     "height": 34
    },
    "colab_type": "code",
    "id": "lltZvYULvrvA",
    "outputId": "70c7b7f0-2f98-471f-9382-cbbb1bff1130"
   },
   "outputs": [],
   "source": [
    "import math\n",
    "\n",
    "\n",
    "task_number=1\n",
    "task_time = 60\n",
    "sampel_number_per_sec =  160 # sampel rate\n",
    "total_sampel_number =  sampel_number_per_sec *task_time # 60*160\n",
    "sample_shift = 4 #step len\n",
    "window_len= 20\n",
    "list_channel = [10] # channel = Cz\n",
    "\n",
    "# img for each one\n",
    "subject_img_number = math.floor((total_sampel_number - sampel_number_per_sec) / sample_shift) +1 - window_len +1\n",
    "test_start_index=subject_img_number - math.floor(subject_img_number/4) \n",
    "\n",
    "train_number =  test_start_index \n",
    "test_number = subject_img_number - test_start_index\n",
    "train_number"
   ]
  },
  {
   "cell_type": "code",
   "execution_count": null,
   "metadata": {
    "colab": {
     "base_uri": "https://localhost:8080/",
     "height": 34
    },
    "colab_type": "code",
    "id": "HCZRQhtZ04dN",
    "outputId": "1c0b0aee-3647-433f-c084-e7aef675b28c"
   },
   "outputs": [],
   "source": [
    "ch_number = len(list_channel)\n",
    "\n",
    "train_img = np.zeros((train_number*subject_number, ch_number, window_len + 1, 160), dtype = float)\n",
    "train_label =[]\n",
    "\n",
    "\n",
    "test_img = np.zeros((test_number*subject_number, ch_number, window_len, 160), dtype = float)\n",
    "test_label =[]\n",
    "\n",
    "\n",
    "train_img.shape\n"
   ]
  },
  {
   "cell_type": "code",
   "execution_count": null,
   "metadata": {
    "colab": {},
    "colab_type": "code",
    "id": "2NuDhT0Y1Fqa"
   },
   "outputs": [],
   "source": [
    "def normalize_channel_data(ch , i, ch_min, ch_max):\n",
    "  ch = ((ch - ch_min[i]) / (ch_max[i] - ch_min[i] ))\n",
    "  return ch"
   ]
  },
  {
   "cell_type": "code",
   "execution_count": null,
   "metadata": {
    "colab": {},
    "colab_type": "code",
    "id": "MesamNSb1IGo"
   },
   "outputs": [],
   "source": [
    "for s in range(subject_number):\n",
    "    ch_max =[]\n",
    "    ch_min =[]\n",
    "    for ch in list_channel:\n",
    "      rawdataChannels_t, times_t =list_rawdata[s][0][ch,:9600]\n",
    "      #print(rawdataChannels_t)\n",
    "      ch_max = np.append(ch_max, max(rawdataChannels_t[0])) # max for each cannel\n",
    "      ch_min = np.append(ch_min, min(rawdataChannels_t[0])) # min for each cannel\n",
    "    \n",
    "    for j in range (subject_img_number):\n",
    "        i = 0\n",
    "        for index in list_channel: # فقط کانال های با اندیس مشخص را دربرمیگیرد\n",
    "            \n",
    "            for z in range (window_len):\n",
    "                rawdataChannels, times =list_rawdata[s][0][index, (j+z)*sample_shift:sampel_number_per_sec+(j+z)*sample_shift]\n",
    "\n",
    "                      # normalize method\n",
    "                rawdataChannels = normalize_channel_data(rawdataChannels, i, ch_min, ch_max)\n",
    "                if j <test_start_index :\n",
    "                    train_img[s*train_number + j][i][z] = rawdataChannels\n",
    "                    if z==window_len-1 :\n",
    "                      train_img[s*train_number + j][i][z+1] = s\n",
    "                      \n",
    "                      \n",
    "                else:\n",
    "                    test_img[s*test_number + j - test_start_index][i][z] = rawdataChannels\n",
    "            i+=1            \n",
    "                    \n",
    "              \n",
    "        if j >=test_start_index :\n",
    "          test_label = np.append(test_label, (s))"
   ]
  },
  {
   "cell_type": "code",
   "execution_count": null,
   "metadata": {
    "colab": {},
    "colab_type": "code",
    "id": "-3GarxsG1Jjb"
   },
   "outputs": [],
   "source": [
    "#shaffle train img array\n",
    "train_img_shuffle = train_img\n",
    "\n",
    "np.random.shuffle(train_img_shuffle)"
   ]
  },
  {
   "cell_type": "code",
   "execution_count": null,
   "metadata": {
    "colab": {},
    "colab_type": "code",
    "id": "FRJrmQA61TUI"
   },
   "outputs": [],
   "source": [
    "train_img_2 = np.zeros((train_number*subject_number, ch_number, window_len, 160), dtype = float)\n",
    "\n",
    "# img label \n",
    "train_img_shuffle_len =len(train_img_shuffle)\n",
    "for i in range(train_img_shuffle_len):\n",
    "    train_label = np.append(train_label, (train_img_shuffle[i][0][window_len][0] ))\n",
    "    for j in range (ch_number):\n",
    "      train_img_2[i][j] = np.delete(train_img_shuffle[i][j], window_len, axis=0)"
   ]
  },
  {
   "cell_type": "code",
   "execution_count": null,
   "metadata": {
    "colab": {
     "base_uri": "https://localhost:8080/",
     "height": 34
    },
    "colab_type": "code",
    "id": "Cumr4JG_1VBY",
    "outputId": "2abc0136-d3ca-414b-eb3c-84c0618ba8db"
   },
   "outputs": [],
   "source": [
    "\n",
    "train_img_2.shape"
   ]
  },
  {
   "cell_type": "code",
   "execution_count": null,
   "metadata": {
    "colab": {},
    "colab_type": "code",
    "id": "ZvE7J-nV1c9m"
   },
   "outputs": [],
   "source": [
    "from keras.utils import to_categorical"
   ]
  },
  {
   "cell_type": "code",
   "execution_count": null,
   "metadata": {
    "colab": {},
    "colab_type": "code",
    "id": "F0eN1KTW1XFG"
   },
   "outputs": [],
   "source": [
    "train_label = to_categorical(train_label, subject_number)\n",
    "test_label = to_categorical(test_label, subject_number)"
   ]
  },
  {
   "cell_type": "code",
   "execution_count": null,
   "metadata": {
    "colab": {
     "base_uri": "https://localhost:8080/",
     "height": 34
    },
    "colab_type": "code",
    "id": "p7W7L_uO1Ys0",
    "outputId": "32bea9e7-e425-494e-a757-3b34a8265c06"
   },
   "outputs": [],
   "source": [
    "# valid & train\n",
    "x_train =train_img_2[:20000]\n",
    "y_train =train_label[:20000]\n",
    "\n",
    "x_valid =train_img_2[20000:]\n",
    "y_valid =train_label[20000:]\n",
    "\n",
    "x_valid.shape"
   ]
  },
  {
   "cell_type": "code",
   "execution_count": null,
   "metadata": {
    "colab": {
     "base_uri": "https://localhost:8080/",
     "height": 152
    },
    "colab_type": "code",
    "id": "3aY39Gq91gkv",
    "outputId": "b6e98a67-eeb4-4db4-ddf9-195c62f75cc0"
   },
   "outputs": [],
   "source": [
    "from keras import layers\n",
    "from keras import models\n",
    "from keras import regularizers\n",
    "\n",
    "\n",
    "model = models.Sequential()\n",
    "model.add(layers.Conv2D(64, (3,3), activation = 'relu', padding='same', input_shape = (ch_number,window_len,160), data_format= \"channels_first\" ))\n",
    "print(model.output.shape)\n",
    "model.add(layers.MaxPooling2D((2,2)))\n",
    "print(model.output.shape)\n",
    "model.add(layers.Conv2D(128, (3,3), activation = 'relu'))\n",
    "print(model.output.shape)\n",
    "model.add(layers.MaxPooling2D((2,2)))\n",
    "print(model.output.shape)\n",
    "model.add(layers.Conv2D(256, (3,3), activation = 'relu'))\n",
    "print(model.output.shape)\n",
    "model.add(layers.MaxPooling2D((2,2)))\n",
    "\n",
    "\n",
    "model.add(layers.Flatten())\n",
    "print(model.output.shape)\n",
    "model.add(layers.Dense(512, activation = 'relu'))\n",
    "model.add(layers.Dropout(0.5))\n",
    "print(model.output.shape)\n",
    "model.add(layers.Dense(subject_number, activation = 'softmax'))\n",
    "print(model.output.shape)"
   ]
  },
  {
   "cell_type": "code",
   "execution_count": null,
   "metadata": {
    "colab": {},
    "colab_type": "code",
    "id": "ROHnPvn91jAl"
   },
   "outputs": [],
   "source": [
    "from keras import optimizers\n",
    "\n",
    "model.compile(loss= 'categorical_crossentropy',\n",
    "              optimizer= optimizers.RMSprop(lr= 1e-4),\n",
    "              metrics = ['acc'])"
   ]
  },
  {
   "cell_type": "code",
   "execution_count": null,
   "metadata": {
    "colab": {
     "base_uri": "https://localhost:8080/",
     "height": 730
    },
    "colab_type": "code",
    "id": "QjIkFDnV1nEN",
    "outputId": "e488b4a9-e062-4e86-8ab5-44f7400ba436"
   },
   "outputs": [],
   "source": [
    "history = model.fit(\n",
    "        x_train,\n",
    "        y_train,\n",
    "        epochs = 20,\n",
    "        batch_size = 20,\n",
    "        validation_data = (x_valid, y_valid)\n",
    ")"
   ]
  },
  {
   "cell_type": "code",
   "execution_count": null,
   "metadata": {
    "colab": {
     "base_uri": "https://localhost:8080/",
     "height": 51
    },
    "colab_type": "code",
    "id": "5i7PMlbT96iD",
    "outputId": "7c84b3e2-4d08-44e7-b9df-812e6676097e"
   },
   "outputs": [],
   "source": [
    "model.evaluate(test_img, test_label)\n"
   ]
  },
  {
   "cell_type": "code",
   "execution_count": null,
   "metadata": {
    "colab": {
     "base_uri": "https://localhost:8080/",
     "height": 295
    },
    "colab_type": "code",
    "id": "QPJdvMzB1o74",
    "outputId": "836c6787-0807-4eb7-a918-6e977dd9b0d4"
   },
   "outputs": [],
   "source": [
    "import matplotlib.pyplot as plt\n",
    "\n",
    "history_dict = history.history \n",
    "\n",
    "loss_values = history_dict ['loss'] \n",
    "\n",
    "val_loss_values = history_dict['val_loss']\n",
    "\n",
    "epochs = range(1, len(loss_values) + 1)\n",
    "\n",
    "\n",
    "\n",
    "plt.plot(epochs, loss_values, 'bo', label='Training loss') \n",
    "\n",
    "plt.plot(epochs, val_loss_values, 'b', label='Validation loss') \n",
    "\n",
    "plt.title('Training and validation loss') \n",
    "\n",
    "plt.xlabel('Epochs') \n",
    "\n",
    "plt.ylabel('Loss') \n",
    "\n",
    "plt.legend()\n",
    "\n",
    "plt.show()"
   ]
  },
  {
   "cell_type": "code",
   "execution_count": null,
   "metadata": {
    "colab": {
     "base_uri": "https://localhost:8080/",
     "height": 295
    },
    "colab_type": "code",
    "id": "Es1vGaRAPI-y",
    "outputId": "a692d5b0-d930-4435-d078-8d5e6a19cbb1"
   },
   "outputs": [],
   "source": [
    "history_dict = history.history \n",
    "\n",
    "acc_values = history_dict ['acc'] \n",
    "\n",
    "val_acc_values = history_dict['val_acc']\n",
    "\n",
    "\n",
    "\n",
    "plt.plot(epochs, acc_values, 'bo', label='Training acc') \n",
    "\n",
    "plt.plot(epochs, val_acc_values, 'b', label='Validation acc') \n",
    "\n",
    "plt.title('Training and validation acc') \n",
    "\n",
    "plt.xlabel('Epochs') \n",
    "\n",
    "plt.ylabel('acc') \n",
    "\n",
    "plt.legend()\n",
    "\n",
    "plt.show()"
   ]
  },
  {
   "cell_type": "code",
   "execution_count": null,
   "metadata": {
    "colab": {},
    "colab_type": "code",
    "id": "hyFYHNEVPL2M"
   },
   "outputs": [],
   "source": []
  }
 ],
 "metadata": {
  "celltoolbar": "Raw Cell Format",
  "colab": {
   "collapsed_sections": [],
   "include_colab_link": true,
   "name": "1 ch(10. Cz).ipynb",
   "provenance": [],
   "version": "0.3.2"
  },
  "kernelspec": {
   "display_name": "Python 3",
   "language": "python",
   "name": "python3"
  },
  "language_info": {
   "codemirror_mode": {
    "name": "ipython",
    "version": 3
   },
   "file_extension": ".py",
   "mimetype": "text/x-python",
   "name": "python",
   "nbconvert_exporter": "python",
   "pygments_lexer": "ipython3",
   "version": "3.6.8"
  }
 },
 "nbformat": 4,
 "nbformat_minor": 1
}
