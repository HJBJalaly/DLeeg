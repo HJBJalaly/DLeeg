{
  "nbformat": 4,
  "nbformat_minor": 0,
  "metadata": {
    "colab": {
      "name": "1 ch(39. Ft8).ipynb",
      "version": "0.3.2",
      "provenance": [],
      "include_colab_link": true
    },
    "kernelspec": {
      "name": "python3",
      "display_name": "Python 3"
    },
    "accelerator": "GPU"
  },
  "cells": [
    {
      "cell_type": "markdown",
      "metadata": {
        "id": "view-in-github",
        "colab_type": "text"
      },
      "source": [
        "<a href=\"https://colab.research.google.com/github/helmana/DLeeg/blob/master/best%20channel/1%20ch(56.%20Po3).ipynb\" target=\"_parent\"><img src=\"https://colab.research.google.com/assets/colab-badge.svg\" alt=\"Open In Colab\"/></a>"
      ]
    },
    {
      "cell_type": "code",
      "metadata": {
        "id": "Xped1-YRySlp",
        "colab_type": "code",
        "outputId": "26eefab0-2d8d-47e8-c3e4-c2cf140a5463",
        "colab": {
          "base_uri": "https://localhost:8080/",
          "height": 67
        }
      },
      "source": [
        "!pip install mne\n"
      ],
      "execution_count": 2,
      "outputs": [
        {
          "output_type": "stream",
          "text": [
            "Requirement already satisfied: mne in /usr/local/lib/python3.6/dist-packages (0.18.2)\n",
            "Requirement already satisfied: numpy>=1.11.3 in /usr/local/lib/python3.6/dist-packages (from mne) (1.16.4)\n",
            "Requirement already satisfied: scipy>=0.17.1 in /usr/local/lib/python3.6/dist-packages (from mne) (1.3.1)\n"
          ],
          "name": "stdout"
        }
      ]
    },
    {
      "cell_type": "code",
      "metadata": {
        "id": "6l2tWWnXy-5P",
        "colab_type": "code",
        "outputId": "eee26752-f958-416d-c383-5eb43cb4e579",
        "colab": {
          "base_uri": "https://localhost:8080/",
          "height": 236
        }
      },
      "source": [
        "\n",
        "'''\n",
        "** 64 ch\n",
        "\n",
        "1 channel :  Po3 (index =56)\n",
        "\n",
        "layers: 3 conv2D(3,3) & maxpooling(2,2)\n",
        "epoch: 20 \n",
        "batch size: 20\n",
        "\n",
        "test acc: 0.8205\n",
        "test loss: 0.5700\n",
        "\n",
        "'''\n",
        "\n",
        "import matplotlib\n",
        "from matplotlib import pyplot as plt\n",
        "import numpy as np\n",
        "\n",
        "\n",
        "\n",
        "import random\n",
        "import mne\n",
        "from mne.preprocessing import create_ecg_epochs, create_eog_epochs\n",
        "from mne import io\n",
        "from mne import viz\n",
        "#from mne.datasets import testing\n",
        "from mne import Epochs, io, pick_types\n",
        "from mne.event import define_target_events\n",
        "from mne.time_frequency import psd_welch\n",
        "print(__doc__)"
      ],
      "execution_count": 3,
      "outputs": [
        {
          "output_type": "stream",
          "text": [
            "\n",
            "** 64 ch\n",
            "\n",
            "1 channel :  Po3 (index =56)\n",
            "\n",
            "layers: 3 conv2D(3,3) & maxpooling(2,2)\n",
            "epoch: 20 \n",
            "batch size: 20\n",
            "\n",
            "test acc: 0.\n",
            "test loss: 0.\n",
            "\n",
            "\n"
          ],
          "name": "stdout"
        }
      ]
    },
    {
      "cell_type": "code",
      "metadata": {
        "id": "5NZsRUd-yVJd",
        "colab_type": "code",
        "outputId": "c6960e7f-dc7a-4632-b9ce-4109aede2040",
        "colab": {
          "base_uri": "https://localhost:8080/",
          "height": 1000
        }
      },
      "source": [
        "subject_number=20\n",
        "\n",
        "\n",
        "# load dataset in array\n",
        "list_raw_fnames = [[0]*2]*subject_number\n",
        "for x in range(subject_number):\n",
        "    list_raw_fnames[x] = mne.datasets.eegbci.load_data(x+1,[1,2])\n",
        "\n",
        "list_rawdata1 = np.zeros((subject_number,2), dtype='object')\n",
        "list_rawdata = np.zeros((subject_number,2), dtype='object')\n",
        "\n",
        "for i in range(subject_number):\n",
        "    for j in range(2):\n",
        "        list_rawdata[i][j] = mne.io.read_raw_edf(list_raw_fnames[i][j], preload=True)\n",
        "       "
      ],
      "execution_count": 4,
      "outputs": [
        {
          "output_type": "stream",
          "text": [
            "Using default location ~/mne_data for EEGBCI...\n",
            "Creating ~/mne_data\n",
            "Downloading http://www.physionet.org/physiobank/database/eegmmidb/S001/S001R01.edf (1.2 MB)\n",
            "[........................................] 100.00% (  1.2 MB,  17.6 MB/s) /   \n",
            "Do you want to set the path:\n",
            "    /root/mne_data\n",
            "as the default EEGBCI dataset path in the mne-python config [y]/n? y\n",
            "Attempting to create new mne-python configuration file:\n",
            "/root/.mne/mne-python.json\n",
            "Downloading http://www.physionet.org/physiobank/database/eegmmidb/S001/S001R02.edf (1.2 MB)\n",
            "[........................................] 100.00% (  1.2 MB,  17.0 MB/s) /   \n",
            "Downloading http://www.physionet.org/physiobank/database/eegmmidb/S002/S002R01.edf (1.2 MB)\n",
            "[........................................] 100.00% (  1.2 MB,  12.8 MB/s) \\   \n",
            "Downloading http://www.physionet.org/physiobank/database/eegmmidb/S002/S002R02.edf (1.2 MB)\n",
            "[........................................] 100.00% (  1.2 MB,  16.7 MB/s) |   \n",
            "Downloading http://www.physionet.org/physiobank/database/eegmmidb/S003/S003R01.edf (1.2 MB)\n",
            "[........................................] 100.00% (  1.2 MB,  12.3 MB/s) |   \n",
            "Downloading http://www.physionet.org/physiobank/database/eegmmidb/S003/S003R02.edf (1.2 MB)\n",
            "[........................................] 100.00% (  1.2 MB,  16.7 MB/s) /   \n",
            "Downloading http://www.physionet.org/physiobank/database/eegmmidb/S004/S004R01.edf (1.2 MB)\n",
            "[........................................] 100.00% (  1.2 MB,  21.3 MB/s) /   \n",
            "Downloading http://www.physionet.org/physiobank/database/eegmmidb/S004/S004R02.edf (1.2 MB)\n",
            "[........................................] 100.00% (  1.2 MB,  20.5 MB/s) /   \n",
            "Downloading http://www.physionet.org/physiobank/database/eegmmidb/S005/S005R01.edf (1.2 MB)\n",
            "[........................................] 100.00% (  1.2 MB,  20.4 MB/s) /   \n",
            "Downloading http://www.physionet.org/physiobank/database/eegmmidb/S005/S005R02.edf (1.2 MB)\n",
            "[........................................] 100.00% (  1.2 MB,  15.8 MB/s) /   \n",
            "Downloading http://www.physionet.org/physiobank/database/eegmmidb/S006/S006R01.edf (1.2 MB)\n",
            "[........................................] 100.00% (  1.2 MB,  15.9 MB/s) /   \n",
            "Downloading http://www.physionet.org/physiobank/database/eegmmidb/S006/S006R02.edf (1.2 MB)\n",
            "[........................................] 100.00% (  1.2 MB,  18.3 MB/s) -   \n",
            "Downloading http://www.physionet.org/physiobank/database/eegmmidb/S007/S007R01.edf (1.2 MB)\n",
            "[........................................] 100.00% (  1.2 MB,  17.2 MB/s) /   \n",
            "Downloading http://www.physionet.org/physiobank/database/eegmmidb/S007/S007R02.edf (1.2 MB)\n",
            "[........................................] 100.00% (  1.2 MB,  23.5 MB/s) /   \n",
            "Downloading http://www.physionet.org/physiobank/database/eegmmidb/S008/S008R01.edf (1.2 MB)\n",
            "[........................................] 100.00% (  1.2 MB,  19.9 MB/s) /   \n",
            "Downloading http://www.physionet.org/physiobank/database/eegmmidb/S008/S008R02.edf (1.2 MB)\n",
            "[........................................] 100.00% (  1.2 MB,  17.8 MB/s) /   \n",
            "Downloading http://www.physionet.org/physiobank/database/eegmmidb/S009/S009R01.edf (1.2 MB)\n",
            "[........................................] 100.00% (  1.2 MB,  19.3 MB/s) \\   \n",
            "Downloading http://www.physionet.org/physiobank/database/eegmmidb/S009/S009R02.edf (1.2 MB)\n",
            "[........................................] 100.00% (  1.2 MB,  22.5 MB/s) /   \n",
            "Downloading http://www.physionet.org/physiobank/database/eegmmidb/S010/S010R01.edf (1.2 MB)\n",
            "[........................................] 100.00% (  1.2 MB,  19.2 MB/s) /   \n",
            "Downloading http://www.physionet.org/physiobank/database/eegmmidb/S010/S010R02.edf (1.2 MB)\n",
            "[........................................] 100.00% (  1.2 MB,  22.9 MB/s) -   \n",
            "Downloading http://www.physionet.org/physiobank/database/eegmmidb/S011/S011R01.edf (1.2 MB)\n",
            "[........................................] 100.00% (  1.2 MB,  19.4 MB/s) /   \n",
            "Downloading http://www.physionet.org/physiobank/database/eegmmidb/S011/S011R02.edf (1.2 MB)\n",
            "[........................................] 100.00% (  1.2 MB,  19.0 MB/s) /   \n",
            "Downloading http://www.physionet.org/physiobank/database/eegmmidb/S012/S012R01.edf (1.2 MB)\n",
            "[........................................] 100.00% (  1.2 MB,  17.3 MB/s) /   \n",
            "Downloading http://www.physionet.org/physiobank/database/eegmmidb/S012/S012R02.edf (1.2 MB)\n",
            "[........................................] 100.00% (  1.2 MB,  19.4 MB/s) /   \n",
            "Downloading http://www.physionet.org/physiobank/database/eegmmidb/S013/S013R01.edf (1.2 MB)\n",
            "[........................................] 100.00% (  1.2 MB,  22.2 MB/s) /   \n",
            "Downloading http://www.physionet.org/physiobank/database/eegmmidb/S013/S013R02.edf (1.2 MB)\n",
            "[........................................] 100.00% (  1.2 MB,  22.2 MB/s) /   \n",
            "Downloading http://www.physionet.org/physiobank/database/eegmmidb/S014/S014R01.edf (1.2 MB)\n",
            "[........................................] 100.00% (  1.2 MB,  22.6 MB/s) /   \n",
            "Downloading http://www.physionet.org/physiobank/database/eegmmidb/S014/S014R02.edf (1.2 MB)\n",
            "[........................................] 100.00% (  1.2 MB,  13.6 MB/s) /   \n",
            "Downloading http://www.physionet.org/physiobank/database/eegmmidb/S015/S015R01.edf (1.2 MB)\n",
            "[........................................] 100.00% (  1.2 MB,  17.6 MB/s) /   \n",
            "Downloading http://www.physionet.org/physiobank/database/eegmmidb/S015/S015R02.edf (1.2 MB)\n",
            "[........................................] 100.00% (  1.2 MB,  14.2 MB/s) /   \n",
            "Downloading http://www.physionet.org/physiobank/database/eegmmidb/S016/S016R01.edf (1.2 MB)\n",
            "[........................................] 100.00% (  1.2 MB,  17.6 MB/s) -   \n",
            "Downloading http://www.physionet.org/physiobank/database/eegmmidb/S016/S016R02.edf (1.2 MB)\n",
            "[........................................] 100.00% (  1.2 MB,  25.4 MB/s) /   \n",
            "Downloading http://www.physionet.org/physiobank/database/eegmmidb/S017/S017R01.edf (1.2 MB)\n",
            "[........................................] 100.00% (  1.2 MB,  18.1 MB/s) -   \n",
            "Downloading http://www.physionet.org/physiobank/database/eegmmidb/S017/S017R02.edf (1.2 MB)\n",
            "[........................................] 100.00% (  1.2 MB,  13.4 MB/s) /   \n",
            "Downloading http://www.physionet.org/physiobank/database/eegmmidb/S018/S018R01.edf (1.2 MB)\n",
            "[........................................] 100.00% (  1.2 MB,  15.7 MB/s) /   \n",
            "Downloading http://www.physionet.org/physiobank/database/eegmmidb/S018/S018R02.edf (1.2 MB)\n",
            "[........................................] 100.00% (  1.2 MB,  19.6 MB/s) -   \n",
            "Downloading http://www.physionet.org/physiobank/database/eegmmidb/S019/S019R01.edf (1.2 MB)\n",
            "[........................................] 100.00% (  1.2 MB,  21.9 MB/s) /   \n",
            "Downloading http://www.physionet.org/physiobank/database/eegmmidb/S019/S019R02.edf (1.2 MB)\n",
            "[........................................] 100.00% (  1.2 MB,  18.2 MB/s) /   \n",
            "Downloading http://www.physionet.org/physiobank/database/eegmmidb/S020/S020R01.edf (1.2 MB)\n",
            "[........................................] 100.00% (  1.2 MB,  17.0 MB/s) /   \n",
            "Downloading http://www.physionet.org/physiobank/database/eegmmidb/S020/S020R02.edf (1.2 MB)\n",
            "[........................................] 100.00% (  1.2 MB,  13.4 MB/s) -   \n",
            "Extracting EDF parameters from /root/mne_data/MNE-eegbci-data/physiobank/database/eegmmidb/S001/S001R01.edf...\n",
            "EDF file detected\n",
            "Setting channel info structure...\n",
            "Creating raw.info structure...\n",
            "Reading 0 ... 9759  =      0.000 ...    60.994 secs...\n",
            "Extracting EDF parameters from /root/mne_data/MNE-eegbci-data/physiobank/database/eegmmidb/S001/S001R02.edf...\n",
            "EDF file detected\n",
            "Setting channel info structure...\n",
            "Creating raw.info structure...\n",
            "Reading 0 ... 9759  =      0.000 ...    60.994 secs...\n",
            "Extracting EDF parameters from /root/mne_data/MNE-eegbci-data/physiobank/database/eegmmidb/S002/S002R01.edf...\n",
            "EDF file detected\n",
            "Setting channel info structure...\n",
            "Creating raw.info structure...\n",
            "Reading 0 ... 9759  =      0.000 ...    60.994 secs...\n",
            "Extracting EDF parameters from /root/mne_data/MNE-eegbci-data/physiobank/database/eegmmidb/S002/S002R02.edf...\n",
            "EDF file detected\n",
            "Setting channel info structure...\n",
            "Creating raw.info structure...\n",
            "Reading 0 ... 9759  =      0.000 ...    60.994 secs...\n",
            "Extracting EDF parameters from /root/mne_data/MNE-eegbci-data/physiobank/database/eegmmidb/S003/S003R01.edf...\n",
            "EDF file detected\n",
            "Setting channel info structure...\n",
            "Creating raw.info structure...\n",
            "Reading 0 ... 9759  =      0.000 ...    60.994 secs...\n",
            "Extracting EDF parameters from /root/mne_data/MNE-eegbci-data/physiobank/database/eegmmidb/S003/S003R02.edf...\n",
            "EDF file detected\n",
            "Setting channel info structure...\n",
            "Creating raw.info structure...\n",
            "Reading 0 ... 9759  =      0.000 ...    60.994 secs...\n",
            "Extracting EDF parameters from /root/mne_data/MNE-eegbci-data/physiobank/database/eegmmidb/S004/S004R01.edf...\n",
            "EDF file detected\n",
            "Setting channel info structure...\n",
            "Creating raw.info structure...\n",
            "Reading 0 ... 9759  =      0.000 ...    60.994 secs...\n",
            "Extracting EDF parameters from /root/mne_data/MNE-eegbci-data/physiobank/database/eegmmidb/S004/S004R02.edf...\n",
            "EDF file detected\n",
            "Setting channel info structure...\n",
            "Creating raw.info structure...\n",
            "Reading 0 ... 9759  =      0.000 ...    60.994 secs...\n",
            "Extracting EDF parameters from /root/mne_data/MNE-eegbci-data/physiobank/database/eegmmidb/S005/S005R01.edf...\n",
            "EDF file detected\n",
            "Setting channel info structure...\n",
            "Creating raw.info structure...\n",
            "Reading 0 ... 9759  =      0.000 ...    60.994 secs...\n",
            "Extracting EDF parameters from /root/mne_data/MNE-eegbci-data/physiobank/database/eegmmidb/S005/S005R02.edf...\n",
            "EDF file detected\n",
            "Setting channel info structure...\n",
            "Creating raw.info structure...\n",
            "Reading 0 ... 9759  =      0.000 ...    60.994 secs...\n",
            "Extracting EDF parameters from /root/mne_data/MNE-eegbci-data/physiobank/database/eegmmidb/S006/S006R01.edf...\n",
            "EDF file detected\n",
            "Setting channel info structure...\n",
            "Creating raw.info structure...\n",
            "Reading 0 ... 9759  =      0.000 ...    60.994 secs...\n",
            "Extracting EDF parameters from /root/mne_data/MNE-eegbci-data/physiobank/database/eegmmidb/S006/S006R02.edf...\n",
            "EDF file detected\n",
            "Setting channel info structure...\n",
            "Creating raw.info structure...\n",
            "Reading 0 ... 9759  =      0.000 ...    60.994 secs...\n",
            "Extracting EDF parameters from /root/mne_data/MNE-eegbci-data/physiobank/database/eegmmidb/S007/S007R01.edf...\n",
            "EDF file detected\n",
            "Setting channel info structure...\n",
            "Creating raw.info structure...\n",
            "Reading 0 ... 9759  =      0.000 ...    60.994 secs...\n",
            "Extracting EDF parameters from /root/mne_data/MNE-eegbci-data/physiobank/database/eegmmidb/S007/S007R02.edf...\n",
            "EDF file detected\n",
            "Setting channel info structure...\n",
            "Creating raw.info structure...\n",
            "Reading 0 ... 9759  =      0.000 ...    60.994 secs...\n",
            "Extracting EDF parameters from /root/mne_data/MNE-eegbci-data/physiobank/database/eegmmidb/S008/S008R01.edf...\n",
            "EDF file detected\n",
            "Setting channel info structure...\n",
            "Creating raw.info structure...\n",
            "Reading 0 ... 9759  =      0.000 ...    60.994 secs...\n",
            "Extracting EDF parameters from /root/mne_data/MNE-eegbci-data/physiobank/database/eegmmidb/S008/S008R02.edf...\n",
            "EDF file detected\n",
            "Setting channel info structure...\n",
            "Creating raw.info structure...\n",
            "Reading 0 ... 9759  =      0.000 ...    60.994 secs...\n",
            "Extracting EDF parameters from /root/mne_data/MNE-eegbci-data/physiobank/database/eegmmidb/S009/S009R01.edf...\n",
            "EDF file detected\n",
            "Setting channel info structure...\n",
            "Creating raw.info structure...\n",
            "Reading 0 ... 9759  =      0.000 ...    60.994 secs...\n",
            "Extracting EDF parameters from /root/mne_data/MNE-eegbci-data/physiobank/database/eegmmidb/S009/S009R02.edf...\n",
            "EDF file detected\n",
            "Setting channel info structure...\n",
            "Creating raw.info structure...\n",
            "Reading 0 ... 9759  =      0.000 ...    60.994 secs...\n",
            "Extracting EDF parameters from /root/mne_data/MNE-eegbci-data/physiobank/database/eegmmidb/S010/S010R01.edf...\n",
            "EDF file detected\n",
            "Setting channel info structure...\n",
            "Creating raw.info structure...\n",
            "Reading 0 ... 9759  =      0.000 ...    60.994 secs...\n",
            "Extracting EDF parameters from /root/mne_data/MNE-eegbci-data/physiobank/database/eegmmidb/S010/S010R02.edf...\n",
            "EDF file detected\n",
            "Setting channel info structure...\n",
            "Creating raw.info structure...\n",
            "Reading 0 ... 9759  =      0.000 ...    60.994 secs...\n",
            "Extracting EDF parameters from /root/mne_data/MNE-eegbci-data/physiobank/database/eegmmidb/S011/S011R01.edf...\n",
            "EDF file detected\n",
            "Setting channel info structure...\n",
            "Creating raw.info structure...\n",
            "Reading 0 ... 9759  =      0.000 ...    60.994 secs...\n",
            "Extracting EDF parameters from /root/mne_data/MNE-eegbci-data/physiobank/database/eegmmidb/S011/S011R02.edf...\n",
            "EDF file detected\n",
            "Setting channel info structure...\n",
            "Creating raw.info structure...\n",
            "Reading 0 ... 9759  =      0.000 ...    60.994 secs...\n",
            "Extracting EDF parameters from /root/mne_data/MNE-eegbci-data/physiobank/database/eegmmidb/S012/S012R01.edf...\n",
            "EDF file detected\n",
            "Setting channel info structure...\n",
            "Creating raw.info structure...\n",
            "Reading 0 ... 9759  =      0.000 ...    60.994 secs...\n",
            "Extracting EDF parameters from /root/mne_data/MNE-eegbci-data/physiobank/database/eegmmidb/S012/S012R02.edf...\n",
            "EDF file detected\n",
            "Setting channel info structure...\n",
            "Creating raw.info structure...\n",
            "Reading 0 ... 9759  =      0.000 ...    60.994 secs...\n",
            "Extracting EDF parameters from /root/mne_data/MNE-eegbci-data/physiobank/database/eegmmidb/S013/S013R01.edf...\n",
            "EDF file detected\n",
            "Setting channel info structure...\n",
            "Creating raw.info structure...\n",
            "Reading 0 ... 9759  =      0.000 ...    60.994 secs...\n",
            "Extracting EDF parameters from /root/mne_data/MNE-eegbci-data/physiobank/database/eegmmidb/S013/S013R02.edf...\n",
            "EDF file detected\n",
            "Setting channel info structure...\n",
            "Creating raw.info structure...\n",
            "Reading 0 ... 9759  =      0.000 ...    60.994 secs...\n",
            "Extracting EDF parameters from /root/mne_data/MNE-eegbci-data/physiobank/database/eegmmidb/S014/S014R01.edf...\n",
            "EDF file detected\n",
            "Setting channel info structure...\n",
            "Creating raw.info structure...\n",
            "Reading 0 ... 9599  =      0.000 ...    59.994 secs...\n",
            "Extracting EDF parameters from /root/mne_data/MNE-eegbci-data/physiobank/database/eegmmidb/S014/S014R02.edf...\n",
            "EDF file detected\n",
            "Setting channel info structure...\n",
            "Creating raw.info structure...\n",
            "Reading 0 ... 9759  =      0.000 ...    60.994 secs...\n",
            "Extracting EDF parameters from /root/mne_data/MNE-eegbci-data/physiobank/database/eegmmidb/S015/S015R01.edf...\n",
            "EDF file detected\n",
            "Setting channel info structure...\n",
            "Creating raw.info structure...\n",
            "Reading 0 ... 9759  =      0.000 ...    60.994 secs...\n",
            "Extracting EDF parameters from /root/mne_data/MNE-eegbci-data/physiobank/database/eegmmidb/S015/S015R02.edf...\n",
            "EDF file detected\n",
            "Setting channel info structure...\n",
            "Creating raw.info structure...\n",
            "Reading 0 ... 9759  =      0.000 ...    60.994 secs...\n",
            "Extracting EDF parameters from /root/mne_data/MNE-eegbci-data/physiobank/database/eegmmidb/S016/S016R01.edf...\n",
            "EDF file detected\n",
            "Setting channel info structure...\n",
            "Creating raw.info structure...\n",
            "Reading 0 ... 9759  =      0.000 ...    60.994 secs...\n",
            "Extracting EDF parameters from /root/mne_data/MNE-eegbci-data/physiobank/database/eegmmidb/S016/S016R02.edf...\n",
            "EDF file detected\n",
            "Setting channel info structure...\n",
            "Creating raw.info structure...\n",
            "Reading 0 ... 9759  =      0.000 ...    60.994 secs...\n",
            "Extracting EDF parameters from /root/mne_data/MNE-eegbci-data/physiobank/database/eegmmidb/S017/S017R01.edf...\n",
            "EDF file detected\n",
            "Setting channel info structure...\n",
            "Creating raw.info structure...\n",
            "Reading 0 ... 9759  =      0.000 ...    60.994 secs...\n",
            "Extracting EDF parameters from /root/mne_data/MNE-eegbci-data/physiobank/database/eegmmidb/S017/S017R02.edf...\n",
            "EDF file detected\n",
            "Setting channel info structure...\n",
            "Creating raw.info structure...\n",
            "Reading 0 ... 9759  =      0.000 ...    60.994 secs...\n",
            "Extracting EDF parameters from /root/mne_data/MNE-eegbci-data/physiobank/database/eegmmidb/S018/S018R01.edf...\n",
            "EDF file detected\n",
            "Setting channel info structure...\n",
            "Creating raw.info structure...\n",
            "Reading 0 ... 9759  =      0.000 ...    60.994 secs...\n",
            "Extracting EDF parameters from /root/mne_data/MNE-eegbci-data/physiobank/database/eegmmidb/S018/S018R02.edf...\n",
            "EDF file detected\n",
            "Setting channel info structure...\n",
            "Creating raw.info structure...\n",
            "Reading 0 ... 9759  =      0.000 ...    60.994 secs...\n",
            "Extracting EDF parameters from /root/mne_data/MNE-eegbci-data/physiobank/database/eegmmidb/S019/S019R01.edf...\n",
            "EDF file detected\n",
            "Setting channel info structure...\n",
            "Creating raw.info structure...\n",
            "Reading 0 ... 9759  =      0.000 ...    60.994 secs...\n",
            "Extracting EDF parameters from /root/mne_data/MNE-eegbci-data/physiobank/database/eegmmidb/S019/S019R02.edf...\n",
            "EDF file detected\n",
            "Setting channel info structure...\n",
            "Creating raw.info structure...\n",
            "Reading 0 ... 9759  =      0.000 ...    60.994 secs...\n",
            "Extracting EDF parameters from /root/mne_data/MNE-eegbci-data/physiobank/database/eegmmidb/S020/S020R01.edf...\n",
            "EDF file detected\n",
            "Setting channel info structure...\n",
            "Creating raw.info structure...\n",
            "Reading 0 ... 9759  =      0.000 ...    60.994 secs...\n",
            "Extracting EDF parameters from /root/mne_data/MNE-eegbci-data/physiobank/database/eegmmidb/S020/S020R02.edf...\n",
            "EDF file detected\n",
            "Setting channel info structure...\n",
            "Creating raw.info structure...\n",
            "Reading 0 ... 9759  =      0.000 ...    60.994 secs...\n"
          ],
          "name": "stdout"
        }
      ]
    },
    {
      "cell_type": "code",
      "metadata": {
        "id": "2P1nWceqyZcf",
        "colab_type": "code",
        "outputId": "7c6b7bc2-9361-4fe9-c698-c8b4b3d26f86",
        "colab": {
          "base_uri": "https://localhost:8080/",
          "height": 34
        }
      },
      "source": [
        "import math\n",
        "\n",
        "\n",
        "task_number=1\n",
        "task_time = 60\n",
        "sampel_number_per_sec =  160 # sampel rate\n",
        "total_sampel_number =  sampel_number_per_sec *task_time # 60*160\n",
        "sample_shift = 4 #step len\n",
        "window_len= 20\n",
        "list_channel = [56] # channel = Po3\n",
        "\n",
        "# img for each one\n",
        "subject_img_number = math.floor((total_sampel_number - sampel_number_per_sec) / sample_shift) +1 - window_len +1\n",
        "test_start_index = subject_img_number - math.floor(subject_img_number/4) \n",
        "\n",
        "train_number =  test_start_index \n",
        "test_number = subject_img_number - test_start_index\n",
        "train_number"
      ],
      "execution_count": 5,
      "outputs": [
        {
          "output_type": "execute_result",
          "data": {
            "text/plain": [
              "1757"
            ]
          },
          "metadata": {
            "tags": []
          },
          "execution_count": 5
        }
      ]
    },
    {
      "cell_type": "code",
      "metadata": {
        "id": "Us2pgec8ybqe",
        "colab_type": "code",
        "outputId": "7444a51f-7d96-4fd8-b9f8-0004c22ccd5e",
        "colab": {
          "base_uri": "https://localhost:8080/",
          "height": 34
        }
      },
      "source": [
        "ch_number = len(list_channel)\n",
        "\n",
        "train_img = np.zeros((train_number*subject_number, ch_number, window_len + 1, 160), dtype = float)\n",
        "train_label =[]\n",
        "\n",
        "\n",
        "test_img = np.zeros((test_number*subject_number, ch_number, window_len, 160), dtype = float)\n",
        "test_label =[]\n",
        "\n",
        "\n",
        "train_img.shape\n"
      ],
      "execution_count": 6,
      "outputs": [
        {
          "output_type": "execute_result",
          "data": {
            "text/plain": [
              "(35140, 1, 21, 160)"
            ]
          },
          "metadata": {
            "tags": []
          },
          "execution_count": 6
        }
      ]
    },
    {
      "cell_type": "code",
      "metadata": {
        "id": "ukk-VY3Kyd8U",
        "colab_type": "code",
        "colab": {}
      },
      "source": [
        "def normalize_channel_data(ch , i, ch_min, ch_max):\n",
        "  ch = ((ch - ch_min[i]) / (ch_max[i] - ch_min[i] ))\n",
        "  return ch"
      ],
      "execution_count": 0,
      "outputs": []
    },
    {
      "cell_type": "code",
      "metadata": {
        "id": "QCyhWiVVyf0a",
        "colab_type": "code",
        "colab": {}
      },
      "source": [
        "for s in range(subject_number):\n",
        "    ch_max =[]\n",
        "    ch_min =[]\n",
        "    for ch in list_channel:\n",
        "      rawdataChannels_t, times_t =list_rawdata[s][0][ch,:9600]\n",
        "      #print(rawdataChannels_t)\n",
        "      ch_max = np.append(ch_max, max(rawdataChannels_t[0])) # max for each cannel\n",
        "      ch_min = np.append(ch_min, min(rawdataChannels_t[0])) # min for each cannel\n",
        "    \n",
        "    for j in range (subject_img_number):\n",
        "        i = 0\n",
        "        for index in list_channel: # فقط کانال های با اندیس مشخص را دربرمیگیرد\n",
        "            \n",
        "            for z in range (window_len):\n",
        "                rawdataChannels, times =list_rawdata[s][0][index, (j+z)*sample_shift:sampel_number_per_sec+(j+z)*sample_shift]\n",
        "\n",
        "                      # normalize method\n",
        "                rawdataChannels = normalize_channel_data(rawdataChannels, i, ch_min, ch_max)\n",
        "                if j <test_start_index :\n",
        "                    train_img[s*train_number + j][i][z] = rawdataChannels\n",
        "                    if z==window_len-1 :\n",
        "                      train_img[s*train_number + j][i][z+1] = s\n",
        "                      \n",
        "                      \n",
        "                else:\n",
        "                    test_img[s*test_number + j - test_start_index][i][z] = rawdataChannels\n",
        "            i+=1            \n",
        "                    \n",
        "              \n",
        "        if j >=test_start_index :\n",
        "          test_label = np.append(test_label, (s))"
      ],
      "execution_count": 0,
      "outputs": []
    },
    {
      "cell_type": "code",
      "metadata": {
        "id": "fS9S86PSyi25",
        "colab_type": "code",
        "colab": {}
      },
      "source": [
        "#shaffle train img array\n",
        "train_img_shuffle = train_img\n",
        "\n",
        "np.random.shuffle(train_img_shuffle)"
      ],
      "execution_count": 0,
      "outputs": []
    },
    {
      "cell_type": "code",
      "metadata": {
        "id": "-dymaSTMyrs_",
        "colab_type": "code",
        "colab": {}
      },
      "source": [
        "train_img_2 = np.zeros((train_number*subject_number, ch_number, window_len, 160), dtype = float)\n",
        "\n",
        "# img label \n",
        "train_img_shuffle_len =len(train_img_shuffle)\n",
        "for i in range(train_img_shuffle_len):\n",
        "    train_label = np.append(train_label, (train_img_shuffle[i][0][window_len][0] ))\n",
        "    for j in range (ch_number):\n",
        "      train_img_2[i][j] = np.delete(train_img_shuffle[i][j], window_len, axis=0)"
      ],
      "execution_count": 0,
      "outputs": []
    },
    {
      "cell_type": "code",
      "metadata": {
        "id": "UkSQvYekytkU",
        "colab_type": "code",
        "colab": {
          "base_uri": "https://localhost:8080/",
          "height": 34
        },
        "outputId": "f1182401-0441-45a3-a0d3-b3d5af99086e"
      },
      "source": [
        "from keras.utils import to_categorical"
      ],
      "execution_count": 11,
      "outputs": [
        {
          "output_type": "stream",
          "text": [
            "Using TensorFlow backend.\n"
          ],
          "name": "stderr"
        }
      ]
    },
    {
      "cell_type": "code",
      "metadata": {
        "id": "k9ikjhciyvwN",
        "colab_type": "code",
        "colab": {}
      },
      "source": [
        "train_label = to_categorical(train_label, subject_number)\n",
        "test_label = to_categorical(test_label, subject_number)"
      ],
      "execution_count": 0,
      "outputs": []
    },
    {
      "cell_type": "code",
      "metadata": {
        "id": "2SQVOKEVyx5Z",
        "colab_type": "code",
        "outputId": "000d428a-9d30-4194-812a-6263bb6407e5",
        "colab": {
          "base_uri": "https://localhost:8080/",
          "height": 34
        }
      },
      "source": [
        "# valid & train\n",
        "x_train =train_img_2[:20000]\n",
        "y_train =train_label[:20000]\n",
        "\n",
        "x_valid =train_img_2[20000:]\n",
        "y_valid =train_label[20000:]\n",
        "\n",
        "x_valid.shape"
      ],
      "execution_count": 13,
      "outputs": [
        {
          "output_type": "execute_result",
          "data": {
            "text/plain": [
              "(15140, 1, 20, 160)"
            ]
          },
          "metadata": {
            "tags": []
          },
          "execution_count": 13
        }
      ]
    },
    {
      "cell_type": "code",
      "metadata": {
        "id": "ghK0aa5CyzwG",
        "colab_type": "code",
        "outputId": "cec03c9a-5f8e-4b66-8a57-609251560528",
        "colab": {
          "base_uri": "https://localhost:8080/",
          "height": 476
        }
      },
      "source": [
        "from keras import layers\n",
        "from keras import models\n",
        "from keras import regularizers\n",
        "\n",
        "\n",
        "model = models.Sequential()\n",
        "model.add(layers.Conv2D(64, (3,3), activation = 'relu', padding='same', input_shape = (ch_number,window_len,160), data_format= \"channels_first\" ))\n",
        "print(model.output.shape)\n",
        "model.add(layers.MaxPooling2D((2,2)))\n",
        "print(model.output.shape)\n",
        "model.add(layers.Conv2D(128, (3,3), activation = 'relu'))\n",
        "print(model.output.shape)\n",
        "model.add(layers.MaxPooling2D((2,2)))\n",
        "print(model.output.shape)\n",
        "model.add(layers.Conv2D(256, (3,3), activation = 'relu'))\n",
        "print(model.output.shape)\n",
        "model.add(layers.MaxPooling2D((2,2)))\n",
        "\n",
        "\n",
        "model.add(layers.Flatten())\n",
        "print(model.output.shape)\n",
        "model.add(layers.Dense(512, activation = 'relu'))\n",
        "model.add(layers.Dropout(0.5))\n",
        "print(model.output.shape)\n",
        "model.add(layers.Dense(subject_number, activation = 'softmax'))\n",
        "print(model.output.shape)\n",
        "\n",
        "\n",
        "\n",
        "\n",
        "from keras import optimizers\n",
        "\n",
        "model.compile(loss= 'categorical_crossentropy',\n",
        "              optimizer= optimizers.RMSprop(lr= 1e-4),\n",
        "              metrics = ['acc'])"
      ],
      "execution_count": 14,
      "outputs": [
        {
          "output_type": "stream",
          "text": [
            "WARNING: Logging before flag parsing goes to stderr.\n",
            "W0829 08:37:52.408545 140334086399872 deprecation_wrapper.py:119] From /usr/local/lib/python3.6/dist-packages/keras/backend/tensorflow_backend.py:74: The name tf.get_default_graph is deprecated. Please use tf.compat.v1.get_default_graph instead.\n",
            "\n",
            "W0829 08:37:52.451233 140334086399872 deprecation_wrapper.py:119] From /usr/local/lib/python3.6/dist-packages/keras/backend/tensorflow_backend.py:517: The name tf.placeholder is deprecated. Please use tf.compat.v1.placeholder instead.\n",
            "\n",
            "W0829 08:37:52.460366 140334086399872 deprecation_wrapper.py:119] From /usr/local/lib/python3.6/dist-packages/keras/backend/tensorflow_backend.py:4138: The name tf.random_uniform is deprecated. Please use tf.random.uniform instead.\n",
            "\n",
            "W0829 08:37:52.478136 140334086399872 deprecation_wrapper.py:119] From /usr/local/lib/python3.6/dist-packages/keras/backend/tensorflow_backend.py:174: The name tf.get_default_session is deprecated. Please use tf.compat.v1.get_default_session instead.\n",
            "\n",
            "W0829 08:37:52.479202 140334086399872 deprecation_wrapper.py:119] From /usr/local/lib/python3.6/dist-packages/keras/backend/tensorflow_backend.py:181: The name tf.ConfigProto is deprecated. Please use tf.compat.v1.ConfigProto instead.\n",
            "\n",
            "W0829 08:37:55.755538 140334086399872 deprecation_wrapper.py:119] From /usr/local/lib/python3.6/dist-packages/keras/backend/tensorflow_backend.py:3976: The name tf.nn.max_pool is deprecated. Please use tf.nn.max_pool2d instead.\n",
            "\n",
            "W0829 08:37:55.822906 140334086399872 deprecation.py:506] From /usr/local/lib/python3.6/dist-packages/keras/backend/tensorflow_backend.py:3445: calling dropout (from tensorflow.python.ops.nn_ops) with keep_prob is deprecated and will be removed in a future version.\n",
            "Instructions for updating:\n",
            "Please use `rate` instead of `keep_prob`. Rate should be set to `rate = 1 - keep_prob`.\n",
            "W0829 08:37:55.868001 140334086399872 deprecation_wrapper.py:119] From /usr/local/lib/python3.6/dist-packages/keras/optimizers.py:790: The name tf.train.Optimizer is deprecated. Please use tf.compat.v1.train.Optimizer instead.\n",
            "\n"
          ],
          "name": "stderr"
        },
        {
          "output_type": "stream",
          "text": [
            "(?, 64, 20, 160)\n",
            "(?, 32, 10, 160)\n",
            "(?, 30, 8, 128)\n",
            "(?, 15, 4, 128)\n",
            "(?, 13, 2, 256)\n",
            "(?, ?)\n",
            "(?, 512)\n",
            "(?, 20)\n"
          ],
          "name": "stdout"
        }
      ]
    },
    {
      "cell_type": "code",
      "metadata": {
        "id": "5cuXqgjey1aZ",
        "colab_type": "code",
        "outputId": "1f9d7ac2-5839-4f97-dd93-71a68e218e02",
        "colab": {
          "base_uri": "https://localhost:8080/",
          "height": 780
        }
      },
      "source": [
        "history = model.fit(\n",
        "        x_train,\n",
        "        y_train,\n",
        "        epochs = 20,\n",
        "        batch_size = 20,\n",
        "        validation_data = (x_valid, y_valid)\n",
        ")"
      ],
      "execution_count": 15,
      "outputs": [
        {
          "output_type": "stream",
          "text": [
            "W0829 08:37:56.003868 140334086399872 deprecation.py:323] From /usr/local/lib/python3.6/dist-packages/tensorflow/python/ops/math_grad.py:1250: add_dispatch_support.<locals>.wrapper (from tensorflow.python.ops.array_ops) is deprecated and will be removed in a future version.\n",
            "Instructions for updating:\n",
            "Use tf.where in 2.0, which has the same broadcast rule as np.where\n"
          ],
          "name": "stderr"
        },
        {
          "output_type": "stream",
          "text": [
            "Train on 20000 samples, validate on 15140 samples\n",
            "Epoch 1/20\n",
            "20000/20000 [==============================] - 22s 1ms/step - loss: 2.5808 - acc: 0.1747 - val_loss: 1.9542 - val_acc: 0.4516\n",
            "Epoch 2/20\n",
            "20000/20000 [==============================] - 18s 914us/step - loss: 1.6358 - acc: 0.4479 - val_loss: 1.1419 - val_acc: 0.6229\n",
            "Epoch 3/20\n",
            "20000/20000 [==============================] - 18s 918us/step - loss: 1.1858 - acc: 0.5768 - val_loss: 0.8770 - val_acc: 0.7069\n",
            "Epoch 4/20\n",
            "20000/20000 [==============================] - 18s 917us/step - loss: 1.0080 - acc: 0.6327 - val_loss: 0.9383 - val_acc: 0.6565\n",
            "Epoch 5/20\n",
            "20000/20000 [==============================] - 18s 917us/step - loss: 0.8985 - acc: 0.6701 - val_loss: 0.7083 - val_acc: 0.7357\n",
            "Epoch 6/20\n",
            "20000/20000 [==============================] - 18s 921us/step - loss: 0.8072 - acc: 0.6986 - val_loss: 0.6343 - val_acc: 0.7665\n",
            "Epoch 7/20\n",
            "20000/20000 [==============================] - 19s 929us/step - loss: 0.7477 - acc: 0.7233 - val_loss: 0.5741 - val_acc: 0.7810\n",
            "Epoch 8/20\n",
            "20000/20000 [==============================] - 18s 921us/step - loss: 0.6889 - acc: 0.7443 - val_loss: 0.5143 - val_acc: 0.8231\n",
            "Epoch 9/20\n",
            "20000/20000 [==============================] - 18s 918us/step - loss: 0.6414 - acc: 0.7604 - val_loss: 0.4939 - val_acc: 0.8244\n",
            "Epoch 10/20\n",
            "20000/20000 [==============================] - 18s 917us/step - loss: 0.5984 - acc: 0.7793 - val_loss: 0.5756 - val_acc: 0.7796\n",
            "Epoch 11/20\n",
            "20000/20000 [==============================] - 19s 954us/step - loss: 0.5594 - acc: 0.7933 - val_loss: 0.3980 - val_acc: 0.8571\n",
            "Epoch 12/20\n",
            "20000/20000 [==============================] - 19s 940us/step - loss: 0.5285 - acc: 0.8047 - val_loss: 0.4729 - val_acc: 0.8283\n",
            "Epoch 13/20\n",
            "20000/20000 [==============================] - 19s 936us/step - loss: 0.4933 - acc: 0.8172 - val_loss: 0.5990 - val_acc: 0.7623\n",
            "Epoch 14/20\n",
            "20000/20000 [==============================] - 19s 931us/step - loss: 0.4658 - acc: 0.8303 - val_loss: 0.3400 - val_acc: 0.8781\n",
            "Epoch 15/20\n",
            "20000/20000 [==============================] - 19s 932us/step - loss: 0.4370 - acc: 0.8369 - val_loss: 0.2991 - val_acc: 0.8953\n",
            "Epoch 16/20\n",
            "20000/20000 [==============================] - 19s 934us/step - loss: 0.4088 - acc: 0.8480 - val_loss: 0.6079 - val_acc: 0.7736\n",
            "Epoch 17/20\n",
            "20000/20000 [==============================] - 19s 934us/step - loss: 0.3879 - acc: 0.8576 - val_loss: 0.2684 - val_acc: 0.9073\n",
            "Epoch 18/20\n",
            "20000/20000 [==============================] - 19s 941us/step - loss: 0.3552 - acc: 0.8660 - val_loss: 0.2563 - val_acc: 0.9032\n",
            "Epoch 19/20\n",
            "20000/20000 [==============================] - 19s 930us/step - loss: 0.3347 - acc: 0.8729 - val_loss: 0.2388 - val_acc: 0.9146\n",
            "Epoch 20/20\n",
            "20000/20000 [==============================] - 19s 932us/step - loss: 0.3164 - acc: 0.8823 - val_loss: 0.2466 - val_acc: 0.9062\n"
          ],
          "name": "stdout"
        }
      ]
    },
    {
      "cell_type": "code",
      "metadata": {
        "id": "5XEoeaxwy3nf",
        "colab_type": "code",
        "outputId": "85bd04ee-c36c-45e6-a65b-790b8d48d799",
        "colab": {
          "base_uri": "https://localhost:8080/",
          "height": 51
        }
      },
      "source": [
        "model.evaluate(test_img, test_label)\n"
      ],
      "execution_count": 16,
      "outputs": [
        {
          "output_type": "stream",
          "text": [
            "11700/11700 [==============================] - 2s 191us/step\n"
          ],
          "name": "stdout"
        },
        {
          "output_type": "execute_result",
          "data": {
            "text/plain": [
              "[0.5700328809453103, 0.8205128205128205]"
            ]
          },
          "metadata": {
            "tags": []
          },
          "execution_count": 16
        }
      ]
    },
    {
      "cell_type": "code",
      "metadata": {
        "id": "DqsB3sPS1HQH",
        "colab_type": "code",
        "outputId": "df1e3040-f99b-4d85-dc00-e6d7a1e9466c",
        "colab": {
          "base_uri": "https://localhost:8080/",
          "height": 295
        }
      },
      "source": [
        "import matplotlib.pyplot as plt\n",
        "\n",
        "history_dict = history.history \n",
        "\n",
        "loss_values = history_dict ['loss'] \n",
        "\n",
        "val_loss_values = history_dict['val_loss']\n",
        "\n",
        "epochs = range(1, len(loss_values) + 1)\n",
        "\n",
        "\n",
        "\n",
        "plt.plot(epochs, loss_values, 'bo', label='Training loss') \n",
        "\n",
        "plt.plot(epochs, val_loss_values, 'b', label='Validation loss') \n",
        "\n",
        "plt.title('Training and validation loss') \n",
        "\n",
        "plt.xlabel('Epochs') \n",
        "\n",
        "plt.ylabel('Loss') \n",
        "\n",
        "plt.legend()\n",
        "\n",
        "plt.show()"
      ],
      "execution_count": 17,
      "outputs": [
        {
          "output_type": "display_data",
          "data": {
            "image/png": "[encoded data removed]",
            "text/plain": [
              "<Figure size 432x288 with 1 Axes>"
            ]
          },
          "metadata": {
            "tags": []
          }
        }
      ]
    },
    {
      "cell_type": "code",
      "metadata": {
        "id": "jbx7UAdh1ONn",
        "colab_type": "code",
        "outputId": "daede2b8-6993-4a81-bcbe-f899fc33571f",
        "colab": {
          "base_uri": "https://localhost:8080/",
          "height": 295
        }
      },
      "source": [
        "history_dict = history.history \n",
        "\n",
        "acc_values = history_dict ['acc'] \n",
        "\n",
        "val_acc_values = history_dict['val_acc']\n",
        "\n",
        "\n",
        "\n",
        "plt.plot(epochs, acc_values, 'bo', label='Training acc') \n",
        "\n",
        "plt.plot(epochs, val_acc_values, 'b', label='Validation acc') \n",
        "\n",
        "plt.title('Training and validation acc') \n",
        "\n",
        "plt.xlabel('Epochs') \n",
        "\n",
        "plt.ylabel('acc') \n",
        "\n",
        "plt.legend()\n",
        "\n",
        "plt.show()"
      ],
      "execution_count": 18,
      "outputs": [
        {
          "output_type": "display_data",
          "data": {
            "image/png": "[encoded data removed]",
            "text/plain": [
              "<Figure size 432x288 with 1 Axes>"
            ]
          },
          "metadata": {
            "tags": []
          }
        }
      ]
    },
    {
      "cell_type": "code",
      "metadata": {
        "id": "RhaTI8_k1QG_",
        "colab_type": "code",
        "colab": {}
      },
      "source": [
        ""
      ],
      "execution_count": 0,
      "outputs": []
    }
  ]
}