{
  "nbformat": 4,
  "nbformat_minor": 0,
  "metadata": {
    "colab": {
      "name": "1 ch(33. Fz).ipynb",
      "version": "0.3.2",
      "provenance": [],
      "collapsed_sections": [],
      "include_colab_link": true
    },
    "kernelspec": {
      "name": "python3",
      "display_name": "Python 3"
    },
    "accelerator": "GPU"
  },
  "cells": [
    {
      "cell_type": "markdown",
      "metadata": {
        "id": "view-in-github",
        "colab_type": "text"
      },
      "source": [
        "<a href=\"https://colab.research.google.com/github/helmana/DLeeg/blob/master/best%20channel/1%20ch(33.%20Fz).ipynb\" target=\"_parent\"><img src=\"https://colab.research.google.com/assets/colab-badge.svg\" alt=\"Open In Colab\"/></a>"
      ]
    },
    {
      "cell_type": "code",
      "metadata": {
        "id": "Z7HmA8tkwo6a",
        "colab_type": "code",
        "outputId": "c3227eef-9cf4-4d13-9ba2-3921aab02a67",
        "colab": {
          "base_uri": "https://localhost:8080/",
          "height": 203
        }
      },
      "source": [
        "'''\n",
        "1 channel :  Fz (index =33)\n",
        "\n",
        "layers: 3 conv2D(3,3) & maxpooling(2,2)\n",
        "epoch: 20 \n",
        "batch size: 20\n",
        "\n",
        "test acc: 0.8628\n",
        "test loss: 0.5513\n",
        "\n",
        "'''\n",
        "\n",
        "\n",
        "\n",
        "\n",
        "\n",
        "import matplotlib\n",
        "from matplotlib import pyplot as plt\n",
        "import numpy as np\n",
        "\n",
        "\n",
        "\n",
        "import random\n",
        "import mne\n",
        "from mne.preprocessing import create_ecg_epochs, create_eog_epochs\n",
        "from mne import io\n",
        "from mne import viz\n",
        "#from mne.datasets import testing\n",
        "from mne import Epochs, io, pick_types\n",
        "from mne.event import define_target_events\n",
        "from mne.time_frequency import psd_welch\n",
        "print(__doc__)"
      ],
      "execution_count": 0,
      "outputs": [
        {
          "output_type": "stream",
          "text": [
            "\n",
            "1 channel :  Fz (index =33)\n",
            "\n",
            "layers: 3 conv2D(3,3) & maxpooling(2,2)\n",
            "epoch: 20 \n",
            "batch size: 20\n",
            "\n",
            "test acc: 0.\n",
            "test loss: 0.\n",
            "\n",
            "\n"
          ],
          "name": "stdout"
        }
      ]
    },
    {
      "cell_type": "code",
      "metadata": {
        "id": "dBdl9ejuw7Mb",
        "colab_type": "code",
        "outputId": "147c10f0-0532-40b3-f734-49ac496445ca",
        "colab": {
          "base_uri": "https://localhost:8080/",
          "height": 1000
        }
      },
      "source": [
        "subject_number=20\n",
        "\n",
        "\n",
        "# load dataset in array\n",
        "list_raw_fnames = [[0]*2]*subject_number\n",
        "for x in range(subject_number):\n",
        "    list_raw_fnames[x] = mne.datasets.eegbci.load_data(x+1,[1,2])\n",
        "\n",
        "list_rawdata1 = np.zeros((subject_number,2), dtype='object')\n",
        "list_rawdata = np.zeros((subject_number,2), dtype='object')\n",
        "\n",
        "for i in range(subject_number):\n",
        "    for j in range(2):\n",
        "        list_rawdata[i][j] = mne.io.read_raw_edf(list_raw_fnames[i][j], preload=True)\n",
        "       "
      ],
      "execution_count": 0,
      "outputs": [
        {
          "output_type": "stream",
          "text": [
            "Using default location ~/mne_data for EEGBCI...\n",
            "Creating ~/mne_data\n",
            "Downloading http://www.physionet.org/physiobank/database/eegmmidb/S001/S001R01.edf (1.2 MB)\n",
            "[........................................] 100.00% (  1.2 MB,  20.9 MB/s) /   \n",
            "Do you want to set the path:\n",
            "    /root/mne_data\n",
            "as the default EEGBCI dataset path in the mne-python config [y]/n? y\n",
            "Attempting to create new mne-python configuration file:\n",
            "/root/.mne/mne-python.json\n",
            "Downloading http://www.physionet.org/physiobank/database/eegmmidb/S001/S001R02.edf (1.2 MB)\n",
            "[........................................] 100.00% (  1.2 MB,  15.8 MB/s) /   \n",
            "Downloading http://www.physionet.org/physiobank/database/eegmmidb/S002/S002R01.edf (1.2 MB)\n",
            "[........................................] 100.00% (  1.2 MB,  19.2 MB/s) /   \n",
            "Downloading http://www.physionet.org/physiobank/database/eegmmidb/S002/S002R02.edf (1.2 MB)\n",
            "[........................................] 100.00% (  1.2 MB,  23.9 MB/s) /   \n",
            "Downloading http://www.physionet.org/physiobank/database/eegmmidb/S003/S003R01.edf (1.2 MB)\n",
            "[........................................] 100.00% (  1.2 MB,  17.4 MB/s) /   \n",
            "Downloading http://www.physionet.org/physiobank/database/eegmmidb/S003/S003R02.edf (1.2 MB)\n",
            "[........................................] 100.00% (  1.2 MB,  17.1 MB/s) /   \n",
            "Downloading http://www.physionet.org/physiobank/database/eegmmidb/S004/S004R01.edf (1.2 MB)\n",
            "[........................................] 100.00% (  1.2 MB,  17.0 MB/s) /   \n",
            "Downloading http://www.physionet.org/physiobank/database/eegmmidb/S004/S004R02.edf (1.2 MB)\n",
            "[........................................] 100.00% (  1.2 MB,  17.2 MB/s) /   \n",
            "Downloading http://www.physionet.org/physiobank/database/eegmmidb/S005/S005R01.edf (1.2 MB)\n",
            "[........................................] 100.00% (  1.2 MB,  25.8 MB/s) |   \n",
            "Downloading http://www.physionet.org/physiobank/database/eegmmidb/S005/S005R02.edf (1.2 MB)\n",
            "[........................................] 100.00% (  1.2 MB,  18.2 MB/s) -   \n",
            "Downloading http://www.physionet.org/physiobank/database/eegmmidb/S006/S006R01.edf (1.2 MB)\n",
            "[........................................] 100.00% (  1.2 MB,  27.3 MB/s) /   \n",
            "Downloading http://www.physionet.org/physiobank/database/eegmmidb/S006/S006R02.edf (1.2 MB)\n",
            "[........................................] 100.00% (  1.2 MB,  21.3 MB/s) /   \n",
            "Downloading http://www.physionet.org/physiobank/database/eegmmidb/S007/S007R01.edf (1.2 MB)\n",
            "[........................................] 100.00% (  1.2 MB,  21.1 MB/s) -   \n",
            "Downloading http://www.physionet.org/physiobank/database/eegmmidb/S007/S007R02.edf (1.2 MB)\n",
            "[........................................] 100.00% (  1.2 MB,  21.1 MB/s) /   \n",
            "Downloading http://www.physionet.org/physiobank/database/eegmmidb/S008/S008R01.edf (1.2 MB)\n",
            "[........................................] 100.00% (  1.2 MB,  21.4 MB/s) -   \n",
            "Downloading http://www.physionet.org/physiobank/database/eegmmidb/S008/S008R02.edf (1.2 MB)\n",
            "[........................................] 100.00% (  1.2 MB,  23.9 MB/s) /   \n",
            "Downloading http://www.physionet.org/physiobank/database/eegmmidb/S009/S009R01.edf (1.2 MB)\n",
            "[........................................] 100.00% (  1.2 MB,  23.2 MB/s) -   \n",
            "Downloading http://www.physionet.org/physiobank/database/eegmmidb/S009/S009R02.edf (1.2 MB)\n",
            "[........................................] 100.00% (  1.2 MB,  14.9 MB/s) -   \n",
            "Downloading http://www.physionet.org/physiobank/database/eegmmidb/S010/S010R01.edf (1.2 MB)\n",
            "[........................................] 100.00% (  1.2 MB,  23.8 MB/s) /   \n",
            "Downloading http://www.physionet.org/physiobank/database/eegmmidb/S010/S010R02.edf (1.2 MB)\n",
            "[........................................] 100.00% (  1.2 MB,  28.8 MB/s) -   \n",
            "Downloading http://www.physionet.org/physiobank/database/eegmmidb/S011/S011R01.edf (1.2 MB)\n",
            "[........................................] 100.00% (  1.2 MB,  18.4 MB/s) /   \n",
            "Downloading http://www.physionet.org/physiobank/database/eegmmidb/S011/S011R02.edf (1.2 MB)\n",
            "[........................................] 100.00% (  1.2 MB,  22.6 MB/s) -   \n",
            "Downloading http://www.physionet.org/physiobank/database/eegmmidb/S012/S012R01.edf (1.2 MB)\n",
            "[........................................] 100.00% (  1.2 MB,  21.5 MB/s) /   \n",
            "Downloading http://www.physionet.org/physiobank/database/eegmmidb/S012/S012R02.edf (1.2 MB)\n",
            "[........................................] 100.00% (  1.2 MB,  26.8 MB/s) /   \n",
            "Downloading http://www.physionet.org/physiobank/database/eegmmidb/S013/S013R01.edf (1.2 MB)\n",
            "[........................................] 100.00% (  1.2 MB,  17.9 MB/s) -   \n",
            "Downloading http://www.physionet.org/physiobank/database/eegmmidb/S013/S013R02.edf (1.2 MB)\n",
            "[........................................] 100.00% (  1.2 MB,  24.8 MB/s) /   \n",
            "Downloading http://www.physionet.org/physiobank/database/eegmmidb/S014/S014R01.edf (1.2 MB)\n",
            "[........................................] 100.00% (  1.2 MB,  22.3 MB/s) /   \n",
            "Downloading http://www.physionet.org/physiobank/database/eegmmidb/S014/S014R02.edf (1.2 MB)\n",
            "[........................................] 100.00% (  1.2 MB,  18.0 MB/s) /   \n",
            "Downloading http://www.physionet.org/physiobank/database/eegmmidb/S015/S015R01.edf (1.2 MB)\n",
            "[........................................] 100.00% (  1.2 MB,  20.4 MB/s) /   \n",
            "Downloading http://www.physionet.org/physiobank/database/eegmmidb/S015/S015R02.edf (1.2 MB)\n",
            "[........................................] 100.00% (  1.2 MB,  20.3 MB/s) /   \n",
            "Downloading http://www.physionet.org/physiobank/database/eegmmidb/S016/S016R01.edf (1.2 MB)\n",
            "[........................................] 100.00% (  1.2 MB,  18.9 MB/s) -   \n",
            "Downloading http://www.physionet.org/physiobank/database/eegmmidb/S016/S016R02.edf (1.2 MB)\n",
            "[........................................] 100.00% (  1.2 MB,  24.3 MB/s) -   \n",
            "Downloading http://www.physionet.org/physiobank/database/eegmmidb/S017/S017R01.edf (1.2 MB)\n",
            "[........................................] 100.00% (  1.2 MB,  18.3 MB/s) -   \n",
            "Downloading http://www.physionet.org/physiobank/database/eegmmidb/S017/S017R02.edf (1.2 MB)\n",
            "[........................................] 100.00% (  1.2 MB,  16.3 MB/s) /   \n",
            "Downloading http://www.physionet.org/physiobank/database/eegmmidb/S018/S018R01.edf (1.2 MB)\n",
            "[........................................] 100.00% (  1.2 MB,  24.9 MB/s) /   \n",
            "Downloading http://www.physionet.org/physiobank/database/eegmmidb/S018/S018R02.edf (1.2 MB)\n",
            "[........................................] 100.00% (  1.2 MB,  16.7 MB/s) |   \n",
            "Downloading http://www.physionet.org/physiobank/database/eegmmidb/S019/S019R01.edf (1.2 MB)\n",
            "[........................................] 100.00% (  1.2 MB,  37.4 MB/s) -   \n",
            "Downloading http://www.physionet.org/physiobank/database/eegmmidb/S019/S019R02.edf (1.2 MB)\n",
            "[........................................] 100.00% (  1.2 MB,  19.5 MB/s) /   \n",
            "Downloading http://www.physionet.org/physiobank/database/eegmmidb/S020/S020R01.edf (1.2 MB)\n",
            "[........................................] 100.00% (  1.2 MB,  17.2 MB/s) /   \n",
            "Downloading http://www.physionet.org/physiobank/database/eegmmidb/S020/S020R02.edf (1.2 MB)\n",
            "[........................................] 100.00% (  1.2 MB,  16.4 MB/s) /   \n",
            "Extracting EDF parameters from /root/mne_data/MNE-eegbci-data/physiobank/database/eegmmidb/S001/S001R01.edf...\n",
            "EDF file detected\n",
            "Setting channel info structure...\n",
            "Creating raw.info structure...\n",
            "Reading 0 ... 9759  =      0.000 ...    60.994 secs...\n",
            "Extracting EDF parameters from /root/mne_data/MNE-eegbci-data/physiobank/database/eegmmidb/S001/S001R02.edf...\n",
            "EDF file detected\n",
            "Setting channel info structure...\n",
            "Creating raw.info structure...\n",
            "Reading 0 ... 9759  =      0.000 ...    60.994 secs...\n",
            "Extracting EDF parameters from /root/mne_data/MNE-eegbci-data/physiobank/database/eegmmidb/S002/S002R01.edf...\n",
            "EDF file detected\n",
            "Setting channel info structure...\n",
            "Creating raw.info structure...\n",
            "Reading 0 ... 9759  =      0.000 ...    60.994 secs...\n",
            "Extracting EDF parameters from /root/mne_data/MNE-eegbci-data/physiobank/database/eegmmidb/S002/S002R02.edf...\n",
            "EDF file detected\n",
            "Setting channel info structure...\n",
            "Creating raw.info structure...\n",
            "Reading 0 ... 9759  =      0.000 ...    60.994 secs...\n",
            "Extracting EDF parameters from /root/mne_data/MNE-eegbci-data/physiobank/database/eegmmidb/S003/S003R01.edf...\n",
            "EDF file detected\n",
            "Setting channel info structure...\n",
            "Creating raw.info structure...\n",
            "Reading 0 ... 9759  =      0.000 ...    60.994 secs...\n",
            "Extracting EDF parameters from /root/mne_data/MNE-eegbci-data/physiobank/database/eegmmidb/S003/S003R02.edf...\n",
            "EDF file detected\n",
            "Setting channel info structure...\n",
            "Creating raw.info structure...\n",
            "Reading 0 ... 9759  =      0.000 ...    60.994 secs...\n",
            "Extracting EDF parameters from /root/mne_data/MNE-eegbci-data/physiobank/database/eegmmidb/S004/S004R01.edf...\n",
            "EDF file detected\n",
            "Setting channel info structure...\n",
            "Creating raw.info structure...\n",
            "Reading 0 ... 9759  =      0.000 ...    60.994 secs...\n",
            "Extracting EDF parameters from /root/mne_data/MNE-eegbci-data/physiobank/database/eegmmidb/S004/S004R02.edf...\n",
            "EDF file detected\n",
            "Setting channel info structure...\n",
            "Creating raw.info structure...\n",
            "Reading 0 ... 9759  =      0.000 ...    60.994 secs...\n",
            "Extracting EDF parameters from /root/mne_data/MNE-eegbci-data/physiobank/database/eegmmidb/S005/S005R01.edf...\n",
            "EDF file detected\n",
            "Setting channel info structure...\n",
            "Creating raw.info structure...\n",
            "Reading 0 ... 9759  =      0.000 ...    60.994 secs...\n",
            "Extracting EDF parameters from /root/mne_data/MNE-eegbci-data/physiobank/database/eegmmidb/S005/S005R02.edf...\n",
            "EDF file detected\n",
            "Setting channel info structure...\n",
            "Creating raw.info structure...\n",
            "Reading 0 ... 9759  =      0.000 ...    60.994 secs...\n",
            "Extracting EDF parameters from /root/mne_data/MNE-eegbci-data/physiobank/database/eegmmidb/S006/S006R01.edf...\n",
            "EDF file detected\n",
            "Setting channel info structure...\n",
            "Creating raw.info structure...\n",
            "Reading 0 ... 9759  =      0.000 ...    60.994 secs...\n",
            "Extracting EDF parameters from /root/mne_data/MNE-eegbci-data/physiobank/database/eegmmidb/S006/S006R02.edf...\n",
            "EDF file detected\n",
            "Setting channel info structure...\n",
            "Creating raw.info structure...\n",
            "Reading 0 ... 9759  =      0.000 ...    60.994 secs...\n",
            "Extracting EDF parameters from /root/mne_data/MNE-eegbci-data/physiobank/database/eegmmidb/S007/S007R01.edf...\n",
            "EDF file detected\n",
            "Setting channel info structure...\n",
            "Creating raw.info structure...\n",
            "Reading 0 ... 9759  =      0.000 ...    60.994 secs...\n",
            "Extracting EDF parameters from /root/mne_data/MNE-eegbci-data/physiobank/database/eegmmidb/S007/S007R02.edf...\n",
            "EDF file detected\n",
            "Setting channel info structure...\n",
            "Creating raw.info structure...\n",
            "Reading 0 ... 9759  =      0.000 ...    60.994 secs...\n",
            "Extracting EDF parameters from /root/mne_data/MNE-eegbci-data/physiobank/database/eegmmidb/S008/S008R01.edf...\n",
            "EDF file detected\n",
            "Setting channel info structure...\n",
            "Creating raw.info structure...\n",
            "Reading 0 ... 9759  =      0.000 ...    60.994 secs...\n",
            "Extracting EDF parameters from /root/mne_data/MNE-eegbci-data/physiobank/database/eegmmidb/S008/S008R02.edf...\n",
            "EDF file detected\n",
            "Setting channel info structure...\n",
            "Creating raw.info structure...\n",
            "Reading 0 ... 9759  =      0.000 ...    60.994 secs...\n",
            "Extracting EDF parameters from /root/mne_data/MNE-eegbci-data/physiobank/database/eegmmidb/S009/S009R01.edf...\n",
            "EDF file detected\n",
            "Setting channel info structure...\n",
            "Creating raw.info structure...\n",
            "Reading 0 ... 9759  =      0.000 ...    60.994 secs...\n",
            "Extracting EDF parameters from /root/mne_data/MNE-eegbci-data/physiobank/database/eegmmidb/S009/S009R02.edf...\n",
            "EDF file detected\n",
            "Setting channel info structure...\n",
            "Creating raw.info structure...\n",
            "Reading 0 ... 9759  =      0.000 ...    60.994 secs...\n",
            "Extracting EDF parameters from /root/mne_data/MNE-eegbci-data/physiobank/database/eegmmidb/S010/S010R01.edf...\n",
            "EDF file detected\n",
            "Setting channel info structure...\n",
            "Creating raw.info structure...\n",
            "Reading 0 ... 9759  =      0.000 ...    60.994 secs...\n",
            "Extracting EDF parameters from /root/mne_data/MNE-eegbci-data/physiobank/database/eegmmidb/S010/S010R02.edf...\n",
            "EDF file detected\n",
            "Setting channel info structure...\n",
            "Creating raw.info structure...\n",
            "Reading 0 ... 9759  =      0.000 ...    60.994 secs...\n",
            "Extracting EDF parameters from /root/mne_data/MNE-eegbci-data/physiobank/database/eegmmidb/S011/S011R01.edf...\n",
            "EDF file detected\n",
            "Setting channel info structure...\n",
            "Creating raw.info structure...\n",
            "Reading 0 ... 9759  =      0.000 ...    60.994 secs...\n",
            "Extracting EDF parameters from /root/mne_data/MNE-eegbci-data/physiobank/database/eegmmidb/S011/S011R02.edf...\n",
            "EDF file detected\n",
            "Setting channel info structure...\n",
            "Creating raw.info structure...\n",
            "Reading 0 ... 9759  =      0.000 ...    60.994 secs...\n",
            "Extracting EDF parameters from /root/mne_data/MNE-eegbci-data/physiobank/database/eegmmidb/S012/S012R01.edf...\n",
            "EDF file detected\n",
            "Setting channel info structure...\n",
            "Creating raw.info structure...\n",
            "Reading 0 ... 9759  =      0.000 ...    60.994 secs...\n",
            "Extracting EDF parameters from /root/mne_data/MNE-eegbci-data/physiobank/database/eegmmidb/S012/S012R02.edf...\n",
            "EDF file detected\n",
            "Setting channel info structure...\n",
            "Creating raw.info structure...\n",
            "Reading 0 ... 9759  =      0.000 ...    60.994 secs...\n",
            "Extracting EDF parameters from /root/mne_data/MNE-eegbci-data/physiobank/database/eegmmidb/S013/S013R01.edf...\n",
            "EDF file detected\n",
            "Setting channel info structure...\n",
            "Creating raw.info structure...\n",
            "Reading 0 ... 9759  =      0.000 ...    60.994 secs...\n",
            "Extracting EDF parameters from /root/mne_data/MNE-eegbci-data/physiobank/database/eegmmidb/S013/S013R02.edf...\n",
            "EDF file detected\n",
            "Setting channel info structure...\n",
            "Creating raw.info structure...\n",
            "Reading 0 ... 9759  =      0.000 ...    60.994 secs...\n",
            "Extracting EDF parameters from /root/mne_data/MNE-eegbci-data/physiobank/database/eegmmidb/S014/S014R01.edf...\n",
            "EDF file detected\n",
            "Setting channel info structure...\n",
            "Creating raw.info structure...\n",
            "Reading 0 ... 9599  =      0.000 ...    59.994 secs...\n",
            "Extracting EDF parameters from /root/mne_data/MNE-eegbci-data/physiobank/database/eegmmidb/S014/S014R02.edf...\n",
            "EDF file detected\n",
            "Setting channel info structure...\n",
            "Creating raw.info structure...\n",
            "Reading 0 ... 9759  =      0.000 ...    60.994 secs...\n",
            "Extracting EDF parameters from /root/mne_data/MNE-eegbci-data/physiobank/database/eegmmidb/S015/S015R01.edf...\n",
            "EDF file detected\n",
            "Setting channel info structure...\n",
            "Creating raw.info structure...\n",
            "Reading 0 ... 9759  =      0.000 ...    60.994 secs...\n",
            "Extracting EDF parameters from /root/mne_data/MNE-eegbci-data/physiobank/database/eegmmidb/S015/S015R02.edf...\n",
            "EDF file detected\n",
            "Setting channel info structure...\n",
            "Creating raw.info structure...\n",
            "Reading 0 ... 9759  =      0.000 ...    60.994 secs...\n",
            "Extracting EDF parameters from /root/mne_data/MNE-eegbci-data/physiobank/database/eegmmidb/S016/S016R01.edf...\n",
            "EDF file detected\n",
            "Setting channel info structure...\n",
            "Creating raw.info structure...\n",
            "Reading 0 ... 9759  =      0.000 ...    60.994 secs...\n",
            "Extracting EDF parameters from /root/mne_data/MNE-eegbci-data/physiobank/database/eegmmidb/S016/S016R02.edf...\n",
            "EDF file detected\n",
            "Setting channel info structure...\n",
            "Creating raw.info structure...\n",
            "Reading 0 ... 9759  =      0.000 ...    60.994 secs...\n",
            "Extracting EDF parameters from /root/mne_data/MNE-eegbci-data/physiobank/database/eegmmidb/S017/S017R01.edf...\n",
            "EDF file detected\n",
            "Setting channel info structure...\n",
            "Creating raw.info structure...\n",
            "Reading 0 ... 9759  =      0.000 ...    60.994 secs...\n",
            "Extracting EDF parameters from /root/mne_data/MNE-eegbci-data/physiobank/database/eegmmidb/S017/S017R02.edf...\n",
            "EDF file detected\n",
            "Setting channel info structure...\n",
            "Creating raw.info structure...\n",
            "Reading 0 ... 9759  =      0.000 ...    60.994 secs...\n",
            "Extracting EDF parameters from /root/mne_data/MNE-eegbci-data/physiobank/database/eegmmidb/S018/S018R01.edf...\n",
            "EDF file detected\n",
            "Setting channel info structure...\n",
            "Creating raw.info structure...\n",
            "Reading 0 ... 9759  =      0.000 ...    60.994 secs...\n",
            "Extracting EDF parameters from /root/mne_data/MNE-eegbci-data/physiobank/database/eegmmidb/S018/S018R02.edf...\n",
            "EDF file detected\n",
            "Setting channel info structure...\n",
            "Creating raw.info structure...\n",
            "Reading 0 ... 9759  =      0.000 ...    60.994 secs...\n",
            "Extracting EDF parameters from /root/mne_data/MNE-eegbci-data/physiobank/database/eegmmidb/S019/S019R01.edf...\n",
            "EDF file detected\n",
            "Setting channel info structure...\n",
            "Creating raw.info structure...\n",
            "Reading 0 ... 9759  =      0.000 ...    60.994 secs...\n",
            "Extracting EDF parameters from /root/mne_data/MNE-eegbci-data/physiobank/database/eegmmidb/S019/S019R02.edf...\n",
            "EDF file detected\n",
            "Setting channel info structure...\n",
            "Creating raw.info structure...\n",
            "Reading 0 ... 9759  =      0.000 ...    60.994 secs...\n",
            "Extracting EDF parameters from /root/mne_data/MNE-eegbci-data/physiobank/database/eegmmidb/S020/S020R01.edf...\n",
            "EDF file detected\n",
            "Setting channel info structure...\n",
            "Creating raw.info structure...\n",
            "Reading 0 ... 9759  =      0.000 ...    60.994 secs...\n",
            "Extracting EDF parameters from /root/mne_data/MNE-eegbci-data/physiobank/database/eegmmidb/S020/S020R02.edf...\n",
            "EDF file detected\n",
            "Setting channel info structure...\n",
            "Creating raw.info structure...\n",
            "Reading 0 ... 9759  =      0.000 ...    60.994 secs...\n"
          ],
          "name": "stdout"
        }
      ]
    },
    {
      "cell_type": "code",
      "metadata": {
        "id": "Bb5Q_zvLxUfj",
        "colab_type": "code",
        "outputId": "36af5353-fa0c-4a28-94f5-bf00e9f437af",
        "colab": {
          "base_uri": "https://localhost:8080/",
          "height": 34
        }
      },
      "source": [
        "import math\n",
        "\n",
        "\n",
        "task_number=1\n",
        "task_time = 60\n",
        "sampel_number_per_sec =  160 # sampel rate\n",
        "total_sampel_number =  sampel_number_per_sec *task_time # 60*160\n",
        "sample_shift = 4 #step len\n",
        "window_len= 20\n",
        "list_channel = [33] # channel = Fz\n",
        "\n",
        "# img for each one\n",
        "subject_img_number = math.floor((total_sampel_number - sampel_number_per_sec) / sample_shift) +1 - window_len +1\n",
        "test_start_index=subject_img_number - math.floor(subject_img_number/4) \n",
        "\n",
        "train_number =  test_start_index \n",
        "test_number = subject_img_number - test_start_index\n",
        "train_number"
      ],
      "execution_count": 0,
      "outputs": [
        {
          "output_type": "execute_result",
          "data": {
            "text/plain": [
              "1757"
            ]
          },
          "metadata": {
            "tags": []
          },
          "execution_count": 6
        }
      ]
    },
    {
      "cell_type": "code",
      "metadata": {
        "id": "8kCQ2bZIzYwE",
        "colab_type": "code",
        "outputId": "661e3e9a-5af7-48f0-dc6e-31418c61ab9d",
        "colab": {
          "base_uri": "https://localhost:8080/",
          "height": 34
        }
      },
      "source": [
        "ch_number = len(list_channel)\n",
        "\n",
        "train_img = np.zeros((train_number*subject_number, ch_number, window_len + 1, 160), dtype = float)\n",
        "train_label =[]\n",
        "\n",
        "\n",
        "test_img = np.zeros((test_number*subject_number, ch_number, window_len, 160), dtype = float)\n",
        "test_label =[]\n",
        "\n",
        "\n",
        "train_img.shape\n"
      ],
      "execution_count": 0,
      "outputs": [
        {
          "output_type": "execute_result",
          "data": {
            "text/plain": [
              "(35140, 1, 21, 160)"
            ]
          },
          "metadata": {
            "tags": []
          },
          "execution_count": 7
        }
      ]
    },
    {
      "cell_type": "code",
      "metadata": {
        "id": "opQk5ZdKzcDv",
        "colab_type": "code",
        "colab": {}
      },
      "source": [
        "def normalize_channel_data(ch , i, ch_min, ch_max):\n",
        "  ch = ((ch - ch_min[i]) / (ch_max[i] - ch_min[i] ))\n",
        "  return ch"
      ],
      "execution_count": 0,
      "outputs": []
    },
    {
      "cell_type": "code",
      "metadata": {
        "id": "VyOOw2XRzgKq",
        "colab_type": "code",
        "colab": {}
      },
      "source": [
        "for s in range(subject_number):\n",
        "    ch_max =[]\n",
        "    ch_min =[]\n",
        "    for ch in list_channel:\n",
        "      rawdataChannels_t, times_t =list_rawdata[s][0][ch,:9600]\n",
        "      #print(rawdataChannels_t)\n",
        "      ch_max = np.append(ch_max, max(rawdataChannels_t[0])) # max for each cannel\n",
        "      ch_min = np.append(ch_min, min(rawdataChannels_t[0])) # min for each cannel\n",
        "    \n",
        "    for j in range (subject_img_number):\n",
        "        i = 0\n",
        "        for index in list_channel: # فقط کانال های با اندیس مشخص را دربرمیگیرد\n",
        "            \n",
        "            for z in range (window_len):\n",
        "                rawdataChannels, times =list_rawdata[s][0][index, (j+z)*sample_shift:sampel_number_per_sec+(j+z)*sample_shift]\n",
        "\n",
        "                      # normalize method\n",
        "                rawdataChannels = normalize_channel_data(rawdataChannels, i, ch_min, ch_max)\n",
        "                if j <test_start_index :\n",
        "                    train_img[s*train_number + j][i][z] = rawdataChannels\n",
        "                    if z==window_len-1 :\n",
        "                      train_img[s*train_number + j][i][z+1] = s\n",
        "                      \n",
        "                      \n",
        "                else:\n",
        "                    test_img[s*test_number + j - test_start_index][i][z] = rawdataChannels\n",
        "            i+=1            \n",
        "                    \n",
        "              \n",
        "        if j >=test_start_index :\n",
        "          test_label = np.append(test_label, (s))"
      ],
      "execution_count": 0,
      "outputs": []
    },
    {
      "cell_type": "code",
      "metadata": {
        "id": "29DiJ596ziRK",
        "colab_type": "code",
        "colab": {}
      },
      "source": [
        "#shaffle train img array\n",
        "train_img_shuffle = train_img\n",
        "\n",
        "np.random.shuffle(train_img_shuffle)"
      ],
      "execution_count": 0,
      "outputs": []
    },
    {
      "cell_type": "code",
      "metadata": {
        "id": "4Buv4dFUz7S1",
        "colab_type": "code",
        "colab": {}
      },
      "source": [
        "train_img_2 = np.zeros((train_number*subject_number, ch_number, window_len, 160), dtype = float)\n",
        "\n",
        "# img label \n",
        "train_img_shuffle_len =len(train_img_shuffle)\n",
        "for i in range(train_img_shuffle_len):\n",
        "    train_label = np.append(train_label, (train_img_shuffle[i][0][window_len][0] ))\n",
        "    for j in range (ch_number):\n",
        "      train_img_2[i][j] = np.delete(train_img_shuffle[i][j], window_len, axis=0)"
      ],
      "execution_count": 0,
      "outputs": []
    },
    {
      "cell_type": "code",
      "metadata": {
        "id": "yh25K60Wz9RU",
        "colab_type": "code",
        "outputId": "a8668b48-eab3-4ea1-d6a4-43faff03e743",
        "colab": {
          "base_uri": "https://localhost:8080/",
          "height": 34
        }
      },
      "source": [
        "from keras.utils import to_categorical"
      ],
      "execution_count": 0,
      "outputs": [
        {
          "output_type": "stream",
          "text": [
            "Using TensorFlow backend.\n"
          ],
          "name": "stderr"
        }
      ]
    },
    {
      "cell_type": "code",
      "metadata": {
        "id": "s_kjacdq0B0j",
        "colab_type": "code",
        "colab": {}
      },
      "source": [
        "train_label = to_categorical(train_label, subject_number)\n",
        "test_label = to_categorical(test_label, subject_number)"
      ],
      "execution_count": 0,
      "outputs": []
    },
    {
      "cell_type": "code",
      "metadata": {
        "id": "JuE1qOSf0D9q",
        "colab_type": "code",
        "outputId": "2dc67b67-f0d8-4fdb-f752-4f4f6290e8b3",
        "colab": {
          "base_uri": "https://localhost:8080/",
          "height": 34
        }
      },
      "source": [
        "# valid & train\n",
        "x_train =train_img_2[:20000]\n",
        "y_train =train_label[:20000]\n",
        "\n",
        "x_valid =train_img_2[20000:]\n",
        "y_valid =train_label[20000:]\n",
        "\n",
        "x_valid.shape"
      ],
      "execution_count": 0,
      "outputs": [
        {
          "output_type": "execute_result",
          "data": {
            "text/plain": [
              "(15140, 1, 20, 160)"
            ]
          },
          "metadata": {
            "tags": []
          },
          "execution_count": 14
        }
      ]
    },
    {
      "cell_type": "code",
      "metadata": {
        "id": "HpQdyI-P0F_M",
        "colab_type": "code",
        "outputId": "73cac4c9-5c62-46e9-9575-d8b8b1f62105",
        "colab": {
          "base_uri": "https://localhost:8080/",
          "height": 476
        }
      },
      "source": [
        "from keras import layers\n",
        "from keras import models\n",
        "from keras import regularizers\n",
        "\n",
        "\n",
        "model = models.Sequential()\n",
        "model.add(layers.Conv2D(64, (3,3), activation = 'relu', padding='same', input_shape = (ch_number,window_len,160), data_format= \"channels_first\" ))\n",
        "print(model.output.shape)\n",
        "model.add(layers.MaxPooling2D((2,2)))\n",
        "print(model.output.shape)\n",
        "model.add(layers.Conv2D(128, (3,3), activation = 'relu'))\n",
        "print(model.output.shape)\n",
        "model.add(layers.MaxPooling2D((2,2)))\n",
        "print(model.output.shape)\n",
        "model.add(layers.Conv2D(256, (3,3), activation = 'relu'))\n",
        "print(model.output.shape)\n",
        "model.add(layers.MaxPooling2D((2,2)))\n",
        "\n",
        "\n",
        "model.add(layers.Flatten())\n",
        "print(model.output.shape)\n",
        "model.add(layers.Dense(512, activation = 'relu'))\n",
        "model.add(layers.Dropout(0.5))\n",
        "print(model.output.shape)\n",
        "model.add(layers.Dense(subject_number, activation = 'softmax'))\n",
        "print(model.output.shape)\n",
        "\n",
        "\n",
        "\n",
        "\n",
        "from keras import optimizers\n",
        "\n",
        "model.compile(loss= 'categorical_crossentropy',\n",
        "              optimizer= optimizers.RMSprop(lr= 1e-4),\n",
        "              metrics = ['acc'])"
      ],
      "execution_count": 0,
      "outputs": [
        {
          "output_type": "stream",
          "text": [
            "WARNING: Logging before flag parsing goes to stderr.\n",
            "W0822 09:59:39.905932 140156630259584 deprecation_wrapper.py:119] From /usr/local/lib/python3.6/dist-packages/keras/backend/tensorflow_backend.py:74: The name tf.get_default_graph is deprecated. Please use tf.compat.v1.get_default_graph instead.\n",
            "\n",
            "W0822 09:59:39.949312 140156630259584 deprecation_wrapper.py:119] From /usr/local/lib/python3.6/dist-packages/keras/backend/tensorflow_backend.py:517: The name tf.placeholder is deprecated. Please use tf.compat.v1.placeholder instead.\n",
            "\n",
            "W0822 09:59:39.955442 140156630259584 deprecation_wrapper.py:119] From /usr/local/lib/python3.6/dist-packages/keras/backend/tensorflow_backend.py:4138: The name tf.random_uniform is deprecated. Please use tf.random.uniform instead.\n",
            "\n",
            "W0822 09:59:39.968191 140156630259584 deprecation_wrapper.py:119] From /usr/local/lib/python3.6/dist-packages/keras/backend/tensorflow_backend.py:174: The name tf.get_default_session is deprecated. Please use tf.compat.v1.get_default_session instead.\n",
            "\n",
            "W0822 09:59:39.969002 140156630259584 deprecation_wrapper.py:119] From /usr/local/lib/python3.6/dist-packages/keras/backend/tensorflow_backend.py:181: The name tf.ConfigProto is deprecated. Please use tf.compat.v1.ConfigProto instead.\n",
            "\n",
            "W0822 09:59:42.903365 140156630259584 deprecation_wrapper.py:119] From /usr/local/lib/python3.6/dist-packages/keras/backend/tensorflow_backend.py:3976: The name tf.nn.max_pool is deprecated. Please use tf.nn.max_pool2d instead.\n",
            "\n",
            "W0822 09:59:42.957808 140156630259584 deprecation.py:506] From /usr/local/lib/python3.6/dist-packages/keras/backend/tensorflow_backend.py:3445: calling dropout (from tensorflow.python.ops.nn_ops) with keep_prob is deprecated and will be removed in a future version.\n",
            "Instructions for updating:\n",
            "Please use `rate` instead of `keep_prob`. Rate should be set to `rate = 1 - keep_prob`.\n",
            "W0822 09:59:42.993821 140156630259584 deprecation_wrapper.py:119] From /usr/local/lib/python3.6/dist-packages/keras/optimizers.py:790: The name tf.train.Optimizer is deprecated. Please use tf.compat.v1.train.Optimizer instead.\n",
            "\n"
          ],
          "name": "stderr"
        },
        {
          "output_type": "stream",
          "text": [
            "(?, 64, 20, 160)\n",
            "(?, 32, 10, 160)\n",
            "(?, 30, 8, 128)\n",
            "(?, 15, 4, 128)\n",
            "(?, 13, 2, 256)\n",
            "(?, ?)\n",
            "(?, 512)\n",
            "(?, 20)\n"
          ],
          "name": "stdout"
        }
      ]
    },
    {
      "cell_type": "code",
      "metadata": {
        "id": "GPJflptr0JIS",
        "colab_type": "code",
        "outputId": "eb169b3a-462d-4599-cffe-788df99b2be0",
        "colab": {
          "base_uri": "https://localhost:8080/",
          "height": 780
        }
      },
      "source": [
        "history = model.fit(\n",
        "        x_train,\n",
        "        y_train,\n",
        "        epochs = 20,\n",
        "        batch_size = 20,\n",
        "        validation_data = (x_valid, y_valid)\n",
        ")"
      ],
      "execution_count": 0,
      "outputs": [
        {
          "output_type": "stream",
          "text": [
            "W0822 09:59:46.722157 140156630259584 deprecation.py:323] From /usr/local/lib/python3.6/dist-packages/tensorflow/python/ops/math_grad.py:1250: add_dispatch_support.<locals>.wrapper (from tensorflow.python.ops.array_ops) is deprecated and will be removed in a future version.\n",
            "Instructions for updating:\n",
            "Use tf.where in 2.0, which has the same broadcast rule as np.where\n"
          ],
          "name": "stderr"
        },
        {
          "output_type": "stream",
          "text": [
            "Train on 20000 samples, validate on 15140 samples\n",
            "Epoch 1/20\n",
            "20000/20000 [==============================] - 13s 638us/step - loss: 2.3381 - acc: 0.2551 - val_loss: 1.4061 - val_acc: 0.6166\n",
            "Epoch 2/20\n",
            "20000/20000 [==============================] - 9s 441us/step - loss: 1.3185 - acc: 0.5631 - val_loss: 1.1435 - val_acc: 0.6042\n",
            "Epoch 3/20\n",
            "20000/20000 [==============================] - 9s 444us/step - loss: 0.9862 - acc: 0.6713 - val_loss: 0.8543 - val_acc: 0.7132\n",
            "Epoch 4/20\n",
            "20000/20000 [==============================] - 9s 441us/step - loss: 0.8238 - acc: 0.7211 - val_loss: 0.6428 - val_acc: 0.7859\n",
            "Epoch 5/20\n",
            "20000/20000 [==============================] - 9s 443us/step - loss: 0.7131 - acc: 0.7571 - val_loss: 0.5279 - val_acc: 0.8212\n",
            "Epoch 6/20\n",
            "20000/20000 [==============================] - 9s 444us/step - loss: 0.6269 - acc: 0.7816 - val_loss: 0.4605 - val_acc: 0.8415\n",
            "Epoch 7/20\n",
            "20000/20000 [==============================] - 9s 444us/step - loss: 0.5593 - acc: 0.8087 - val_loss: 0.4803 - val_acc: 0.8374\n",
            "Epoch 8/20\n",
            "20000/20000 [==============================] - 9s 442us/step - loss: 0.5027 - acc: 0.8268 - val_loss: 0.3915 - val_acc: 0.8706\n",
            "Epoch 9/20\n",
            "20000/20000 [==============================] - 9s 446us/step - loss: 0.4510 - acc: 0.8429 - val_loss: 0.3452 - val_acc: 0.8795\n",
            "Epoch 10/20\n",
            "20000/20000 [==============================] - 9s 443us/step - loss: 0.4135 - acc: 0.8545 - val_loss: 0.2923 - val_acc: 0.8950\n",
            "Epoch 11/20\n",
            "20000/20000 [==============================] - 9s 443us/step - loss: 0.3760 - acc: 0.8695 - val_loss: 0.2766 - val_acc: 0.8953\n",
            "Epoch 12/20\n",
            "20000/20000 [==============================] - 9s 444us/step - loss: 0.3540 - acc: 0.8763 - val_loss: 0.2166 - val_acc: 0.9235\n",
            "Epoch 13/20\n",
            "20000/20000 [==============================] - 9s 441us/step - loss: 0.3265 - acc: 0.8840 - val_loss: 0.2400 - val_acc: 0.9193\n",
            "Epoch 14/20\n",
            "20000/20000 [==============================] - 9s 445us/step - loss: 0.3017 - acc: 0.8910 - val_loss: 0.3119 - val_acc: 0.8847\n",
            "Epoch 15/20\n",
            "20000/20000 [==============================] - 9s 455us/step - loss: 0.2840 - acc: 0.8989 - val_loss: 0.1802 - val_acc: 0.9302\n",
            "Epoch 16/20\n",
            "20000/20000 [==============================] - 9s 450us/step - loss: 0.2667 - acc: 0.9031 - val_loss: 0.2338 - val_acc: 0.9137\n",
            "Epoch 17/20\n",
            "20000/20000 [==============================] - 9s 441us/step - loss: 0.2504 - acc: 0.9105 - val_loss: 0.1841 - val_acc: 0.9310\n",
            "Epoch 18/20\n",
            "20000/20000 [==============================] - 9s 442us/step - loss: 0.2339 - acc: 0.9157 - val_loss: 0.1634 - val_acc: 0.9371\n",
            "Epoch 19/20\n",
            "20000/20000 [==============================] - 9s 444us/step - loss: 0.2201 - acc: 0.9196 - val_loss: 0.2555 - val_acc: 0.9093\n",
            "Epoch 20/20\n",
            "20000/20000 [==============================] - 9s 444us/step - loss: 0.2067 - acc: 0.9246 - val_loss: 0.1906 - val_acc: 0.9238\n"
          ],
          "name": "stdout"
        }
      ]
    },
    {
      "cell_type": "code",
      "metadata": {
        "id": "B4KLI8mc0M9b",
        "colab_type": "code",
        "outputId": "92876065-aa17-4529-de12-bcd131b4a5c7",
        "colab": {
          "base_uri": "https://localhost:8080/",
          "height": 51
        }
      },
      "source": [
        "model.evaluate(test_img, test_label)\n"
      ],
      "execution_count": 0,
      "outputs": [
        {
          "output_type": "stream",
          "text": [
            "11700/11700 [==============================] - 1s 114us/step\n"
          ],
          "name": "stdout"
        },
        {
          "output_type": "execute_result",
          "data": {
            "text/plain": [
              "[0.551323495719859, 0.8628205128205129]"
            ]
          },
          "metadata": {
            "tags": []
          },
          "execution_count": 17
        }
      ]
    },
    {
      "cell_type": "code",
      "metadata": {
        "id": "NYBzLFobLRZq",
        "colab_type": "code",
        "outputId": "fffca3b2-47f3-4db2-bd71-25471e0322bd",
        "colab": {
          "base_uri": "https://localhost:8080/",
          "height": 295
        }
      },
      "source": [
        "import matplotlib.pyplot as plt\n",
        "\n",
        "history_dict = history.history \n",
        "\n",
        "loss_values = history_dict ['loss'] \n",
        "\n",
        "val_loss_values = history_dict['val_loss']\n",
        "\n",
        "epochs = range(1, len(loss_values) + 1)\n",
        "\n",
        "\n",
        "\n",
        "plt.plot(epochs, loss_values, 'bo', label='Training loss') \n",
        "\n",
        "plt.plot(epochs, val_loss_values, 'b', label='Validation loss') \n",
        "\n",
        "plt.title('Training and validation loss') \n",
        "\n",
        "plt.xlabel('Epochs') \n",
        "\n",
        "plt.ylabel('Loss') \n",
        "\n",
        "plt.legend()\n",
        "\n",
        "plt.show()"
      ],
      "execution_count": 0,
      "outputs": [
        {
          "output_type": "display_data",
          "data": {
            "image/png": "[encoded data removed]",
            "text/plain": [
              "<Figure size 432x288 with 1 Axes>"
            ]
          },
          "metadata": {
            "tags": []
          }
        }
      ]
    },
    {
      "cell_type": "code",
      "metadata": {
        "id": "ZRXH8oPqLlhz",
        "colab_type": "code",
        "outputId": "4b556149-e385-4f2d-c834-1a5d32bdbf06",
        "colab": {
          "base_uri": "https://localhost:8080/",
          "height": 295
        }
      },
      "source": [
        "history_dict = history.history \n",
        "\n",
        "acc_values = history_dict ['acc'] \n",
        "\n",
        "val_acc_values = history_dict['val_acc']\n",
        "\n",
        "\n",
        "\n",
        "plt.plot(epochs, acc_values, 'bo', label='Training acc') \n",
        "\n",
        "plt.plot(epochs, val_acc_values, 'b', label='Validation acc') \n",
        "\n",
        "plt.title('Training and validation acc') \n",
        "\n",
        "plt.xlabel('Epochs') \n",
        "\n",
        "plt.ylabel('acc') \n",
        "\n",
        "plt.legend()\n",
        "\n",
        "plt.show()"
      ],
      "execution_count": 0,
      "outputs": [
        {
          "output_type": "display_data",
          "data": {
            "image/png": "[encoded data removed]",
            "text/plain": [
              "<Figure size 432x288 with 1 Axes>"
            ]
          },
          "metadata": {
            "tags": []
          }
        }
      ]
    },
    {
      "cell_type": "code",
      "metadata": {
        "id": "XAgvbjg8LoqT",
        "colab_type": "code",
        "colab": {}
      },
      "source": [
        ""
      ],
      "execution_count": 0,
      "outputs": []
    }
  ]
}