{
  "nbformat": 4,
  "nbformat_minor": 0,
  "metadata": {
    "colab": {
      "name": "1 ch(39. Ft8).ipynb",
      "version": "0.3.2",
      "provenance": [],
      "include_colab_link": true
    },
    "kernelspec": {
      "name": "python3",
      "display_name": "Python 3"
    },
    "accelerator": "GPU"
  },
  "cells": [
    {
      "cell_type": "markdown",
      "metadata": {
        "id": "view-in-github",
        "colab_type": "text"
      },
      "source": [
        "<a href=\"https://colab.research.google.com/github/helmana/DLeeg/blob/master/best%20channel/1%20ch(0.%20Fc5)2.ipynb\" target=\"_parent\"><img src=\"https://colab.research.google.com/assets/colab-badge.svg\" alt=\"Open In Colab\"/></a>"
      ]
    },
    {
      "cell_type": "code",
      "metadata": {
        "id": "Xped1-YRySlp",
        "colab_type": "code",
        "outputId": "bd15104f-be60-4da9-b16b-51514167628c",
        "colab": {
          "base_uri": "https://localhost:8080/",
          "height": 203
        }
      },
      "source": [
        "'''\n",
        "1 channel :  Fc5 (index = 0)\n",
        "\n",
        "layers: 3 conv2D(3,3) & maxpooling(2,2)\n",
        "epoch: 20 \n",
        "batch size: 20\n",
        "\n",
        "test acc: 0.8768\n",
        "test loss: 0.4629\n",
        "\n",
        "'''\n",
        "\n",
        "import matplotlib\n",
        "from matplotlib import pyplot as plt\n",
        "import numpy as np\n",
        "\n",
        "\n",
        "\n",
        "import random\n",
        "import mne\n",
        "from mne.preprocessing import create_ecg_epochs, create_eog_epochs\n",
        "from mne import io\n",
        "from mne import viz\n",
        "#from mne.datasets import testing\n",
        "from mne import Epochs, io, pick_types\n",
        "from mne.event import define_target_events\n",
        "from mne.time_frequency import psd_welch\n",
        "print(__doc__)"
      ],
      "execution_count": 20,
      "outputs": [
        {
          "output_type": "stream",
          "text": [
            "\n",
            "1 channel :  Fc5 (index = 0)\n",
            "\n",
            "layers: 3 conv2D(3,3) & maxpooling(2,2)\n",
            "epoch: 20 \n",
            "batch size: 20\n",
            "\n",
            "test acc: 0.\n",
            "test loss: 0.\n",
            "\n",
            "\n"
          ],
          "name": "stdout"
        }
      ]
    },
    {
      "cell_type": "code",
      "metadata": {
        "id": "6l2tWWnXy-5P",
        "colab_type": "code",
        "outputId": "5544fc65-f1a7-46e3-9674-49b7bda1d26a",
        "colab": {
          "base_uri": "https://localhost:8080/",
          "height": 240
        }
      },
      "source": [
        "!pip install mne"
      ],
      "execution_count": 2,
      "outputs": [
        {
          "output_type": "stream",
          "text": [
            "Collecting mne\n",
            "\u001b[?25l  Downloading https://files.pythonhosted.org/packages/42/ec/08afc26ea6204473031f786d0f3034119a5a138d40062b37fbf578c81c01/mne-0.18.2.tar.gz (6.3MB)\n",
            "\u001b[K     |████████████████████████████████| 6.3MB 2.8MB/s \n",
            "\u001b[?25hRequirement already satisfied: numpy>=1.11.3 in /usr/local/lib/python3.6/dist-packages (from mne) (1.16.4)\n",
            "Requirement already satisfied: scipy>=0.17.1 in /usr/local/lib/python3.6/dist-packages (from mne) (1.3.1)\n",
            "Building wheels for collected packages: mne\n",
            "  Building wheel for mne (setup.py) ... \u001b[?25l\u001b[?25hdone\n",
            "  Created wheel for mne: filename=mne-0.18.2-cp36-none-any.whl size=6316005 sha256=3a3031f6192f02ffaee2e4a045759ef8f19641bb84c5929267d387acbb4adec5\n",
            "  Stored in directory: /root/.cache/pip/wheels/71/40/30/fb9a9bdeac02c6b3b144be66ac345c5b5587a7d7610564535b\n",
            "Successfully built mne\n",
            "Installing collected packages: mne\n",
            "Successfully installed mne-0.18.2\n"
          ],
          "name": "stdout"
        }
      ]
    },
    {
      "cell_type": "code",
      "metadata": {
        "id": "5NZsRUd-yVJd",
        "colab_type": "code",
        "outputId": "1f29e7be-7821-419f-8394-3899e8809c39",
        "colab": {
          "base_uri": "https://localhost:8080/",
          "height": 1000
        }
      },
      "source": [
        "subject_number=20\n",
        "\n",
        "\n",
        "# load dataset in array\n",
        "list_raw_fnames = [[0]*2]*subject_number\n",
        "for x in range(subject_number):\n",
        "    list_raw_fnames[x] = mne.datasets.eegbci.load_data(x+1,[1,2])\n",
        "\n",
        "list_rawdata1 = np.zeros((subject_number,2), dtype='object')\n",
        "list_rawdata = np.zeros((subject_number,2), dtype='object')\n",
        "\n",
        "for i in range(subject_number):\n",
        "    for j in range(2):\n",
        "        list_rawdata[i][j] = mne.io.read_raw_edf(list_raw_fnames[i][j], preload=True)\n",
        "       "
      ],
      "execution_count": 21,
      "outputs": [
        {
          "output_type": "stream",
          "text": [
            "Extracting EDF parameters from /root/mne_data/MNE-eegbci-data/physiobank/database/eegmmidb/S001/S001R01.edf...\n",
            "EDF file detected\n",
            "Setting channel info structure...\n",
            "Creating raw.info structure...\n",
            "Reading 0 ... 9759  =      0.000 ...    60.994 secs...\n",
            "Extracting EDF parameters from /root/mne_data/MNE-eegbci-data/physiobank/database/eegmmidb/S001/S001R02.edf...\n",
            "EDF file detected\n",
            "Setting channel info structure...\n",
            "Creating raw.info structure...\n",
            "Reading 0 ... 9759  =      0.000 ...    60.994 secs...\n",
            "Extracting EDF parameters from /root/mne_data/MNE-eegbci-data/physiobank/database/eegmmidb/S002/S002R01.edf...\n",
            "EDF file detected\n",
            "Setting channel info structure...\n",
            "Creating raw.info structure...\n",
            "Reading 0 ... 9759  =      0.000 ...    60.994 secs...\n",
            "Extracting EDF parameters from /root/mne_data/MNE-eegbci-data/physiobank/database/eegmmidb/S002/S002R02.edf...\n",
            "EDF file detected\n",
            "Setting channel info structure...\n",
            "Creating raw.info structure...\n",
            "Reading 0 ... 9759  =      0.000 ...    60.994 secs...\n",
            "Extracting EDF parameters from /root/mne_data/MNE-eegbci-data/physiobank/database/eegmmidb/S003/S003R01.edf...\n",
            "EDF file detected\n",
            "Setting channel info structure...\n",
            "Creating raw.info structure...\n",
            "Reading 0 ... 9759  =      0.000 ...    60.994 secs...\n",
            "Extracting EDF parameters from /root/mne_data/MNE-eegbci-data/physiobank/database/eegmmidb/S003/S003R02.edf...\n",
            "EDF file detected\n",
            "Setting channel info structure...\n",
            "Creating raw.info structure...\n",
            "Reading 0 ... 9759  =      0.000 ...    60.994 secs...\n",
            "Extracting EDF parameters from /root/mne_data/MNE-eegbci-data/physiobank/database/eegmmidb/S004/S004R01.edf...\n",
            "EDF file detected\n",
            "Setting channel info structure...\n",
            "Creating raw.info structure...\n",
            "Reading 0 ... 9759  =      0.000 ...    60.994 secs...\n",
            "Extracting EDF parameters from /root/mne_data/MNE-eegbci-data/physiobank/database/eegmmidb/S004/S004R02.edf...\n",
            "EDF file detected\n",
            "Setting channel info structure...\n",
            "Creating raw.info structure...\n",
            "Reading 0 ... 9759  =      0.000 ...    60.994 secs...\n",
            "Extracting EDF parameters from /root/mne_data/MNE-eegbci-data/physiobank/database/eegmmidb/S005/S005R01.edf...\n",
            "EDF file detected\n",
            "Setting channel info structure...\n",
            "Creating raw.info structure...\n",
            "Reading 0 ... 9759  =      0.000 ...    60.994 secs...\n",
            "Extracting EDF parameters from /root/mne_data/MNE-eegbci-data/physiobank/database/eegmmidb/S005/S005R02.edf...\n",
            "EDF file detected\n",
            "Setting channel info structure...\n",
            "Creating raw.info structure...\n",
            "Reading 0 ... 9759  =      0.000 ...    60.994 secs...\n",
            "Extracting EDF parameters from /root/mne_data/MNE-eegbci-data/physiobank/database/eegmmidb/S006/S006R01.edf...\n",
            "EDF file detected\n",
            "Setting channel info structure...\n",
            "Creating raw.info structure...\n",
            "Reading 0 ... 9759  =      0.000 ...    60.994 secs...\n",
            "Extracting EDF parameters from /root/mne_data/MNE-eegbci-data/physiobank/database/eegmmidb/S006/S006R02.edf...\n",
            "EDF file detected\n",
            "Setting channel info structure...\n",
            "Creating raw.info structure...\n",
            "Reading 0 ... 9759  =      0.000 ...    60.994 secs...\n",
            "Extracting EDF parameters from /root/mne_data/MNE-eegbci-data/physiobank/database/eegmmidb/S007/S007R01.edf...\n",
            "EDF file detected\n",
            "Setting channel info structure...\n",
            "Creating raw.info structure...\n",
            "Reading 0 ... 9759  =      0.000 ...    60.994 secs...\n",
            "Extracting EDF parameters from /root/mne_data/MNE-eegbci-data/physiobank/database/eegmmidb/S007/S007R02.edf...\n",
            "EDF file detected\n",
            "Setting channel info structure...\n",
            "Creating raw.info structure...\n",
            "Reading 0 ... 9759  =      0.000 ...    60.994 secs...\n",
            "Extracting EDF parameters from /root/mne_data/MNE-eegbci-data/physiobank/database/eegmmidb/S008/S008R01.edf...\n",
            "EDF file detected\n",
            "Setting channel info structure...\n",
            "Creating raw.info structure...\n",
            "Reading 0 ... 9759  =      0.000 ...    60.994 secs...\n",
            "Extracting EDF parameters from /root/mne_data/MNE-eegbci-data/physiobank/database/eegmmidb/S008/S008R02.edf...\n",
            "EDF file detected\n",
            "Setting channel info structure...\n",
            "Creating raw.info structure...\n",
            "Reading 0 ... 9759  =      0.000 ...    60.994 secs...\n",
            "Extracting EDF parameters from /root/mne_data/MNE-eegbci-data/physiobank/database/eegmmidb/S009/S009R01.edf...\n",
            "EDF file detected\n",
            "Setting channel info structure...\n",
            "Creating raw.info structure...\n",
            "Reading 0 ... 9759  =      0.000 ...    60.994 secs...\n",
            "Extracting EDF parameters from /root/mne_data/MNE-eegbci-data/physiobank/database/eegmmidb/S009/S009R02.edf...\n",
            "EDF file detected\n",
            "Setting channel info structure...\n",
            "Creating raw.info structure...\n",
            "Reading 0 ... 9759  =      0.000 ...    60.994 secs...\n",
            "Extracting EDF parameters from /root/mne_data/MNE-eegbci-data/physiobank/database/eegmmidb/S010/S010R01.edf...\n",
            "EDF file detected\n",
            "Setting channel info structure...\n",
            "Creating raw.info structure...\n",
            "Reading 0 ... 9759  =      0.000 ...    60.994 secs...\n",
            "Extracting EDF parameters from /root/mne_data/MNE-eegbci-data/physiobank/database/eegmmidb/S010/S010R02.edf...\n",
            "EDF file detected\n",
            "Setting channel info structure...\n",
            "Creating raw.info structure...\n",
            "Reading 0 ... 9759  =      0.000 ...    60.994 secs...\n",
            "Extracting EDF parameters from /root/mne_data/MNE-eegbci-data/physiobank/database/eegmmidb/S011/S011R01.edf...\n",
            "EDF file detected\n",
            "Setting channel info structure...\n",
            "Creating raw.info structure...\n",
            "Reading 0 ... 9759  =      0.000 ...    60.994 secs...\n",
            "Extracting EDF parameters from /root/mne_data/MNE-eegbci-data/physiobank/database/eegmmidb/S011/S011R02.edf...\n",
            "EDF file detected\n",
            "Setting channel info structure...\n",
            "Creating raw.info structure...\n",
            "Reading 0 ... 9759  =      0.000 ...    60.994 secs...\n",
            "Extracting EDF parameters from /root/mne_data/MNE-eegbci-data/physiobank/database/eegmmidb/S012/S012R01.edf...\n",
            "EDF file detected\n",
            "Setting channel info structure...\n",
            "Creating raw.info structure...\n",
            "Reading 0 ... 9759  =      0.000 ...    60.994 secs...\n",
            "Extracting EDF parameters from /root/mne_data/MNE-eegbci-data/physiobank/database/eegmmidb/S012/S012R02.edf...\n",
            "EDF file detected\n",
            "Setting channel info structure...\n",
            "Creating raw.info structure...\n",
            "Reading 0 ... 9759  =      0.000 ...    60.994 secs...\n",
            "Extracting EDF parameters from /root/mne_data/MNE-eegbci-data/physiobank/database/eegmmidb/S013/S013R01.edf...\n",
            "EDF file detected\n",
            "Setting channel info structure...\n",
            "Creating raw.info structure...\n",
            "Reading 0 ... 9759  =      0.000 ...    60.994 secs...\n",
            "Extracting EDF parameters from /root/mne_data/MNE-eegbci-data/physiobank/database/eegmmidb/S013/S013R02.edf...\n",
            "EDF file detected\n",
            "Setting channel info structure...\n",
            "Creating raw.info structure...\n",
            "Reading 0 ... 9759  =      0.000 ...    60.994 secs...\n",
            "Extracting EDF parameters from /root/mne_data/MNE-eegbci-data/physiobank/database/eegmmidb/S014/S014R01.edf...\n",
            "EDF file detected\n",
            "Setting channel info structure...\n",
            "Creating raw.info structure...\n",
            "Reading 0 ... 9599  =      0.000 ...    59.994 secs...\n",
            "Extracting EDF parameters from /root/mne_data/MNE-eegbci-data/physiobank/database/eegmmidb/S014/S014R02.edf...\n",
            "EDF file detected\n",
            "Setting channel info structure...\n",
            "Creating raw.info structure...\n",
            "Reading 0 ... 9759  =      0.000 ...    60.994 secs...\n",
            "Extracting EDF parameters from /root/mne_data/MNE-eegbci-data/physiobank/database/eegmmidb/S015/S015R01.edf...\n",
            "EDF file detected\n",
            "Setting channel info structure...\n",
            "Creating raw.info structure...\n",
            "Reading 0 ... 9759  =      0.000 ...    60.994 secs...\n",
            "Extracting EDF parameters from /root/mne_data/MNE-eegbci-data/physiobank/database/eegmmidb/S015/S015R02.edf...\n",
            "EDF file detected\n",
            "Setting channel info structure...\n",
            "Creating raw.info structure...\n",
            "Reading 0 ... 9759  =      0.000 ...    60.994 secs...\n",
            "Extracting EDF parameters from /root/mne_data/MNE-eegbci-data/physiobank/database/eegmmidb/S016/S016R01.edf...\n",
            "EDF file detected\n",
            "Setting channel info structure...\n",
            "Creating raw.info structure...\n",
            "Reading 0 ... 9759  =      0.000 ...    60.994 secs...\n",
            "Extracting EDF parameters from /root/mne_data/MNE-eegbci-data/physiobank/database/eegmmidb/S016/S016R02.edf...\n",
            "EDF file detected\n",
            "Setting channel info structure...\n",
            "Creating raw.info structure...\n",
            "Reading 0 ... 9759  =      0.000 ...    60.994 secs...\n",
            "Extracting EDF parameters from /root/mne_data/MNE-eegbci-data/physiobank/database/eegmmidb/S017/S017R01.edf...\n",
            "EDF file detected\n",
            "Setting channel info structure...\n",
            "Creating raw.info structure...\n",
            "Reading 0 ... 9759  =      0.000 ...    60.994 secs...\n",
            "Extracting EDF parameters from /root/mne_data/MNE-eegbci-data/physiobank/database/eegmmidb/S017/S017R02.edf...\n",
            "EDF file detected\n",
            "Setting channel info structure...\n",
            "Creating raw.info structure...\n",
            "Reading 0 ... 9759  =      0.000 ...    60.994 secs...\n",
            "Extracting EDF parameters from /root/mne_data/MNE-eegbci-data/physiobank/database/eegmmidb/S018/S018R01.edf...\n",
            "EDF file detected\n",
            "Setting channel info structure...\n",
            "Creating raw.info structure...\n",
            "Reading 0 ... 9759  =      0.000 ...    60.994 secs...\n",
            "Extracting EDF parameters from /root/mne_data/MNE-eegbci-data/physiobank/database/eegmmidb/S018/S018R02.edf...\n",
            "EDF file detected\n",
            "Setting channel info structure...\n",
            "Creating raw.info structure...\n",
            "Reading 0 ... 9759  =      0.000 ...    60.994 secs...\n",
            "Extracting EDF parameters from /root/mne_data/MNE-eegbci-data/physiobank/database/eegmmidb/S019/S019R01.edf...\n",
            "EDF file detected\n",
            "Setting channel info structure...\n",
            "Creating raw.info structure...\n",
            "Reading 0 ... 9759  =      0.000 ...    60.994 secs...\n",
            "Extracting EDF parameters from /root/mne_data/MNE-eegbci-data/physiobank/database/eegmmidb/S019/S019R02.edf...\n",
            "EDF file detected\n",
            "Setting channel info structure...\n",
            "Creating raw.info structure...\n",
            "Reading 0 ... 9759  =      0.000 ...    60.994 secs...\n",
            "Extracting EDF parameters from /root/mne_data/MNE-eegbci-data/physiobank/database/eegmmidb/S020/S020R01.edf...\n",
            "EDF file detected\n",
            "Setting channel info structure...\n",
            "Creating raw.info structure...\n",
            "Reading 0 ... 9759  =      0.000 ...    60.994 secs...\n",
            "Extracting EDF parameters from /root/mne_data/MNE-eegbci-data/physiobank/database/eegmmidb/S020/S020R02.edf...\n",
            "EDF file detected\n",
            "Setting channel info structure...\n",
            "Creating raw.info structure...\n",
            "Reading 0 ... 9759  =      0.000 ...    60.994 secs...\n"
          ],
          "name": "stdout"
        }
      ]
    },
    {
      "cell_type": "code",
      "metadata": {
        "id": "2P1nWceqyZcf",
        "colab_type": "code",
        "outputId": "4a9044e3-77fc-44a2-9bc2-221bef6b310a",
        "colab": {
          "base_uri": "https://localhost:8080/",
          "height": 34
        }
      },
      "source": [
        "import math\n",
        "\n",
        "\n",
        "task_number=1\n",
        "task_time = 60\n",
        "sampel_number_per_sec =  160 # sampel rate\n",
        "total_sampel_number =  sampel_number_per_sec *task_time # 60*160\n",
        "sample_shift = 4 #step len\n",
        "window_len= 20\n",
        "list_channel = [0] # channel = Fc5\n",
        "\n",
        "# img for each one\n",
        "subject_img_number = math.floor((total_sampel_number - sampel_number_per_sec) / sample_shift) +1 - window_len +1\n",
        "test_start_index=subject_img_number - math.floor(subject_img_number/4) \n",
        "\n",
        "train_number =  test_start_index \n",
        "test_number = subject_img_number - test_start_index\n",
        "train_number"
      ],
      "execution_count": 28,
      "outputs": [
        {
          "output_type": "execute_result",
          "data": {
            "text/plain": [
              "1757"
            ]
          },
          "metadata": {
            "tags": []
          },
          "execution_count": 28
        }
      ]
    },
    {
      "cell_type": "code",
      "metadata": {
        "id": "Us2pgec8ybqe",
        "colab_type": "code",
        "outputId": "3f8eff0e-4302-4e4f-9d20-50bdd1bb1fca",
        "colab": {
          "base_uri": "https://localhost:8080/",
          "height": 34
        }
      },
      "source": [
        "ch_number = len(list_channel)\n",
        "\n",
        "train_img = np.zeros((train_number*subject_number, ch_number, window_len + 1, 160), dtype = float)\n",
        "train_label =[]\n",
        "\n",
        "\n",
        "test_img = np.zeros((test_number*subject_number, ch_number, window_len, 160), dtype = float)\n",
        "test_label =[]\n",
        "\n",
        "\n",
        "train_img.shape\n"
      ],
      "execution_count": 29,
      "outputs": [
        {
          "output_type": "execute_result",
          "data": {
            "text/plain": [
              "(35140, 1, 21, 160)"
            ]
          },
          "metadata": {
            "tags": []
          },
          "execution_count": 29
        }
      ]
    },
    {
      "cell_type": "code",
      "metadata": {
        "id": "ukk-VY3Kyd8U",
        "colab_type": "code",
        "colab": {}
      },
      "source": [
        "def normalize_channel_data(ch , i, ch_min, ch_max):\n",
        "  ch = ((ch - ch_min[i]) / (ch_max[i] - ch_min[i] ))\n",
        "  return ch"
      ],
      "execution_count": 0,
      "outputs": []
    },
    {
      "cell_type": "code",
      "metadata": {
        "id": "QCyhWiVVyf0a",
        "colab_type": "code",
        "colab": {}
      },
      "source": [
        "for s in range(subject_number):\n",
        "    ch_max =[]\n",
        "    ch_min =[]\n",
        "    for ch in list_channel:\n",
        "      rawdataChannels_t, times_t =list_rawdata[s][0][ch,:9600]\n",
        "      #print(rawdataChannels_t)\n",
        "      ch_max = np.append(ch_max, max(rawdataChannels_t[0])) # max for each cannel\n",
        "      ch_min = np.append(ch_min, min(rawdataChannels_t[0])) # min for each cannel\n",
        "    \n",
        "    for j in range (subject_img_number):\n",
        "        i = 0\n",
        "        for index in list_channel: # فقط کانال های با اندیس مشخص را دربرمیگیرد\n",
        "            \n",
        "            for z in range (window_len):\n",
        "                rawdataChannels, times =list_rawdata[s][0][index, (j+z)*sample_shift:sampel_number_per_sec+(j+z)*sample_shift]\n",
        "\n",
        "                      # normalize method\n",
        "                rawdataChannels = normalize_channel_data(rawdataChannels, i, ch_min, ch_max)\n",
        "                if j <test_start_index :\n",
        "                    train_img[s*train_number + j][i][z] = rawdataChannels\n",
        "                    if z==window_len-1 :\n",
        "                      train_img[s*train_number + j][i][z+1] = s\n",
        "                      \n",
        "                      \n",
        "                else:\n",
        "                    test_img[s*test_number + j - test_start_index][i][z] = rawdataChannels\n",
        "            i+=1            \n",
        "                    \n",
        "              \n",
        "        if j >=test_start_index :\n",
        "          test_label = np.append(test_label, (s))"
      ],
      "execution_count": 0,
      "outputs": []
    },
    {
      "cell_type": "code",
      "metadata": {
        "id": "fS9S86PSyi25",
        "colab_type": "code",
        "colab": {}
      },
      "source": [
        "#shaffle train img array\n",
        "train_img_shuffle = train_img\n",
        "\n",
        "np.random.shuffle(train_img_shuffle)"
      ],
      "execution_count": 0,
      "outputs": []
    },
    {
      "cell_type": "code",
      "metadata": {
        "id": "-dymaSTMyrs_",
        "colab_type": "code",
        "colab": {}
      },
      "source": [
        "train_img_2 = np.zeros((train_number*subject_number, ch_number, window_len, 160), dtype = float)\n",
        "\n",
        "# img label \n",
        "train_img_shuffle_len =len(train_img_shuffle)\n",
        "for i in range(train_img_shuffle_len):\n",
        "    train_label = np.append(train_label, (train_img_shuffle[i][0][window_len][0] ))\n",
        "    for j in range (ch_number):\n",
        "      train_img_2[i][j] = np.delete(train_img_shuffle[i][j], window_len, axis=0)"
      ],
      "execution_count": 0,
      "outputs": []
    },
    {
      "cell_type": "code",
      "metadata": {
        "id": "UkSQvYekytkU",
        "colab_type": "code",
        "colab": {}
      },
      "source": [
        "from keras.utils import to_categorical"
      ],
      "execution_count": 0,
      "outputs": []
    },
    {
      "cell_type": "code",
      "metadata": {
        "id": "k9ikjhciyvwN",
        "colab_type": "code",
        "colab": {}
      },
      "source": [
        "train_label = to_categorical(train_label, subject_number)\n",
        "test_label = to_categorical(test_label, subject_number)"
      ],
      "execution_count": 0,
      "outputs": []
    },
    {
      "cell_type": "code",
      "metadata": {
        "id": "2SQVOKEVyx5Z",
        "colab_type": "code",
        "outputId": "25e4a281-a70f-48cc-897f-ee3f5a1b13ee",
        "colab": {
          "base_uri": "https://localhost:8080/",
          "height": 34
        }
      },
      "source": [
        "# valid & train\n",
        "x_train =train_img_2[:20000]\n",
        "y_train =train_label[:20000]\n",
        "\n",
        "x_valid =train_img_2[20000:]\n",
        "y_valid =train_label[20000:]\n",
        "\n",
        "x_valid.shape"
      ],
      "execution_count": 36,
      "outputs": [
        {
          "output_type": "execute_result",
          "data": {
            "text/plain": [
              "(15140, 1, 20, 160)"
            ]
          },
          "metadata": {
            "tags": []
          },
          "execution_count": 36
        }
      ]
    },
    {
      "cell_type": "code",
      "metadata": {
        "id": "bgkqd0b72u8V",
        "colab_type": "code",
        "outputId": "df09ab95-330c-4197-a47d-4452c8212462",
        "colab": {
          "base_uri": "https://localhost:8080/",
          "height": 355
        }
      },
      "source": [
        "train_label[:10]"
      ],
      "execution_count": 37,
      "outputs": [
        {
          "output_type": "execute_result",
          "data": {
            "text/plain": [
              "array([[0., 0., 0., 0., 0., 0., 0., 0., 0., 0., 0., 0., 0., 0., 1., 0.,\n",
              "        0., 0., 0., 0.],\n",
              "       [0., 0., 0., 1., 0., 0., 0., 0., 0., 0., 0., 0., 0., 0., 0., 0.,\n",
              "        0., 0., 0., 0.],\n",
              "       [0., 0., 0., 0., 0., 0., 0., 0., 0., 0., 0., 0., 0., 0., 0., 0.,\n",
              "        0., 1., 0., 0.],\n",
              "       [0., 0., 0., 0., 0., 0., 0., 0., 0., 0., 0., 0., 0., 0., 0., 0.,\n",
              "        0., 0., 1., 0.],\n",
              "       [0., 0., 1., 0., 0., 0., 0., 0., 0., 0., 0., 0., 0., 0., 0., 0.,\n",
              "        0., 0., 0., 0.],\n",
              "       [0., 0., 0., 0., 0., 1., 0., 0., 0., 0., 0., 0., 0., 0., 0., 0.,\n",
              "        0., 0., 0., 0.],\n",
              "       [0., 0., 0., 0., 0., 0., 0., 0., 0., 0., 0., 0., 0., 0., 0., 0.,\n",
              "        0., 1., 0., 0.],\n",
              "       [0., 0., 0., 0., 0., 0., 0., 1., 0., 0., 0., 0., 0., 0., 0., 0.,\n",
              "        0., 0., 0., 0.],\n",
              "       [0., 0., 1., 0., 0., 0., 0., 0., 0., 0., 0., 0., 0., 0., 0., 0.,\n",
              "        0., 0., 0., 0.],\n",
              "       [1., 0., 0., 0., 0., 0., 0., 0., 0., 0., 0., 0., 0., 0., 0., 0.,\n",
              "        0., 0., 0., 0.]], dtype=float32)"
            ]
          },
          "metadata": {
            "tags": []
          },
          "execution_count": 37
        }
      ]
    },
    {
      "cell_type": "code",
      "metadata": {
        "id": "ghK0aa5CyzwG",
        "colab_type": "code",
        "outputId": "b46c6d16-4337-4262-849d-74ea7fccac2d",
        "colab": {
          "base_uri": "https://localhost:8080/",
          "height": 152
        }
      },
      "source": [
        "from keras import layers\n",
        "from keras import models\n",
        "from keras import regularizers\n",
        "\n",
        "\n",
        "model = models.Sequential()\n",
        "model.add(layers.Conv2D(64, (3,3), activation = 'relu', padding='same', input_shape = (ch_number,window_len,160), data_format= \"channels_first\" ))\n",
        "print(model.output.shape)\n",
        "model.add(layers.MaxPooling2D((2,2)))\n",
        "print(model.output.shape)\n",
        "model.add(layers.Conv2D(128, (3,3), activation = 'relu'))\n",
        "print(model.output.shape)\n",
        "model.add(layers.MaxPooling2D((2,2)))\n",
        "print(model.output.shape)\n",
        "model.add(layers.Conv2D(256, (3,3), activation = 'relu'))\n",
        "print(model.output.shape)\n",
        "model.add(layers.MaxPooling2D((2,2)))\n",
        "\n",
        "\n",
        "model.add(layers.Flatten())\n",
        "print(model.output.shape)\n",
        "model.add(layers.Dense(512, activation = 'relu'))\n",
        "model.add(layers.Dropout(0.5))\n",
        "print(model.output.shape)\n",
        "model.add(layers.Dense(subject_number, activation = 'softmax'))\n",
        "print(model.output.shape)\n",
        "\n",
        "\n",
        "\n",
        "\n",
        "from keras import optimizers\n",
        "\n",
        "model.compile(loss= 'categorical_crossentropy',\n",
        "              optimizer= optimizers.RMSprop(lr= 1e-4),\n",
        "              metrics = ['acc'])"
      ],
      "execution_count": 38,
      "outputs": [
        {
          "output_type": "stream",
          "text": [
            "(?, 64, 20, 160)\n",
            "(?, 32, 10, 160)\n",
            "(?, 30, 8, 128)\n",
            "(?, 15, 4, 128)\n",
            "(?, 13, 2, 256)\n",
            "(?, ?)\n",
            "(?, 512)\n",
            "(?, 20)\n"
          ],
          "name": "stdout"
        }
      ]
    },
    {
      "cell_type": "code",
      "metadata": {
        "id": "5cuXqgjey1aZ",
        "colab_type": "code",
        "outputId": "ae5b3eac-7097-4fce-ddd6-948e91ca02f2",
        "colab": {
          "base_uri": "https://localhost:8080/",
          "height": 730
        }
      },
      "source": [
        "history = model.fit(\n",
        "        x_train,\n",
        "        y_train,\n",
        "        epochs = 20,\n",
        "        batch_size = 20,\n",
        "        validation_data = (x_valid, y_valid)\n",
        ")"
      ],
      "execution_count": 39,
      "outputs": [
        {
          "output_type": "stream",
          "text": [
            "Train on 20000 samples, validate on 15140 samples\n",
            "Epoch 1/20\n",
            "20000/20000 [==============================] - 19s 950us/step - loss: 2.5889 - acc: 0.1756 - val_loss: 1.7645 - val_acc: 0.4046\n",
            "Epoch 2/20\n",
            "20000/20000 [==============================] - 19s 932us/step - loss: 1.6213 - acc: 0.4415 - val_loss: 1.2008 - val_acc: 0.6595\n",
            "Epoch 3/20\n",
            "20000/20000 [==============================] - 19s 931us/step - loss: 1.1868 - acc: 0.5993 - val_loss: 0.9574 - val_acc: 0.6886\n",
            "Epoch 4/20\n",
            "20000/20000 [==============================] - 19s 934us/step - loss: 0.8603 - acc: 0.7064 - val_loss: 0.6425 - val_acc: 0.7789\n",
            "Epoch 5/20\n",
            "20000/20000 [==============================] - 19s 941us/step - loss: 0.6784 - acc: 0.7663 - val_loss: 0.5227 - val_acc: 0.8153\n",
            "Epoch 6/20\n",
            "20000/20000 [==============================] - 19s 931us/step - loss: 0.5595 - acc: 0.8025 - val_loss: 0.4653 - val_acc: 0.8298\n",
            "Epoch 7/20\n",
            "20000/20000 [==============================] - 19s 931us/step - loss: 0.4731 - acc: 0.8319 - val_loss: 0.3337 - val_acc: 0.8910\n",
            "Epoch 8/20\n",
            "20000/20000 [==============================] - 19s 934us/step - loss: 0.4152 - acc: 0.8518 - val_loss: 0.2621 - val_acc: 0.9068\n",
            "Epoch 9/20\n",
            "20000/20000 [==============================] - 19s 932us/step - loss: 0.3682 - acc: 0.8702 - val_loss: 0.2336 - val_acc: 0.9212\n",
            "Epoch 10/20\n",
            "20000/20000 [==============================] - 18s 925us/step - loss: 0.3244 - acc: 0.8840 - val_loss: 0.3475 - val_acc: 0.8705\n",
            "Epoch 11/20\n",
            "20000/20000 [==============================] - 19s 929us/step - loss: 0.2955 - acc: 0.8963 - val_loss: 0.1934 - val_acc: 0.9367\n",
            "Epoch 12/20\n",
            "20000/20000 [==============================] - 19s 929us/step - loss: 0.2626 - acc: 0.9053 - val_loss: 0.4221 - val_acc: 0.8429\n",
            "Epoch 13/20\n",
            "20000/20000 [==============================] - 19s 931us/step - loss: 0.2438 - acc: 0.9120 - val_loss: 0.3240 - val_acc: 0.8854\n",
            "Epoch 14/20\n",
            "20000/20000 [==============================] - 19s 929us/step - loss: 0.2193 - acc: 0.9229 - val_loss: 0.2361 - val_acc: 0.9128\n",
            "Epoch 15/20\n",
            "20000/20000 [==============================] - 18s 924us/step - loss: 0.2032 - acc: 0.9268 - val_loss: 0.1539 - val_acc: 0.9401\n",
            "Epoch 16/20\n",
            "20000/20000 [==============================] - 19s 932us/step - loss: 0.1832 - acc: 0.9342 - val_loss: 0.2496 - val_acc: 0.8989\n",
            "Epoch 17/20\n",
            "20000/20000 [==============================] - 19s 932us/step - loss: 0.1688 - acc: 0.9394 - val_loss: 0.1041 - val_acc: 0.9635\n",
            "Epoch 18/20\n",
            "20000/20000 [==============================] - 19s 928us/step - loss: 0.1551 - acc: 0.9429 - val_loss: 0.0882 - val_acc: 0.9718\n",
            "Epoch 19/20\n",
            "20000/20000 [==============================] - 19s 925us/step - loss: 0.1395 - acc: 0.9508 - val_loss: 0.0842 - val_acc: 0.9711\n",
            "Epoch 20/20\n",
            "20000/20000 [==============================] - 19s 934us/step - loss: 0.1356 - acc: 0.9534 - val_loss: 0.0793 - val_acc: 0.9703\n"
          ],
          "name": "stdout"
        }
      ]
    },
    {
      "cell_type": "code",
      "metadata": {
        "id": "5XEoeaxwy3nf",
        "colab_type": "code",
        "outputId": "976614a5-0e80-4a3e-dd7b-68a635f622a1",
        "colab": {
          "base_uri": "https://localhost:8080/",
          "height": 51
        }
      },
      "source": [
        "model.evaluate(test_img, test_label)\n"
      ],
      "execution_count": 40,
      "outputs": [
        {
          "output_type": "stream",
          "text": [
            "11700/11700 [==============================] - 2s 212us/step\n"
          ],
          "name": "stdout"
        },
        {
          "output_type": "execute_result",
          "data": {
            "text/plain": [
              "[0.4629982998985733, 0.8768376068376068]"
            ]
          },
          "metadata": {
            "tags": []
          },
          "execution_count": 40
        }
      ]
    },
    {
      "cell_type": "code",
      "metadata": {
        "id": "DqsB3sPS1HQH",
        "colab_type": "code",
        "outputId": "bc2100fe-fbf5-4afe-9bfe-0827606b1e8f",
        "colab": {
          "base_uri": "https://localhost:8080/",
          "height": 295
        }
      },
      "source": [
        "import matplotlib.pyplot as plt\n",
        "\n",
        "history_dict = history.history \n",
        "\n",
        "loss_values = history_dict ['loss'] \n",
        "\n",
        "val_loss_values = history_dict['val_loss']\n",
        "\n",
        "epochs = range(1, len(loss_values) + 1)\n",
        "\n",
        "\n",
        "\n",
        "plt.plot(epochs, loss_values, 'bo', label='Training loss') \n",
        "\n",
        "plt.plot(epochs, val_loss_values, 'b', label='Validation loss') \n",
        "\n",
        "plt.title('Training and validation loss') \n",
        "\n",
        "plt.xlabel('Epochs') \n",
        "\n",
        "plt.ylabel('Loss') \n",
        "\n",
        "plt.legend()\n",
        "\n",
        "plt.show()"
      ],
      "execution_count": 41,
      "outputs": [
        {
          "output_type": "display_data",
          "data": {
            "image/png": "[encoded data removed]",
            "text/plain": [
              "<Figure size 432x288 with 1 Axes>"
            ]
          },
          "metadata": {
            "tags": []
          }
        }
      ]
    },
    {
      "cell_type": "code",
      "metadata": {
        "id": "jbx7UAdh1ONn",
        "colab_type": "code",
        "outputId": "a22e4df8-99c3-4bc1-9cba-00ba3403b96d",
        "colab": {
          "base_uri": "https://localhost:8080/",
          "height": 295
        }
      },
      "source": [
        "history_dict = history.history \n",
        "\n",
        "acc_values = history_dict ['acc'] \n",
        "\n",
        "val_acc_values = history_dict['val_acc']\n",
        "\n",
        "\n",
        "\n",
        "plt.plot(epochs, acc_values, 'bo', label='Training acc') \n",
        "\n",
        "plt.plot(epochs, val_acc_values, 'b', label='Validation acc') \n",
        "\n",
        "plt.title('Training and validation acc') \n",
        "\n",
        "plt.xlabel('Epochs') \n",
        "\n",
        "plt.ylabel('acc') \n",
        "\n",
        "plt.legend()\n",
        "\n",
        "plt.show()"
      ],
      "execution_count": 42,
      "outputs": [
        {
          "output_type": "display_data",
          "data": {
            "image/png": "[encoded data removed]",
            "text/plain": [
              "<Figure size 432x288 with 1 Axes>"
            ]
          },
          "metadata": {
            "tags": []
          }
        }
      ]
    },
    {
      "cell_type": "code",
      "metadata": {
        "id": "RhaTI8_k1QG_",
        "colab_type": "code",
        "colab": {}
      },
      "source": [
        ""
      ],
      "execution_count": 0,
      "outputs": []
    }
  ]
}