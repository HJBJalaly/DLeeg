{
 "cells": [
  {
   "cell_type": "markdown",
   "metadata": {
    "colab_type": "text",
    "id": "view-in-github"
   },
   "source": [
    "<a href=\"https://colab.research.google.com/github/HJBJalaly/DLeeg/blob/master/best%20channel/Mine/Search_2Ch_Base_Normal.ipynb\" target=\"_parent\"><img src=\"https://colab.research.google.com/assets/colab-badge.svg\" alt=\"Open In Colab\"/></a>"
   ]
  },
  {
   "cell_type": "code",
   "execution_count": 1,
   "metadata": {
    "colab": {
     "base_uri": "https://localhost:8080/",
     "height": 34
    },
    "colab_type": "code",
    "id": "fM152eYkDEi0",
    "outputId": "c06ff4b5-8e9d-44c1-a8dc-1fe0351bc2b8"
   },
   "outputs": [],
   "source": [
    "#from google.colab import drive\n",
    "#drive.mount('/content/drive')"
   ]
  },
  {
   "cell_type": "code",
   "execution_count": 2,
   "metadata": {
    "colab": {
     "base_uri": "https://localhost:8080/",
     "height": 68
    },
    "colab_type": "code",
    "id": "v_9QlgWXuZ2E",
    "outputId": "2ec15fd5-7508-4b45-98b2-98d91a06bdd8"
   },
   "outputs": [],
   "source": [
    "#!pip install mne"
   ]
  },
  {
   "cell_type": "code",
   "execution_count": 3,
   "metadata": {
    "colab": {
     "base_uri": "https://localhost:8080/",
     "height": 34
    },
    "colab_type": "code",
    "id": "ugNHdREkvO6h",
    "outputId": "3069333b-4ddc-4ec9-aad6-9b5eb80e8578"
   },
   "outputs": [
    {
     "data": {
      "text/plain": [
       "'\\nSearch among 20 selected channels to find the best accuracy with only one channel\\n\\n'"
      ]
     },
     "execution_count": 3,
     "metadata": {},
     "output_type": "execute_result"
    }
   ],
   "source": [
    "'''\n",
    "Search among 20 selected channels to find the best accuracy with only one channel\n",
    "\n",
    "'''"
   ]
  },
  {
   "cell_type": "code",
   "execution_count": 4,
   "metadata": {
    "colab": {
     "base_uri": "https://localhost:8080/",
     "height": 105
    },
    "colab_type": "code",
    "id": "n5TM1aaTaDZZ",
    "outputId": "94b8f964-fc7a-45d5-98a0-b4da7b25c430"
   },
   "outputs": [
    {
     "name": "stderr",
     "output_type": "stream",
     "text": [
      "Using TensorFlow backend.\n"
     ]
    },
    {
     "name": "stdout",
     "output_type": "stream",
     "text": [
      "Automatically created module for IPython interactive environment\n"
     ]
    }
   ],
   "source": [
    "# For Visualization\n",
    "import matplotlib\n",
    "from matplotlib import pyplot as plt\n",
    "from mpl_toolkits.mplot3d import Axes3D  # noqa\n",
    "\n",
    "# General use\n",
    "import numpy as np\n",
    "import math\n",
    "import random\n",
    "\n",
    "# For clear memory\n",
    "import gc\n",
    "\n",
    "#\n",
    "import copy \n",
    "import csv\n",
    "import datetime\n",
    "import time\n",
    "\n",
    "\n",
    "# To download file from google drive\n",
    "#from google.colab import files\n",
    "\n",
    "# For model training\n",
    "from keras import layers\n",
    "from keras import models\n",
    "from keras import regularizers\n",
    "from keras.utils import to_categorical\n",
    "from keras import optimizers\n",
    "\n",
    "# EEG Tools\n",
    "import mne\n",
    "from mne.preprocessing import create_ecg_epochs, create_eog_epochs\n",
    "from mne import io\n",
    "from mne import viz\n",
    "from mne import Epochs, io, pick_types\n",
    "from mne.event import define_target_events\n",
    "from mne.time_frequency import psd_welch\n",
    "print(__doc__)"
   ]
  },
  {
   "cell_type": "code",
   "execution_count": 5,
   "metadata": {
    "colab": {},
    "colab_type": "code",
    "id": "HtvZeqTcuZ2M"
   },
   "outputs": [],
   "source": [
    "# Parameters:\n",
    "\n",
    "subject_number=2\n",
    "task_number=1\n",
    "task_time = 60\n",
    "sampel_number_per_sec =  160 # sampel rate\n",
    "total_sampel_number =  sampel_number_per_sec *task_time # 60*160\n",
    "sample_shift = 4 #step len\n",
    "window_len= 20\n",
    "EpochNum=2\n",
    "\n",
    "Best1Channel=61 #Oz\n",
    "Search_Space_Channel = [21,23]#,29,31,33,35,36,40,8,10,12,41,46,48,50,52,54,60,61,62]\n",
    "Search_Space_Channel_Name=[\"Fp1\",\"Fp2\"]#,\"F7\",\"F3\",\"Fz\",\"F4\",\"F8\",\"T7\",\"C3\",\"Cz\",\"C4\",\"T8\",\"P7\",\"P3\",\"Pz\",\"P4\",\"P8\",\"O1\",\"Oz\",\"O2\"]\n",
    "\n",
    "# Channel Indexes:\n",
    "#   Fp1,21\n",
    "#   Fp2,23\n",
    "#   F7,29\n",
    "#   F3,31\n",
    "#   Fz,33\n",
    "#   F4,35\n",
    "#   F8,36\n",
    "#   T7,40\n",
    "#   C3,8\n",
    "#   Cz,10\n",
    "#   C4,12\n",
    "#   T8,41\n",
    "#   P7,46\n",
    "#   P3,48\n",
    "#   Pz,50\n",
    "#   P4,52\n",
    "#   P8,54\n",
    "#   O1,60\n",
    "#   Oz,61\n",
    "#   O2,62\n",
    "\n",
    "#   T9,42\n",
    "#   T10,43\n"
   ]
  },
  {
   "cell_type": "code",
   "execution_count": 6,
   "metadata": {
    "colab": {
     "base_uri": "https://localhost:8080/",
     "height": 1000
    },
    "colab_type": "code",
    "id": "EMBxiZ8KvXUP",
    "outputId": "9dccf912-a2cf-4cb6-8ca3-b588dd68aba5"
   },
   "outputs": [
    {
     "name": "stdout",
     "output_type": "stream",
     "text": [
      "Extracting EDF parameters from /home/hamed/mne_data/MNE-eegbci-data/physiobank/database/eegmmidb/S001/S001R01.edf...\n",
      "EDF file detected\n",
      "EDF annotations detected (consider using raw.find_edf_events() to extract them)\n",
      "Setting channel info structure...\n",
      "Creating raw.info structure...\n",
      "Reading 0 ... 9759  =      0.000 ...    60.994 secs...\n",
      "Extracting EDF parameters from /home/hamed/mne_data/MNE-eegbci-data/physiobank/database/eegmmidb/S002/S002R01.edf...\n",
      "EDF file detected\n",
      "EDF annotations detected (consider using raw.find_edf_events() to extract them)\n",
      "Setting channel info structure...\n",
      "Creating raw.info structure...\n",
      "Reading 0 ... 9759  =      0.000 ...    60.994 secs...\n"
     ]
    }
   ],
   "source": [
    "# load dataset in array\n",
    "task_index = [1] # task: REO\n",
    "task_number= len(task_index)\n",
    "\n",
    "# load dataset in array\n",
    "list_raw_fnames = [[0]*task_number]*subject_number\n",
    "for x in range(subject_number):\n",
    "  list_raw_fnames[x] = mne.datasets.eegbci.load_data(x+1,task_index)\n",
    "\n",
    "list_rawdata = np.zeros((subject_number,task_number), dtype='object')\n",
    "\n",
    "for i in range(subject_number):\n",
    "  for j in range(task_number):\n",
    "    list_rawdata[i][j] = mne.io.read_raw_edf(list_raw_fnames[i][j], preload=True)\n",
    "\n",
    "\n",
    "# # load dataset in array\n",
    "# list_raw_fnames = [[0]*2]*subject_number\n",
    "# for x in range(subject_number):\n",
    "#     list_raw_fnames[x] = mne.datasets.eegbci.load_data(x+1,[1,2])\n",
    "\n",
    "# #list_rawdata1 = np.zeros((subject_number,2), dtype='object')\n",
    "# list_rawdata = np.zeros((subject_number,2), dtype='object')\n",
    "\n",
    "# for i in range(subject_number):\n",
    "#     for j in range(2):\n",
    "#         list_rawdata[i][j] = mne.io.read_raw_edf(list_raw_fnames[i][j], preload=True)\n",
    "       "
   ]
  },
  {
   "cell_type": "code",
   "execution_count": 7,
   "metadata": {
    "colab": {
     "base_uri": "https://localhost:8080/",
     "height": 51
    },
    "colab_type": "code",
    "id": "lltZvYULvrvA",
    "outputId": "50e6e6bc-9fb7-4f70-a9c8-918582718f5c"
   },
   "outputs": [
    {
     "name": "stdout",
     "output_type": "stream",
     "text": [
      "Train sample: 1757\n",
      "Test sample: 585\n"
     ]
    }
   ],
   "source": [
    "# img for each subject\n",
    "subject_img_number = math.floor((total_sampel_number - sampel_number_per_sec) / sample_shift) +1 - window_len +1\n",
    "test_start_index=subject_img_number - math.floor(subject_img_number/4) \n",
    "\n",
    "train_number =  test_start_index \n",
    "test_number = subject_img_number - test_start_index\n",
    "print(\"Train sample:\",train_number)\n",
    "print(\"Test sample:\",test_number)\n",
    "\n",
    "# ch_number = len(list_channel)\n",
    "\n",
    "# train_img = np.zeros((train_number*subject_number, ch_number, window_len + 1, 160), dtype = float)\n",
    "# train_label =[]\n",
    "\n",
    "# test_img = np.zeros((test_number*subject_number, ch_number, window_len, 160), dtype = float)\n",
    "# test_label =[]\n",
    "\n",
    "# print(\"train image dims:\",train_img.shape)"
   ]
  },
  {
   "cell_type": "code",
   "execution_count": 8,
   "metadata": {
    "colab": {},
    "colab_type": "code",
    "id": "2NuDhT0Y1Fqa"
   },
   "outputs": [],
   "source": [
    "def normalize_channel_data(ch , i, ch_min, ch_max):\n",
    "  ch = ((ch - ch_min[i]) / (ch_max[i] - ch_min[i] ))\n",
    "  return ch\n",
    "\n",
    "def ProjectionVector(VecA,VecB):\n",
    "    Projeted_VecB_on_VecA=np.dot(VecA,VecB)/np.dot(VecA,VecA)*VecA\n",
    "    return Projeted_VecB_on_VecA"
   ]
  },
  {
   "cell_type": "code",
   "execution_count": 10,
   "metadata": {
    "colab": {
     "base_uri": "https://localhost:8080/",
     "height": 462
    },
    "colab_type": "code",
    "id": "7Ur_osh2aDZm",
    "outputId": "542a6f4d-c274-4f4a-f96f-057ae0b6fb4a"
   },
   "outputs": [
    {
     "name": "stdout",
     "output_type": "stream",
     "text": [
      "#################################################################################################\n",
      "Index: 0  > Channel: Fp1\n",
      "Train on 2812 samples, validate on 702 samples\n",
      "Epoch 1/2\n",
      "2812/2812 [==============================] - 69s 25ms/step - loss: 0.6875 - acc: 0.5473 - val_loss: 0.6604 - val_acc: 0.7678\n",
      "Epoch 2/2\n",
      "2812/2812 [==============================] - 66s 24ms/step - loss: 0.5886 - acc: 0.7112 - val_loss: 0.5409 - val_acc: 0.6211\n",
      "1170/1170 [==============================] - 15s 13ms/step\n",
      "#################################################################################################\n",
      "Index: 1  > Channel: Fp2\n",
      "Train on 2812 samples, validate on 702 samples\n",
      "Epoch 1/2\n",
      "2812/2812 [==============================] - 73s 26ms/step - loss: 0.6755 - acc: 0.5693 - val_loss: 0.6224 - val_acc: 0.8632\n",
      "Epoch 2/2\n",
      "2812/2812 [==============================] - 69s 25ms/step - loss: 0.4999 - acc: 0.7923 - val_loss: 0.3575 - val_acc: 0.9060\n",
      "1170/1170 [==============================] - 15s 13ms/step\n"
     ]
    }
   ],
   "source": [
    "#####################################################################################################\n",
    "# seacrh all channels\n",
    "SearchSpaceResult=np.zeros((len(Search_Space_Channel),6),dtype = float)\n",
    "\n",
    "for IndexCh in range(len(Search_Space_Channel)):\n",
    "    \n",
    "    #################################################################################################\n",
    "    # Print Iteration\n",
    "    print(\"#################################################################################################\")\n",
    "    print(\"Index:\", IndexCh,\" > Channel:\", Search_Space_Channel_Name[IndexCh])\n",
    "    \n",
    "    \n",
    "    #################################################################################################\n",
    "    # Reset Model and Data Arrays\n",
    "    list_channel=[Best1Channel, Search_Space_Channel[IndexCh]]\n",
    "    ch_number=len(list_channel)\n",
    "    \n",
    "    train_img = np.zeros((train_number*subject_number, ch_number, window_len + 1, 160), dtype = float)\n",
    "    train_label =[]\n",
    "\n",
    "    test_img = np.zeros((test_number*subject_number, ch_number, window_len, 160), dtype = float)\n",
    "    test_label =[]\n",
    "    \n",
    "    list_rawdataTemp=list_rawdata.copy()\n",
    "\n",
    "    #################################################################################################\n",
    "    # Fill Data Arrays\n",
    "    for s in range(subject_number):\n",
    "\n",
    "        DataAllChannelsRaw, times =(list_rawdataTemp[s][0][:64,:9600])\n",
    "\n",
    "\n",
    "        # Extrac Channel T9 or T10 as Baseline\n",
    "        DataChannelT9Raw =DataAllChannelsRaw[43]# Ch T9 (42) or T10 (43)\n",
    "\n",
    "        ch_max =[]\n",
    "        ch_min =[]\n",
    "        # Extract Selected Channels+ Remove Baseline+ Normailze\n",
    "        DataChannelsRaw   =np.zeros((ch_number,times.size),dtype = float)\n",
    "        DataChannelsNormal=np.zeros((ch_number,times.size),dtype = float)\n",
    "        DataChannelsOrt   =np.zeros((ch_number,times.size),dtype = float)\n",
    "        for i in range(len(list_channel)):\n",
    "            DataChannelsRaw[i]=DataAllChannelsRaw[list_channel[i]].copy()# -DataChannelT9Raw\n",
    "            \n",
    "            ch_max = np.append(ch_max, max(DataChannelsRaw[i])) # max for each cannel\n",
    "            ch_min = np.append(ch_min, min(DataChannelsRaw[i])) # min for each cannel\n",
    "            \n",
    "            DataChannelsNormal[i]=normalize_channel_data(DataChannelsRaw[i].copy(), i, ch_min, ch_max)\n",
    "\n",
    "    \n",
    "        # Orthogonal Channel\n",
    "        DataChannelsOrt[0]=DataChannelsNormal[0]\n",
    "        DataChannelsOrt[1]=DataChannelsNormal[1]-ProjectionVector(DataChannelsNormal[0],DataChannelsNormal[1])\n",
    "    \n",
    "\n",
    "        for j in range (subject_img_number):\n",
    "            for i in range(len(list_channel)): # فقط کانال های با اندیس مشخص را دربرمیگیرد\n",
    "                for z in range (window_len):\n",
    "                    ExtractedData=DataChannelsOrt[i,0+(j+z)*sample_shift:sampel_number_per_sec+(j+z)*sample_shift]\n",
    "\n",
    "                    if j <test_start_index :\n",
    "                        train_img[s*train_number + j][i][z] = ExtractedData\n",
    "                        if z==window_len-1 :\n",
    "                            train_img[s*train_number + j][i][z+1] = s\n",
    "                    else:\n",
    "                         test_img[s*test_number + j - test_start_index][i][z] = ExtractedData\n",
    "            if j >=test_start_index :\n",
    "                test_label = np.append(test_label, (s))\n",
    "                \n",
    "        \n",
    "    #################################################################################################\n",
    "    #shuffle train img array\n",
    "    train_img_shuffle = train_img.copy()\n",
    "\n",
    "    np.random.shuffle(train_img_shuffle)\n",
    "\n",
    "    train_img_2 = np.zeros((train_number*subject_number, ch_number, window_len, 160), dtype = float)\n",
    "\n",
    "    # img label \n",
    "    train_img_shuffle_len =len(train_img_shuffle)\n",
    "    for i in range(train_img_shuffle_len):\n",
    "        train_label = np.append(train_label, (train_img_shuffle[i][0][window_len][0] ))\n",
    "        for j in range (ch_number):\n",
    "            train_img_2[i][j] = np.delete(train_img_shuffle[i][j], window_len, axis=0)\n",
    "            \n",
    "    \n",
    "    #################################################################################################\n",
    "    # valid & train\n",
    "    train_label = to_categorical(train_label, subject_number)\n",
    "    test_label = to_categorical(test_label, subject_number)\n",
    "    \n",
    "    validation_index = math.floor( len(train_img_2) * 0.2)\n",
    "\n",
    "    x_train =train_img_2[validation_index:]\n",
    "    y_train =train_label[validation_index:]    \n",
    "    x_valid =train_img_2[:validation_index]\n",
    "    y_valid =train_label[:validation_index]\n",
    "    #x_train =train_img_2[:20000]\n",
    "    #y_train =train_label[:20000]\n",
    "    #x_valid =train_img_2[20000:]\n",
    "    #y_valid =train_label[20000:]\n",
    "\n",
    "\n",
    "    #################################################################################################\n",
    "    # Create Model\n",
    "    model = models.Sequential()\n",
    "    model.add(layers.Conv2D(64, (3,3), activation = 'relu', padding='same', input_shape = (ch_number,window_len,160), data_format= \"channels_first\" ))\n",
    "    model.add(layers.MaxPooling2D((2,2)))\n",
    "    model.add(layers.Conv2D(128, (3,3), activation = 'relu'))\n",
    "    model.add(layers.MaxPooling2D((2,2)))\n",
    "    model.add(layers.Conv2D(256, (3,3), activation = 'relu'))\n",
    "    model.add(layers.MaxPooling2D((2,2)))\n",
    "\n",
    "    model.add(layers.Flatten())\n",
    "    model.add(layers.Dense(512, activation = 'relu'))\n",
    "    model.add(layers.Dropout(0.5))\n",
    "    model.add(layers.Dense(subject_number, activation = 'softmax'))\n",
    "    \n",
    "    model.compile(loss= 'categorical_crossentropy',\n",
    "                  optimizer= optimizers.RMSprop(lr= 1e-4),\n",
    "                  metrics = ['acc'])\n",
    "    \n",
    "    #################################################################################################\n",
    "    # Train the Model\n",
    "    history = model.fit(\n",
    "        x_train,\n",
    "        y_train,\n",
    "        epochs =EpochNum ,\n",
    "        batch_size = 20,\n",
    "        validation_data = (x_valid, y_valid))\n",
    "    \n",
    "    #################################################################################################\n",
    "    # Evalute the Model\n",
    "    TestResult=model.evaluate(test_img, test_label)\n",
    "    \n",
    "    #################################################################################################\n",
    "    # Save Result\n",
    "    SearchSpaceResult[IndexCh][0]=history.history['loss'][EpochNum-1]\n",
    "    SearchSpaceResult[IndexCh][1]=history.history['acc'][EpochNum-1]\n",
    "    SearchSpaceResult[IndexCh][2]=history.history['val_loss'][EpochNum-1]\n",
    "    SearchSpaceResult[IndexCh][3]=history.history['val_acc'][EpochNum-1]\n",
    "    \n",
    "    SearchSpaceResult[IndexCh][4]=TestResult[0]\n",
    "    SearchSpaceResult[IndexCh][5]=TestResult[1]\n",
    "\n",
    "    #################################################################################################\n",
    "    # Erase Memory\n",
    "    del train_img\n",
    "    del test_img\n",
    "    del list_rawdataTemp\n",
    "    del DataAllChannelsRaw\n",
    "    del DataChannelsRaw\n",
    "    del DataChannelsNormal\n",
    "    del DataChannelsOrt\n",
    "    del train_img_shuffle\n",
    "    del train_img_2\n",
    "    del x_train\n",
    "    del y_train\n",
    "    del x_valid\n",
    "    del y_valid\n",
    "    del model\n",
    "    \n",
    "    gc.collect()\n"
   ]
  },
  {
   "cell_type": "code",
   "execution_count": 11,
   "metadata": {
    "colab": {},
    "colab_type": "code",
    "id": "S3lvd3_lHAc2"
   },
   "outputs": [
    {
     "data": {
      "image/png": "[encoded data removed]",
      "text/plain": [
       "<Figure size 432x432 with 1 Axes>"
      ]
     },
     "metadata": {},
     "output_type": "display_data"
    },
    {
     "ename": "NameError",
     "evalue": "name 'files' is not defined",
     "output_type": "error",
     "traceback": [
      "\u001b[0;31m---------------------------------------------------------------------------\u001b[0m",
      "\u001b[0;31mNameError\u001b[0m                                 Traceback (most recent call last)",
      "\u001b[0;32m<ipython-input-11-f655e4f178f6>\u001b[0m in \u001b[0;36m<module>\u001b[0;34m()\u001b[0m\n\u001b[1;32m     39\u001b[0m \u001b[0;31m# Downlaod\u001b[0m\u001b[0;34m\u001b[0m\u001b[0;34m\u001b[0m\u001b[0;34m\u001b[0m\u001b[0m\n\u001b[1;32m     40\u001b[0m \u001b[0mtime\u001b[0m\u001b[0;34m.\u001b[0m\u001b[0msleep\u001b[0m\u001b[0;34m(\u001b[0m\u001b[0;36m4\u001b[0m\u001b[0;34m)\u001b[0m\u001b[0;34m\u001b[0m\u001b[0;34m\u001b[0m\u001b[0m\n\u001b[0;32m---> 41\u001b[0;31m \u001b[0mfiles\u001b[0m\u001b[0;34m.\u001b[0m\u001b[0mdownload\u001b[0m\u001b[0;34m(\u001b[0m\u001b[0mResultFileName\u001b[0m\u001b[0;34m)\u001b[0m\u001b[0;34m\u001b[0m\u001b[0;34m\u001b[0m\u001b[0m\n\u001b[0m\u001b[1;32m     42\u001b[0m \u001b[0mfiles\u001b[0m\u001b[0;34m.\u001b[0m\u001b[0mdownload\u001b[0m\u001b[0;34m(\u001b[0m\u001b[0mChannelFileName\u001b[0m\u001b[0;34m)\u001b[0m\u001b[0;34m\u001b[0m\u001b[0;34m\u001b[0m\u001b[0m\n\u001b[1;32m     43\u001b[0m \u001b[0mfiles\u001b[0m\u001b[0;34m.\u001b[0m\u001b[0mdownload\u001b[0m\u001b[0;34m(\u001b[0m\u001b[0mImageFileName\u001b[0m\u001b[0;34m)\u001b[0m\u001b[0;34m\u001b[0m\u001b[0;34m\u001b[0m\u001b[0m\n",
      "\u001b[0;31mNameError\u001b[0m: name 'files' is not defined"
     ]
    }
   ],
   "source": [
    "## Visualize Results and Save Results\n",
    "Today = datetime.date.today()\n",
    "TodayStr = Today.strftime(\"%Y%m%d\")\n",
    "ResultFileName='SearchSpaceResult_2Ch_'+TodayStr+'_S'+str(EpochNum)+'.csv'\n",
    "ChannelFileName='ChannelNames_2Ch_'+TodayStr+'_S'+str(EpochNum)+'.csv'\n",
    "ImageFileName='SearchSpaceResult_2Ch_'+TodayStr+'_S'+str(EpochNum)+'.pdf'\n",
    "\n",
    "\n",
    "# Visualize\n",
    "biosemi_layout = mne.channels.read_layout('biosemi')\n",
    "biosemi_Acc=copy.deepcopy(biosemi_layout)\n",
    "\n",
    "for i in range(len(biosemi_Acc.names)):\n",
    "    biosemi_Acc.names[i]=' '\n",
    "\n",
    "    \n",
    "for i in range(len(Search_Space_Channel)):\n",
    "    index=biosemi_layout.names.index(Search_Space_Channel_Name[i])\n",
    "    biosemi_Acc.names[index]=biosemi_layout.names[index]+\" : \"+str(np.round(SearchSpaceResult[i][1],2))+\\\n",
    "                                                         \" > \"+str(np.round(SearchSpaceResult[i][5],2))\n",
    "\n",
    "ImageEEG=biosemi_Acc.plot()\n",
    "# plt.title(\"Channel Name : Training Acc.  > Test Acc.\",pad=-12)\n",
    "\n",
    "\n",
    "# Save\n",
    "ImageEEG.savefig(ImageFileName)\n",
    "\n",
    "with open(ResultFileName, 'w+') as csvfile:\n",
    "    spamwriter = csv.writer(csvfile, delimiter=',',\n",
    "                            quotechar='|', quoting=csv.QUOTE_MINIMAL)\n",
    "    spamwriter.writerows(SearchSpaceResult)\n",
    "\n",
    "with open(ChannelFileName, 'w+') as csvfile:\n",
    "    spamwriter = csv.writer(csvfile, delimiter=',',\n",
    "                            quotechar='|', quoting=csv.QUOTE_MINIMAL)\n",
    "    spamwriter.writerow(Search_Space_Channel)\n",
    "    spamwriter.writerow(Search_Space_Channel_Name)\n",
    "    \n",
    "# Downlaod\n",
    "time.sleep(4)\n",
    "files.download(ResultFileName)\n",
    "files.download(ChannelFileName)\n",
    "files.download(ImageFileName)\n"
   ]
  },
  {
   "cell_type": "code",
   "execution_count": null,
   "metadata": {},
   "outputs": [],
   "source": []
  }
 ],
 "metadata": {
  "accelerator": "GPU",
  "celltoolbar": "Raw Cell Format",
  "colab": {
   "collapsed_sections": [],
   "include_colab_link": true,
   "name": "Search_1Ch_Base_Normal.ipynb",
   "provenance": []
  },
  "kernelspec": {
   "display_name": "Python 3",
   "language": "python",
   "name": "python3"
  },
  "language_info": {
   "codemirror_mode": {
    "name": "ipython",
    "version": 3
   },
   "file_extension": ".py",
   "mimetype": "text/x-python",
   "name": "python",
   "nbconvert_exporter": "python",
   "pygments_lexer": "ipython3",
   "version": "3.6.8"
  }
 },
 "nbformat": 4,
 "nbformat_minor": 1
}
