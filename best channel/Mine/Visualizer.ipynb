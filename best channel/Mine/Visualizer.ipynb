{
  "nbformat": 4,
  "nbformat_minor": 0,
  "metadata": {
    "celltoolbar": "Raw Cell Format",
    "colab": {
      "name": "Visualizer.ipynb",
      "provenance": [],
      "collapsed_sections": [],
      "machine_shape": "hm",
      "include_colab_link": true
    },
    "kernelspec": {
      "name": "python3",
      "display_name": "Python 3"
    },
    "language_info": {
      "codemirror_mode": {
        "name": "ipython",
        "version": 3
      },
      "file_extension": ".py",
      "mimetype": "text/x-python",
      "name": "python",
      "nbconvert_exporter": "python",
      "pygments_lexer": "ipython3",
      "version": "3.6.8"
    }
  },
  "cells": [
    {
      "cell_type": "markdown",
      "metadata": {
        "id": "view-in-github",
        "colab_type": "text"
      },
      "source": [
        "<a href=\"https://colab.research.google.com/github/HJBJalaly/DLeeg/blob/master/best%20channel/Mine/Visualizer.ipynb\" target=\"_parent\"><img src=\"https://colab.research.google.com/assets/colab-badge.svg\" alt=\"Open In Colab\"/></a>"
      ]
    },
    {
      "cell_type": "code",
      "metadata": {
        "colab_type": "code",
        "id": "fM152eYkDEi0",
        "colab": {}
      },
      "source": [
        "from google.colab import drive\n",
        "drive.mount('/content/drive')"
      ],
      "execution_count": 0,
      "outputs": []
    },
    {
      "cell_type": "code",
      "metadata": {
        "colab_type": "code",
        "id": "v_9QlgWXuZ2E",
        "colab": {}
      },
      "source": [
        "!pip install mne"
      ],
      "execution_count": 0,
      "outputs": []
    },
    {
      "cell_type": "code",
      "metadata": {
        "colab_type": "code",
        "id": "ugNHdREkvO6h",
        "colab": {}
      },
      "source": [
        "'''\n",
        "Read three csv, average the results and visualize them\n",
        "\n",
        "Rivision:\n",
        "980805:\n",
        "  first version.\n",
        "  \n",
        "980815:\n",
        "  Arrays are used instead of manual averaging. \n",
        "  \n",
        "\n",
        "'''"
      ],
      "execution_count": 0,
      "outputs": []
    },
    {
      "cell_type": "code",
      "metadata": {
        "colab_type": "code",
        "id": "n5TM1aaTaDZZ",
        "colab": {}
      },
      "source": [
        "# For Visualization\n",
        "import matplotlib\n",
        "from matplotlib import pyplot as plt\n",
        "from mpl_toolkits.mplot3d import Axes3D  # noqa\n",
        "\n",
        "# General use\n",
        "import numpy as np\n",
        "import math\n",
        "import random\n",
        "\n",
        "# For clear memory\n",
        "import gc\n",
        "\n",
        "#\n",
        "import copy \n",
        "import csv\n",
        "import pandas as pd\n",
        "import datetime\n",
        "import time\n",
        "import os\n",
        "\n",
        "\n",
        "# To download file from google drive\n",
        "from google.colab import files\n",
        "\n",
        "# EEG Tools\n",
        "import mne\n",
        "from mne.preprocessing import create_ecg_epochs, create_eog_epochs\n",
        "from mne import io\n",
        "from mne import viz\n",
        "from mne import Epochs, io, pick_types\n",
        "from mne.event import define_target_events\n",
        "from mne.time_frequency import psd_welch\n",
        "print(__doc__)\n",
        "\n"
      ],
      "execution_count": 0,
      "outputs": []
    },
    {
      "cell_type": "code",
      "metadata": {
        "id": "T_6H0vLOr49U",
        "colab_type": "code",
        "colab": {}
      },
      "source": [
        "!ls /content/drive/My\\ Drive/Deep\\ Results/SearchSpaceResult_2Ch_?61?_S109_RemoveBaseLineOff_OrthogonalOn_SamplesIn4Out8_Try*.csv"
      ],
      "execution_count": 0,
      "outputs": []
    },
    {
      "cell_type": "code",
      "metadata": {
        "colab_type": "code",
        "id": "7Ur_osh2aDZm",
        "colab": {}
      },
      "source": [
        "#####################################################################################################\n",
        "# Read CSV files\n",
        "\n",
        "\n",
        "ResultFileNameTries= []\n",
        "ResultFileNameTries.append(\"SearchSpaceResult_2Ch_(61)_S109_RemoveBaseLineOff_OrthogonalOn_SamplesIn4Out8_Try1_E30_20191101\")\n",
        "ResultFileNameTries.append(\"SearchSpaceResult_2Ch_(61)_S109_RemoveBaseLineOff_OrthogonalOn_SamplesIn4Out8_Try2_E30_20191102\")\n",
        "ResultFileNameTries.append(\"SearchSpaceResult_2Ch_(61)_S109_RemoveBaseLineOff_OrthogonalOn_SamplesIn4Out8_Try3_E30_20191102\")\n",
        "ResultFileNameTries.append(\"SearchSpaceResult_2Ch_(61)_S109_RemoveBaseLineOff_OrthogonalOn_SamplesIn4Out8_Try4_E30_20191031\")\n",
        "ResultFileNameTries.append(\"SearchSpaceResult_2Ch_(61)_S109_RemoveBaseLineOff_OrthogonalOn_SamplesIn4Out8_Try5_E30_20191101\")\n",
        "ResultFileNameTries.append(\"SearchSpaceResult_2Ch_(61)_S109_RemoveBaseLineOff_OrthogonalOn_SamplesIn4Out8_Try6_E30_20191101\")#?\n",
        "ResultFileNameTries.append(\"SearchSpaceResult_2Ch_(61)_S109_RemoveBaseLineOff_OrthogonalOn_SamplesIn4Out8_Try7_E30_20191105\")\n",
        "ResultFileNameTries.append(\"SearchSpaceResult_2Ch_(61)_S109_RemoveBaseLineOff_OrthogonalOn_SamplesIn4Out8_Try8_E30_20191101\")#?\n",
        "ResultFileNameTries.append(\"SearchSpaceResult_2Ch_(61)_S109_RemoveBaseLineOff_OrthogonalOn_SamplesIn4Out8_Try9_E30_20191101\")#?\n",
        "ResultFileNameTries.append(\"SearchSpaceResult_2Ch_(61)_S109_RemoveBaseLineOff_OrthogonalOn_SamplesIn4Out8_Try10_E30_20191101\")#?\n",
        "\n",
        "Today = datetime.date.today()\n",
        "TodayStr = Today.strftime(\"%Y%m%d\")\n",
        "ImageFileName='SearchSpaceResult_1Ch_S109_RemoveBaseLineOff_SamplesIn4Out8_Avg' +'_'+TodayStr+'.pdf'\n",
        "\n",
        "SearchSpaceResultTries=np.zeros((10,20,6),dtype='float')\n",
        "for iter in range(10):\n",
        "  if os.path.isfile('/content/drive/My Drive/Deep Results/'+ResultFileNameTries[iter]):\n",
        "    SearchSpaceResultTemp=pd.read_csv('/content/drive/My Drive/Deep Results/'+ResultFileNameTries[iter], header=None)\n",
        "    SearchSpaceResultTries[iter]=SearchSpaceResultTemp.values  \n",
        "  else:\n",
        "    print(ResultFileNameTries[iter]+' does not exist')\n",
        "  \n",
        "  "
      ],
      "execution_count": 0,
      "outputs": []
    },
    {
      "cell_type": "code",
      "metadata": {
        "id": "e8MDXbqAo-9M",
        "colab_type": "code",
        "colab": {}
      },
      "source": [
        "SearchSpaceResultTries.shape"
      ],
      "execution_count": 0,
      "outputs": []
    },
    {
      "cell_type": "code",
      "metadata": {
        "id": "Flk_DK0hJN7G",
        "colab_type": "code",
        "colab": {}
      },
      "source": [
        "\n",
        "#####################################################################################################\n",
        "# Avergaing\n",
        "\n",
        "SearchSpaceResultAvg=np.zeros((20,6),dtype='float')\n",
        "\n",
        "for i in range(6):\n",
        "  for j in range(20):\n",
        "    for iter in range(10):\n",
        "      SearchSpaceResultAvg[j][i]=SearchSpaceResultAvg[j][i]+(SearchSpaceResultTries[iter][j][i])/10\n",
        "\n",
        "\n",
        "#####################################################################################################\n",
        "# Visualize\n",
        "Search_Space_Channel = [21,23,29,31,33,35,36,40,8,10,12,41,46,48,50,52,54,60,61,62]\n",
        "Search_Space_Channel_Name=[\"Fp1\",\"Fp2\",\"F7\",\"F3\",\"Fz\",\"F4\",\"F8\",\"T7\",\"C3\",\"Cz\",\"C4\",\"T8\",\"P7\",\"P3\",\"Pz\",\"P4\",\"P8\",\"O1\",\"Oz\",\"O2\"]\n",
        "\n",
        "biosemi_layout = mne.channels.read_layout('biosemi')\n",
        "biosemi_Acc=copy.deepcopy(biosemi_layout)\n",
        "\n",
        "for i in range(len(biosemi_Acc.names)):\n",
        "    biosemi_Acc.names[i]=' '\n",
        "\n",
        "    \n",
        "for i in range(len(Search_Space_Channel)):\n",
        "    index=biosemi_layout.names.index(Search_Space_Channel_Name[i])\n",
        "    biosemi_Acc.names[index]=biosemi_layout.names[index]+\":\"+str(np.round(SearchSpaceResultAvg[i][1],3))+\\\n",
        "                                                         \",\"+str(np.round(SearchSpaceResultAvg[i][5],3))\n",
        "\n",
        "ImageEEG=biosemi_Acc.plot()\n",
        "# plt.title(\"Channel Name : Training Acc.  > Test Acc.\",pad=-12)\n",
        "\n",
        "\n",
        "\n",
        "# Save To Google Drive\n",
        "ImageEEG.savefig('/content/drive/My Drive/Deep Results/'+ImageFileName)\n",
        "\n",
        "# Download\n",
        "files.download('/content/drive/My Drive/Deep Results/'+ImageFileName)"
      ],
      "execution_count": 0,
      "outputs": []
    }
  ]
}