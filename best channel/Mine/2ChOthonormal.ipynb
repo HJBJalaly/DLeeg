{
  "nbformat": 4,
  "nbformat_minor": 0,
  "metadata": {
    "celltoolbar": "Raw Cell Format",
    "colab": {
      "name": "2ChOthonormal.ipynb",
      "provenance": [],
      "collapsed_sections": [],
      "include_colab_link": true
    },
    "kernelspec": {
      "name": "python3",
      "display_name": "Python 3"
    },
    "language_info": {
      "codemirror_mode": {
        "name": "ipython",
        "version": 3
      },
      "file_extension": ".py",
      "mimetype": "text/x-python",
      "name": "python",
      "nbconvert_exporter": "python",
      "pygments_lexer": "ipython3",
      "version": "3.6.8"
    },
    "accelerator": "GPU"
  },
  "cells": [
    {
      "cell_type": "markdown",
      "metadata": {
        "id": "view-in-github",
        "colab_type": "text"
      },
      "source": [
        "<a href=\"https://colab.research.google.com/github/HJBJalaly/DLeeg/blob/master/best%20channel/Mine/2ChOthonormal.ipynb\" target=\"_parent\"><img src=\"https://colab.research.google.com/assets/colab-badge.svg\" alt=\"Open In Colab\"/></a>"
      ]
    },
    {
      "cell_type": "code",
      "metadata": {
        "id": "v_9QlgWXuZ2E",
        "colab_type": "code",
        "colab": {
          "base_uri": "https://localhost:8080/",
          "height": 241
        },
        "outputId": "8b162907-811e-40c6-d735-d75f71268f78"
      },
      "source": [
        "!pip install mne"
      ],
      "execution_count": 1,
      "outputs": [
        {
          "output_type": "stream",
          "text": [
            "Collecting mne\n",
            "\u001b[?25l  Downloading https://files.pythonhosted.org/packages/42/ec/08afc26ea6204473031f786d0f3034119a5a138d40062b37fbf578c81c01/mne-0.18.2.tar.gz (6.3MB)\n",
            "\u001b[K     |████████████████████████████████| 6.3MB 50.1MB/s \n",
            "\u001b[?25hRequirement already satisfied: numpy>=1.11.3 in /usr/local/lib/python3.6/dist-packages (from mne) (1.16.5)\n",
            "Requirement already satisfied: scipy>=0.17.1 in /usr/local/lib/python3.6/dist-packages (from mne) (1.3.1)\n",
            "Building wheels for collected packages: mne\n",
            "  Building wheel for mne (setup.py) ... \u001b[?25l\u001b[?25hdone\n",
            "  Created wheel for mne: filename=mne-0.18.2-cp36-none-any.whl size=6316007 sha256=c20de216e6c8a5ce8860bbd8ffc98011b9ba064a4f952062b74bf0affd02175f\n",
            "  Stored in directory: /root/.cache/pip/wheels/71/40/30/fb9a9bdeac02c6b3b144be66ac345c5b5587a7d7610564535b\n",
            "Successfully built mne\n",
            "Installing collected packages: mne\n",
            "Successfully installed mne-0.18.2\n"
          ],
          "name": "stdout"
        }
      ]
    },
    {
      "cell_type": "code",
      "metadata": {
        "colab_type": "code",
        "id": "ugNHdREkvO6h",
        "outputId": "58564fc2-4b24-471a-9274-4646fbdf3254",
        "colab": {
          "base_uri": "https://localhost:8080/",
          "height": 204
        }
      },
      "source": [
        "'''\n",
        "1 channel :  Cz (index =10)\n",
        "\n",
        "layers: 3 conv2D(3,3) & maxpooling(2,2)\n",
        "epoch: 20 \n",
        "batch size: 20\n",
        "\n",
        "test acc: 0.7886\n",
        "test loss: 0.6802\n",
        "\n",
        "'''\n",
        "\n",
        "\n",
        "import matplotlib\n",
        "from matplotlib import pyplot as plt\n",
        "import numpy as np\n",
        "\n",
        "\n",
        "import math\n",
        "import random\n",
        "import mne\n",
        "from mne.preprocessing import create_ecg_epochs, create_eog_epochs\n",
        "from mne import io\n",
        "from mne import viz\n",
        "#from mne.datasets import testing\n",
        "from mne import Epochs, io, pick_types\n",
        "from mne.event import define_target_events\n",
        "from mne.time_frequency import psd_welch\n",
        "print(__doc__)"
      ],
      "execution_count": 2,
      "outputs": [
        {
          "output_type": "stream",
          "text": [
            "\n",
            "1 channel :  Cz (index =10)\n",
            "\n",
            "layers: 3 conv2D(3,3) & maxpooling(2,2)\n",
            "epoch: 20 \n",
            "batch size: 20\n",
            "\n",
            "test acc: 0.7886\n",
            "test loss: 0.6802\n",
            "\n",
            "\n"
          ],
          "name": "stdout"
        }
      ]
    },
    {
      "cell_type": "code",
      "metadata": {
        "id": "HtvZeqTcuZ2M",
        "colab_type": "code",
        "colab": {}
      },
      "source": [
        "# Parameters:\n",
        "subject_number=20\n",
        "task_number=1\n",
        "task_time = 60\n",
        "sampel_number_per_sec =  160 # sampel rate\n",
        "total_sampel_number =  sampel_number_per_sec *task_time # 60*160\n",
        "sample_shift = 4 #step len\n",
        "window_len= 20\n",
        "list_channel = [10,11] # channel = Cz\n"
      ],
      "execution_count": 0,
      "outputs": []
    },
    {
      "cell_type": "code",
      "metadata": {
        "colab_type": "code",
        "id": "EMBxiZ8KvXUP",
        "outputId": "a1046f34-3ef9-4dc6-86ce-0d150931b466",
        "colab": {
          "base_uri": "https://localhost:8080/",
          "height": 1000
        }
      },
      "source": [
        "# load dataset in array\n",
        "list_raw_fnames = [[0]*2]*subject_number\n",
        "for x in range(subject_number):\n",
        "    list_raw_fnames[x] = mne.datasets.eegbci.load_data(x+1,[1,2])\n",
        "\n",
        "list_rawdata1 = np.zeros((subject_number,2), dtype='object')\n",
        "list_rawdata = np.zeros((subject_number,2), dtype='object')\n",
        "\n",
        "for i in range(subject_number):\n",
        "    for j in range(2):\n",
        "        list_rawdata[i][j] = mne.io.read_raw_edf(list_raw_fnames[i][j], preload=True)\n",
        "       "
      ],
      "execution_count": 4,
      "outputs": [
        {
          "output_type": "stream",
          "text": [
            "Using default location ~/mne_data for EEGBCI...\n",
            "Creating ~/mne_data\n",
            "Downloading http://www.physionet.org/physiobank/database/eegmmidb/S001/S001R01.edf (1.2 MB)\n",
            "[........................................] 100.00% (  1.2 MB,   5.9 MB/s) /   \n",
            "Do you want to set the path:\n",
            "    /root/mne_data\n",
            "as the default EEGBCI dataset path in the mne-python config [y]/n? y\n",
            "Attempting to create new mne-python configuration file:\n",
            "/root/.mne/mne-python.json\n",
            "Downloading http://www.physionet.org/physiobank/database/eegmmidb/S001/S001R02.edf (1.2 MB)\n",
            "[........................................] 100.00% (  1.2 MB,  10.8 MB/s) /   \n",
            "Downloading http://www.physionet.org/physiobank/database/eegmmidb/S002/S002R01.edf (1.2 MB)\n",
            "[........................................] 100.00% (  1.2 MB,  10.8 MB/s) -   \n",
            "Downloading http://www.physionet.org/physiobank/database/eegmmidb/S002/S002R02.edf (1.2 MB)\n",
            "[........................................] 100.00% (  1.2 MB,  13.9 MB/s) \\   \n",
            "Downloading http://www.physionet.org/physiobank/database/eegmmidb/S003/S003R01.edf (1.2 MB)\n",
            "[........................................] 100.00% (  1.2 MB,  10.1 MB/s) |   \n",
            "Downloading http://www.physionet.org/physiobank/database/eegmmidb/S003/S003R02.edf (1.2 MB)\n",
            "[........................................] 100.00% (  1.2 MB,   9.7 MB/s) |   \n",
            "Downloading http://www.physionet.org/physiobank/database/eegmmidb/S004/S004R01.edf (1.2 MB)\n",
            "[........................................] 100.00% (  1.2 MB,  12.4 MB/s) \\   \n",
            "Downloading http://www.physionet.org/physiobank/database/eegmmidb/S004/S004R02.edf (1.2 MB)\n",
            "[........................................] 100.00% (  1.2 MB,  10.2 MB/s) -   \n",
            "Downloading http://www.physionet.org/physiobank/database/eegmmidb/S005/S005R01.edf (1.2 MB)\n",
            "[........................................] 100.00% (  1.2 MB,   8.5 MB/s) \\   \n",
            "Downloading http://www.physionet.org/physiobank/database/eegmmidb/S005/S005R02.edf (1.2 MB)\n",
            "[........................................] 100.00% (  1.2 MB,  10.4 MB/s) -   \n",
            "Downloading http://www.physionet.org/physiobank/database/eegmmidb/S006/S006R01.edf (1.2 MB)\n",
            "[........................................] 100.00% (  1.2 MB,  10.0 MB/s) -   \n",
            "Downloading http://www.physionet.org/physiobank/database/eegmmidb/S006/S006R02.edf (1.2 MB)\n",
            "[........................................] 100.00% (  1.2 MB,  11.6 MB/s) \\   \n",
            "Downloading http://www.physionet.org/physiobank/database/eegmmidb/S007/S007R01.edf (1.2 MB)\n",
            "[........................................] 100.00% (  1.2 MB,   9.1 MB/s) |   \n",
            "Downloading http://www.physionet.org/physiobank/database/eegmmidb/S007/S007R02.edf (1.2 MB)\n",
            "[........................................] 100.00% (  1.2 MB,   5.4 MB/s) -   \n",
            "Downloading http://www.physionet.org/physiobank/database/eegmmidb/S008/S008R01.edf (1.2 MB)\n",
            "[........................................] 100.00% (  1.2 MB,   9.4 MB/s) |   \n",
            "Downloading http://www.physionet.org/physiobank/database/eegmmidb/S008/S008R02.edf (1.2 MB)\n",
            "[........................................] 100.00% (  1.2 MB,   5.0 MB/s) \\   \n",
            "Downloading http://www.physionet.org/physiobank/database/eegmmidb/S009/S009R01.edf (1.2 MB)\n",
            "[........................................] 100.00% (  1.2 MB,   7.4 MB/s) \\   \n",
            "Downloading http://www.physionet.org/physiobank/database/eegmmidb/S009/S009R02.edf (1.2 MB)\n",
            "[........................................] 100.00% (  1.2 MB,  10.8 MB/s) |   \n",
            "Downloading http://www.physionet.org/physiobank/database/eegmmidb/S010/S010R01.edf (1.2 MB)\n",
            "[........................................] 100.00% (  1.2 MB,   7.1 MB/s) /   \n",
            "Downloading http://www.physionet.org/physiobank/database/eegmmidb/S010/S010R02.edf (1.2 MB)\n",
            "[........................................] 100.00% (  1.2 MB,  14.1 MB/s) \\   \n",
            "Downloading http://www.physionet.org/physiobank/database/eegmmidb/S011/S011R01.edf (1.2 MB)\n",
            "[........................................] 100.00% (  1.2 MB,   6.9 MB/s) |   \n",
            "Downloading http://www.physionet.org/physiobank/database/eegmmidb/S011/S011R02.edf (1.2 MB)\n",
            "[........................................] 100.00% (  1.2 MB,   8.8 MB/s) -   \n",
            "Downloading http://www.physionet.org/physiobank/database/eegmmidb/S012/S012R01.edf (1.2 MB)\n",
            "[........................................] 100.00% (  1.2 MB,   5.0 MB/s) \\   \n",
            "Downloading http://www.physionet.org/physiobank/database/eegmmidb/S012/S012R02.edf (1.2 MB)\n",
            "[........................................] 100.00% (  1.2 MB,   7.9 MB/s) -   \n",
            "Downloading http://www.physionet.org/physiobank/database/eegmmidb/S013/S013R01.edf (1.2 MB)\n",
            "[........................................] 100.00% (  1.2 MB,  11.3 MB/s) -   \n",
            "Downloading http://www.physionet.org/physiobank/database/eegmmidb/S013/S013R02.edf (1.2 MB)\n",
            "[........................................] 100.00% (  1.2 MB,   6.4 MB/s) \\   \n",
            "Downloading http://www.physionet.org/physiobank/database/eegmmidb/S014/S014R01.edf (1.2 MB)\n",
            "[........................................] 100.00% (  1.2 MB,   9.7 MB/s) -   \n",
            "Downloading http://www.physionet.org/physiobank/database/eegmmidb/S014/S014R02.edf (1.2 MB)\n",
            "[........................................] 100.00% (  1.2 MB,   6.2 MB/s) /   \n",
            "Downloading http://www.physionet.org/physiobank/database/eegmmidb/S015/S015R01.edf (1.2 MB)\n",
            "[........................................] 100.00% (  1.2 MB,   7.2 MB/s) /   \n",
            "Downloading http://www.physionet.org/physiobank/database/eegmmidb/S015/S015R02.edf (1.2 MB)\n",
            "[........................................] 100.00% (  1.2 MB,  11.8 MB/s) /   \n",
            "Downloading http://www.physionet.org/physiobank/database/eegmmidb/S016/S016R01.edf (1.2 MB)\n",
            "[........................................] 100.00% (  1.2 MB,   7.7 MB/s) -   \n",
            "Downloading http://www.physionet.org/physiobank/database/eegmmidb/S016/S016R02.edf (1.2 MB)\n",
            "[........................................] 100.00% (  1.2 MB,  10.0 MB/s) |   \n",
            "Downloading http://www.physionet.org/physiobank/database/eegmmidb/S017/S017R01.edf (1.2 MB)\n",
            "[........................................] 100.00% (  1.2 MB,   7.7 MB/s) -   \n",
            "Downloading http://www.physionet.org/physiobank/database/eegmmidb/S017/S017R02.edf (1.2 MB)\n",
            "[........................................] 100.00% (  1.2 MB,  10.3 MB/s) |   \n",
            "Downloading http://www.physionet.org/physiobank/database/eegmmidb/S018/S018R01.edf (1.2 MB)\n",
            "[........................................] 100.00% (  1.2 MB,  12.4 MB/s) \\   \n",
            "Downloading http://www.physionet.org/physiobank/database/eegmmidb/S018/S018R02.edf (1.2 MB)\n",
            "[........................................] 100.00% (  1.2 MB,   7.7 MB/s) /   \n",
            "Downloading http://www.physionet.org/physiobank/database/eegmmidb/S019/S019R01.edf (1.2 MB)\n",
            "[........................................] 100.00% (  1.2 MB,   6.8 MB/s) |   \n",
            "Downloading http://www.physionet.org/physiobank/database/eegmmidb/S019/S019R02.edf (1.2 MB)\n",
            "[........................................] 100.00% (  1.2 MB,  10.4 MB/s) /   \n",
            "Downloading http://www.physionet.org/physiobank/database/eegmmidb/S020/S020R01.edf (1.2 MB)\n",
            "[........................................] 100.00% (  1.2 MB,   9.7 MB/s) \\   \n",
            "Downloading http://www.physionet.org/physiobank/database/eegmmidb/S020/S020R02.edf (1.2 MB)\n",
            "[........................................] 100.00% (  1.2 MB,  12.4 MB/s) /   \n",
            "Extracting EDF parameters from /root/mne_data/MNE-eegbci-data/physiobank/database/eegmmidb/S001/S001R01.edf...\n",
            "EDF file detected\n",
            "Setting channel info structure...\n",
            "Creating raw.info structure...\n",
            "Reading 0 ... 9759  =      0.000 ...    60.994 secs...\n",
            "Extracting EDF parameters from /root/mne_data/MNE-eegbci-data/physiobank/database/eegmmidb/S001/S001R02.edf...\n",
            "EDF file detected\n",
            "Setting channel info structure...\n",
            "Creating raw.info structure...\n",
            "Reading 0 ... 9759  =      0.000 ...    60.994 secs...\n",
            "Extracting EDF parameters from /root/mne_data/MNE-eegbci-data/physiobank/database/eegmmidb/S002/S002R01.edf...\n",
            "EDF file detected\n",
            "Setting channel info structure...\n",
            "Creating raw.info structure...\n",
            "Reading 0 ... 9759  =      0.000 ...    60.994 secs...\n",
            "Extracting EDF parameters from /root/mne_data/MNE-eegbci-data/physiobank/database/eegmmidb/S002/S002R02.edf...\n",
            "EDF file detected\n",
            "Setting channel info structure...\n",
            "Creating raw.info structure...\n",
            "Reading 0 ... 9759  =      0.000 ...    60.994 secs...\n",
            "Extracting EDF parameters from /root/mne_data/MNE-eegbci-data/physiobank/database/eegmmidb/S003/S003R01.edf...\n",
            "EDF file detected\n",
            "Setting channel info structure...\n",
            "Creating raw.info structure...\n",
            "Reading 0 ... 9759  =      0.000 ...    60.994 secs...\n",
            "Extracting EDF parameters from /root/mne_data/MNE-eegbci-data/physiobank/database/eegmmidb/S003/S003R02.edf...\n",
            "EDF file detected\n",
            "Setting channel info structure...\n",
            "Creating raw.info structure...\n",
            "Reading 0 ... 9759  =      0.000 ...    60.994 secs...\n",
            "Extracting EDF parameters from /root/mne_data/MNE-eegbci-data/physiobank/database/eegmmidb/S004/S004R01.edf...\n",
            "EDF file detected\n",
            "Setting channel info structure...\n",
            "Creating raw.info structure...\n",
            "Reading 0 ... 9759  =      0.000 ...    60.994 secs...\n",
            "Extracting EDF parameters from /root/mne_data/MNE-eegbci-data/physiobank/database/eegmmidb/S004/S004R02.edf...\n",
            "EDF file detected\n",
            "Setting channel info structure...\n",
            "Creating raw.info structure...\n",
            "Reading 0 ... 9759  =      0.000 ...    60.994 secs...\n",
            "Extracting EDF parameters from /root/mne_data/MNE-eegbci-data/physiobank/database/eegmmidb/S005/S005R01.edf...\n",
            "EDF file detected\n",
            "Setting channel info structure...\n",
            "Creating raw.info structure...\n",
            "Reading 0 ... 9759  =      0.000 ...    60.994 secs...\n",
            "Extracting EDF parameters from /root/mne_data/MNE-eegbci-data/physiobank/database/eegmmidb/S005/S005R02.edf...\n",
            "EDF file detected\n",
            "Setting channel info structure...\n",
            "Creating raw.info structure...\n",
            "Reading 0 ... 9759  =      0.000 ...    60.994 secs...\n",
            "Extracting EDF parameters from /root/mne_data/MNE-eegbci-data/physiobank/database/eegmmidb/S006/S006R01.edf...\n",
            "EDF file detected\n",
            "Setting channel info structure...\n",
            "Creating raw.info structure...\n",
            "Reading 0 ... 9759  =      0.000 ...    60.994 secs...\n",
            "Extracting EDF parameters from /root/mne_data/MNE-eegbci-data/physiobank/database/eegmmidb/S006/S006R02.edf...\n",
            "EDF file detected\n",
            "Setting channel info structure...\n",
            "Creating raw.info structure...\n",
            "Reading 0 ... 9759  =      0.000 ...    60.994 secs...\n",
            "Extracting EDF parameters from /root/mne_data/MNE-eegbci-data/physiobank/database/eegmmidb/S007/S007R01.edf...\n",
            "EDF file detected\n",
            "Setting channel info structure...\n",
            "Creating raw.info structure...\n",
            "Reading 0 ... 9759  =      0.000 ...    60.994 secs...\n",
            "Extracting EDF parameters from /root/mne_data/MNE-eegbci-data/physiobank/database/eegmmidb/S007/S007R02.edf...\n",
            "EDF file detected\n",
            "Setting channel info structure...\n",
            "Creating raw.info structure...\n",
            "Reading 0 ... 9759  =      0.000 ...    60.994 secs...\n",
            "Extracting EDF parameters from /root/mne_data/MNE-eegbci-data/physiobank/database/eegmmidb/S008/S008R01.edf...\n",
            "EDF file detected\n",
            "Setting channel info structure...\n",
            "Creating raw.info structure...\n",
            "Reading 0 ... 9759  =      0.000 ...    60.994 secs...\n",
            "Extracting EDF parameters from /root/mne_data/MNE-eegbci-data/physiobank/database/eegmmidb/S008/S008R02.edf...\n",
            "EDF file detected\n",
            "Setting channel info structure...\n",
            "Creating raw.info structure...\n",
            "Reading 0 ... 9759  =      0.000 ...    60.994 secs...\n",
            "Extracting EDF parameters from /root/mne_data/MNE-eegbci-data/physiobank/database/eegmmidb/S009/S009R01.edf...\n",
            "EDF file detected\n",
            "Setting channel info structure...\n",
            "Creating raw.info structure...\n",
            "Reading 0 ... 9759  =      0.000 ...    60.994 secs...\n",
            "Extracting EDF parameters from /root/mne_data/MNE-eegbci-data/physiobank/database/eegmmidb/S009/S009R02.edf...\n",
            "EDF file detected\n",
            "Setting channel info structure...\n",
            "Creating raw.info structure...\n",
            "Reading 0 ... 9759  =      0.000 ...    60.994 secs...\n",
            "Extracting EDF parameters from /root/mne_data/MNE-eegbci-data/physiobank/database/eegmmidb/S010/S010R01.edf...\n",
            "EDF file detected\n",
            "Setting channel info structure...\n",
            "Creating raw.info structure...\n",
            "Reading 0 ... 9759  =      0.000 ...    60.994 secs...\n",
            "Extracting EDF parameters from /root/mne_data/MNE-eegbci-data/physiobank/database/eegmmidb/S010/S010R02.edf...\n",
            "EDF file detected\n",
            "Setting channel info structure...\n",
            "Creating raw.info structure...\n",
            "Reading 0 ... 9759  =      0.000 ...    60.994 secs...\n",
            "Extracting EDF parameters from /root/mne_data/MNE-eegbci-data/physiobank/database/eegmmidb/S011/S011R01.edf...\n",
            "EDF file detected\n",
            "Setting channel info structure...\n",
            "Creating raw.info structure...\n",
            "Reading 0 ... 9759  =      0.000 ...    60.994 secs...\n",
            "Extracting EDF parameters from /root/mne_data/MNE-eegbci-data/physiobank/database/eegmmidb/S011/S011R02.edf...\n",
            "EDF file detected\n",
            "Setting channel info structure...\n",
            "Creating raw.info structure...\n",
            "Reading 0 ... 9759  =      0.000 ...    60.994 secs...\n",
            "Extracting EDF parameters from /root/mne_data/MNE-eegbci-data/physiobank/database/eegmmidb/S012/S012R01.edf...\n",
            "EDF file detected\n",
            "Setting channel info structure...\n",
            "Creating raw.info structure...\n",
            "Reading 0 ... 9759  =      0.000 ...    60.994 secs...\n",
            "Extracting EDF parameters from /root/mne_data/MNE-eegbci-data/physiobank/database/eegmmidb/S012/S012R02.edf...\n",
            "EDF file detected\n",
            "Setting channel info structure...\n",
            "Creating raw.info structure...\n",
            "Reading 0 ... 9759  =      0.000 ...    60.994 secs...\n",
            "Extracting EDF parameters from /root/mne_data/MNE-eegbci-data/physiobank/database/eegmmidb/S013/S013R01.edf...\n",
            "EDF file detected\n",
            "Setting channel info structure...\n",
            "Creating raw.info structure...\n",
            "Reading 0 ... 9759  =      0.000 ...    60.994 secs...\n",
            "Extracting EDF parameters from /root/mne_data/MNE-eegbci-data/physiobank/database/eegmmidb/S013/S013R02.edf...\n",
            "EDF file detected\n",
            "Setting channel info structure...\n",
            "Creating raw.info structure...\n",
            "Reading 0 ... 9759  =      0.000 ...    60.994 secs...\n",
            "Extracting EDF parameters from /root/mne_data/MNE-eegbci-data/physiobank/database/eegmmidb/S014/S014R01.edf...\n",
            "EDF file detected\n",
            "Setting channel info structure...\n",
            "Creating raw.info structure...\n",
            "Reading 0 ... 9599  =      0.000 ...    59.994 secs...\n",
            "Extracting EDF parameters from /root/mne_data/MNE-eegbci-data/physiobank/database/eegmmidb/S014/S014R02.edf...\n",
            "EDF file detected\n",
            "Setting channel info structure...\n",
            "Creating raw.info structure...\n",
            "Reading 0 ... 9759  =      0.000 ...    60.994 secs...\n",
            "Extracting EDF parameters from /root/mne_data/MNE-eegbci-data/physiobank/database/eegmmidb/S015/S015R01.edf...\n",
            "EDF file detected\n",
            "Setting channel info structure...\n",
            "Creating raw.info structure...\n",
            "Reading 0 ... 9759  =      0.000 ...    60.994 secs...\n",
            "Extracting EDF parameters from /root/mne_data/MNE-eegbci-data/physiobank/database/eegmmidb/S015/S015R02.edf...\n",
            "EDF file detected\n",
            "Setting channel info structure...\n",
            "Creating raw.info structure...\n",
            "Reading 0 ... 9759  =      0.000 ...    60.994 secs...\n",
            "Extracting EDF parameters from /root/mne_data/MNE-eegbci-data/physiobank/database/eegmmidb/S016/S016R01.edf...\n",
            "EDF file detected\n",
            "Setting channel info structure...\n",
            "Creating raw.info structure...\n",
            "Reading 0 ... 9759  =      0.000 ...    60.994 secs...\n",
            "Extracting EDF parameters from /root/mne_data/MNE-eegbci-data/physiobank/database/eegmmidb/S016/S016R02.edf...\n",
            "EDF file detected\n",
            "Setting channel info structure...\n",
            "Creating raw.info structure...\n",
            "Reading 0 ... 9759  =      0.000 ...    60.994 secs...\n",
            "Extracting EDF parameters from /root/mne_data/MNE-eegbci-data/physiobank/database/eegmmidb/S017/S017R01.edf...\n",
            "EDF file detected\n",
            "Setting channel info structure...\n",
            "Creating raw.info structure...\n",
            "Reading 0 ... 9759  =      0.000 ...    60.994 secs...\n",
            "Extracting EDF parameters from /root/mne_data/MNE-eegbci-data/physiobank/database/eegmmidb/S017/S017R02.edf...\n",
            "EDF file detected\n",
            "Setting channel info structure...\n",
            "Creating raw.info structure...\n",
            "Reading 0 ... 9759  =      0.000 ...    60.994 secs...\n",
            "Extracting EDF parameters from /root/mne_data/MNE-eegbci-data/physiobank/database/eegmmidb/S018/S018R01.edf...\n",
            "EDF file detected\n",
            "Setting channel info structure...\n",
            "Creating raw.info structure...\n",
            "Reading 0 ... 9759  =      0.000 ...    60.994 secs...\n",
            "Extracting EDF parameters from /root/mne_data/MNE-eegbci-data/physiobank/database/eegmmidb/S018/S018R02.edf...\n",
            "EDF file detected\n",
            "Setting channel info structure...\n",
            "Creating raw.info structure...\n",
            "Reading 0 ... 9759  =      0.000 ...    60.994 secs...\n",
            "Extracting EDF parameters from /root/mne_data/MNE-eegbci-data/physiobank/database/eegmmidb/S019/S019R01.edf...\n",
            "EDF file detected\n",
            "Setting channel info structure...\n",
            "Creating raw.info structure...\n",
            "Reading 0 ... 9759  =      0.000 ...    60.994 secs...\n",
            "Extracting EDF parameters from /root/mne_data/MNE-eegbci-data/physiobank/database/eegmmidb/S019/S019R02.edf...\n",
            "EDF file detected\n",
            "Setting channel info structure...\n",
            "Creating raw.info structure...\n",
            "Reading 0 ... 9759  =      0.000 ...    60.994 secs...\n",
            "Extracting EDF parameters from /root/mne_data/MNE-eegbci-data/physiobank/database/eegmmidb/S020/S020R01.edf...\n",
            "EDF file detected\n",
            "Setting channel info structure...\n",
            "Creating raw.info structure...\n",
            "Reading 0 ... 9759  =      0.000 ...    60.994 secs...\n",
            "Extracting EDF parameters from /root/mne_data/MNE-eegbci-data/physiobank/database/eegmmidb/S020/S020R02.edf...\n",
            "EDF file detected\n",
            "Setting channel info structure...\n",
            "Creating raw.info structure...\n",
            "Reading 0 ... 9759  =      0.000 ...    60.994 secs...\n"
          ],
          "name": "stdout"
        }
      ]
    },
    {
      "cell_type": "code",
      "metadata": {
        "colab_type": "code",
        "id": "lltZvYULvrvA",
        "outputId": "93e6ec41-c7ac-4259-997c-f5b21ec7ca6c",
        "colab": {
          "base_uri": "https://localhost:8080/",
          "height": 68
        }
      },
      "source": [
        "# img for each subject\n",
        "subject_img_number = math.floor((total_sampel_number - sampel_number_per_sec) / sample_shift) +1 - window_len +1\n",
        "test_start_index=subject_img_number - math.floor(subject_img_number/4) \n",
        "\n",
        "train_number =  test_start_index \n",
        "test_number = subject_img_number - test_start_index\n",
        "print(\"Train sample:\",train_number)\n",
        "print(\"Test sample:\",test_number)\n",
        "\n",
        "ch_number = len(list_channel)\n",
        "\n",
        "train_img = np.zeros((train_number*subject_number, ch_number, window_len + 1, 160), dtype = float)\n",
        "train_label =[]\n",
        "\n",
        "test_img = np.zeros((test_number*subject_number, ch_number, window_len, 160), dtype = float)\n",
        "test_label =[]\n",
        "\n",
        "print(\"train image dims:\",train_img.shape)"
      ],
      "execution_count": 5,
      "outputs": [
        {
          "output_type": "stream",
          "text": [
            "Train sample: 1757\n",
            "Test sample: 585\n",
            "train image dims: (35140, 2, 21, 160)\n"
          ],
          "name": "stdout"
        }
      ]
    },
    {
      "cell_type": "code",
      "metadata": {
        "colab_type": "code",
        "id": "2NuDhT0Y1Fqa",
        "colab": {}
      },
      "source": [
        "def normalize_channel_data(ch , i, ch_min, ch_max):\n",
        "  ch = ((ch - ch_min[i]) / (ch_max[i] - ch_min[i] ))\n",
        "  return ch\n",
        "\n",
        "def ProjectionVector(VecA,VecB):\n",
        "    Projeted_VecB_on_VecA=np.dot(VecA,VecB)/np.dot(VecA,VecA)*VecA\n",
        "    return Projeted_VecB_on_VecA"
      ],
      "execution_count": 0,
      "outputs": []
    },
    {
      "cell_type": "code",
      "metadata": {
        "colab_type": "code",
        "id": "MesamNSb1IGo",
        "colab": {}
      },
      "source": [
        "# Make a copy of main data\n",
        "list_rawdataTemp=list_rawdata.copy()\n",
        "\n",
        "for s in range(subject_number):\n",
        "    \n",
        "    DataChannelsRaw, times =list_rawdataTemp[s][0][:64,:9600]\n",
        "    \n",
        "    # find min/max per channel\n",
        "    ch_max =[]\n",
        "    ch_min =[]\n",
        "    for ch in list_channel:\n",
        "      #print(ch)  \n",
        "      ch_max = np.append(ch_max, max(DataChannelsRaw[ch])) # max for each cannel\n",
        "      ch_min = np.append(ch_min, min(DataChannelsRaw[ch])) # min for each cannel\n",
        "    \n",
        "    # Normalize Channels\n",
        "    DataChannelsNormal=np.zeros((len(list_channel),times.size),dtype = float)\n",
        "    for i in range(len(list_channel)):\n",
        "        #print(i)\n",
        "        DataChannelsNormal[i]=normalize_channel_data(DataChannelsRaw[list_channel[i]].copy(), i, ch_min, ch_max)\n",
        "    \n",
        "    # Orthogonal Second Channel\n",
        "    DataChannelsOrt=np.zeros((len(list_channel),times.size),dtype = float)\n",
        "    DataChannelsOrt[0]=DataChannelsNormal[0]\n",
        "    DataChannelsOrt[1]=DataChannelsNormal[1]-ProjectionVector(DataChannelsNormal[0],DataChannelsNormal[1])\n",
        "    \n",
        "    for j in range (subject_img_number):\n",
        "        for i in range(len(list_channel)): # فقط کانال های با اندیس مشخص را دربرمیگیرد\n",
        "            for z in range (window_len):\n",
        "                #rawdataChannels, times =list_rawdata[s][0][index, (j+z)*sample_shift:sampel_number_per_sec+(j+z)*sample_shift]\n",
        "                ExtractedData=DataChannelsOrt[i,0+(j+z)*sample_shift:sampel_number_per_sec+(j+z)*sample_shift]\n",
        "\n",
        "\n",
        "                # normalize method\n",
        "                #rawdataChannels = normalize_channel_data(rawdataChannels, i, ch_min, ch_max)\n",
        "                if j <test_start_index :\n",
        "                    train_img[s*train_number + j][i][z] = ExtractedData\n",
        "                    if z==window_len-1 :\n",
        "                        train_img[s*train_number + j][i][z+1] = s\n",
        "                      \n",
        "                      \n",
        "                else:\n",
        "                     test_img[s*test_number + j - test_start_index][i][z] = ExtractedData\n",
        "            #i+=1            \n",
        "                    \n",
        "              \n",
        "        if j >=test_start_index :\n",
        "            test_label = np.append(test_label, (s))"
      ],
      "execution_count": 0,
      "outputs": []
    },
    {
      "cell_type": "code",
      "metadata": {
        "id": "D3lX8LRDuZ2W",
        "colab_type": "code",
        "colab": {}
      },
      "source": [
        "\n",
        "# # Make a copy of main data\n",
        "# list_rawdataTemp=list_rawdata.copy()\n",
        "\n",
        "# for s in range(subject_number):\n",
        "    \n",
        "#     # find min/max per channel\n",
        "#     ch_max =[]\n",
        "#     ch_min =[]\n",
        "#     for ch in list_channel:\n",
        "#       rawdataChannels_t, times_t =list_rawdataTemp[s][0][ch,:9600]\n",
        "#       #print(rawdataChannels_t)\n",
        "#       ch_max = np.append(ch_max, max(rawdataChannels_t[0])) # max for each cannel\n",
        "#       ch_min = np.append(ch_min, min(rawdataChannels_t[0])) # min for each cannel\n",
        "    \n",
        "#     # Normalize Channels\n",
        "#     DataChannelsNormal=np.zeros((len(list_channel),times.size),dtype = float)\n",
        "#     for i in range(len(list_channel)):\n",
        "#         DataChannelsNormal[i]=normalize_channel_data(DataChannelsRaw_t[i], i, ch_min, ch_max)\n",
        "    \n",
        "    \n",
        "#     for j in range (subject_img_number):\n",
        "#         i = 0\n",
        "#         for index in list_channel: # فقط کانال های با اندیس مشخص را دربرمیگیرد\n",
        "            \n",
        "#             for z in range (window_len):\n",
        "#                 rawdataChannels, times =list_rawdata[s][0][index, (j+z)*sample_shift:sampel_number_per_sec+(j+z)*sample_shift]\n",
        "\n",
        "#                       # normalize method\n",
        "#                 rawdataChannels = normalize_channel_data(rawdataChannels, i, ch_min, ch_max)\n",
        "#                 if j <test_start_index :\n",
        "#                     train_img[s*train_number + j][i][z] = rawdataChannels\n",
        "#                     if z==window_len-1 :\n",
        "#                       train_img[s*train_number + j][i][z+1] = s\n",
        "                      \n",
        "                      \n",
        "#                 else:\n",
        "#                     test_img[s*test_number + j - test_start_index][i][z] = rawdataChannels\n",
        "#             i+=1            \n",
        "                    \n",
        "              \n",
        "#         if j >=test_start_index :\n",
        "#           test_label = np.append(test_label, (s))"
      ],
      "execution_count": 0,
      "outputs": []
    },
    {
      "cell_type": "code",
      "metadata": {
        "colab_type": "code",
        "id": "FRJrmQA61TUI",
        "colab": {}
      },
      "source": [
        "#shuffle train img array\n",
        "train_img_shuffle = train_img.copy()\n",
        "\n",
        "np.random.shuffle(train_img_shuffle)\n",
        "\n",
        "\n",
        "train_img_2 = np.zeros((train_number*subject_number, ch_number, window_len, 160), dtype = float)\n",
        "\n",
        "# img label \n",
        "train_img_shuffle_len =len(train_img_shuffle)\n",
        "for i in range(train_img_shuffle_len):\n",
        "    train_label = np.append(train_label, (train_img_shuffle[i][0][window_len][0] ))\n",
        "    for j in range (ch_number):\n",
        "        train_img_2[i][j] = np.delete(train_img_shuffle[i][j], window_len, axis=0)"
      ],
      "execution_count": 0,
      "outputs": []
    },
    {
      "cell_type": "code",
      "metadata": {
        "colab_type": "code",
        "id": "3aY39Gq91gkv",
        "outputId": "c595ae8b-8d2e-4ec3-9cd4-cfc2c52df1e9",
        "colab": {
          "base_uri": "https://localhost:8080/",
          "height": 479
        }
      },
      "source": [
        "# Create Model\n",
        "from keras import layers\n",
        "from keras import models\n",
        "from keras import regularizers\n",
        "from keras.utils import to_categorical\n",
        "from keras import optimizers\n",
        "\n",
        "train_label = to_categorical(train_label, subject_number)\n",
        "test_label = to_categorical(test_label, subject_number)\n",
        "\n",
        "x_train =train_img_2[:20000]\n",
        "y_train =train_label[:20000]\n",
        "\n",
        "x_valid =train_img_2[20000:]\n",
        "y_valid =train_label[20000:]\n",
        "\n",
        "\n",
        "model = models.Sequential()\n",
        "model.add(layers.Conv2D(64, (3,3), activation = 'relu', padding='same', input_shape = (ch_number,window_len,160), data_format= \"channels_first\" ))\n",
        "print(model.output.shape)\n",
        "model.add(layers.MaxPooling2D((2,2)))\n",
        "print(model.output.shape)\n",
        "model.add(layers.Conv2D(128, (3,3), activation = 'relu'))\n",
        "print(model.output.shape)\n",
        "model.add(layers.MaxPooling2D((2,2)))\n",
        "print(model.output.shape)\n",
        "model.add(layers.Conv2D(256, (3,3), activation = 'relu'))\n",
        "print(model.output.shape)\n",
        "model.add(layers.MaxPooling2D((2,2)))\n",
        "\n",
        "\n",
        "model.add(layers.Flatten())\n",
        "print(model.output.shape)\n",
        "model.add(layers.Dense(512, activation = 'relu'))\n",
        "model.add(layers.Dropout(0.5))\n",
        "print(model.output.shape)\n",
        "model.add(layers.Dense(subject_number, activation = 'softmax'))\n",
        "print(model.output.shape)\n",
        "\n",
        "model.compile(loss= 'categorical_crossentropy',\n",
        "              optimizer= optimizers.RMSprop(lr= 1e-4),\n",
        "              metrics = ['acc'])"
      ],
      "execution_count": 10,
      "outputs": [
        {
          "output_type": "stream",
          "text": [
            "Using TensorFlow backend.\n"
          ],
          "name": "stderr"
        },
        {
          "output_type": "stream",
          "text": [
            "WARNING:tensorflow:From /usr/local/lib/python3.6/dist-packages/keras/backend/tensorflow_backend.py:66: The name tf.get_default_graph is deprecated. Please use tf.compat.v1.get_default_graph instead.\n",
            "\n",
            "WARNING:tensorflow:From /usr/local/lib/python3.6/dist-packages/keras/backend/tensorflow_backend.py:541: The name tf.placeholder is deprecated. Please use tf.compat.v1.placeholder instead.\n",
            "\n",
            "WARNING:tensorflow:From /usr/local/lib/python3.6/dist-packages/keras/backend/tensorflow_backend.py:4432: The name tf.random_uniform is deprecated. Please use tf.random.uniform instead.\n",
            "\n",
            "WARNING:tensorflow:From /usr/local/lib/python3.6/dist-packages/keras/backend/tensorflow_backend.py:190: The name tf.get_default_session is deprecated. Please use tf.compat.v1.get_default_session instead.\n",
            "\n",
            "WARNING:tensorflow:From /usr/local/lib/python3.6/dist-packages/keras/backend/tensorflow_backend.py:197: The name tf.ConfigProto is deprecated. Please use tf.compat.v1.ConfigProto instead.\n",
            "\n",
            "(?, 64, 20, 160)\n",
            "WARNING:tensorflow:From /usr/local/lib/python3.6/dist-packages/keras/backend/tensorflow_backend.py:4267: The name tf.nn.max_pool is deprecated. Please use tf.nn.max_pool2d instead.\n",
            "\n",
            "(?, 32, 10, 160)\n",
            "(?, 30, 8, 128)\n",
            "(?, 15, 4, 128)\n",
            "(?, 13, 2, 256)\n",
            "(?, ?)\n",
            "WARNING:tensorflow:From /usr/local/lib/python3.6/dist-packages/keras/backend/tensorflow_backend.py:3733: calling dropout (from tensorflow.python.ops.nn_ops) with keep_prob is deprecated and will be removed in a future version.\n",
            "Instructions for updating:\n",
            "Please use `rate` instead of `keep_prob`. Rate should be set to `rate = 1 - keep_prob`.\n",
            "(?, 512)\n",
            "(?, 20)\n",
            "WARNING:tensorflow:From /usr/local/lib/python3.6/dist-packages/keras/optimizers.py:793: The name tf.train.Optimizer is deprecated. Please use tf.compat.v1.train.Optimizer instead.\n",
            "\n"
          ],
          "name": "stdout"
        }
      ]
    },
    {
      "cell_type": "code",
      "metadata": {
        "colab_type": "code",
        "id": "ROHnPvn91jAl",
        "colab": {
          "base_uri": "https://localhost:8080/",
          "height": 785
        },
        "outputId": "0be05e27-5790-469b-b4e8-db5335d6e1c8"
      },
      "source": [
        "# Training\n",
        "history = model.fit(\n",
        "        x_train,\n",
        "        y_train,\n",
        "        epochs = 20,\n",
        "        batch_size = 20,\n",
        "        validation_data = (x_valid, y_valid)\n",
        ")"
      ],
      "execution_count": 11,
      "outputs": [
        {
          "output_type": "stream",
          "text": [
            "WARNING:tensorflow:From /usr/local/lib/python3.6/dist-packages/tensorflow/python/ops/math_grad.py:1250: add_dispatch_support.<locals>.wrapper (from tensorflow.python.ops.array_ops) is deprecated and will be removed in a future version.\n",
            "Instructions for updating:\n",
            "Use tf.where in 2.0, which has the same broadcast rule as np.where\n",
            "Train on 20000 samples, validate on 15140 samples\n",
            "Epoch 1/20\n",
            "20000/20000 [==============================] - 14s 696us/step - loss: 2.2889 - acc: 0.2739 - val_loss: 1.3485 - val_acc: 0.6163\n",
            "Epoch 2/20\n",
            "20000/20000 [==============================] - 10s 485us/step - loss: 1.1737 - acc: 0.5993 - val_loss: 0.7645 - val_acc: 0.7410\n",
            "Epoch 3/20\n",
            "20000/20000 [==============================] - 10s 492us/step - loss: 0.7406 - acc: 0.7422 - val_loss: 0.4652 - val_acc: 0.8499\n",
            "Epoch 4/20\n",
            "20000/20000 [==============================] - 10s 499us/step - loss: 0.4910 - acc: 0.8308 - val_loss: 0.3197 - val_acc: 0.8892\n",
            "Epoch 5/20\n",
            "20000/20000 [==============================] - 10s 494us/step - loss: 0.3523 - acc: 0.8781 - val_loss: 0.2228 - val_acc: 0.9278\n",
            "Epoch 6/20\n",
            "20000/20000 [==============================] - 10s 489us/step - loss: 0.2694 - acc: 0.9046 - val_loss: 0.1447 - val_acc: 0.9524\n",
            "Epoch 7/20\n",
            "20000/20000 [==============================] - 10s 490us/step - loss: 0.2119 - acc: 0.9263 - val_loss: 0.1086 - val_acc: 0.9615\n",
            "Epoch 8/20\n",
            "20000/20000 [==============================] - 10s 493us/step - loss: 0.1731 - acc: 0.9376 - val_loss: 0.0839 - val_acc: 0.9728\n",
            "Epoch 9/20\n",
            "20000/20000 [==============================] - 10s 489us/step - loss: 0.1409 - acc: 0.9495 - val_loss: 0.0853 - val_acc: 0.9719\n",
            "Epoch 10/20\n",
            "20000/20000 [==============================] - 10s 487us/step - loss: 0.1186 - acc: 0.9577 - val_loss: 0.0432 - val_acc: 0.9904\n",
            "Epoch 11/20\n",
            "20000/20000 [==============================] - 10s 492us/step - loss: 0.1029 - acc: 0.9654 - val_loss: 0.0850 - val_acc: 0.9657\n",
            "Epoch 12/20\n",
            "20000/20000 [==============================] - 10s 493us/step - loss: 0.0890 - acc: 0.9689 - val_loss: 0.0309 - val_acc: 0.9904\n",
            "Epoch 13/20\n",
            "20000/20000 [==============================] - 10s 489us/step - loss: 0.0787 - acc: 0.9719 - val_loss: 0.0350 - val_acc: 0.9883\n",
            "Epoch 14/20\n",
            "20000/20000 [==============================] - 10s 490us/step - loss: 0.0705 - acc: 0.9754 - val_loss: 0.0424 - val_acc: 0.9845\n",
            "Epoch 15/20\n",
            "20000/20000 [==============================] - 10s 487us/step - loss: 0.0614 - acc: 0.9791 - val_loss: 0.0240 - val_acc: 0.9903\n",
            "Epoch 16/20\n",
            "20000/20000 [==============================] - 10s 488us/step - loss: 0.0575 - acc: 0.9803 - val_loss: 0.0237 - val_acc: 0.9915\n",
            "Epoch 17/20\n",
            "20000/20000 [==============================] - 10s 489us/step - loss: 0.0526 - acc: 0.9819 - val_loss: 0.0118 - val_acc: 0.9973\n",
            "Epoch 18/20\n",
            "20000/20000 [==============================] - 10s 490us/step - loss: 0.0473 - acc: 0.9840 - val_loss: 0.0219 - val_acc: 0.9908\n",
            "Epoch 19/20\n",
            "20000/20000 [==============================] - 10s 491us/step - loss: 0.0447 - acc: 0.9858 - val_loss: 0.0355 - val_acc: 0.9869\n",
            "Epoch 20/20\n",
            "20000/20000 [==============================] - 10s 489us/step - loss: 0.0405 - acc: 0.9863 - val_loss: 0.0057 - val_acc: 0.9991\n"
          ],
          "name": "stdout"
        }
      ]
    },
    {
      "cell_type": "code",
      "metadata": {
        "colab_type": "code",
        "id": "5i7PMlbT96iD",
        "outputId": "0ba40bfa-61c2-4ece-f3ef-b131e417a6b6",
        "colab": {
          "base_uri": "https://localhost:8080/",
          "height": 51
        }
      },
      "source": [
        "model.evaluate(test_img, test_label)\n"
      ],
      "execution_count": 12,
      "outputs": [
        {
          "output_type": "stream",
          "text": [
            "11700/11700 [==============================] - 1s 125us/step\n"
          ],
          "name": "stdout"
        },
        {
          "output_type": "execute_result",
          "data": {
            "text/plain": [
              "[0.34547223838633, 0.9208547008547009]"
            ]
          },
          "metadata": {
            "tags": []
          },
          "execution_count": 12
        }
      ]
    },
    {
      "cell_type": "code",
      "metadata": {
        "colab_type": "code",
        "id": "QPJdvMzB1o74",
        "outputId": "400b6413-95b9-41e6-a9d5-7a8e3160d971",
        "colab": {
          "base_uri": "https://localhost:8080/",
          "height": 295
        }
      },
      "source": [
        "import matplotlib.pyplot as plt\n",
        "\n",
        "history_dict = history.history \n",
        "\n",
        "loss_values = history_dict ['loss'] \n",
        "\n",
        "val_loss_values = history_dict['val_loss']\n",
        "\n",
        "epochs = range(1, len(loss_values) + 1)\n",
        "\n",
        "\n",
        "\n",
        "plt.plot(epochs, loss_values, 'bo', label='Training loss') \n",
        "\n",
        "plt.plot(epochs, val_loss_values, 'b', label='Validation loss') \n",
        "\n",
        "plt.title('Training and validation loss') \n",
        "\n",
        "plt.xlabel('Epochs') \n",
        "\n",
        "plt.ylabel('Loss') \n",
        "\n",
        "plt.legend()\n",
        "\n",
        "plt.show()"
      ],
      "execution_count": 13,
      "outputs": [
        {
          "output_type": "display_data",
          "data": {
            "image/png": "[encoded data removed]",
            "text/plain": [
              "<Figure size 432x288 with 1 Axes>"
            ]
          },
          "metadata": {
            "tags": []
          }
        }
      ]
    },
    {
      "cell_type": "code",
      "metadata": {
        "colab_type": "code",
        "id": "Es1vGaRAPI-y",
        "outputId": "438c0116-ffa6-4174-fa6f-6b052cc51fdc",
        "colab": {
          "base_uri": "https://localhost:8080/",
          "height": 295
        }
      },
      "source": [
        "history_dict = history.history \n",
        "\n",
        "acc_values = history_dict ['acc'] \n",
        "\n",
        "val_acc_values = history_dict['val_acc']\n",
        "\n",
        "\n",
        "\n",
        "plt.plot(epochs, acc_values, 'bo', label='Training acc') \n",
        "\n",
        "plt.plot(epochs, val_acc_values, 'b', label='Validation acc') \n",
        "\n",
        "plt.title('Training and validation acc') \n",
        "\n",
        "plt.xlabel('Epochs') \n",
        "\n",
        "plt.ylabel('acc') \n",
        "\n",
        "plt.legend()\n",
        "\n",
        "plt.show()"
      ],
      "execution_count": 14,
      "outputs": [
        {
          "output_type": "display_data",
          "data": {
            "image/png": "[encoded data removed]",
            "text/plain": [
              "<Figure size 432x288 with 1 Axes>"
            ]
          },
          "metadata": {
            "tags": []
          }
        }
      ]
    },
    {
      "cell_type": "code",
      "metadata": {
        "colab_type": "code",
        "id": "hyFYHNEVPL2M",
        "colab": {}
      },
      "source": [
        ""
      ],
      "execution_count": 0,
      "outputs": []
    }
  ]
}
