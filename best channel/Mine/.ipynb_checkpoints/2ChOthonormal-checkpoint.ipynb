{
 "cells": [
  {
   "cell_type": "markdown",
   "metadata": {
    "colab_type": "text",
    "id": "view-in-github"
   },
   "source": [
    "<a href=\"https://colab.research.google.com/github/HJBJalaly/DLeeg/blob/master/best%20channel/Mine/2ChOthonormal.ipynb\" target=\"_parent\"><img src=\"https://colab.research.google.com/assets/colab-badge.svg\" alt=\"Open In Colab\"/></a>"
   ]
  },
  {
   "cell_type": "code",
   "execution_count": 1,
   "metadata": {
    "colab": {
     "base_uri": "https://localhost:8080/",
     "height": 68
    },
    "colab_type": "code",
    "id": "v_9QlgWXuZ2E",
    "outputId": "9b6e3741-aa00-4447-df34-f3f3ed3a80dd"
   },
   "outputs": [
    {
     "name": "stdout",
     "output_type": "stream",
     "text": [
      "Requirement already satisfied: mne in /usr/local/lib/python3.6/dist-packages (0.18.2)\n",
      "Requirement already satisfied: numpy>=1.11.3 in /usr/local/lib/python3.6/dist-packages (from mne) (1.16.5)\n",
      "Requirement already satisfied: scipy>=0.17.1 in /usr/local/lib/python3.6/dist-packages (from mne) (1.3.1)\n"
     ]
    }
   ],
   "source": [
    "!pip install mne"
   ]
  },
  {
   "cell_type": "code",
   "execution_count": 2,
   "metadata": {
    "colab": {
     "base_uri": "https://localhost:8080/",
     "height": 204
    },
    "colab_type": "code",
    "id": "ugNHdREkvO6h",
    "outputId": "b85e7408-219c-417b-fb4f-f5b650b65ab1"
   },
   "outputs": [
    {
     "name": "stdout",
     "output_type": "stream",
     "text": [
      "\n",
      "2 channel :  Cz (index =10), Oz (index =61),\n",
      "\n",
      "layers: 3 conv2D(3,3) & maxpooling(2,2)\n",
      "epoch: 20 \n",
      "batch size: 20\n",
      "\n",
      "test acc: 0.7886\n",
      "test loss: 0.6802\n",
      "\n",
      "\n"
     ]
    }
   ],
   "source": [
    "'''\n",
    "2 channel :  Cz (index =10), Oz (index =61),\n",
    "\n",
    "layers: 3 conv2D(3,3) & maxpooling(2,2)\n",
    "epoch: 20 \n",
    "batch size: 20\n",
    "\n",
    "test acc: 0.7886\n",
    "test loss: 0.6802\n",
    "\n",
    "'''\n",
    "\n",
    "\n",
    "import matplotlib\n",
    "from matplotlib import pyplot as plt\n",
    "import numpy as np\n",
    "\n",
    "\n",
    "import math\n",
    "import random\n",
    "import mne\n",
    "from mne.preprocessing import create_ecg_epochs, create_eog_epochs\n",
    "from mne import io\n",
    "from mne import viz\n",
    "#from mne.datasets import testing\n",
    "from mne import Epochs, io, pick_types\n",
    "from mne.event import define_target_events\n",
    "from mne.time_frequency import psd_welch\n",
    "print(__doc__)"
   ]
  },
  {
   "cell_type": "code",
   "execution_count": 0,
   "metadata": {
    "colab": {},
    "colab_type": "code",
    "id": "HtvZeqTcuZ2M"
   },
   "outputs": [],
   "source": [
    "# Parameters:\n",
    "subject_number=20\n",
    "task_number=1\n",
    "task_time = 60\n",
    "sampel_number_per_sec =  160 # sampel rate\n",
    "total_sampel_number =  sampel_number_per_sec *task_time # 60*160\n",
    "sample_shift = 4 #step len\n",
    "window_len= 20\n",
    "list_channel = [10,61] # channel = Cz, Oz\n",
    "\n",
    "# Channel Indexes:\n",
    "#   Fp1,21\n",
    "#   Fp2,23\n",
    "#   F7,29\n",
    "#   F3,31\n",
    "#   Fz,33\n",
    "#   F4,35\n",
    "#   F8,36\n",
    "#   T7,40\n",
    "#   C3,8\n",
    "#   Cz,10\n",
    "#   C4,12\n",
    "#   T8,41\n",
    "#   P7,46\n",
    "#   P3,48\n",
    "#   Pz,50\n",
    "#   P4,52\n",
    "#   P8,54\n",
    "#   O1,60\n",
    "#   Oz,61\n",
    "#   O2,62\n",
    "\n",
    "#   T9,42\n",
    "#   T10,43\n"
   ]
  },
  {
   "cell_type": "code",
   "execution_count": 4,
   "metadata": {
    "colab": {
     "base_uri": "https://localhost:8080/",
     "height": 1000
    },
    "colab_type": "code",
    "id": "EMBxiZ8KvXUP",
    "outputId": "09298d4e-eaa5-4323-ae28-49c04bdd7718"
   },
   "outputs": [
    {
     "name": "stdout",
     "output_type": "stream",
     "text": [
      "Extracting EDF parameters from /root/mne_data/MNE-eegbci-data/physiobank/database/eegmmidb/S001/S001R01.edf...\n",
      "EDF file detected\n",
      "Setting channel info structure...\n",
      "Creating raw.info structure...\n",
      "Reading 0 ... 9759  =      0.000 ...    60.994 secs...\n",
      "Extracting EDF parameters from /root/mne_data/MNE-eegbci-data/physiobank/database/eegmmidb/S001/S001R02.edf...\n",
      "EDF file detected\n",
      "Setting channel info structure...\n",
      "Creating raw.info structure...\n",
      "Reading 0 ... 9759  =      0.000 ...    60.994 secs...\n",
      "Extracting EDF parameters from /root/mne_data/MNE-eegbci-data/physiobank/database/eegmmidb/S002/S002R01.edf...\n",
      "EDF file detected\n",
      "Setting channel info structure...\n",
      "Creating raw.info structure...\n",
      "Reading 0 ... 9759  =      0.000 ...    60.994 secs...\n",
      "Extracting EDF parameters from /root/mne_data/MNE-eegbci-data/physiobank/database/eegmmidb/S002/S002R02.edf...\n",
      "EDF file detected\n",
      "Setting channel info structure...\n",
      "Creating raw.info structure...\n",
      "Reading 0 ... 9759  =      0.000 ...    60.994 secs...\n",
      "Extracting EDF parameters from /root/mne_data/MNE-eegbci-data/physiobank/database/eegmmidb/S003/S003R01.edf...\n",
      "EDF file detected\n",
      "Setting channel info structure...\n",
      "Creating raw.info structure...\n",
      "Reading 0 ... 9759  =      0.000 ...    60.994 secs...\n",
      "Extracting EDF parameters from /root/mne_data/MNE-eegbci-data/physiobank/database/eegmmidb/S003/S003R02.edf...\n",
      "EDF file detected\n",
      "Setting channel info structure...\n",
      "Creating raw.info structure...\n",
      "Reading 0 ... 9759  =      0.000 ...    60.994 secs...\n",
      "Extracting EDF parameters from /root/mne_data/MNE-eegbci-data/physiobank/database/eegmmidb/S004/S004R01.edf...\n",
      "EDF file detected\n",
      "Setting channel info structure...\n",
      "Creating raw.info structure...\n",
      "Reading 0 ... 9759  =      0.000 ...    60.994 secs...\n",
      "Extracting EDF parameters from /root/mne_data/MNE-eegbci-data/physiobank/database/eegmmidb/S004/S004R02.edf...\n",
      "EDF file detected\n",
      "Setting channel info structure...\n",
      "Creating raw.info structure...\n",
      "Reading 0 ... 9759  =      0.000 ...    60.994 secs...\n",
      "Extracting EDF parameters from /root/mne_data/MNE-eegbci-data/physiobank/database/eegmmidb/S005/S005R01.edf...\n",
      "EDF file detected\n",
      "Setting channel info structure...\n",
      "Creating raw.info structure...\n",
      "Reading 0 ... 9759  =      0.000 ...    60.994 secs...\n",
      "Extracting EDF parameters from /root/mne_data/MNE-eegbci-data/physiobank/database/eegmmidb/S005/S005R02.edf...\n",
      "EDF file detected\n",
      "Setting channel info structure...\n",
      "Creating raw.info structure...\n",
      "Reading 0 ... 9759  =      0.000 ...    60.994 secs...\n",
      "Extracting EDF parameters from /root/mne_data/MNE-eegbci-data/physiobank/database/eegmmidb/S006/S006R01.edf...\n",
      "EDF file detected\n",
      "Setting channel info structure...\n",
      "Creating raw.info structure...\n",
      "Reading 0 ... 9759  =      0.000 ...    60.994 secs...\n",
      "Extracting EDF parameters from /root/mne_data/MNE-eegbci-data/physiobank/database/eegmmidb/S006/S006R02.edf...\n",
      "EDF file detected\n",
      "Setting channel info structure...\n",
      "Creating raw.info structure...\n",
      "Reading 0 ... 9759  =      0.000 ...    60.994 secs...\n",
      "Extracting EDF parameters from /root/mne_data/MNE-eegbci-data/physiobank/database/eegmmidb/S007/S007R01.edf...\n",
      "EDF file detected\n",
      "Setting channel info structure...\n",
      "Creating raw.info structure...\n",
      "Reading 0 ... 9759  =      0.000 ...    60.994 secs...\n",
      "Extracting EDF parameters from /root/mne_data/MNE-eegbci-data/physiobank/database/eegmmidb/S007/S007R02.edf...\n",
      "EDF file detected\n",
      "Setting channel info structure...\n",
      "Creating raw.info structure...\n",
      "Reading 0 ... 9759  =      0.000 ...    60.994 secs...\n",
      "Extracting EDF parameters from /root/mne_data/MNE-eegbci-data/physiobank/database/eegmmidb/S008/S008R01.edf...\n",
      "EDF file detected\n",
      "Setting channel info structure...\n",
      "Creating raw.info structure...\n",
      "Reading 0 ... 9759  =      0.000 ...    60.994 secs...\n",
      "Extracting EDF parameters from /root/mne_data/MNE-eegbci-data/physiobank/database/eegmmidb/S008/S008R02.edf...\n",
      "EDF file detected\n",
      "Setting channel info structure...\n",
      "Creating raw.info structure...\n",
      "Reading 0 ... 9759  =      0.000 ...    60.994 secs...\n",
      "Extracting EDF parameters from /root/mne_data/MNE-eegbci-data/physiobank/database/eegmmidb/S009/S009R01.edf...\n",
      "EDF file detected\n",
      "Setting channel info structure...\n",
      "Creating raw.info structure...\n",
      "Reading 0 ... 9759  =      0.000 ...    60.994 secs...\n",
      "Extracting EDF parameters from /root/mne_data/MNE-eegbci-data/physiobank/database/eegmmidb/S009/S009R02.edf...\n",
      "EDF file detected\n",
      "Setting channel info structure...\n",
      "Creating raw.info structure...\n",
      "Reading 0 ... 9759  =      0.000 ...    60.994 secs...\n",
      "Extracting EDF parameters from /root/mne_data/MNE-eegbci-data/physiobank/database/eegmmidb/S010/S010R01.edf...\n",
      "EDF file detected\n",
      "Setting channel info structure...\n",
      "Creating raw.info structure...\n",
      "Reading 0 ... 9759  =      0.000 ...    60.994 secs...\n",
      "Extracting EDF parameters from /root/mne_data/MNE-eegbci-data/physiobank/database/eegmmidb/S010/S010R02.edf...\n",
      "EDF file detected\n",
      "Setting channel info structure...\n",
      "Creating raw.info structure...\n",
      "Reading 0 ... 9759  =      0.000 ...    60.994 secs...\n",
      "Extracting EDF parameters from /root/mne_data/MNE-eegbci-data/physiobank/database/eegmmidb/S011/S011R01.edf...\n",
      "EDF file detected\n",
      "Setting channel info structure...\n",
      "Creating raw.info structure...\n",
      "Reading 0 ... 9759  =      0.000 ...    60.994 secs...\n",
      "Extracting EDF parameters from /root/mne_data/MNE-eegbci-data/physiobank/database/eegmmidb/S011/S011R02.edf...\n",
      "EDF file detected\n",
      "Setting channel info structure...\n",
      "Creating raw.info structure...\n",
      "Reading 0 ... 9759  =      0.000 ...    60.994 secs...\n",
      "Extracting EDF parameters from /root/mne_data/MNE-eegbci-data/physiobank/database/eegmmidb/S012/S012R01.edf...\n",
      "EDF file detected\n",
      "Setting channel info structure...\n",
      "Creating raw.info structure...\n",
      "Reading 0 ... 9759  =      0.000 ...    60.994 secs...\n",
      "Extracting EDF parameters from /root/mne_data/MNE-eegbci-data/physiobank/database/eegmmidb/S012/S012R02.edf...\n",
      "EDF file detected\n",
      "Setting channel info structure...\n",
      "Creating raw.info structure...\n",
      "Reading 0 ... 9759  =      0.000 ...    60.994 secs...\n",
      "Extracting EDF parameters from /root/mne_data/MNE-eegbci-data/physiobank/database/eegmmidb/S013/S013R01.edf...\n",
      "EDF file detected\n",
      "Setting channel info structure...\n",
      "Creating raw.info structure...\n",
      "Reading 0 ... 9759  =      0.000 ...    60.994 secs...\n",
      "Extracting EDF parameters from /root/mne_data/MNE-eegbci-data/physiobank/database/eegmmidb/S013/S013R02.edf...\n",
      "EDF file detected\n",
      "Setting channel info structure...\n",
      "Creating raw.info structure...\n",
      "Reading 0 ... 9759  =      0.000 ...    60.994 secs...\n",
      "Extracting EDF parameters from /root/mne_data/MNE-eegbci-data/physiobank/database/eegmmidb/S014/S014R01.edf...\n",
      "EDF file detected\n",
      "Setting channel info structure...\n",
      "Creating raw.info structure...\n",
      "Reading 0 ... 9599  =      0.000 ...    59.994 secs...\n",
      "Extracting EDF parameters from /root/mne_data/MNE-eegbci-data/physiobank/database/eegmmidb/S014/S014R02.edf...\n",
      "EDF file detected\n",
      "Setting channel info structure...\n",
      "Creating raw.info structure...\n",
      "Reading 0 ... 9759  =      0.000 ...    60.994 secs...\n",
      "Extracting EDF parameters from /root/mne_data/MNE-eegbci-data/physiobank/database/eegmmidb/S015/S015R01.edf...\n",
      "EDF file detected\n",
      "Setting channel info structure...\n",
      "Creating raw.info structure...\n",
      "Reading 0 ... 9759  =      0.000 ...    60.994 secs...\n",
      "Extracting EDF parameters from /root/mne_data/MNE-eegbci-data/physiobank/database/eegmmidb/S015/S015R02.edf...\n",
      "EDF file detected\n",
      "Setting channel info structure...\n",
      "Creating raw.info structure...\n",
      "Reading 0 ... 9759  =      0.000 ...    60.994 secs...\n",
      "Extracting EDF parameters from /root/mne_data/MNE-eegbci-data/physiobank/database/eegmmidb/S016/S016R01.edf...\n",
      "EDF file detected\n",
      "Setting channel info structure...\n",
      "Creating raw.info structure...\n",
      "Reading 0 ... 9759  =      0.000 ...    60.994 secs...\n",
      "Extracting EDF parameters from /root/mne_data/MNE-eegbci-data/physiobank/database/eegmmidb/S016/S016R02.edf...\n",
      "EDF file detected\n",
      "Setting channel info structure...\n",
      "Creating raw.info structure...\n",
      "Reading 0 ... 9759  =      0.000 ...    60.994 secs...\n",
      "Extracting EDF parameters from /root/mne_data/MNE-eegbci-data/physiobank/database/eegmmidb/S017/S017R01.edf...\n",
      "EDF file detected\n",
      "Setting channel info structure...\n",
      "Creating raw.info structure...\n",
      "Reading 0 ... 9759  =      0.000 ...    60.994 secs...\n",
      "Extracting EDF parameters from /root/mne_data/MNE-eegbci-data/physiobank/database/eegmmidb/S017/S017R02.edf...\n",
      "EDF file detected\n",
      "Setting channel info structure...\n",
      "Creating raw.info structure...\n",
      "Reading 0 ... 9759  =      0.000 ...    60.994 secs...\n",
      "Extracting EDF parameters from /root/mne_data/MNE-eegbci-data/physiobank/database/eegmmidb/S018/S018R01.edf...\n",
      "EDF file detected\n",
      "Setting channel info structure...\n",
      "Creating raw.info structure...\n",
      "Reading 0 ... 9759  =      0.000 ...    60.994 secs...\n",
      "Extracting EDF parameters from /root/mne_data/MNE-eegbci-data/physiobank/database/eegmmidb/S018/S018R02.edf...\n",
      "EDF file detected\n",
      "Setting channel info structure...\n",
      "Creating raw.info structure...\n",
      "Reading 0 ... 9759  =      0.000 ...    60.994 secs...\n",
      "Extracting EDF parameters from /root/mne_data/MNE-eegbci-data/physiobank/database/eegmmidb/S019/S019R01.edf...\n",
      "EDF file detected\n",
      "Setting channel info structure...\n",
      "Creating raw.info structure...\n",
      "Reading 0 ... 9759  =      0.000 ...    60.994 secs...\n",
      "Extracting EDF parameters from /root/mne_data/MNE-eegbci-data/physiobank/database/eegmmidb/S019/S019R02.edf...\n",
      "EDF file detected\n",
      "Setting channel info structure...\n",
      "Creating raw.info structure...\n",
      "Reading 0 ... 9759  =      0.000 ...    60.994 secs...\n",
      "Extracting EDF parameters from /root/mne_data/MNE-eegbci-data/physiobank/database/eegmmidb/S020/S020R01.edf...\n",
      "EDF file detected\n",
      "Setting channel info structure...\n",
      "Creating raw.info structure...\n",
      "Reading 0 ... 9759  =      0.000 ...    60.994 secs...\n",
      "Extracting EDF parameters from /root/mne_data/MNE-eegbci-data/physiobank/database/eegmmidb/S020/S020R02.edf...\n",
      "EDF file detected\n",
      "Setting channel info structure...\n",
      "Creating raw.info structure...\n",
      "Reading 0 ... 9759  =      0.000 ...    60.994 secs...\n"
     ]
    }
   ],
   "source": [
    "# load dataset in array\n",
    "list_raw_fnames = [[0]*2]*subject_number\n",
    "for x in range(subject_number):\n",
    "    list_raw_fnames[x] = mne.datasets.eegbci.load_data(x+1,[1,2])\n",
    "\n",
    "list_rawdata1 = np.zeros((subject_number,2), dtype='object')\n",
    "list_rawdata = np.zeros((subject_number,2), dtype='object')\n",
    "\n",
    "for i in range(subject_number):\n",
    "    for j in range(2):\n",
    "        list_rawdata[i][j] = mne.io.read_raw_edf(list_raw_fnames[i][j], preload=True)\n",
    "       "
   ]
  },
  {
   "cell_type": "code",
   "execution_count": 5,
   "metadata": {
    "colab": {
     "base_uri": "https://localhost:8080/",
     "height": 68
    },
    "colab_type": "code",
    "id": "lltZvYULvrvA",
    "outputId": "f31f9eba-af31-4258-b128-fcb52e81f49e"
   },
   "outputs": [
    {
     "name": "stdout",
     "output_type": "stream",
     "text": [
      "Train sample: 1757\n",
      "Test sample: 585\n",
      "train image dims: (35140, 2, 21, 160)\n"
     ]
    }
   ],
   "source": [
    "# img for each subject\n",
    "subject_img_number = math.floor((total_sampel_number - sampel_number_per_sec) / sample_shift) +1 - window_len +1\n",
    "test_start_index=subject_img_number - math.floor(subject_img_number/4) \n",
    "\n",
    "train_number =  test_start_index \n",
    "test_number = subject_img_number - test_start_index\n",
    "print(\"Train sample:\",train_number)\n",
    "print(\"Test sample:\",test_number)\n",
    "\n",
    "ch_number = len(list_channel)\n",
    "\n",
    "train_img = np.zeros((train_number*subject_number, ch_number, window_len + 1, 160), dtype = float)\n",
    "train_label =[]\n",
    "\n",
    "test_img = np.zeros((test_number*subject_number, ch_number, window_len, 160), dtype = float)\n",
    "test_label =[]\n",
    "\n",
    "print(\"train image dims:\",train_img.shape)"
   ]
  },
  {
   "cell_type": "code",
   "execution_count": 0,
   "metadata": {
    "colab": {},
    "colab_type": "code",
    "id": "2NuDhT0Y1Fqa"
   },
   "outputs": [],
   "source": [
    "def normalize_channel_data(ch , i, ch_min, ch_max):\n",
    "  ch = ((ch - ch_min[i]) / (ch_max[i] - ch_min[i] ))\n",
    "  return ch\n",
    "\n",
    "def ProjectionVector(VecA,VecB):\n",
    "    Projeted_VecB_on_VecA=np.dot(VecA,VecB)/np.dot(VecA,VecA)*VecA\n",
    "    return Projeted_VecB_on_VecA"
   ]
  },
  {
   "cell_type": "code",
   "execution_count": 0,
   "metadata": {
    "colab": {},
    "colab_type": "code",
    "id": "MesamNSb1IGo"
   },
   "outputs": [],
   "source": [
    "# Make a copy of main data\n",
    "list_rawdataTemp=list_rawdata.copy()\n",
    "\n",
    "for s in range(subject_number):\n",
    "    \n",
    "    DataChannelsRaw, times =list_rawdataTemp[s][0][:64,:9600]\n",
    "    \n",
    "    DataChannelT9Raw, times =list_rawdataTemp[s][0][42,:9600]# Ch T9\n",
    "    \n",
    "    # find min/max per channel\n",
    "    ch_max =[]\n",
    "    ch_min =[]\n",
    "    for ch in list_channel:\n",
    "      #print(ch)  \n",
    "      ch_max = np.append(ch_max, max(DataChannelsRaw[ch])) # max for each cannel\n",
    "      ch_min = np.append(ch_min, min(DataChannelsRaw[ch])) # min for each cannel\n",
    "    \n",
    "    # Normalize Channels\n",
    "    DataChannelsNormal=np.zeros((len(list_channel),times.size),dtype = float)\n",
    "    for i in range(len(list_channel)):\n",
    "        #print(i)\n",
    "        DataChannelsNormal[i]=normalize_channel_data(DataChannelsRaw[list_channel[i]].copy(), i, ch_min, ch_max)\n",
    "    \n",
    "    # Orthogonal Second Channel\n",
    "    DataChannelsOrt=np.zeros((len(list_channel),times.size),dtype = float)\n",
    "    DataChannelsOrt[0]=DataChannelsNormal[0]\n",
    "    DataChannelsOrt[1]=DataChannelsNormal[1]#-ProjectionVector(DataChannelsNormal[0],DataChannelsNormal[1])\n",
    "    \n",
    "    for j in range (subject_img_number):\n",
    "        for i in range(len(list_channel)): # فقط کانال های با اندیس مشخص را دربرمیگیرد\n",
    "            for z in range (window_len):\n",
    "                #rawdataChannels, times =list_rawdata[s][0][index, (j+z)*sample_shift:sampel_number_per_sec+(j+z)*sample_shift]\n",
    "                ExtractedData=DataChannelsOrt[i,0+(j+z)*sample_shift:sampel_number_per_sec+(j+z)*sample_shift]\n",
    "\n",
    "\n",
    "                # normalize method\n",
    "                #rawdataChannels = normalize_channel_data(rawdataChannels, i, ch_min, ch_max)\n",
    "                if j <test_start_index :\n",
    "                    train_img[s*train_number + j][i][z] = ExtractedData\n",
    "                    if z==window_len-1 :\n",
    "                        train_img[s*train_number + j][i][z+1] = s\n",
    "                      \n",
    "                      \n",
    "                else:\n",
    "                     test_img[s*test_number + j - test_start_index][i][z] = ExtractedData\n",
    "            #i+=1            \n",
    "                    \n",
    "              \n",
    "        if j >=test_start_index :\n",
    "            test_label = np.append(test_label, (s))"
   ]
  },
  {
   "cell_type": "code",
   "execution_count": 0,
   "metadata": {
    "colab": {},
    "colab_type": "code",
    "id": "D3lX8LRDuZ2W"
   },
   "outputs": [],
   "source": [
    "\n",
    "# # Make a copy of main data\n",
    "# list_rawdataTemp=list_rawdata.copy()\n",
    "\n",
    "# for s in range(subject_number):\n",
    "    \n",
    "#     # find min/max per channel\n",
    "#     ch_max =[]\n",
    "#     ch_min =[]\n",
    "#     for ch in list_channel:\n",
    "#       rawdataChannels_t, times_t =list_rawdataTemp[s][0][ch,:9600]\n",
    "#       #print(rawdataChannels_t)\n",
    "#       ch_max = np.append(ch_max, max(rawdataChannels_t[0])) # max for each cannel\n",
    "#       ch_min = np.append(ch_min, min(rawdataChannels_t[0])) # min for each cannel\n",
    "    \n",
    "#     # Normalize Channels\n",
    "#     DataChannelsNormal=np.zeros((len(list_channel),times.size),dtype = float)\n",
    "#     for i in range(len(list_channel)):\n",
    "#         DataChannelsNormal[i]=normalize_channel_data(DataChannelsRaw_t[i], i, ch_min, ch_max)\n",
    "    \n",
    "    \n",
    "#     for j in range (subject_img_number):\n",
    "#         i = 0\n",
    "#         for index in list_channel: # فقط کانال های با اندیس مشخص را دربرمیگیرد\n",
    "            \n",
    "#             for z in range (window_len):\n",
    "#                 rawdataChannels, times =list_rawdata[s][0][index, (j+z)*sample_shift:sampel_number_per_sec+(j+z)*sample_shift]\n",
    "\n",
    "#                       # normalize method\n",
    "#                 rawdataChannels = normalize_channel_data(rawdataChannels, i, ch_min, ch_max)\n",
    "#                 if j <test_start_index :\n",
    "#                     train_img[s*train_number + j][i][z] = rawdataChannels\n",
    "#                     if z==window_len-1 :\n",
    "#                       train_img[s*train_number + j][i][z+1] = s\n",
    "                      \n",
    "                      \n",
    "#                 else:\n",
    "#                     test_img[s*test_number + j - test_start_index][i][z] = rawdataChannels\n",
    "#             i+=1            \n",
    "                    \n",
    "              \n",
    "#         if j >=test_start_index :\n",
    "#           test_label = np.append(test_label, (s))"
   ]
  },
  {
   "cell_type": "code",
   "execution_count": 0,
   "metadata": {
    "colab": {},
    "colab_type": "code",
    "id": "FRJrmQA61TUI"
   },
   "outputs": [],
   "source": [
    "#shuffle train img array\n",
    "train_img_shuffle = train_img.copy()\n",
    "\n",
    "np.random.shuffle(train_img_shuffle)\n",
    "\n",
    "\n",
    "train_img_2 = np.zeros((train_number*subject_number, ch_number, window_len, 160), dtype = float)\n",
    "\n",
    "# img label \n",
    "train_img_shuffle_len =len(train_img_shuffle)\n",
    "for i in range(train_img_shuffle_len):\n",
    "    train_label = np.append(train_label, (train_img_shuffle[i][0][window_len][0] ))\n",
    "    for j in range (ch_number):\n",
    "        train_img_2[i][j] = np.delete(train_img_shuffle[i][j], window_len, axis=0)"
   ]
  },
  {
   "cell_type": "code",
   "execution_count": 10,
   "metadata": {
    "colab": {
     "base_uri": "https://localhost:8080/",
     "height": 479
    },
    "colab_type": "code",
    "id": "3aY39Gq91gkv",
    "outputId": "5659e83e-d5d5-4118-d263-236859ccc8a5"
   },
   "outputs": [
    {
     "name": "stderr",
     "output_type": "stream",
     "text": [
      "Using TensorFlow backend.\n"
     ]
    },
    {
     "name": "stdout",
     "output_type": "stream",
     "text": [
      "WARNING:tensorflow:From /usr/local/lib/python3.6/dist-packages/keras/backend/tensorflow_backend.py:66: The name tf.get_default_graph is deprecated. Please use tf.compat.v1.get_default_graph instead.\n",
      "\n",
      "WARNING:tensorflow:From /usr/local/lib/python3.6/dist-packages/keras/backend/tensorflow_backend.py:541: The name tf.placeholder is deprecated. Please use tf.compat.v1.placeholder instead.\n",
      "\n",
      "WARNING:tensorflow:From /usr/local/lib/python3.6/dist-packages/keras/backend/tensorflow_backend.py:4432: The name tf.random_uniform is deprecated. Please use tf.random.uniform instead.\n",
      "\n",
      "WARNING:tensorflow:From /usr/local/lib/python3.6/dist-packages/keras/backend/tensorflow_backend.py:190: The name tf.get_default_session is deprecated. Please use tf.compat.v1.get_default_session instead.\n",
      "\n",
      "WARNING:tensorflow:From /usr/local/lib/python3.6/dist-packages/keras/backend/tensorflow_backend.py:197: The name tf.ConfigProto is deprecated. Please use tf.compat.v1.ConfigProto instead.\n",
      "\n",
      "(?, 64, 20, 160)\n",
      "WARNING:tensorflow:From /usr/local/lib/python3.6/dist-packages/keras/backend/tensorflow_backend.py:4267: The name tf.nn.max_pool is deprecated. Please use tf.nn.max_pool2d instead.\n",
      "\n",
      "(?, 32, 10, 160)\n",
      "(?, 30, 8, 128)\n",
      "(?, 15, 4, 128)\n",
      "(?, 13, 2, 256)\n",
      "(?, ?)\n",
      "WARNING:tensorflow:From /usr/local/lib/python3.6/dist-packages/keras/backend/tensorflow_backend.py:3733: calling dropout (from tensorflow.python.ops.nn_ops) with keep_prob is deprecated and will be removed in a future version.\n",
      "Instructions for updating:\n",
      "Please use `rate` instead of `keep_prob`. Rate should be set to `rate = 1 - keep_prob`.\n",
      "(?, 512)\n",
      "(?, 20)\n",
      "WARNING:tensorflow:From /usr/local/lib/python3.6/dist-packages/keras/optimizers.py:793: The name tf.train.Optimizer is deprecated. Please use tf.compat.v1.train.Optimizer instead.\n",
      "\n"
     ]
    }
   ],
   "source": [
    "# Create Model\n",
    "from keras import layers\n",
    "from keras import models\n",
    "from keras import regularizers\n",
    "from keras.utils import to_categorical\n",
    "from keras import optimizers\n",
    "\n",
    "train_label = to_categorical(train_label, subject_number)\n",
    "test_label = to_categorical(test_label, subject_number)\n",
    "\n",
    "x_train =train_img_2[:20000]\n",
    "y_train =train_label[:20000]\n",
    "\n",
    "x_valid =train_img_2[20000:]\n",
    "y_valid =train_label[20000:]\n",
    "\n",
    "\n",
    "model = models.Sequential()\n",
    "model.add(layers.Conv2D(64, (3,3), activation = 'relu', padding='same', input_shape = (ch_number,window_len,160), data_format= \"channels_first\" ))\n",
    "print(model.output.shape)\n",
    "model.add(layers.MaxPooling2D((2,2)))\n",
    "print(model.output.shape)\n",
    "model.add(layers.Conv2D(128, (3,3), activation = 'relu'))\n",
    "print(model.output.shape)\n",
    "model.add(layers.MaxPooling2D((2,2)))\n",
    "print(model.output.shape)\n",
    "model.add(layers.Conv2D(256, (3,3), activation = 'relu'))\n",
    "print(model.output.shape)\n",
    "model.add(layers.MaxPooling2D((2,2)))\n",
    "\n",
    "\n",
    "model.add(layers.Flatten())\n",
    "print(model.output.shape)\n",
    "model.add(layers.Dense(512, activation = 'relu'))\n",
    "model.add(layers.Dropout(0.5))\n",
    "print(model.output.shape)\n",
    "model.add(layers.Dense(subject_number, activation = 'softmax'))\n",
    "print(model.output.shape)\n",
    "\n",
    "model.compile(loss= 'categorical_crossentropy',\n",
    "              optimizer= optimizers.RMSprop(lr= 1e-4),\n",
    "              metrics = ['acc'])"
   ]
  },
  {
   "cell_type": "code",
   "execution_count": 11,
   "metadata": {
    "colab": {
     "base_uri": "https://localhost:8080/",
     "height": 785
    },
    "colab_type": "code",
    "id": "ROHnPvn91jAl",
    "outputId": "50cea927-acdd-4a6c-e9d0-6a0d91881e6f",
    "scrolled": true
   },
   "outputs": [
    {
     "name": "stdout",
     "output_type": "stream",
     "text": [
      "WARNING:tensorflow:From /usr/local/lib/python3.6/dist-packages/tensorflow/python/ops/math_grad.py:1250: add_dispatch_support.<locals>.wrapper (from tensorflow.python.ops.array_ops) is deprecated and will be removed in a future version.\n",
      "Instructions for updating:\n",
      "Use tf.where in 2.0, which has the same broadcast rule as np.where\n",
      "Train on 20000 samples, validate on 15140 samples\n",
      "Epoch 1/20\n",
      "20000/20000 [==============================] - 12s 609us/step - loss: 2.3876 - acc: 0.2437 - val_loss: 1.9662 - val_acc: 0.3285\n",
      "Epoch 2/20\n",
      "20000/20000 [==============================] - 10s 488us/step - loss: 1.4153 - acc: 0.5285 - val_loss: 1.0609 - val_acc: 0.6464\n",
      "Epoch 3/20\n",
      "20000/20000 [==============================] - 10s 491us/step - loss: 1.0198 - acc: 0.6491 - val_loss: 0.7511 - val_acc: 0.7565\n",
      "Epoch 4/20\n",
      "20000/20000 [==============================] - 10s 490us/step - loss: 0.8001 - acc: 0.7197 - val_loss: 0.5243 - val_acc: 0.8273\n",
      "Epoch 5/20\n",
      "20000/20000 [==============================] - 10s 489us/step - loss: 0.6451 - acc: 0.7740 - val_loss: 0.4869 - val_acc: 0.8439\n",
      "Epoch 6/20\n",
      "20000/20000 [==============================] - 10s 504us/step - loss: 0.5216 - acc: 0.8196 - val_loss: 0.3502 - val_acc: 0.8704\n",
      "Epoch 7/20\n",
      "20000/20000 [==============================] - 10s 491us/step - loss: 0.4399 - acc: 0.8458 - val_loss: 0.2708 - val_acc: 0.9158\n",
      "Epoch 8/20\n",
      "20000/20000 [==============================] - 10s 490us/step - loss: 0.3706 - acc: 0.8693 - val_loss: 0.2710 - val_acc: 0.9073\n",
      "Epoch 9/20\n",
      "20000/20000 [==============================] - 10s 489us/step - loss: 0.3122 - acc: 0.8913 - val_loss: 0.2036 - val_acc: 0.9322\n",
      "Epoch 10/20\n",
      "20000/20000 [==============================] - 10s 489us/step - loss: 0.2709 - acc: 0.9071 - val_loss: 0.2140 - val_acc: 0.9256\n",
      "Epoch 11/20\n",
      "20000/20000 [==============================] - 10s 488us/step - loss: 0.2301 - acc: 0.9206 - val_loss: 0.1287 - val_acc: 0.9554\n",
      "Epoch 12/20\n",
      "20000/20000 [==============================] - 10s 488us/step - loss: 0.2006 - acc: 0.9311 - val_loss: 0.1236 - val_acc: 0.9585\n",
      "Epoch 13/20\n",
      "20000/20000 [==============================] - 10s 487us/step - loss: 0.1785 - acc: 0.9373 - val_loss: 0.0910 - val_acc: 0.9679\n",
      "Epoch 14/20\n",
      "20000/20000 [==============================] - 10s 491us/step - loss: 0.1575 - acc: 0.9446 - val_loss: 0.0738 - val_acc: 0.9748\n",
      "Epoch 15/20\n",
      "20000/20000 [==============================] - 10s 486us/step - loss: 0.1347 - acc: 0.9531 - val_loss: 0.0525 - val_acc: 0.9846\n",
      "Epoch 16/20\n",
      "20000/20000 [==============================] - 10s 487us/step - loss: 0.1279 - acc: 0.9550 - val_loss: 0.0694 - val_acc: 0.9780\n",
      "Epoch 17/20\n",
      "20000/20000 [==============================] - 10s 487us/step - loss: 0.1164 - acc: 0.9591 - val_loss: 0.0354 - val_acc: 0.9916\n",
      "Epoch 18/20\n",
      "20000/20000 [==============================] - 10s 484us/step - loss: 0.1024 - acc: 0.9643 - val_loss: 0.0637 - val_acc: 0.9786\n",
      "Epoch 19/20\n",
      "20000/20000 [==============================] - 10s 486us/step - loss: 0.0881 - acc: 0.9674 - val_loss: 0.0632 - val_acc: 0.9795\n",
      "Epoch 20/20\n",
      "20000/20000 [==============================] - 10s 516us/step - loss: 0.0812 - acc: 0.9733 - val_loss: 0.0242 - val_acc: 0.9925\n"
     ]
    }
   ],
   "source": [
    "# Training\n",
    "history = model.fit(\n",
    "        x_train,\n",
    "        y_train,\n",
    "        epochs = 20,\n",
    "        batch_size = 20,\n",
    "        validation_data = (x_valid, y_valid)\n",
    ")"
   ]
  },
  {
   "cell_type": "code",
   "execution_count": 12,
   "metadata": {
    "colab": {
     "base_uri": "https://localhost:8080/",
     "height": 51
    },
    "colab_type": "code",
    "id": "5i7PMlbT96iD",
    "outputId": "1ffb9ae1-1c22-4c1d-e056-ffb2f2f7c7dc"
   },
   "outputs": [
    {
     "name": "stdout",
     "output_type": "stream",
     "text": [
      "11700/11700 [==============================] - 2s 128us/step\n"
     ]
    },
    {
     "data": {
      "text/plain": [
       "[0.4773638836120847, 0.8927350427350428]"
      ]
     },
     "execution_count": 12,
     "metadata": {
      "tags": []
     },
     "output_type": "execute_result"
    }
   ],
   "source": [
    "model.evaluate(test_img, test_label)\n"
   ]
  },
  {
   "cell_type": "code",
   "execution_count": 13,
   "metadata": {
    "colab": {
     "base_uri": "https://localhost:8080/",
     "height": 295
    },
    "colab_type": "code",
    "id": "QPJdvMzB1o74",
    "outputId": "ae0acefa-27ef-4ace-d3ad-4e4e484a567f"
   },
   "outputs": [
    {
     "data": {
      "image/png": "[encoded data removed]",
      "text/plain": [
       "<Figure size 432x288 with 1 Axes>"
      ]
     },
     "metadata": {
      "tags": []
     },
     "output_type": "display_data"
    }
   ],
   "source": [
    "import matplotlib.pyplot as plt\n",
    "\n",
    "history_dict = history.history \n",
    "\n",
    "loss_values = history_dict ['loss'] \n",
    "\n",
    "val_loss_values = history_dict['val_loss']\n",
    "\n",
    "epochs = range(1, len(loss_values) + 1)\n",
    "\n",
    "\n",
    "\n",
    "plt.plot(epochs, loss_values, 'bo', label='Training loss') \n",
    "\n",
    "plt.plot(epochs, val_loss_values, 'b', label='Validation loss') \n",
    "\n",
    "plt.title('Training and validation loss') \n",
    "\n",
    "plt.xlabel('Epochs') \n",
    "\n",
    "plt.ylabel('Loss') \n",
    "\n",
    "plt.legend()\n",
    "\n",
    "plt.show()"
   ]
  },
  {
   "cell_type": "code",
   "execution_count": 14,
   "metadata": {
    "colab": {
     "base_uri": "https://localhost:8080/",
     "height": 295
    },
    "colab_type": "code",
    "id": "Es1vGaRAPI-y",
    "outputId": "78c76d20-a88c-492f-c263-ddda600b0d24"
   },
   "outputs": [
    {
     "data": {
      "image/png": "[encoded data removed]",
      "text/plain": [
       "<Figure size 432x288 with 1 Axes>"
      ]
     },
     "metadata": {
      "tags": []
     },
     "output_type": "display_data"
    }
   ],
   "source": [
    "history_dict = history.history \n",
    "\n",
    "acc_values = history_dict ['acc'] \n",
    "\n",
    "val_acc_values = history_dict['val_acc']\n",
    "\n",
    "\n",
    "\n",
    "plt.plot(epochs, acc_values, 'bo', label='Training acc') \n",
    "\n",
    "plt.plot(epochs, val_acc_values, 'b', label='Validation acc') \n",
    "\n",
    "plt.title('Training and validation acc') \n",
    "\n",
    "plt.xlabel('Epochs') \n",
    "\n",
    "plt.ylabel('acc') \n",
    "\n",
    "plt.legend()\n",
    "\n",
    "plt.show()"
   ]
  },
  {
   "cell_type": "code",
   "execution_count": 0,
   "metadata": {
    "colab": {},
    "colab_type": "code",
    "id": "hyFYHNEVPL2M"
   },
   "outputs": [],
   "source": []
  }
 ],
 "metadata": {
  "accelerator": "GPU",
  "celltoolbar": "Raw Cell Format",
  "colab": {
   "collapsed_sections": [],
   "include_colab_link": true,
   "name": "2ChOthonormal.ipynb",
   "provenance": []
  },
  "kernelspec": {
   "display_name": "Python 3",
   "language": "python",
   "name": "python3"
  },
  "language_info": {
   "codemirror_mode": {
    "name": "ipython",
    "version": 3
   },
   "file_extension": ".py",
   "mimetype": "text/x-python",
   "name": "python",
   "nbconvert_exporter": "python",
   "pygments_lexer": "ipython3",
   "version": "3.6.8"
  }
 },
 "nbformat": 4,
 "nbformat_minor": 1
}
