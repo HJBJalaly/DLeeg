{
  "nbformat": 4,
  "nbformat_minor": 0,
  "metadata": {
    "colab": {
      "name": "Untitled41.ipynb",
      "version": "0.3.2",
      "provenance": [],
      "include_colab_link": true
    },
    "kernelspec": {
      "name": "python3",
      "display_name": "Python 3"
    }
  },
  "cells": [
    {
      "cell_type": "markdown",
      "metadata": {
        "id": "view-in-github",
        "colab_type": "text"
      },
      "source": [
        "<a href=\"https://colab.research.google.com/github/helmana/DLeeg/blob/master/1%20ch(6.%20Fc6).ipynb\" target=\"_parent\"><img src=\"https://colab.research.google.com/assets/colab-badge.svg\" alt=\"Open In Colab\"/></a>"
      ]
    },
    {
      "cell_type": "code",
      "metadata": {
        "id": "X2SSfqYv5J-U",
        "colab_type": "code",
        "colab": {
          "base_uri": "https://localhost:8080/",
          "height": 34
        },
        "outputId": "b0ab4706-bc52-448f-e412-e35553b54abd"
      },
      "source": [
        "'''\n",
        "1 channel :  Fc6 (index = 6)\n",
        "\n",
        "layers: 3 conv2D(3,3) & maxpooling(2,2)\n",
        "epoch: 20 \n",
        "batch size: 20\n",
        "\n",
        "test acc: \n",
        "test loss:\n",
        "\n",
        "'''\n",
        "\n",
        "\n",
        "import matplotlib\n",
        "from matplotlib import pyplot as plt\n",
        "import numpy as np\n",
        "\n",
        "\n",
        "\n",
        "import random\n",
        "import mne\n",
        "from mne.preprocessing import create_ecg_epochs, create_eog_epochs\n",
        "from mne import io\n",
        "from mne import viz\n",
        "#from mne.datasets import testing\n",
        "from mne import Epochs, io, pick_types\n",
        "from mne.event import define_target_events\n",
        "from mne.time_frequency import psd_welch\n",
        "print(__doc__)"
      ],
      "execution_count": 4,
      "outputs": [
        {
          "output_type": "stream",
          "text": [
            "Automatically created module for IPython interactive environment\n"
          ],
          "name": "stdout"
        }
      ]
    },
    {
      "cell_type": "code",
      "metadata": {
        "id": "7ZWGk9DE5Qh8",
        "colab_type": "code",
        "colab": {
          "base_uri": "https://localhost:8080/",
          "height": 1000
        },
        "outputId": "ef401bd8-fcfc-4e1a-ab30-70ff5f6a1d45"
      },
      "source": [
        "subject_number=20\n",
        "\n",
        "\n",
        "# load dataset in array\n",
        "list_raw_fnames = [[0]*2]*subject_number\n",
        "for x in range(subject_number):\n",
        "    list_raw_fnames[x] = mne.datasets.eegbci.load_data(x+1,[1,2])\n",
        "\n",
        "list_rawdata1 = np.zeros((subject_number,2), dtype='object')\n",
        "list_rawdata = np.zeros((subject_number,2), dtype='object')\n",
        "\n",
        "for i in range(subject_number):\n",
        "    for j in range(2):\n",
        "        list_rawdata[i][j] = mne.io.read_raw_edf(list_raw_fnames[i][j], preload=True)\n",
        "       "
      ],
      "execution_count": 5,
      "outputs": [
        {
          "output_type": "stream",
          "text": [
            "Using default location ~/mne_data for EEGBCI...\n",
            "Creating ~/mne_data\n",
            "Downloading http://www.physionet.org/physiobank/database/eegmmidb/S001/S001R01.edf (1.2 MB)\n",
            "[........................................] 100.00% (  1.2 MB,  13.6 MB/s) \\   \n",
            "Do you want to set the path:\n",
            "    /root/mne_data\n",
            "as the default EEGBCI dataset path in the mne-python config [y]/n? y\n",
            "Attempting to create new mne-python configuration file:\n",
            "/root/.mne/mne-python.json\n",
            "Downloading http://www.physionet.org/physiobank/database/eegmmidb/S001/S001R02.edf (1.2 MB)\n",
            "[........................................] 100.00% (  1.2 MB,  13.2 MB/s) \\   \n",
            "Downloading http://www.physionet.org/physiobank/database/eegmmidb/S002/S002R01.edf (1.2 MB)\n",
            "[........................................] 100.00% (  1.2 MB,  12.5 MB/s) \\   \n",
            "Downloading http://www.physionet.org/physiobank/database/eegmmidb/S002/S002R02.edf (1.2 MB)\n",
            "[........................................] 100.00% (  1.2 MB,  15.5 MB/s) \\   \n",
            "Downloading http://www.physionet.org/physiobank/database/eegmmidb/S003/S003R01.edf (1.2 MB)\n",
            "[........................................] 100.00% (  1.2 MB,  17.8 MB/s) |   \n",
            "Downloading http://www.physionet.org/physiobank/database/eegmmidb/S003/S003R02.edf (1.2 MB)\n",
            "[........................................] 100.00% (  1.2 MB,  12.3 MB/s) \\   \n",
            "Downloading http://www.physionet.org/physiobank/database/eegmmidb/S004/S004R01.edf (1.2 MB)\n",
            "[........................................] 100.00% (  1.2 MB,  23.1 MB/s) |   \n",
            "Downloading http://www.physionet.org/physiobank/database/eegmmidb/S004/S004R02.edf (1.2 MB)\n",
            "[........................................] 100.00% (  1.2 MB,  23.1 MB/s) |   \n",
            "Downloading http://www.physionet.org/physiobank/database/eegmmidb/S005/S005R01.edf (1.2 MB)\n",
            "[........................................] 100.00% (  1.2 MB,  15.9 MB/s) \\   \n",
            "Downloading http://www.physionet.org/physiobank/database/eegmmidb/S005/S005R02.edf (1.2 MB)\n",
            "[........................................] 100.00% (  1.2 MB,  26.1 MB/s) |   \n",
            "Downloading http://www.physionet.org/physiobank/database/eegmmidb/S006/S006R01.edf (1.2 MB)\n",
            "[........................................] 100.00% (  1.2 MB,  17.6 MB/s) \\   \n",
            "Downloading http://www.physionet.org/physiobank/database/eegmmidb/S006/S006R02.edf (1.2 MB)\n",
            "[........................................] 100.00% (  1.2 MB,  15.8 MB/s) \\   \n",
            "Downloading http://www.physionet.org/physiobank/database/eegmmidb/S007/S007R01.edf (1.2 MB)\n",
            "[........................................] 100.00% (  1.2 MB,  20.2 MB/s) |   \n",
            "Downloading http://www.physionet.org/physiobank/database/eegmmidb/S007/S007R02.edf (1.2 MB)\n",
            "[........................................] 100.00% (  1.2 MB,  15.2 MB/s) \\   \n",
            "Downloading http://www.physionet.org/physiobank/database/eegmmidb/S008/S008R01.edf (1.2 MB)\n",
            "[........................................] 100.00% (  1.2 MB,  19.5 MB/s) |   \n",
            "Downloading http://www.physionet.org/physiobank/database/eegmmidb/S008/S008R02.edf (1.2 MB)\n",
            "[........................................] 100.00% (  1.2 MB,   6.9 MB/s) |   \n",
            "Downloading http://www.physionet.org/physiobank/database/eegmmidb/S009/S009R01.edf (1.2 MB)\n",
            "[........................................] 100.00% (  1.2 MB,   3.5 MB/s) /   \n",
            "Downloading http://www.physionet.org/physiobank/database/eegmmidb/S009/S009R02.edf (1.2 MB)\n",
            "[........................................] 100.00% (  1.2 MB,   3.8 MB/s) /   \n",
            "Downloading http://www.physionet.org/physiobank/database/eegmmidb/S010/S010R01.edf (1.2 MB)\n",
            "[........................................] 100.00% (  1.2 MB,   4.1 MB/s) /   \n",
            "Downloading http://www.physionet.org/physiobank/database/eegmmidb/S010/S010R02.edf (1.2 MB)\n",
            "[........................................] 100.00% (  1.2 MB,   4.1 MB/s) /   \n",
            "Downloading http://www.physionet.org/physiobank/database/eegmmidb/S011/S011R01.edf (1.2 MB)\n",
            "[........................................] 100.00% (  1.2 MB,   4.0 MB/s) /   \n",
            "Downloading http://www.physionet.org/physiobank/database/eegmmidb/S011/S011R02.edf (1.2 MB)\n",
            "[........................................] 100.00% (  1.2 MB,   4.9 MB/s) /   \n",
            "Downloading http://www.physionet.org/physiobank/database/eegmmidb/S012/S012R01.edf (1.2 MB)\n",
            "[........................................] 100.00% (  1.2 MB,   3.5 MB/s) /   \n",
            "Downloading http://www.physionet.org/physiobank/database/eegmmidb/S012/S012R02.edf (1.2 MB)\n",
            "[........................................] 100.00% (  1.2 MB,   4.8 MB/s) /   \n",
            "Downloading http://www.physionet.org/physiobank/database/eegmmidb/S013/S013R01.edf (1.2 MB)\n",
            "[........................................] 100.00% (  1.2 MB,   3.6 MB/s) /   \n",
            "Downloading http://www.physionet.org/physiobank/database/eegmmidb/S013/S013R02.edf (1.2 MB)\n",
            "[........................................] 100.00% (  1.2 MB,   4.9 MB/s) /   \n",
            "Downloading http://www.physionet.org/physiobank/database/eegmmidb/S014/S014R01.edf (1.2 MB)\n",
            "[........................................] 100.00% (  1.2 MB,   4.4 MB/s) /   \n",
            "Downloading http://www.physionet.org/physiobank/database/eegmmidb/S014/S014R02.edf (1.2 MB)\n",
            "[........................................] 100.00% (  1.2 MB,   4.8 MB/s) /   \n",
            "Downloading http://www.physionet.org/physiobank/database/eegmmidb/S015/S015R01.edf (1.2 MB)\n",
            "[........................................] 100.00% (  1.2 MB,   5.6 MB/s) /   \n",
            "Downloading http://www.physionet.org/physiobank/database/eegmmidb/S015/S015R02.edf (1.2 MB)\n",
            "[........................................] 100.00% (  1.2 MB,   3.8 MB/s) /   \n",
            "Downloading http://www.physionet.org/physiobank/database/eegmmidb/S016/S016R01.edf (1.2 MB)\n",
            "[........................................] 100.00% (  1.2 MB,   3.4 MB/s) /   \n",
            "Downloading http://www.physionet.org/physiobank/database/eegmmidb/S016/S016R02.edf (1.2 MB)\n",
            "[........................................] 100.00% (  1.2 MB,   4.0 MB/s) /   \n",
            "Downloading http://www.physionet.org/physiobank/database/eegmmidb/S017/S017R01.edf (1.2 MB)\n",
            "[........................................] 100.00% (  1.2 MB,   3.5 MB/s) /   \n",
            "Downloading http://www.physionet.org/physiobank/database/eegmmidb/S017/S017R02.edf (1.2 MB)\n",
            "[........................................] 100.00% (  1.2 MB,   3.7 MB/s) /   \n",
            "Downloading http://www.physionet.org/physiobank/database/eegmmidb/S018/S018R01.edf (1.2 MB)\n",
            "[........................................] 100.00% (  1.2 MB,   3.9 MB/s) /   \n",
            "Downloading http://www.physionet.org/physiobank/database/eegmmidb/S018/S018R02.edf (1.2 MB)\n",
            "[........................................] 100.00% (  1.2 MB,   3.3 MB/s) /   \n",
            "Downloading http://www.physionet.org/physiobank/database/eegmmidb/S019/S019R01.edf (1.2 MB)\n",
            "[........................................] 100.00% (  1.2 MB,   3.4 MB/s) /   \n",
            "Downloading http://www.physionet.org/physiobank/database/eegmmidb/S019/S019R02.edf (1.2 MB)\n",
            "[........................................] 100.00% (  1.2 MB,   3.0 MB/s) /   \n",
            "Downloading http://www.physionet.org/physiobank/database/eegmmidb/S020/S020R01.edf (1.2 MB)\n",
            "[........................................] 100.00% (  1.2 MB,   4.2 MB/s) -   \n",
            "Downloading http://www.physionet.org/physiobank/database/eegmmidb/S020/S020R02.edf (1.2 MB)\n",
            "[........................................] 100.00% (  1.2 MB,   3.5 MB/s) /   \n",
            "Extracting EDF parameters from /root/mne_data/MNE-eegbci-data/physiobank/database/eegmmidb/S001/S001R01.edf...\n",
            "EDF file detected\n",
            "Setting channel info structure...\n",
            "Creating raw.info structure...\n",
            "Reading 0 ... 9759  =      0.000 ...    60.994 secs...\n",
            "Extracting EDF parameters from /root/mne_data/MNE-eegbci-data/physiobank/database/eegmmidb/S001/S001R02.edf...\n",
            "EDF file detected\n",
            "Setting channel info structure...\n",
            "Creating raw.info structure...\n",
            "Reading 0 ... 9759  =      0.000 ...    60.994 secs...\n",
            "Extracting EDF parameters from /root/mne_data/MNE-eegbci-data/physiobank/database/eegmmidb/S002/S002R01.edf...\n",
            "EDF file detected\n",
            "Setting channel info structure...\n",
            "Creating raw.info structure...\n",
            "Reading 0 ... 9759  =      0.000 ...    60.994 secs...\n",
            "Extracting EDF parameters from /root/mne_data/MNE-eegbci-data/physiobank/database/eegmmidb/S002/S002R02.edf...\n",
            "EDF file detected\n",
            "Setting channel info structure...\n",
            "Creating raw.info structure...\n",
            "Reading 0 ... 9759  =      0.000 ...    60.994 secs...\n",
            "Extracting EDF parameters from /root/mne_data/MNE-eegbci-data/physiobank/database/eegmmidb/S003/S003R01.edf...\n",
            "EDF file detected\n",
            "Setting channel info structure...\n",
            "Creating raw.info structure...\n",
            "Reading 0 ... 9759  =      0.000 ...    60.994 secs...\n",
            "Extracting EDF parameters from /root/mne_data/MNE-eegbci-data/physiobank/database/eegmmidb/S003/S003R02.edf...\n",
            "EDF file detected\n",
            "Setting channel info structure...\n",
            "Creating raw.info structure...\n",
            "Reading 0 ... 9759  =      0.000 ...    60.994 secs...\n",
            "Extracting EDF parameters from /root/mne_data/MNE-eegbci-data/physiobank/database/eegmmidb/S004/S004R01.edf...\n",
            "EDF file detected\n",
            "Setting channel info structure...\n",
            "Creating raw.info structure...\n",
            "Reading 0 ... 9759  =      0.000 ...    60.994 secs...\n",
            "Extracting EDF parameters from /root/mne_data/MNE-eegbci-data/physiobank/database/eegmmidb/S004/S004R02.edf...\n",
            "EDF file detected\n",
            "Setting channel info structure...\n",
            "Creating raw.info structure...\n",
            "Reading 0 ... 9759  =      0.000 ...    60.994 secs...\n",
            "Extracting EDF parameters from /root/mne_data/MNE-eegbci-data/physiobank/database/eegmmidb/S005/S005R01.edf...\n",
            "EDF file detected\n",
            "Setting channel info structure...\n",
            "Creating raw.info structure...\n",
            "Reading 0 ... 9759  =      0.000 ...    60.994 secs...\n",
            "Extracting EDF parameters from /root/mne_data/MNE-eegbci-data/physiobank/database/eegmmidb/S005/S005R02.edf...\n",
            "EDF file detected\n",
            "Setting channel info structure...\n",
            "Creating raw.info structure...\n",
            "Reading 0 ... 9759  =      0.000 ...    60.994 secs...\n",
            "Extracting EDF parameters from /root/mne_data/MNE-eegbci-data/physiobank/database/eegmmidb/S006/S006R01.edf...\n",
            "EDF file detected\n",
            "Setting channel info structure...\n",
            "Creating raw.info structure...\n",
            "Reading 0 ... 9759  =      0.000 ...    60.994 secs...\n",
            "Extracting EDF parameters from /root/mne_data/MNE-eegbci-data/physiobank/database/eegmmidb/S006/S006R02.edf...\n",
            "EDF file detected\n",
            "Setting channel info structure...\n",
            "Creating raw.info structure...\n",
            "Reading 0 ... 9759  =      0.000 ...    60.994 secs...\n",
            "Extracting EDF parameters from /root/mne_data/MNE-eegbci-data/physiobank/database/eegmmidb/S007/S007R01.edf...\n",
            "EDF file detected\n",
            "Setting channel info structure...\n",
            "Creating raw.info structure...\n",
            "Reading 0 ... 9759  =      0.000 ...    60.994 secs...\n",
            "Extracting EDF parameters from /root/mne_data/MNE-eegbci-data/physiobank/database/eegmmidb/S007/S007R02.edf...\n",
            "EDF file detected\n",
            "Setting channel info structure...\n",
            "Creating raw.info structure...\n",
            "Reading 0 ... 9759  =      0.000 ...    60.994 secs...\n",
            "Extracting EDF parameters from /root/mne_data/MNE-eegbci-data/physiobank/database/eegmmidb/S008/S008R01.edf...\n",
            "EDF file detected\n",
            "Setting channel info structure...\n",
            "Creating raw.info structure...\n",
            "Reading 0 ... 9759  =      0.000 ...    60.994 secs...\n",
            "Extracting EDF parameters from /root/mne_data/MNE-eegbci-data/physiobank/database/eegmmidb/S008/S008R02.edf...\n",
            "EDF file detected\n",
            "Setting channel info structure...\n",
            "Creating raw.info structure...\n",
            "Reading 0 ... 9759  =      0.000 ...    60.994 secs...\n",
            "Extracting EDF parameters from /root/mne_data/MNE-eegbci-data/physiobank/database/eegmmidb/S009/S009R01.edf...\n",
            "EDF file detected\n",
            "Setting channel info structure...\n",
            "Creating raw.info structure...\n",
            "Reading 0 ... 9759  =      0.000 ...    60.994 secs...\n",
            "Extracting EDF parameters from /root/mne_data/MNE-eegbci-data/physiobank/database/eegmmidb/S009/S009R02.edf...\n",
            "EDF file detected\n",
            "Setting channel info structure...\n",
            "Creating raw.info structure...\n",
            "Reading 0 ... 9759  =      0.000 ...    60.994 secs...\n",
            "Extracting EDF parameters from /root/mne_data/MNE-eegbci-data/physiobank/database/eegmmidb/S010/S010R01.edf...\n",
            "EDF file detected\n",
            "Setting channel info structure...\n",
            "Creating raw.info structure...\n",
            "Reading 0 ... 9759  =      0.000 ...    60.994 secs...\n",
            "Extracting EDF parameters from /root/mne_data/MNE-eegbci-data/physiobank/database/eegmmidb/S010/S010R02.edf...\n",
            "EDF file detected\n",
            "Setting channel info structure...\n",
            "Creating raw.info structure...\n",
            "Reading 0 ... 9759  =      0.000 ...    60.994 secs...\n",
            "Extracting EDF parameters from /root/mne_data/MNE-eegbci-data/physiobank/database/eegmmidb/S011/S011R01.edf...\n",
            "EDF file detected\n",
            "Setting channel info structure...\n",
            "Creating raw.info structure...\n",
            "Reading 0 ... 9759  =      0.000 ...    60.994 secs...\n",
            "Extracting EDF parameters from /root/mne_data/MNE-eegbci-data/physiobank/database/eegmmidb/S011/S011R02.edf...\n",
            "EDF file detected\n",
            "Setting channel info structure...\n",
            "Creating raw.info structure...\n",
            "Reading 0 ... 9759  =      0.000 ...    60.994 secs...\n",
            "Extracting EDF parameters from /root/mne_data/MNE-eegbci-data/physiobank/database/eegmmidb/S012/S012R01.edf...\n",
            "EDF file detected\n",
            "Setting channel info structure...\n",
            "Creating raw.info structure...\n",
            "Reading 0 ... 9759  =      0.000 ...    60.994 secs...\n",
            "Extracting EDF parameters from /root/mne_data/MNE-eegbci-data/physiobank/database/eegmmidb/S012/S012R02.edf...\n",
            "EDF file detected\n",
            "Setting channel info structure...\n",
            "Creating raw.info structure...\n",
            "Reading 0 ... 9759  =      0.000 ...    60.994 secs...\n",
            "Extracting EDF parameters from /root/mne_data/MNE-eegbci-data/physiobank/database/eegmmidb/S013/S013R01.edf...\n",
            "EDF file detected\n",
            "Setting channel info structure...\n",
            "Creating raw.info structure...\n",
            "Reading 0 ... 9759  =      0.000 ...    60.994 secs...\n",
            "Extracting EDF parameters from /root/mne_data/MNE-eegbci-data/physiobank/database/eegmmidb/S013/S013R02.edf...\n",
            "EDF file detected\n",
            "Setting channel info structure...\n",
            "Creating raw.info structure...\n",
            "Reading 0 ... 9759  =      0.000 ...    60.994 secs...\n",
            "Extracting EDF parameters from /root/mne_data/MNE-eegbci-data/physiobank/database/eegmmidb/S014/S014R01.edf...\n",
            "EDF file detected\n",
            "Setting channel info structure...\n",
            "Creating raw.info structure...\n",
            "Reading 0 ... 9599  =      0.000 ...    59.994 secs...\n",
            "Extracting EDF parameters from /root/mne_data/MNE-eegbci-data/physiobank/database/eegmmidb/S014/S014R02.edf...\n",
            "EDF file detected\n",
            "Setting channel info structure...\n",
            "Creating raw.info structure...\n",
            "Reading 0 ... 9759  =      0.000 ...    60.994 secs...\n",
            "Extracting EDF parameters from /root/mne_data/MNE-eegbci-data/physiobank/database/eegmmidb/S015/S015R01.edf...\n",
            "EDF file detected\n",
            "Setting channel info structure...\n",
            "Creating raw.info structure...\n",
            "Reading 0 ... 9759  =      0.000 ...    60.994 secs...\n",
            "Extracting EDF parameters from /root/mne_data/MNE-eegbci-data/physiobank/database/eegmmidb/S015/S015R02.edf...\n",
            "EDF file detected\n",
            "Setting channel info structure...\n",
            "Creating raw.info structure...\n",
            "Reading 0 ... 9759  =      0.000 ...    60.994 secs...\n",
            "Extracting EDF parameters from /root/mne_data/MNE-eegbci-data/physiobank/database/eegmmidb/S016/S016R01.edf...\n",
            "EDF file detected\n",
            "Setting channel info structure...\n",
            "Creating raw.info structure...\n",
            "Reading 0 ... 9759  =      0.000 ...    60.994 secs...\n",
            "Extracting EDF parameters from /root/mne_data/MNE-eegbci-data/physiobank/database/eegmmidb/S016/S016R02.edf...\n",
            "EDF file detected\n",
            "Setting channel info structure...\n",
            "Creating raw.info structure...\n",
            "Reading 0 ... 9759  =      0.000 ...    60.994 secs...\n",
            "Extracting EDF parameters from /root/mne_data/MNE-eegbci-data/physiobank/database/eegmmidb/S017/S017R01.edf...\n",
            "EDF file detected\n",
            "Setting channel info structure...\n",
            "Creating raw.info structure...\n",
            "Reading 0 ... 9759  =      0.000 ...    60.994 secs...\n",
            "Extracting EDF parameters from /root/mne_data/MNE-eegbci-data/physiobank/database/eegmmidb/S017/S017R02.edf...\n",
            "EDF file detected\n",
            "Setting channel info structure...\n",
            "Creating raw.info structure...\n",
            "Reading 0 ... 9759  =      0.000 ...    60.994 secs...\n",
            "Extracting EDF parameters from /root/mne_data/MNE-eegbci-data/physiobank/database/eegmmidb/S018/S018R01.edf...\n",
            "EDF file detected\n",
            "Setting channel info structure...\n",
            "Creating raw.info structure...\n",
            "Reading 0 ... 9759  =      0.000 ...    60.994 secs...\n",
            "Extracting EDF parameters from /root/mne_data/MNE-eegbci-data/physiobank/database/eegmmidb/S018/S018R02.edf...\n",
            "EDF file detected\n",
            "Setting channel info structure...\n",
            "Creating raw.info structure...\n",
            "Reading 0 ... 9759  =      0.000 ...    60.994 secs...\n",
            "Extracting EDF parameters from /root/mne_data/MNE-eegbci-data/physiobank/database/eegmmidb/S019/S019R01.edf...\n",
            "EDF file detected\n",
            "Setting channel info structure...\n",
            "Creating raw.info structure...\n",
            "Reading 0 ... 9759  =      0.000 ...    60.994 secs...\n",
            "Extracting EDF parameters from /root/mne_data/MNE-eegbci-data/physiobank/database/eegmmidb/S019/S019R02.edf...\n",
            "EDF file detected\n",
            "Setting channel info structure...\n",
            "Creating raw.info structure...\n",
            "Reading 0 ... 9759  =      0.000 ...    60.994 secs...\n",
            "Extracting EDF parameters from /root/mne_data/MNE-eegbci-data/physiobank/database/eegmmidb/S020/S020R01.edf...\n",
            "EDF file detected\n",
            "Setting channel info structure...\n",
            "Creating raw.info structure...\n",
            "Reading 0 ... 9759  =      0.000 ...    60.994 secs...\n",
            "Extracting EDF parameters from /root/mne_data/MNE-eegbci-data/physiobank/database/eegmmidb/S020/S020R02.edf...\n",
            "EDF file detected\n",
            "Setting channel info structure...\n",
            "Creating raw.info structure...\n",
            "Reading 0 ... 9759  =      0.000 ...    60.994 secs...\n"
          ],
          "name": "stdout"
        }
      ]
    },
    {
      "cell_type": "code",
      "metadata": {
        "id": "qzN2gXVm7fSL",
        "colab_type": "code",
        "colab": {
          "base_uri": "https://localhost:8080/",
          "height": 34
        },
        "outputId": "7ccd4740-61f9-4b8b-b483-5e3e4154729d"
      },
      "source": [
        "import math\n",
        "\n",
        "\n",
        "task_number=1\n",
        "task_time = 60\n",
        "sampel_number_per_sec =  160 # sampel rate\n",
        "total_sampel_number =  sampel_number_per_sec *task_time # 60*160\n",
        "sample_shift = 4 #step len\n",
        "window_len= 20\n",
        "list_channel = [6] # channel = Fc6\n",
        "\n",
        "# img for each one\n",
        "subject_img_number = math.floor((total_sampel_number - sampel_number_per_sec) / sample_shift) +1 - window_len +1\n",
        "test_start_index=subject_img_number - math.floor(subject_img_number/4) \n",
        "\n",
        "train_number =  test_start_index \n",
        "test_number = subject_img_number - test_start_index\n",
        "train_number"
      ],
      "execution_count": 6,
      "outputs": [
        {
          "output_type": "execute_result",
          "data": {
            "text/plain": [
              "1757"
            ]
          },
          "metadata": {
            "tags": []
          },
          "execution_count": 6
        }
      ]
    },
    {
      "cell_type": "code",
      "metadata": {
        "id": "6wzddHSJ9Wda",
        "colab_type": "code",
        "colab": {
          "base_uri": "https://localhost:8080/",
          "height": 34
        },
        "outputId": "c537650d-c080-40d8-d884-f063bc0cc676"
      },
      "source": [
        "ch_number = len(list_channel)\n",
        "\n",
        "train_img = np.zeros((train_number*subject_number, ch_number, window_len + 1, 160), dtype = float)\n",
        "train_label =[]\n",
        "\n",
        "\n",
        "test_img = np.zeros((test_number*subject_number, ch_number, window_len, 160), dtype = float)\n",
        "test_label =[]\n",
        "\n",
        "\n",
        "train_img.shape\n"
      ],
      "execution_count": 7,
      "outputs": [
        {
          "output_type": "execute_result",
          "data": {
            "text/plain": [
              "(35140, 1, 21, 160)"
            ]
          },
          "metadata": {
            "tags": []
          },
          "execution_count": 7
        }
      ]
    },
    {
      "cell_type": "code",
      "metadata": {
        "id": "tbhOtPqM9aXv",
        "colab_type": "code",
        "colab": {}
      },
      "source": [
        "def normalize_channel_data(ch , i, ch_min, ch_max):\n",
        "  ch = ((ch - ch_min[i]) / (ch_max[i] - ch_min[i] ))\n",
        "  return ch"
      ],
      "execution_count": 0,
      "outputs": []
    },
    {
      "cell_type": "code",
      "metadata": {
        "id": "NwWl89PK9dRp",
        "colab_type": "code",
        "colab": {}
      },
      "source": [
        "for s in range(subject_number):\n",
        "    ch_max =[]\n",
        "    ch_min =[]\n",
        "    for ch in list_channel:\n",
        "      rawdataChannels_t, times_t =list_rawdata[s][0][ch,:9600]\n",
        "      #print(rawdataChannels_t)\n",
        "      ch_max = np.append(ch_max, max(rawdataChannels_t[0])) # max for each cannel\n",
        "      ch_min = np.append(ch_min, min(rawdataChannels_t[0])) # min for each cannel\n",
        "    \n",
        "    for j in range (subject_img_number):\n",
        "        i = 0\n",
        "        for index in list_channel: # فقط کانال های با اندیس مشخص را دربرمیگیرد\n",
        "            \n",
        "            for z in range (window_len):\n",
        "                rawdataChannels, times =list_rawdata[s][0][index, (j+z)*sample_shift:sampel_number_per_sec+(j+z)*sample_shift]\n",
        "\n",
        "                      # normalize method\n",
        "                rawdataChannels = normalize_channel_data(rawdataChannels, i, ch_min, ch_max)\n",
        "                if j <test_start_index :\n",
        "                    train_img[s*train_number + j][i][z] = rawdataChannels\n",
        "                    if z==window_len-1 :\n",
        "                      train_img[s*train_number + j][i][z+1] = s\n",
        "                      \n",
        "                      \n",
        "                else:\n",
        "                    test_img[s*test_number + j - test_start_index][i][z] = rawdataChannels\n",
        "            i+=1            \n",
        "                    \n",
        "              \n",
        "        if j >=test_start_index :\n",
        "          test_label = np.append(test_label, (s))"
      ],
      "execution_count": 0,
      "outputs": []
    },
    {
      "cell_type": "code",
      "metadata": {
        "id": "s8vECCqi9fey",
        "colab_type": "code",
        "colab": {}
      },
      "source": [
        "#shaffle train img array\n",
        "train_img_shuffle = train_img\n",
        "\n",
        "np.random.shuffle(train_img_shuffle)"
      ],
      "execution_count": 0,
      "outputs": []
    },
    {
      "cell_type": "code",
      "metadata": {
        "id": "c2u7t-rJ9psA",
        "colab_type": "code",
        "colab": {}
      },
      "source": [
        "train_img_2 = np.zeros((train_number*subject_number, ch_number, window_len, 160), dtype = float)\n",
        "\n",
        "# img label \n",
        "train_img_shuffle_len =len(train_img_shuffle)\n",
        "for i in range(train_img_shuffle_len):\n",
        "    train_label = np.append(train_label, (train_img_shuffle[i][0][window_len][0] ))\n",
        "    for j in range (ch_number):\n",
        "      train_img_2[i][j] = np.delete(train_img_shuffle[i][j], window_len, axis=0)"
      ],
      "execution_count": 0,
      "outputs": []
    },
    {
      "cell_type": "code",
      "metadata": {
        "id": "uVz8PJiK9rsM",
        "colab_type": "code",
        "colab": {
          "base_uri": "https://localhost:8080/",
          "height": 34
        },
        "outputId": "c04e42b2-ab1c-4d89-b753-cedb83213761"
      },
      "source": [
        "from keras.utils import to_categorical"
      ],
      "execution_count": 12,
      "outputs": [
        {
          "output_type": "stream",
          "text": [
            "Using TensorFlow backend.\n"
          ],
          "name": "stderr"
        }
      ]
    },
    {
      "cell_type": "code",
      "metadata": {
        "id": "oSNmibji9tqV",
        "colab_type": "code",
        "colab": {}
      },
      "source": [
        "train_label = to_categorical(train_label, subject_number)\n",
        "test_label = to_categorical(test_label, subject_number)"
      ],
      "execution_count": 0,
      "outputs": []
    },
    {
      "cell_type": "code",
      "metadata": {
        "id": "e6K1ndda967S",
        "colab_type": "code",
        "colab": {
          "base_uri": "https://localhost:8080/",
          "height": 34
        },
        "outputId": "05788621-f5f3-416d-a78d-a55ea3c7ba81"
      },
      "source": [
        "train_img_2.shape"
      ],
      "execution_count": 15,
      "outputs": [
        {
          "output_type": "execute_result",
          "data": {
            "text/plain": [
              "(35140, 1, 20, 160)"
            ]
          },
          "metadata": {
            "tags": []
          },
          "execution_count": 15
        }
      ]
    },
    {
      "cell_type": "code",
      "metadata": {
        "id": "6yRfrZuI9x3P",
        "colab_type": "code",
        "colab": {
          "base_uri": "https://localhost:8080/",
          "height": 34
        },
        "outputId": "afcb8020-055c-4830-8461-253691bfead8"
      },
      "source": [
        "# valid & train\n",
        "x_train =train_img_2[:20000]\n",
        "y_train =train_label[:20000]\n",
        "\n",
        "x_valid =train_img_2[20000:]\n",
        "y_valid =train_label[20000:]\n",
        "\n",
        "x_valid.shape"
      ],
      "execution_count": 16,
      "outputs": [
        {
          "output_type": "execute_result",
          "data": {
            "text/plain": [
              "(15140, 1, 20, 160)"
            ]
          },
          "metadata": {
            "tags": []
          },
          "execution_count": 16
        }
      ]
    },
    {
      "cell_type": "code",
      "metadata": {
        "id": "zjLT4Y0c-A1c",
        "colab_type": "code",
        "colab": {
          "base_uri": "https://localhost:8080/",
          "height": 442
        },
        "outputId": "54887016-7068-4ed3-e3c6-a7c27ae0a69f"
      },
      "source": [
        "from keras import layers\n",
        "from keras import models\n",
        "from keras import regularizers\n",
        "\n",
        "\n",
        "model = models.Sequential()\n",
        "model.add(layers.Conv2D(64, (3,3), activation = 'relu', padding='same', input_shape = (ch_number,window_len,160), data_format= \"channels_first\" ))\n",
        "print(model.output.shape)\n",
        "model.add(layers.MaxPooling2D((2,2)))\n",
        "print(model.output.shape)\n",
        "model.add(layers.Conv2D(128, (3,3), activation = 'relu'))\n",
        "print(model.output.shape)\n",
        "model.add(layers.MaxPooling2D((2,2)))\n",
        "print(model.output.shape)\n",
        "model.add(layers.Conv2D(256, (3,3), activation = 'relu'))\n",
        "print(model.output.shape)\n",
        "model.add(layers.MaxPooling2D((2,2)))\n",
        "\n",
        "\n",
        "model.add(layers.Flatten())\n",
        "print(model.output.shape)\n",
        "model.add(layers.Dense(512, activation = 'relu'))\n",
        "model.add(layers.Dropout(0.5))\n",
        "print(model.output.shape)\n",
        "model.add(layers.Dense(subject_number, activation = 'softmax'))\n",
        "print(model.output.shape)"
      ],
      "execution_count": 17,
      "outputs": [
        {
          "output_type": "stream",
          "text": [
            "WARNING: Logging before flag parsing goes to stderr.\n",
            "W0815 08:59:06.520156 140653320845184 deprecation_wrapper.py:119] From /usr/local/lib/python3.6/dist-packages/keras/backend/tensorflow_backend.py:74: The name tf.get_default_graph is deprecated. Please use tf.compat.v1.get_default_graph instead.\n",
            "\n",
            "W0815 08:59:06.585575 140653320845184 deprecation_wrapper.py:119] From /usr/local/lib/python3.6/dist-packages/keras/backend/tensorflow_backend.py:517: The name tf.placeholder is deprecated. Please use tf.compat.v1.placeholder instead.\n",
            "\n",
            "W0815 08:59:06.594767 140653320845184 deprecation_wrapper.py:119] From /usr/local/lib/python3.6/dist-packages/keras/backend/tensorflow_backend.py:4138: The name tf.random_uniform is deprecated. Please use tf.random.uniform instead.\n",
            "\n",
            "W0815 08:59:06.619591 140653320845184 deprecation_wrapper.py:119] From /usr/local/lib/python3.6/dist-packages/keras/backend/tensorflow_backend.py:174: The name tf.get_default_session is deprecated. Please use tf.compat.v1.get_default_session instead.\n",
            "\n",
            "W0815 08:59:06.621445 140653320845184 deprecation_wrapper.py:119] From /usr/local/lib/python3.6/dist-packages/keras/backend/tensorflow_backend.py:181: The name tf.ConfigProto is deprecated. Please use tf.compat.v1.ConfigProto instead.\n",
            "\n",
            "W0815 08:59:06.968792 140653320845184 deprecation_wrapper.py:119] From /usr/local/lib/python3.6/dist-packages/keras/backend/tensorflow_backend.py:3976: The name tf.nn.max_pool is deprecated. Please use tf.nn.max_pool2d instead.\n",
            "\n",
            "W0815 08:59:07.050129 140653320845184 deprecation.py:506] From /usr/local/lib/python3.6/dist-packages/keras/backend/tensorflow_backend.py:3445: calling dropout (from tensorflow.python.ops.nn_ops) with keep_prob is deprecated and will be removed in a future version.\n",
            "Instructions for updating:\n",
            "Please use `rate` instead of `keep_prob`. Rate should be set to `rate = 1 - keep_prob`.\n"
          ],
          "name": "stderr"
        },
        {
          "output_type": "stream",
          "text": [
            "(?, 64, 20, 160)\n",
            "(?, 32, 10, 160)\n",
            "(?, 30, 8, 128)\n",
            "(?, 15, 4, 128)\n",
            "(?, 13, 2, 256)\n",
            "(?, ?)\n",
            "(?, 512)\n",
            "(?, 20)\n"
          ],
          "name": "stdout"
        }
      ]
    },
    {
      "cell_type": "code",
      "metadata": {
        "id": "t1nX_e13-IC4",
        "colab_type": "code",
        "colab": {
          "base_uri": "https://localhost:8080/",
          "height": 71
        },
        "outputId": "0fa085fe-0330-4e75-8dde-02b9d7412a4a"
      },
      "source": [
        "from keras import optimizers\n",
        "\n",
        "model.compile(loss= 'categorical_crossentropy',\n",
        "              optimizer= optimizers.RMSprop(lr= 1e-4),\n",
        "              metrics = ['acc'])"
      ],
      "execution_count": 18,
      "outputs": [
        {
          "output_type": "stream",
          "text": [
            "W0815 08:59:17.991775 140653320845184 deprecation_wrapper.py:119] From /usr/local/lib/python3.6/dist-packages/keras/optimizers.py:790: The name tf.train.Optimizer is deprecated. Please use tf.compat.v1.train.Optimizer instead.\n",
            "\n"
          ],
          "name": "stderr"
        }
      ]
    },
    {
      "cell_type": "code",
      "metadata": {
        "id": "29PE_a83-K1-",
        "colab_type": "code",
        "colab": {
          "base_uri": "https://localhost:8080/",
          "height": 780
        },
        "outputId": "489c8f93-801f-4c21-a1f9-52cb52d74194"
      },
      "source": [
        "history = model.fit(\n",
        "        x_train,\n",
        "        y_train,\n",
        "        epochs = 20,\n",
        "        batch_size = 20,\n",
        "        validation_data = (x_valid, y_valid)\n",
        ")"
      ],
      "execution_count": 19,
      "outputs": [
        {
          "output_type": "stream",
          "text": [
            "W0815 08:59:36.038544 140653320845184 deprecation.py:323] From /usr/local/lib/python3.6/dist-packages/tensorflow/python/ops/math_grad.py:1250: add_dispatch_support.<locals>.wrapper (from tensorflow.python.ops.array_ops) is deprecated and will be removed in a future version.\n",
            "Instructions for updating:\n",
            "Use tf.where in 2.0, which has the same broadcast rule as np.where\n"
          ],
          "name": "stderr"
        },
        {
          "output_type": "stream",
          "text": [
            "Train on 20000 samples, validate on 15140 samples\n",
            "Epoch 1/20\n",
            "20000/20000 [==============================] - 299s 15ms/step - loss: 2.4009 - acc: 0.2101 - val_loss: 1.5362 - val_acc: 0.4923\n",
            "Epoch 2/20\n",
            "20000/20000 [==============================] - 298s 15ms/step - loss: 1.4727 - acc: 0.4734 - val_loss: 1.4265 - val_acc: 0.4576\n",
            "Epoch 3/20\n",
            "20000/20000 [==============================] - 298s 15ms/step - loss: 1.1942 - acc: 0.5727 - val_loss: 1.0082 - val_acc: 0.6373\n",
            "Epoch 4/20\n",
            "20000/20000 [==============================] - 299s 15ms/step - loss: 1.0260 - acc: 0.6345 - val_loss: 0.9059 - val_acc: 0.6602\n",
            "Epoch 5/20\n",
            "20000/20000 [==============================] - 300s 15ms/step - loss: 0.8951 - acc: 0.6774 - val_loss: 0.7249 - val_acc: 0.7345\n",
            "Epoch 6/20\n",
            "20000/20000 [==============================] - 299s 15ms/step - loss: 0.8064 - acc: 0.7111 - val_loss: 1.0172 - val_acc: 0.6359\n",
            "Epoch 7/20\n",
            "20000/20000 [==============================] - 301s 15ms/step - loss: 0.7337 - acc: 0.7347 - val_loss: 0.8707 - val_acc: 0.6712\n",
            "Epoch 8/20\n",
            "20000/20000 [==============================] - 300s 15ms/step - loss: 0.6741 - acc: 0.7580 - val_loss: 0.5449 - val_acc: 0.8075\n",
            "Epoch 9/20\n",
            "20000/20000 [==============================] - 299s 15ms/step - loss: 0.6209 - acc: 0.7770 - val_loss: 0.5389 - val_acc: 0.8163\n",
            "Epoch 10/20\n",
            "20000/20000 [==============================] - 299s 15ms/step - loss: 0.5766 - acc: 0.7887 - val_loss: 0.5594 - val_acc: 0.7917\n",
            "Epoch 11/20\n",
            "20000/20000 [==============================] - 300s 15ms/step - loss: 0.5484 - acc: 0.8006 - val_loss: 0.4519 - val_acc: 0.8354\n",
            "Epoch 12/20\n",
            "20000/20000 [==============================] - 298s 15ms/step - loss: 0.5280 - acc: 0.8092 - val_loss: 0.4148 - val_acc: 0.8478\n",
            "Epoch 13/20\n",
            "20000/20000 [==============================] - 298s 15ms/step - loss: 0.5001 - acc: 0.8171 - val_loss: 0.3813 - val_acc: 0.8582\n",
            "Epoch 14/20\n",
            "20000/20000 [==============================] - 297s 15ms/step - loss: 0.4787 - acc: 0.8261 - val_loss: 0.3432 - val_acc: 0.8771\n",
            "Epoch 15/20\n",
            "20000/20000 [==============================] - 298s 15ms/step - loss: 0.4671 - acc: 0.8289 - val_loss: 0.3231 - val_acc: 0.8905\n",
            "Epoch 16/20\n",
            "20000/20000 [==============================] - 297s 15ms/step - loss: 0.4545 - acc: 0.8343 - val_loss: 0.5203 - val_acc: 0.8071\n",
            "Epoch 17/20\n",
            "20000/20000 [==============================] - 298s 15ms/step - loss: 0.4444 - acc: 0.8397 - val_loss: 0.7938 - val_acc: 0.7546\n",
            "Epoch 18/20\n",
            "20000/20000 [==============================] - 298s 15ms/step - loss: 0.4217 - acc: 0.8472 - val_loss: 0.3086 - val_acc: 0.8913\n",
            "Epoch 19/20\n",
            "20000/20000 [==============================] - 298s 15ms/step - loss: 0.4125 - acc: 0.8497 - val_loss: 0.4064 - val_acc: 0.8450\n",
            "Epoch 20/20\n",
            "20000/20000 [==============================] - 298s 15ms/step - loss: 0.4090 - acc: 0.8546 - val_loss: 0.3614 - val_acc: 0.8655\n"
          ],
          "name": "stdout"
        }
      ]
    },
    {
      "cell_type": "code",
      "metadata": {
        "id": "Hn4J_13n-POr",
        "colab_type": "code",
        "colab": {
          "base_uri": "https://localhost:8080/",
          "height": 51
        },
        "outputId": "f995bdf6-3eeb-4dff-c2b4-f45db703f87c"
      },
      "source": [
        "model.evaluate(test_img, test_label)\n"
      ],
      "execution_count": 20,
      "outputs": [
        {
          "output_type": "stream",
          "text": [
            "11700/11700 [==============================] - 42s 4ms/step\n"
          ],
          "name": "stdout"
        },
        {
          "output_type": "execute_result",
          "data": {
            "text/plain": [
              "[0.7895362496054726, 0.7717094017094017]"
            ]
          },
          "metadata": {
            "tags": []
          },
          "execution_count": 20
        }
      ]
    },
    {
      "cell_type": "code",
      "metadata": {
        "id": "BHAVoYa_VMF3",
        "colab_type": "code",
        "colab": {
          "base_uri": "https://localhost:8080/",
          "height": 295
        },
        "outputId": "364743c0-9697-41b5-852e-b68b5d5f955b"
      },
      "source": [
        "import matplotlib.pyplot as plt\n",
        "\n",
        "history_dict = history.history \n",
        "\n",
        "loss_values = history_dict ['loss'] \n",
        "\n",
        "val_loss_values = history_dict['val_loss']\n",
        "\n",
        "epochs = range(1, len(loss_values) + 1)\n",
        "\n",
        "\n",
        "\n",
        "plt.plot(epochs, loss_values, 'bo', label='Training loss') \n",
        "\n",
        "plt.plot(epochs, val_loss_values, 'b', label='Validation loss') \n",
        "\n",
        "plt.title('Training and validation loss') \n",
        "\n",
        "plt.xlabel('Epochs') \n",
        "\n",
        "plt.ylabel('Loss') \n",
        "\n",
        "plt.legend()\n",
        "\n",
        "plt.show()"
      ],
      "execution_count": 21,
      "outputs": [
        {
          "output_type": "display_data",
          "data": {
            "image/png": "[encoded data removed]",
            "text/plain": [
              "<Figure size 432x288 with 1 Axes>"
            ]
          },
          "metadata": {
            "tags": []
          }
        }
      ]
    },
    {
      "cell_type": "code",
      "metadata": {
        "id": "qXe3h1sOWRBb",
        "colab_type": "code",
        "colab": {
          "base_uri": "https://localhost:8080/",
          "height": 295
        },
        "outputId": "3209bd7a-a957-4f11-d98e-9253981eca44"
      },
      "source": [
        "history_dict = history.history \n",
        "\n",
        "acc_values = history_dict ['acc'] \n",
        "\n",
        "val_acc_values = history_dict['val_acc']\n",
        "\n",
        "\n",
        "\n",
        "plt.plot(epochs, acc_values, 'bo', label='Training acc') \n",
        "\n",
        "plt.plot(epochs, val_acc_values, 'b', label='Validation acc') \n",
        "\n",
        "plt.title('Training and validation acc') \n",
        "\n",
        "plt.xlabel('Epochs') \n",
        "\n",
        "plt.ylabel('acc') \n",
        "\n",
        "plt.legend()\n",
        "\n",
        "plt.show()"
      ],
      "execution_count": 22,
      "outputs": [
        {
          "output_type": "display_data",
          "data": {
            "image/png": "[encoded data removed]",
            "text/plain": [
              "<Figure size 432x288 with 1 Axes>"
            ]
          },
          "metadata": {
            "tags": []
          }
        }
      ]
    },
    {
      "cell_type": "code",
      "metadata": {
        "id": "TuIY1o8hWS3O",
        "colab_type": "code",
        "colab": {}
      },
      "source": [
        ""
      ],
      "execution_count": 0,
      "outputs": []
    }
  ]
}