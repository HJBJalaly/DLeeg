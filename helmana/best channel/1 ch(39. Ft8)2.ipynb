{
  "nbformat": 4,
  "nbformat_minor": 0,
  "metadata": {
    "colab": {
      "name": "1 ch(39. Ft8).ipynb",
      "version": "0.3.2",
      "provenance": [],
      "include_colab_link": true
    },
    "kernelspec": {
      "name": "python3",
      "display_name": "Python 3"
    },
    "accelerator": "GPU"
  },
  "cells": [
    {
      "cell_type": "markdown",
      "metadata": {
        "id": "view-in-github",
        "colab_type": "text"
      },
      "source": [
        "<a href=\"https://colab.research.google.com/github/helmana/DLeeg/blob/master/best%20channel/1%20ch(39.%20Ft8)2.ipynb\" target=\"_parent\"><img src=\"https://colab.research.google.com/assets/colab-badge.svg\" alt=\"Open In Colab\"/></a>"
      ]
    },
    {
      "cell_type": "code",
      "metadata": {
        "id": "Xped1-YRySlp",
        "colab_type": "code",
        "outputId": "460204ae-4dfd-4ff5-af85-b88d66d4175a",
        "colab": {
          "base_uri": "https://localhost:8080/",
          "height": 203
        }
      },
      "source": [
        "'''\n",
        "1 channel :  Ft8 (index = 39)\n",
        "\n",
        "layers: 3 conv2D(3,3) & maxpooling(2,2)\n",
        "epoch: 20 \n",
        "batch size: 20\n",
        "\n",
        "test acc: 0.7867\n",
        "test loss: 0.9365\n",
        "\n",
        "'''\n",
        "\n",
        "import matplotlib\n",
        "from matplotlib import pyplot as plt\n",
        "import numpy as np\n",
        "\n",
        "\n",
        "\n",
        "import random\n",
        "import mne\n",
        "from mne.preprocessing import create_ecg_epochs, create_eog_epochs\n",
        "from mne import io\n",
        "from mne import viz\n",
        "#from mne.datasets import testing\n",
        "from mne import Epochs, io, pick_types\n",
        "from mne.event import define_target_events\n",
        "from mne.time_frequency import psd_welch\n",
        "print(__doc__)"
      ],
      "execution_count": 75,
      "outputs": [
        {
          "output_type": "stream",
          "text": [
            "\n",
            "1 channel :  Ft8 (index = 39)\n",
            "\n",
            "layers: 3 conv2D(3,3) & maxpooling(2,2)\n",
            "epoch: 20 \n",
            "batch size: 20\n",
            "\n",
            "test acc: 0.\n",
            "test loss: 0.\n",
            "\n",
            "\n"
          ],
          "name": "stdout"
        }
      ]
    },
    {
      "cell_type": "code",
      "metadata": {
        "id": "6l2tWWnXy-5P",
        "colab_type": "code",
        "outputId": "5544fc65-f1a7-46e3-9674-49b7bda1d26a",
        "colab": {
          "base_uri": "https://localhost:8080/",
          "height": 240
        }
      },
      "source": [
        "!pip install mne"
      ],
      "execution_count": 2,
      "outputs": [
        {
          "output_type": "stream",
          "text": [
            "Collecting mne\n",
            "\u001b[?25l  Downloading https://files.pythonhosted.org/packages/42/ec/08afc26ea6204473031f786d0f3034119a5a138d40062b37fbf578c81c01/mne-0.18.2.tar.gz (6.3MB)\n",
            "\u001b[K     |████████████████████████████████| 6.3MB 2.8MB/s \n",
            "\u001b[?25hRequirement already satisfied: numpy>=1.11.3 in /usr/local/lib/python3.6/dist-packages (from mne) (1.16.4)\n",
            "Requirement already satisfied: scipy>=0.17.1 in /usr/local/lib/python3.6/dist-packages (from mne) (1.3.1)\n",
            "Building wheels for collected packages: mne\n",
            "  Building wheel for mne (setup.py) ... \u001b[?25l\u001b[?25hdone\n",
            "  Created wheel for mne: filename=mne-0.18.2-cp36-none-any.whl size=6316005 sha256=3a3031f6192f02ffaee2e4a045759ef8f19641bb84c5929267d387acbb4adec5\n",
            "  Stored in directory: /root/.cache/pip/wheels/71/40/30/fb9a9bdeac02c6b3b144be66ac345c5b5587a7d7610564535b\n",
            "Successfully built mne\n",
            "Installing collected packages: mne\n",
            "Successfully installed mne-0.18.2\n"
          ],
          "name": "stdout"
        }
      ]
    },
    {
      "cell_type": "code",
      "metadata": {
        "id": "5NZsRUd-yVJd",
        "colab_type": "code",
        "outputId": "85379c1f-8282-4158-fc47-9d8b099ba1e7",
        "colab": {
          "base_uri": "https://localhost:8080/",
          "height": 1000
        }
      },
      "source": [
        "subject_number=20\n",
        "\n",
        "\n",
        "# load dataset in array\n",
        "list_raw_fnames = [[0]*2]*subject_number\n",
        "for x in range(subject_number):\n",
        "    list_raw_fnames[x] = mne.datasets.eegbci.load_data(x+1,[1,2])\n",
        "\n",
        "list_rawdata1 = np.zeros((subject_number,2), dtype='object')\n",
        "list_rawdata = np.zeros((subject_number,2), dtype='object')\n",
        "\n",
        "for i in range(subject_number):\n",
        "    for j in range(2):\n",
        "        list_rawdata[i][j] = mne.io.read_raw_edf(list_raw_fnames[i][j], preload=True)\n",
        "       "
      ],
      "execution_count": 76,
      "outputs": [
        {
          "output_type": "stream",
          "text": [
            "Extracting EDF parameters from /root/mne_data/MNE-eegbci-data/physiobank/database/eegmmidb/S001/S001R01.edf...\n",
            "EDF file detected\n",
            "Setting channel info structure...\n",
            "Creating raw.info structure...\n",
            "Reading 0 ... 9759  =      0.000 ...    60.994 secs...\n",
            "Extracting EDF parameters from /root/mne_data/MNE-eegbci-data/physiobank/database/eegmmidb/S001/S001R02.edf...\n",
            "EDF file detected\n",
            "Setting channel info structure...\n",
            "Creating raw.info structure...\n",
            "Reading 0 ... 9759  =      0.000 ...    60.994 secs...\n",
            "Extracting EDF parameters from /root/mne_data/MNE-eegbci-data/physiobank/database/eegmmidb/S002/S002R01.edf...\n",
            "EDF file detected\n",
            "Setting channel info structure...\n",
            "Creating raw.info structure...\n",
            "Reading 0 ... 9759  =      0.000 ...    60.994 secs...\n",
            "Extracting EDF parameters from /root/mne_data/MNE-eegbci-data/physiobank/database/eegmmidb/S002/S002R02.edf...\n",
            "EDF file detected\n",
            "Setting channel info structure...\n",
            "Creating raw.info structure...\n",
            "Reading 0 ... 9759  =      0.000 ...    60.994 secs...\n",
            "Extracting EDF parameters from /root/mne_data/MNE-eegbci-data/physiobank/database/eegmmidb/S003/S003R01.edf...\n",
            "EDF file detected\n",
            "Setting channel info structure...\n",
            "Creating raw.info structure...\n",
            "Reading 0 ... 9759  =      0.000 ...    60.994 secs...\n",
            "Extracting EDF parameters from /root/mne_data/MNE-eegbci-data/physiobank/database/eegmmidb/S003/S003R02.edf...\n",
            "EDF file detected\n",
            "Setting channel info structure...\n",
            "Creating raw.info structure...\n",
            "Reading 0 ... 9759  =      0.000 ...    60.994 secs...\n",
            "Extracting EDF parameters from /root/mne_data/MNE-eegbci-data/physiobank/database/eegmmidb/S004/S004R01.edf...\n",
            "EDF file detected\n",
            "Setting channel info structure...\n",
            "Creating raw.info structure...\n",
            "Reading 0 ... 9759  =      0.000 ...    60.994 secs...\n",
            "Extracting EDF parameters from /root/mne_data/MNE-eegbci-data/physiobank/database/eegmmidb/S004/S004R02.edf...\n",
            "EDF file detected\n",
            "Setting channel info structure...\n",
            "Creating raw.info structure...\n",
            "Reading 0 ... 9759  =      0.000 ...    60.994 secs...\n",
            "Extracting EDF parameters from /root/mne_data/MNE-eegbci-data/physiobank/database/eegmmidb/S005/S005R01.edf...\n",
            "EDF file detected\n",
            "Setting channel info structure...\n",
            "Creating raw.info structure...\n",
            "Reading 0 ... 9759  =      0.000 ...    60.994 secs...\n",
            "Extracting EDF parameters from /root/mne_data/MNE-eegbci-data/physiobank/database/eegmmidb/S005/S005R02.edf...\n",
            "EDF file detected\n",
            "Setting channel info structure...\n",
            "Creating raw.info structure...\n",
            "Reading 0 ... 9759  =      0.000 ...    60.994 secs...\n",
            "Extracting EDF parameters from /root/mne_data/MNE-eegbci-data/physiobank/database/eegmmidb/S006/S006R01.edf...\n",
            "EDF file detected\n",
            "Setting channel info structure...\n",
            "Creating raw.info structure...\n",
            "Reading 0 ... 9759  =      0.000 ...    60.994 secs...\n",
            "Extracting EDF parameters from /root/mne_data/MNE-eegbci-data/physiobank/database/eegmmidb/S006/S006R02.edf...\n",
            "EDF file detected\n",
            "Setting channel info structure...\n",
            "Creating raw.info structure...\n",
            "Reading 0 ... 9759  =      0.000 ...    60.994 secs...\n",
            "Extracting EDF parameters from /root/mne_data/MNE-eegbci-data/physiobank/database/eegmmidb/S007/S007R01.edf...\n",
            "EDF file detected\n",
            "Setting channel info structure...\n",
            "Creating raw.info structure...\n",
            "Reading 0 ... 9759  =      0.000 ...    60.994 secs...\n",
            "Extracting EDF parameters from /root/mne_data/MNE-eegbci-data/physiobank/database/eegmmidb/S007/S007R02.edf...\n",
            "EDF file detected\n",
            "Setting channel info structure...\n",
            "Creating raw.info structure...\n",
            "Reading 0 ... 9759  =      0.000 ...    60.994 secs...\n",
            "Extracting EDF parameters from /root/mne_data/MNE-eegbci-data/physiobank/database/eegmmidb/S008/S008R01.edf...\n",
            "EDF file detected\n",
            "Setting channel info structure...\n",
            "Creating raw.info structure...\n",
            "Reading 0 ... 9759  =      0.000 ...    60.994 secs...\n",
            "Extracting EDF parameters from /root/mne_data/MNE-eegbci-data/physiobank/database/eegmmidb/S008/S008R02.edf...\n",
            "EDF file detected\n",
            "Setting channel info structure...\n",
            "Creating raw.info structure...\n",
            "Reading 0 ... 9759  =      0.000 ...    60.994 secs...\n",
            "Extracting EDF parameters from /root/mne_data/MNE-eegbci-data/physiobank/database/eegmmidb/S009/S009R01.edf...\n",
            "EDF file detected\n",
            "Setting channel info structure...\n",
            "Creating raw.info structure...\n",
            "Reading 0 ... 9759  =      0.000 ...    60.994 secs...\n",
            "Extracting EDF parameters from /root/mne_data/MNE-eegbci-data/physiobank/database/eegmmidb/S009/S009R02.edf...\n",
            "EDF file detected\n",
            "Setting channel info structure...\n",
            "Creating raw.info structure...\n",
            "Reading 0 ... 9759  =      0.000 ...    60.994 secs...\n",
            "Extracting EDF parameters from /root/mne_data/MNE-eegbci-data/physiobank/database/eegmmidb/S010/S010R01.edf...\n",
            "EDF file detected\n",
            "Setting channel info structure...\n",
            "Creating raw.info structure...\n",
            "Reading 0 ... 9759  =      0.000 ...    60.994 secs...\n",
            "Extracting EDF parameters from /root/mne_data/MNE-eegbci-data/physiobank/database/eegmmidb/S010/S010R02.edf...\n",
            "EDF file detected\n",
            "Setting channel info structure...\n",
            "Creating raw.info structure...\n",
            "Reading 0 ... 9759  =      0.000 ...    60.994 secs...\n",
            "Extracting EDF parameters from /root/mne_data/MNE-eegbci-data/physiobank/database/eegmmidb/S011/S011R01.edf...\n",
            "EDF file detected\n",
            "Setting channel info structure...\n",
            "Creating raw.info structure...\n",
            "Reading 0 ... 9759  =      0.000 ...    60.994 secs...\n",
            "Extracting EDF parameters from /root/mne_data/MNE-eegbci-data/physiobank/database/eegmmidb/S011/S011R02.edf...\n",
            "EDF file detected\n",
            "Setting channel info structure...\n",
            "Creating raw.info structure...\n",
            "Reading 0 ... 9759  =      0.000 ...    60.994 secs...\n",
            "Extracting EDF parameters from /root/mne_data/MNE-eegbci-data/physiobank/database/eegmmidb/S012/S012R01.edf...\n",
            "EDF file detected\n",
            "Setting channel info structure...\n",
            "Creating raw.info structure...\n",
            "Reading 0 ... 9759  =      0.000 ...    60.994 secs...\n",
            "Extracting EDF parameters from /root/mne_data/MNE-eegbci-data/physiobank/database/eegmmidb/S012/S012R02.edf...\n",
            "EDF file detected\n",
            "Setting channel info structure...\n",
            "Creating raw.info structure...\n",
            "Reading 0 ... 9759  =      0.000 ...    60.994 secs...\n",
            "Extracting EDF parameters from /root/mne_data/MNE-eegbci-data/physiobank/database/eegmmidb/S013/S013R01.edf...\n",
            "EDF file detected\n",
            "Setting channel info structure...\n",
            "Creating raw.info structure...\n",
            "Reading 0 ... 9759  =      0.000 ...    60.994 secs...\n",
            "Extracting EDF parameters from /root/mne_data/MNE-eegbci-data/physiobank/database/eegmmidb/S013/S013R02.edf...\n",
            "EDF file detected\n",
            "Setting channel info structure...\n",
            "Creating raw.info structure...\n",
            "Reading 0 ... 9759  =      0.000 ...    60.994 secs...\n",
            "Extracting EDF parameters from /root/mne_data/MNE-eegbci-data/physiobank/database/eegmmidb/S014/S014R01.edf...\n",
            "EDF file detected\n",
            "Setting channel info structure...\n",
            "Creating raw.info structure...\n",
            "Reading 0 ... 9599  =      0.000 ...    59.994 secs...\n",
            "Extracting EDF parameters from /root/mne_data/MNE-eegbci-data/physiobank/database/eegmmidb/S014/S014R02.edf...\n",
            "EDF file detected\n",
            "Setting channel info structure...\n",
            "Creating raw.info structure...\n",
            "Reading 0 ... 9759  =      0.000 ...    60.994 secs...\n",
            "Extracting EDF parameters from /root/mne_data/MNE-eegbci-data/physiobank/database/eegmmidb/S015/S015R01.edf...\n",
            "EDF file detected\n",
            "Setting channel info structure...\n",
            "Creating raw.info structure...\n",
            "Reading 0 ... 9759  =      0.000 ...    60.994 secs...\n",
            "Extracting EDF parameters from /root/mne_data/MNE-eegbci-data/physiobank/database/eegmmidb/S015/S015R02.edf...\n",
            "EDF file detected\n",
            "Setting channel info structure...\n",
            "Creating raw.info structure...\n",
            "Reading 0 ... 9759  =      0.000 ...    60.994 secs...\n",
            "Extracting EDF parameters from /root/mne_data/MNE-eegbci-data/physiobank/database/eegmmidb/S016/S016R01.edf...\n",
            "EDF file detected\n",
            "Setting channel info structure...\n",
            "Creating raw.info structure...\n",
            "Reading 0 ... 9759  =      0.000 ...    60.994 secs...\n",
            "Extracting EDF parameters from /root/mne_data/MNE-eegbci-data/physiobank/database/eegmmidb/S016/S016R02.edf...\n",
            "EDF file detected\n",
            "Setting channel info structure...\n",
            "Creating raw.info structure...\n",
            "Reading 0 ... 9759  =      0.000 ...    60.994 secs...\n",
            "Extracting EDF parameters from /root/mne_data/MNE-eegbci-data/physiobank/database/eegmmidb/S017/S017R01.edf...\n",
            "EDF file detected\n",
            "Setting channel info structure...\n",
            "Creating raw.info structure...\n",
            "Reading 0 ... 9759  =      0.000 ...    60.994 secs...\n",
            "Extracting EDF parameters from /root/mne_data/MNE-eegbci-data/physiobank/database/eegmmidb/S017/S017R02.edf...\n",
            "EDF file detected\n",
            "Setting channel info structure...\n",
            "Creating raw.info structure...\n",
            "Reading 0 ... 9759  =      0.000 ...    60.994 secs...\n",
            "Extracting EDF parameters from /root/mne_data/MNE-eegbci-data/physiobank/database/eegmmidb/S018/S018R01.edf...\n",
            "EDF file detected\n",
            "Setting channel info structure...\n",
            "Creating raw.info structure...\n",
            "Reading 0 ... 9759  =      0.000 ...    60.994 secs...\n",
            "Extracting EDF parameters from /root/mne_data/MNE-eegbci-data/physiobank/database/eegmmidb/S018/S018R02.edf...\n",
            "EDF file detected\n",
            "Setting channel info structure...\n",
            "Creating raw.info structure...\n",
            "Reading 0 ... 9759  =      0.000 ...    60.994 secs...\n",
            "Extracting EDF parameters from /root/mne_data/MNE-eegbci-data/physiobank/database/eegmmidb/S019/S019R01.edf...\n",
            "EDF file detected\n",
            "Setting channel info structure...\n",
            "Creating raw.info structure...\n",
            "Reading 0 ... 9759  =      0.000 ...    60.994 secs...\n",
            "Extracting EDF parameters from /root/mne_data/MNE-eegbci-data/physiobank/database/eegmmidb/S019/S019R02.edf...\n",
            "EDF file detected\n",
            "Setting channel info structure...\n",
            "Creating raw.info structure...\n",
            "Reading 0 ... 9759  =      0.000 ...    60.994 secs...\n",
            "Extracting EDF parameters from /root/mne_data/MNE-eegbci-data/physiobank/database/eegmmidb/S020/S020R01.edf...\n",
            "EDF file detected\n",
            "Setting channel info structure...\n",
            "Creating raw.info structure...\n",
            "Reading 0 ... 9759  =      0.000 ...    60.994 secs...\n",
            "Extracting EDF parameters from /root/mne_data/MNE-eegbci-data/physiobank/database/eegmmidb/S020/S020R02.edf...\n",
            "EDF file detected\n",
            "Setting channel info structure...\n",
            "Creating raw.info structure...\n",
            "Reading 0 ... 9759  =      0.000 ...    60.994 secs...\n"
          ],
          "name": "stdout"
        }
      ]
    },
    {
      "cell_type": "code",
      "metadata": {
        "id": "2P1nWceqyZcf",
        "colab_type": "code",
        "outputId": "7636c6a1-feee-47a8-ab17-b071931fd6c0",
        "colab": {
          "base_uri": "https://localhost:8080/",
          "height": 34
        }
      },
      "source": [
        "import math\n",
        "\n",
        "\n",
        "task_number=1\n",
        "task_time = 60\n",
        "sampel_number_per_sec =  160 # sampel rate\n",
        "total_sampel_number =  sampel_number_per_sec *task_time # 60*160\n",
        "sample_shift = 4 #step len\n",
        "window_len= 20\n",
        "list_channel = [39] # channel = Ft8\n",
        "\n",
        "# img for each one\n",
        "subject_img_number = math.floor((total_sampel_number - sampel_number_per_sec) / sample_shift) +1 - window_len +1\n",
        "test_start_index=subject_img_number - math.floor(subject_img_number/4) \n",
        "\n",
        "train_number =  test_start_index \n",
        "test_number = subject_img_number - test_start_index\n",
        "train_number"
      ],
      "execution_count": 77,
      "outputs": [
        {
          "output_type": "execute_result",
          "data": {
            "text/plain": [
              "1757"
            ]
          },
          "metadata": {
            "tags": []
          },
          "execution_count": 77
        }
      ]
    },
    {
      "cell_type": "code",
      "metadata": {
        "id": "Us2pgec8ybqe",
        "colab_type": "code",
        "outputId": "d50660d6-607e-454c-a638-22188e56e89d",
        "colab": {
          "base_uri": "https://localhost:8080/",
          "height": 34
        }
      },
      "source": [
        "ch_number = len(list_channel)\n",
        "\n",
        "train_img = np.zeros((train_number*subject_number, ch_number, window_len + 1, 160), dtype = float)\n",
        "train_label =[]\n",
        "\n",
        "\n",
        "test_img = np.zeros((test_number*subject_number, ch_number, window_len, 160), dtype = float)\n",
        "test_label =[]\n",
        "\n",
        "\n",
        "train_img.shape\n"
      ],
      "execution_count": 78,
      "outputs": [
        {
          "output_type": "execute_result",
          "data": {
            "text/plain": [
              "(35140, 1, 21, 160)"
            ]
          },
          "metadata": {
            "tags": []
          },
          "execution_count": 78
        }
      ]
    },
    {
      "cell_type": "code",
      "metadata": {
        "id": "ukk-VY3Kyd8U",
        "colab_type": "code",
        "colab": {}
      },
      "source": [
        "def normalize_channel_data(ch , i, ch_min, ch_max):\n",
        "  ch = ((ch - ch_min[i]) / (ch_max[i] - ch_min[i] ))\n",
        "  return ch"
      ],
      "execution_count": 0,
      "outputs": []
    },
    {
      "cell_type": "code",
      "metadata": {
        "id": "QCyhWiVVyf0a",
        "colab_type": "code",
        "colab": {}
      },
      "source": [
        "for s in range(subject_number):\n",
        "    ch_max =[]\n",
        "    ch_min =[]\n",
        "    for ch in list_channel:\n",
        "      rawdataChannels_t, times_t =list_rawdata[s][0][ch,:9600]\n",
        "      #print(rawdataChannels_t)\n",
        "      ch_max = np.append(ch_max, max(rawdataChannels_t[0])) # max for each cannel\n",
        "      ch_min = np.append(ch_min, min(rawdataChannels_t[0])) # min for each cannel\n",
        "    \n",
        "    for j in range (subject_img_number):\n",
        "        i = 0\n",
        "        for index in list_channel: # فقط کانال های با اندیس مشخص را دربرمیگیرد\n",
        "            \n",
        "            for z in range (window_len):\n",
        "                rawdataChannels, times =list_rawdata[s][0][index, (j+z)*sample_shift:sampel_number_per_sec+(j+z)*sample_shift]\n",
        "\n",
        "                      # normalize method\n",
        "                rawdataChannels = normalize_channel_data(rawdataChannels, i, ch_min, ch_max)\n",
        "                if j <test_start_index :\n",
        "                    train_img[s*train_number + j][i][z] = rawdataChannels\n",
        "                    if z==window_len-1 :\n",
        "                      train_img[s*train_number + j][i][z+1] = s\n",
        "                      \n",
        "                      \n",
        "                else:\n",
        "                    test_img[s*test_number + j - test_start_index][i][z] = rawdataChannels\n",
        "            i+=1            \n",
        "                    \n",
        "              \n",
        "        if j >=test_start_index :\n",
        "          test_label = np.append(test_label, (s))"
      ],
      "execution_count": 0,
      "outputs": []
    },
    {
      "cell_type": "code",
      "metadata": {
        "id": "fS9S86PSyi25",
        "colab_type": "code",
        "colab": {}
      },
      "source": [
        "#shaffle train img array\n",
        "train_img_shuffle = train_img\n",
        "\n",
        "np.random.shuffle(train_img_shuffle)"
      ],
      "execution_count": 0,
      "outputs": []
    },
    {
      "cell_type": "code",
      "metadata": {
        "id": "-dymaSTMyrs_",
        "colab_type": "code",
        "colab": {}
      },
      "source": [
        "train_img_2 = np.zeros((train_number*subject_number, ch_number, window_len, 160), dtype = float)\n",
        "\n",
        "# img label \n",
        "train_img_shuffle_len =len(train_img_shuffle)\n",
        "for i in range(train_img_shuffle_len):\n",
        "    train_label = np.append(train_label, (train_img_shuffle[i][0][window_len][0] ))\n",
        "    for j in range (ch_number):\n",
        "      train_img_2[i][j] = np.delete(train_img_shuffle[i][j], window_len, axis=0)"
      ],
      "execution_count": 0,
      "outputs": []
    },
    {
      "cell_type": "code",
      "metadata": {
        "id": "UkSQvYekytkU",
        "colab_type": "code",
        "colab": {}
      },
      "source": [
        "from keras.utils import to_categorical"
      ],
      "execution_count": 0,
      "outputs": []
    },
    {
      "cell_type": "code",
      "metadata": {
        "id": "k9ikjhciyvwN",
        "colab_type": "code",
        "colab": {}
      },
      "source": [
        "train_label = to_categorical(train_label, subject_number)\n",
        "test_label = to_categorical(test_label, subject_number)"
      ],
      "execution_count": 0,
      "outputs": []
    },
    {
      "cell_type": "code",
      "metadata": {
        "id": "2SQVOKEVyx5Z",
        "colab_type": "code",
        "outputId": "8fb1c099-9b2f-49b7-893b-419366e0585e",
        "colab": {
          "base_uri": "https://localhost:8080/",
          "height": 34
        }
      },
      "source": [
        "# valid & train\n",
        "x_train =train_img_2[:20000]\n",
        "y_train =train_label[:20000]\n",
        "\n",
        "x_valid =train_img_2[20000:]\n",
        "y_valid =train_label[20000:]\n",
        "\n",
        "x_valid.shape"
      ],
      "execution_count": 85,
      "outputs": [
        {
          "output_type": "execute_result",
          "data": {
            "text/plain": [
              "(15140, 1, 20, 160)"
            ]
          },
          "metadata": {
            "tags": []
          },
          "execution_count": 85
        }
      ]
    },
    {
      "cell_type": "code",
      "metadata": {
        "id": "bgkqd0b72u8V",
        "colab_type": "code",
        "outputId": "c22b5221-ed05-46e2-ce77-ce13d129c701",
        "colab": {
          "base_uri": "https://localhost:8080/",
          "height": 355
        }
      },
      "source": [
        "train_label[:10]"
      ],
      "execution_count": 69,
      "outputs": [
        {
          "output_type": "execute_result",
          "data": {
            "text/plain": [
              "array([[0., 0., 0., 0., 0., 0., 0., 0., 0., 0., 0., 0., 0., 0., 0., 1.,\n",
              "        0., 0., 0., 0.],\n",
              "       [0., 1., 0., 0., 0., 0., 0., 0., 0., 0., 0., 0., 0., 0., 0., 0.,\n",
              "        0., 0., 0., 0.],\n",
              "       [0., 0., 0., 0., 0., 0., 0., 0., 0., 0., 0., 0., 0., 0., 0., 0.,\n",
              "        1., 0., 0., 0.],\n",
              "       [0., 0., 0., 0., 0., 0., 0., 0., 0., 1., 0., 0., 0., 0., 0., 0.,\n",
              "        0., 0., 0., 0.],\n",
              "       [0., 1., 0., 0., 0., 0., 0., 0., 0., 0., 0., 0., 0., 0., 0., 0.,\n",
              "        0., 0., 0., 0.],\n",
              "       [0., 0., 0., 0., 0., 0., 0., 0., 0., 0., 0., 0., 1., 0., 0., 0.,\n",
              "        0., 0., 0., 0.],\n",
              "       [0., 0., 1., 0., 0., 0., 0., 0., 0., 0., 0., 0., 0., 0., 0., 0.,\n",
              "        0., 0., 0., 0.],\n",
              "       [0., 0., 0., 0., 0., 0., 0., 0., 0., 0., 0., 0., 0., 0., 0., 1.,\n",
              "        0., 0., 0., 0.],\n",
              "       [0., 0., 0., 0., 0., 0., 0., 0., 0., 0., 0., 0., 0., 0., 0., 0.,\n",
              "        0., 0., 1., 0.],\n",
              "       [0., 1., 0., 0., 0., 0., 0., 0., 0., 0., 0., 0., 0., 0., 0., 0.,\n",
              "        0., 0., 0., 0.]], dtype=float32)"
            ]
          },
          "metadata": {
            "tags": []
          },
          "execution_count": 69
        }
      ]
    },
    {
      "cell_type": "code",
      "metadata": {
        "id": "ghK0aa5CyzwG",
        "colab_type": "code",
        "outputId": "d55b1324-2678-4843-d3fd-cd79044eb561",
        "colab": {
          "base_uri": "https://localhost:8080/",
          "height": 152
        }
      },
      "source": [
        "from keras import layers\n",
        "from keras import models\n",
        "from keras import regularizers\n",
        "\n",
        "\n",
        "model = models.Sequential()\n",
        "model.add(layers.Conv2D(64, (3,3), activation = 'relu', padding='same', input_shape = (ch_number,window_len,160), data_format= \"channels_first\" ))\n",
        "print(model.output.shape)\n",
        "model.add(layers.MaxPooling2D((2,2)))\n",
        "print(model.output.shape)\n",
        "model.add(layers.Conv2D(128, (3,3), activation = 'relu'))\n",
        "print(model.output.shape)\n",
        "model.add(layers.MaxPooling2D((2,2)))\n",
        "print(model.output.shape)\n",
        "model.add(layers.Conv2D(256, (3,3), activation = 'relu'))\n",
        "print(model.output.shape)\n",
        "model.add(layers.MaxPooling2D((2,2)))\n",
        "\n",
        "\n",
        "model.add(layers.Flatten())\n",
        "print(model.output.shape)\n",
        "model.add(layers.Dense(512, activation = 'relu'))\n",
        "model.add(layers.Dropout(0.5))\n",
        "print(model.output.shape)\n",
        "model.add(layers.Dense(subject_number, activation = 'softmax'))\n",
        "print(model.output.shape)\n",
        "\n",
        "\n",
        "\n",
        "\n",
        "from keras import optimizers\n",
        "\n",
        "model.compile(loss= 'categorical_crossentropy',\n",
        "              optimizer= optimizers.RMSprop(lr= 1e-4),\n",
        "              metrics = ['acc'])"
      ],
      "execution_count": 86,
      "outputs": [
        {
          "output_type": "stream",
          "text": [
            "(?, 64, 20, 160)\n",
            "(?, 32, 10, 160)\n",
            "(?, 30, 8, 128)\n",
            "(?, 15, 4, 128)\n",
            "(?, 13, 2, 256)\n",
            "(?, ?)\n",
            "(?, 512)\n",
            "(?, 20)\n"
          ],
          "name": "stdout"
        }
      ]
    },
    {
      "cell_type": "code",
      "metadata": {
        "id": "5cuXqgjey1aZ",
        "colab_type": "code",
        "outputId": "820e5bea-e351-478d-b894-c1d08b4cbca7",
        "colab": {
          "base_uri": "https://localhost:8080/",
          "height": 730
        }
      },
      "source": [
        "history = model.fit(\n",
        "        x_train,\n",
        "        y_train,\n",
        "        epochs = 20,\n",
        "        batch_size = 20,\n",
        "        validation_data = (x_valid, y_valid)\n",
        ")"
      ],
      "execution_count": 87,
      "outputs": [
        {
          "output_type": "stream",
          "text": [
            "Train on 20000 samples, validate on 15140 samples\n",
            "Epoch 1/20\n",
            "20000/20000 [==============================] - 19s 963us/step - loss: 2.2511 - acc: 0.2592 - val_loss: 1.3441 - val_acc: 0.5824\n",
            "Epoch 2/20\n",
            "20000/20000 [==============================] - 18s 924us/step - loss: 1.2889 - acc: 0.5427 - val_loss: 0.9038 - val_acc: 0.7224\n",
            "Epoch 3/20\n",
            "20000/20000 [==============================] - 19s 931us/step - loss: 0.9883 - acc: 0.6444 - val_loss: 0.7509 - val_acc: 0.7682\n",
            "Epoch 4/20\n",
            "20000/20000 [==============================] - 19s 937us/step - loss: 0.8238 - acc: 0.7028 - val_loss: 0.6321 - val_acc: 0.7881\n",
            "Epoch 5/20\n",
            "20000/20000 [==============================] - 19s 929us/step - loss: 0.7057 - acc: 0.7501 - val_loss: 0.6869 - val_acc: 0.7558\n",
            "Epoch 6/20\n",
            "20000/20000 [==============================] - 19s 932us/step - loss: 0.6176 - acc: 0.7805 - val_loss: 0.4748 - val_acc: 0.8392\n",
            "Epoch 7/20\n",
            "20000/20000 [==============================] - 19s 943us/step - loss: 0.5497 - acc: 0.8029 - val_loss: 0.4228 - val_acc: 0.8491\n",
            "Epoch 8/20\n",
            "20000/20000 [==============================] - 19s 929us/step - loss: 0.4976 - acc: 0.8223 - val_loss: 0.4137 - val_acc: 0.8497\n",
            "Epoch 9/20\n",
            "20000/20000 [==============================] - 19s 931us/step - loss: 0.4486 - acc: 0.8396 - val_loss: 0.3745 - val_acc: 0.8694\n",
            "Epoch 10/20\n",
            "20000/20000 [==============================] - 19s 930us/step - loss: 0.4110 - acc: 0.8531 - val_loss: 0.3596 - val_acc: 0.8718\n",
            "Epoch 11/20\n",
            "20000/20000 [==============================] - 19s 925us/step - loss: 0.3832 - acc: 0.8605 - val_loss: 0.2781 - val_acc: 0.9121\n",
            "Epoch 12/20\n",
            "20000/20000 [==============================] - 19s 937us/step - loss: 0.3555 - acc: 0.8715 - val_loss: 0.2712 - val_acc: 0.9093\n",
            "Epoch 13/20\n",
            "20000/20000 [==============================] - 19s 935us/step - loss: 0.3273 - acc: 0.8816 - val_loss: 0.2195 - val_acc: 0.9273\n",
            "Epoch 14/20\n",
            "20000/20000 [==============================] - 19s 934us/step - loss: 0.3072 - acc: 0.8905 - val_loss: 0.1983 - val_acc: 0.9374\n",
            "Epoch 15/20\n",
            "20000/20000 [==============================] - 19s 933us/step - loss: 0.2848 - acc: 0.8984 - val_loss: 0.2284 - val_acc: 0.9295\n",
            "Epoch 16/20\n",
            "20000/20000 [==============================] - 19s 943us/step - loss: 0.2641 - acc: 0.9036 - val_loss: 0.2076 - val_acc: 0.9303\n",
            "Epoch 17/20\n",
            "20000/20000 [==============================] - 19s 931us/step - loss: 0.2511 - acc: 0.9109 - val_loss: 0.1891 - val_acc: 0.9371\n",
            "Epoch 18/20\n",
            "20000/20000 [==============================] - 19s 941us/step - loss: 0.2350 - acc: 0.9171 - val_loss: 0.1410 - val_acc: 0.9526\n",
            "Epoch 19/20\n",
            "20000/20000 [==============================] - 19s 939us/step - loss: 0.2196 - acc: 0.9220 - val_loss: 0.1964 - val_acc: 0.9340\n",
            "Epoch 20/20\n",
            "20000/20000 [==============================] - 19s 938us/step - loss: 0.2003 - acc: 0.9286 - val_loss: 0.3414 - val_acc: 0.8812\n"
          ],
          "name": "stdout"
        }
      ]
    },
    {
      "cell_type": "code",
      "metadata": {
        "id": "5XEoeaxwy3nf",
        "colab_type": "code",
        "outputId": "594612ad-3f8d-4d19-cb51-d8bee041125b",
        "colab": {
          "base_uri": "https://localhost:8080/",
          "height": 51
        }
      },
      "source": [
        "model.evaluate(test_img, test_label)\n"
      ],
      "execution_count": 88,
      "outputs": [
        {
          "output_type": "stream",
          "text": [
            "11700/11700 [==============================] - 2s 211us/step\n"
          ],
          "name": "stdout"
        },
        {
          "output_type": "execute_result",
          "data": {
            "text/plain": [
              "[0.9365314033685508, 0.7867521367521367]"
            ]
          },
          "metadata": {
            "tags": []
          },
          "execution_count": 88
        }
      ]
    },
    {
      "cell_type": "code",
      "metadata": {
        "id": "DqsB3sPS1HQH",
        "colab_type": "code",
        "outputId": "bc701f07-03ec-4ee1-ce74-ca7007217a3f",
        "colab": {
          "base_uri": "https://localhost:8080/",
          "height": 295
        }
      },
      "source": [
        "import matplotlib.pyplot as plt\n",
        "\n",
        "history_dict = history.history \n",
        "\n",
        "loss_values = history_dict ['loss'] \n",
        "\n",
        "val_loss_values = history_dict['val_loss']\n",
        "\n",
        "epochs = range(1, len(loss_values) + 1)\n",
        "\n",
        "\n",
        "\n",
        "plt.plot(epochs, loss_values, 'bo', label='Training loss') \n",
        "\n",
        "plt.plot(epochs, val_loss_values, 'b', label='Validation loss') \n",
        "\n",
        "plt.title('Training and validation loss') \n",
        "\n",
        "plt.xlabel('Epochs') \n",
        "\n",
        "plt.ylabel('Loss') \n",
        "\n",
        "plt.legend()\n",
        "\n",
        "plt.show()"
      ],
      "execution_count": 89,
      "outputs": [
        {
          "output_type": "display_data",
          "data": {
            "image/png": "[encoded data removed]",
            "text/plain": [
              "<Figure size 432x288 with 1 Axes>"
            ]
          },
          "metadata": {
            "tags": []
          }
        }
      ]
    },
    {
      "cell_type": "code",
      "metadata": {
        "id": "jbx7UAdh1ONn",
        "colab_type": "code",
        "outputId": "71c23f68-6330-457a-db58-337f14d69c25",
        "colab": {
          "base_uri": "https://localhost:8080/",
          "height": 295
        }
      },
      "source": [
        "history_dict = history.history \n",
        "\n",
        "acc_values = history_dict ['acc'] \n",
        "\n",
        "val_acc_values = history_dict['val_acc']\n",
        "\n",
        "\n",
        "\n",
        "plt.plot(epochs, acc_values, 'bo', label='Training acc') \n",
        "\n",
        "plt.plot(epochs, val_acc_values, 'b', label='Validation acc') \n",
        "\n",
        "plt.title('Training and validation acc') \n",
        "\n",
        "plt.xlabel('Epochs') \n",
        "\n",
        "plt.ylabel('acc') \n",
        "\n",
        "plt.legend()\n",
        "\n",
        "plt.show()"
      ],
      "execution_count": 90,
      "outputs": [
        {
          "output_type": "display_data",
          "data": {
            "image/png": "[encoded data removed]",
            "text/plain": [
              "<Figure size 432x288 with 1 Axes>"
            ]
          },
          "metadata": {
            "tags": []
          }
        }
      ]
    },
    {
      "cell_type": "code",
      "metadata": {
        "id": "RhaTI8_k1QG_",
        "colab_type": "code",
        "colab": {}
      },
      "source": [
        ""
      ],
      "execution_count": 0,
      "outputs": []
    }
  ]
}