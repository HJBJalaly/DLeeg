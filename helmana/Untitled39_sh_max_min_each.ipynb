{
  "nbformat": 4,
  "nbformat_minor": 0,
  "metadata": {
    "colab": {
      "name": "Untitled39_sh_max min each.ipynb",
      "version": "0.3.2",
      "provenance": [],
      "include_colab_link": true
    },
    "kernelspec": {
      "display_name": "Python 3",
      "language": "python",
      "name": "python3"
    }
  },
  "cells": [
    {
      "cell_type": "markdown",
      "metadata": {
        "id": "view-in-github",
        "colab_type": "text"
      },
      "source": [
        "<a href=\"https://colab.research.google.com/github/helmana/DLeeg/blob/master/Untitled39_sh_max_min_each.ipynb\" target=\"_parent\"><img src=\"https://colab.research.google.com/assets/colab-badge.svg\" alt=\"Open In Colab\"/></a>"
      ]
    },
    {
      "metadata": {
        "id": "LHQ193sV6hvc",
        "colab_type": "code",
        "colab": {
          "base_uri": "https://localhost:8080/",
          "height": 34
        },
        "outputId": "b7493f3b-136f-4def-badb-40c57fa68009"
      },
      "cell_type": "code",
      "source": [
        "import matplotlib\n",
        "\n",
        "from matplotlib import pyplot as plt\n",
        "import numpy as np\n",
        "import random\n",
        "import mne\n",
        "from mne.preprocessing import create_ecg_epochs, create_eog_epochs\n",
        "from mne import io\n",
        "from mne import viz\n",
        "#from mne.datasets import testing\n",
        "from mne import Epochs, io, pick_types\n",
        "from mne.event import define_target_events\n",
        "from mne.time_frequency import psd_welch\n",
        "print(__doc__)"
      ],
      "execution_count": 1,
      "outputs": [
        {
          "output_type": "stream",
          "text": [
            "Automatically created module for IPython interactive environment\n"
          ],
          "name": "stdout"
        }
      ]
    },
    {
      "metadata": {
        "id": "TUPL3BvT6hvl",
        "colab_type": "code",
        "colab": {
          "base_uri": "https://localhost:8080/",
          "height": 2705
        },
        "outputId": "60fc52d0-3f72-46c0-b33e-e182723885ff"
      },
      "cell_type": "code",
      "source": [
        "subject_number=10\n",
        "\n",
        "\n",
        "# load dataset in array\n",
        "list_raw_fnames = [[0]*2]*subject_number\n",
        "for x in range(subject_number):\n",
        "    list_raw_fnames[x] = mne.datasets.eegbci.load_data(x+1,[1,2])\n",
        "\n",
        "list_rawdata = np.zeros((subject_number,2), dtype='object')\n",
        "\n",
        "for i in range(subject_number):\n",
        "    for j in range(2):\n",
        "        list_rawdata[i][j] = mne.io.read_raw_edf(list_raw_fnames[i][j], preload=True)\n",
        "print( list_rawdata[:][:])"
      ],
      "execution_count": 2,
      "outputs": [
        {
          "output_type": "stream",
          "text": [
            "Extracting EDF parameters from /root/mne_data/MNE-eegbci-data/physiobank/database/eegmmidb/S001/S001R01.edf...\n",
            "EDF file detected\n",
            "EDF annotations detected (consider using raw.find_edf_events() to extract them)\n",
            "Setting channel info structure...\n",
            "Creating raw.info structure...\n",
            "Reading 0 ... 9759  =      0.000 ...    60.994 secs...\n",
            "Used Annotations descriptions: ['T0']\n",
            "Extracting EDF parameters from /root/mne_data/MNE-eegbci-data/physiobank/database/eegmmidb/S001/S001R02.edf...\n",
            "EDF file detected\n",
            "EDF annotations detected (consider using raw.find_edf_events() to extract them)\n",
            "Setting channel info structure...\n",
            "Creating raw.info structure...\n",
            "Reading 0 ... 9759  =      0.000 ...    60.994 secs...\n",
            "Used Annotations descriptions: ['T0']\n",
            "Extracting EDF parameters from /root/mne_data/MNE-eegbci-data/physiobank/database/eegmmidb/S002/S002R01.edf...\n",
            "EDF file detected\n",
            "EDF annotations detected (consider using raw.find_edf_events() to extract them)\n",
            "Setting channel info structure...\n",
            "Creating raw.info structure...\n",
            "Reading 0 ... 9759  =      0.000 ...    60.994 secs...\n",
            "Used Annotations descriptions: ['T0']\n",
            "Extracting EDF parameters from /root/mne_data/MNE-eegbci-data/physiobank/database/eegmmidb/S002/S002R02.edf...\n",
            "EDF file detected\n",
            "EDF annotations detected (consider using raw.find_edf_events() to extract them)\n",
            "Setting channel info structure...\n",
            "Creating raw.info structure...\n",
            "Reading 0 ... 9759  =      0.000 ...    60.994 secs...\n",
            "Used Annotations descriptions: ['T0']\n",
            "Extracting EDF parameters from /root/mne_data/MNE-eegbci-data/physiobank/database/eegmmidb/S003/S003R01.edf...\n",
            "EDF file detected\n",
            "EDF annotations detected (consider using raw.find_edf_events() to extract them)\n",
            "Setting channel info structure...\n",
            "Creating raw.info structure...\n",
            "Reading 0 ... 9759  =      0.000 ...    60.994 secs...\n",
            "Used Annotations descriptions: ['T0']\n",
            "Extracting EDF parameters from /root/mne_data/MNE-eegbci-data/physiobank/database/eegmmidb/S003/S003R02.edf...\n",
            "EDF file detected\n",
            "EDF annotations detected (consider using raw.find_edf_events() to extract them)\n",
            "Setting channel info structure...\n",
            "Creating raw.info structure...\n",
            "Reading 0 ... 9759  =      0.000 ...    60.994 secs...\n",
            "Used Annotations descriptions: ['T0']\n",
            "Extracting EDF parameters from /root/mne_data/MNE-eegbci-data/physiobank/database/eegmmidb/S004/S004R01.edf...\n",
            "EDF file detected\n",
            "EDF annotations detected (consider using raw.find_edf_events() to extract them)\n",
            "Setting channel info structure...\n",
            "Creating raw.info structure...\n",
            "Reading 0 ... 9759  =      0.000 ...    60.994 secs...\n",
            "Used Annotations descriptions: ['T0']\n",
            "Extracting EDF parameters from /root/mne_data/MNE-eegbci-data/physiobank/database/eegmmidb/S004/S004R02.edf...\n",
            "EDF file detected\n",
            "EDF annotations detected (consider using raw.find_edf_events() to extract them)\n",
            "Setting channel info structure...\n",
            "Creating raw.info structure...\n",
            "Reading 0 ... 9759  =      0.000 ...    60.994 secs...\n",
            "Used Annotations descriptions: ['T0']\n",
            "Extracting EDF parameters from /root/mne_data/MNE-eegbci-data/physiobank/database/eegmmidb/S005/S005R01.edf...\n",
            "EDF file detected\n",
            "EDF annotations detected (consider using raw.find_edf_events() to extract them)\n",
            "Setting channel info structure...\n",
            "Creating raw.info structure...\n",
            "Reading 0 ... 9759  =      0.000 ...    60.994 secs...\n",
            "Used Annotations descriptions: ['T0']\n",
            "Extracting EDF parameters from /root/mne_data/MNE-eegbci-data/physiobank/database/eegmmidb/S005/S005R02.edf...\n",
            "EDF file detected\n",
            "EDF annotations detected (consider using raw.find_edf_events() to extract them)\n",
            "Setting channel info structure...\n",
            "Creating raw.info structure...\n",
            "Reading 0 ... 9759  =      0.000 ...    60.994 secs...\n",
            "Used Annotations descriptions: ['T0']\n",
            "Extracting EDF parameters from /root/mne_data/MNE-eegbci-data/physiobank/database/eegmmidb/S006/S006R01.edf...\n",
            "EDF file detected\n",
            "EDF annotations detected (consider using raw.find_edf_events() to extract them)\n",
            "Setting channel info structure...\n",
            "Creating raw.info structure...\n",
            "Reading 0 ... 9759  =      0.000 ...    60.994 secs...\n",
            "Used Annotations descriptions: ['T0']\n",
            "Extracting EDF parameters from /root/mne_data/MNE-eegbci-data/physiobank/database/eegmmidb/S006/S006R02.edf...\n",
            "EDF file detected\n",
            "EDF annotations detected (consider using raw.find_edf_events() to extract them)\n",
            "Setting channel info structure...\n",
            "Creating raw.info structure...\n",
            "Reading 0 ... 9759  =      0.000 ...    60.994 secs...\n",
            "Used Annotations descriptions: ['T0']\n",
            "Extracting EDF parameters from /root/mne_data/MNE-eegbci-data/physiobank/database/eegmmidb/S007/S007R01.edf...\n",
            "EDF file detected\n",
            "EDF annotations detected (consider using raw.find_edf_events() to extract them)\n",
            "Setting channel info structure...\n",
            "Creating raw.info structure...\n",
            "Reading 0 ... 9759  =      0.000 ...    60.994 secs...\n",
            "Used Annotations descriptions: ['T0']\n",
            "Extracting EDF parameters from /root/mne_data/MNE-eegbci-data/physiobank/database/eegmmidb/S007/S007R02.edf...\n",
            "EDF file detected\n",
            "EDF annotations detected (consider using raw.find_edf_events() to extract them)\n",
            "Setting channel info structure...\n",
            "Creating raw.info structure...\n",
            "Reading 0 ... 9759  =      0.000 ...    60.994 secs...\n",
            "Used Annotations descriptions: ['T0']\n",
            "Extracting EDF parameters from /root/mne_data/MNE-eegbci-data/physiobank/database/eegmmidb/S008/S008R01.edf...\n",
            "EDF file detected\n",
            "EDF annotations detected (consider using raw.find_edf_events() to extract them)\n",
            "Setting channel info structure...\n",
            "Creating raw.info structure...\n",
            "Reading 0 ... 9759  =      0.000 ...    60.994 secs...\n",
            "Used Annotations descriptions: ['T0']\n",
            "Extracting EDF parameters from /root/mne_data/MNE-eegbci-data/physiobank/database/eegmmidb/S008/S008R02.edf...\n",
            "EDF file detected\n",
            "EDF annotations detected (consider using raw.find_edf_events() to extract them)\n",
            "Setting channel info structure...\n",
            "Creating raw.info structure...\n",
            "Reading 0 ... 9759  =      0.000 ...    60.994 secs...\n",
            "Used Annotations descriptions: ['T0']\n",
            "Extracting EDF parameters from /root/mne_data/MNE-eegbci-data/physiobank/database/eegmmidb/S009/S009R01.edf...\n",
            "EDF file detected\n",
            "EDF annotations detected (consider using raw.find_edf_events() to extract them)\n",
            "Setting channel info structure...\n",
            "Creating raw.info structure...\n",
            "Reading 0 ... 9759  =      0.000 ...    60.994 secs...\n",
            "Used Annotations descriptions: ['T0']\n",
            "Extracting EDF parameters from /root/mne_data/MNE-eegbci-data/physiobank/database/eegmmidb/S009/S009R02.edf...\n",
            "EDF file detected\n",
            "EDF annotations detected (consider using raw.find_edf_events() to extract them)\n",
            "Setting channel info structure...\n",
            "Creating raw.info structure...\n",
            "Reading 0 ... 9759  =      0.000 ...    60.994 secs...\n",
            "Used Annotations descriptions: ['T0']\n",
            "Extracting EDF parameters from /root/mne_data/MNE-eegbci-data/physiobank/database/eegmmidb/S010/S010R01.edf...\n",
            "EDF file detected\n",
            "EDF annotations detected (consider using raw.find_edf_events() to extract them)\n",
            "Setting channel info structure...\n",
            "Creating raw.info structure...\n",
            "Reading 0 ... 9759  =      0.000 ...    60.994 secs...\n",
            "Used Annotations descriptions: ['T0']\n",
            "Extracting EDF parameters from /root/mne_data/MNE-eegbci-data/physiobank/database/eegmmidb/S010/S010R02.edf...\n",
            "EDF file detected\n",
            "EDF annotations detected (consider using raw.find_edf_events() to extract them)\n",
            "Setting channel info structure...\n",
            "Creating raw.info structure...\n",
            "Reading 0 ... 9759  =      0.000 ...    60.994 secs...\n",
            "Used Annotations descriptions: ['T0']\n",
            "[[<RawEDF  |  S001R01.edf, n_channels x n_times : 65 x 9760 (61.0 sec), ~5.0 MB, data loaded>\n",
            "  <RawEDF  |  S001R02.edf, n_channels x n_times : 65 x 9760 (61.0 sec), ~5.0 MB, data loaded>]\n",
            " [<RawEDF  |  S002R01.edf, n_channels x n_times : 65 x 9760 (61.0 sec), ~5.0 MB, data loaded>\n",
            "  <RawEDF  |  S002R02.edf, n_channels x n_times : 65 x 9760 (61.0 sec), ~5.0 MB, data loaded>]\n",
            " [<RawEDF  |  S003R01.edf, n_channels x n_times : 65 x 9760 (61.0 sec), ~5.0 MB, data loaded>\n",
            "  <RawEDF  |  S003R02.edf, n_channels x n_times : 65 x 9760 (61.0 sec), ~5.0 MB, data loaded>]\n",
            " [<RawEDF  |  S004R01.edf, n_channels x n_times : 65 x 9760 (61.0 sec), ~5.0 MB, data loaded>\n",
            "  <RawEDF  |  S004R02.edf, n_channels x n_times : 65 x 9760 (61.0 sec), ~5.0 MB, data loaded>]\n",
            " [<RawEDF  |  S005R01.edf, n_channels x n_times : 65 x 9760 (61.0 sec), ~5.0 MB, data loaded>\n",
            "  <RawEDF  |  S005R02.edf, n_channels x n_times : 65 x 9760 (61.0 sec), ~5.0 MB, data loaded>]\n",
            " [<RawEDF  |  S006R01.edf, n_channels x n_times : 65 x 9760 (61.0 sec), ~5.0 MB, data loaded>\n",
            "  <RawEDF  |  S006R02.edf, n_channels x n_times : 65 x 9760 (61.0 sec), ~5.0 MB, data loaded>]\n",
            " [<RawEDF  |  S007R01.edf, n_channels x n_times : 65 x 9760 (61.0 sec), ~5.0 MB, data loaded>\n",
            "  <RawEDF  |  S007R02.edf, n_channels x n_times : 65 x 9760 (61.0 sec), ~5.0 MB, data loaded>]\n",
            " [<RawEDF  |  S008R01.edf, n_channels x n_times : 65 x 9760 (61.0 sec), ~5.0 MB, data loaded>\n",
            "  <RawEDF  |  S008R02.edf, n_channels x n_times : 65 x 9760 (61.0 sec), ~5.0 MB, data loaded>]\n",
            " [<RawEDF  |  S009R01.edf, n_channels x n_times : 65 x 9760 (61.0 sec), ~5.0 MB, data loaded>\n",
            "  <RawEDF  |  S009R02.edf, n_channels x n_times : 65 x 9760 (61.0 sec), ~5.0 MB, data loaded>]\n",
            " [<RawEDF  |  S010R01.edf, n_channels x n_times : 65 x 9760 (61.0 sec), ~5.0 MB, data loaded>\n",
            "  <RawEDF  |  S010R02.edf, n_channels x n_times : 65 x 9760 (61.0 sec), ~5.0 MB, data loaded>]]\n"
          ],
          "name": "stdout"
        }
      ]
    },
    {
      "metadata": {
        "id": "e5Fg3vgh6hvs",
        "colab_type": "code",
        "colab": {
          "base_uri": "https://localhost:8080/",
          "height": 34
        },
        "outputId": "39629c8b-8f39-4356-9b4f-f0e1e7c329e4"
      },
      "cell_type": "code",
      "source": [
        "import math\n",
        "\n",
        "\n",
        "task_number=1\n",
        "task_time = 60\n",
        "sampel_number_per_sec =  160 # sampel rate\n",
        "total_sampel_number =  sampel_number_per_sec *task_time # 60*160\n",
        "sample_shift = 5 #step len\n",
        "\n",
        "subject_img_number = math.floor((total_sampel_number - sampel_number_per_sec) / sample_shift) +1\n",
        "test_start_index=subject_img_number - math.floor(subject_img_number/4)\n",
        "\n",
        "train_number =  test_start_index \n",
        "test_number = subject_img_number - test_start_index\n",
        "train_number"
      ],
      "execution_count": 3,
      "outputs": [
        {
          "output_type": "execute_result",
          "data": {
            "text/plain": [
              "1417"
            ]
          },
          "metadata": {
            "tags": []
          },
          "execution_count": 3
        }
      ]
    },
    {
      "metadata": {
        "id": "ETok0aKi6hvw",
        "colab_type": "code",
        "colab": {
          "base_uri": "https://localhost:8080/",
          "height": 34
        },
        "outputId": "14854d85-1d8f-4e10-fca4-7759b8d88d43"
      },
      "cell_type": "code",
      "source": [
        "train_img = np.zeros((train_number*subject_number, 1, 65, 160), dtype = float)\n",
        "train_label =[]\n",
        "\n",
        "train_img.shape\n",
        "\n",
        "test_img = np.zeros((test_number*subject_number, 1, 64, 160), dtype = float)\n",
        "test_label =[]\n",
        "\n",
        "train_img.shape"
      ],
      "execution_count": 4,
      "outputs": [
        {
          "output_type": "execute_result",
          "data": {
            "text/plain": [
              "(14170, 1, 65, 160)"
            ]
          },
          "metadata": {
            "tags": []
          },
          "execution_count": 4
        }
      ]
    },
    {
      "metadata": {
        "id": "pTgH6mhq6hv0",
        "colab_type": "code",
        "colab": {}
      },
      "cell_type": "code",
      "source": [
        "def normalize_channel_data(ch , ch_min, ch_max):\n",
        "    for i in range (64):\n",
        "        ch[i] = ((ch[i] - ch_min[i]) / (ch_max[i] - ch_min[i] ) )\n",
        "    #print(ch)\n",
        "    return ch\n"
      ],
      "execution_count": 0,
      "outputs": []
    },
    {
      "metadata": {
        "id": "PrqULDRi6hv3",
        "colab_type": "code",
        "colab": {}
      },
      "cell_type": "code",
      "source": [
        "for s in range(subject_number):\n",
        "    rawdataChannels_t, times_t=rawdataChannels, times =list_rawdata[s][0][:64,:9600]\n",
        "    ch_max =[]\n",
        "    ch_min =[]\n",
        "    for j in range(len(rawdataChannels_t)):\n",
        "        ch_max = np.append(ch_max, max(rawdataChannels_t[j]))\n",
        "        ch_min = np.append(ch_min, min(rawdataChannels_t[j]))\n",
        "\n",
        "    \n",
        "    \n",
        "    for i in range(subject_img_number):\n",
        "        rawdataChannels, times=rawdataChannels, times =list_rawdata[s][0][:64,0+i*sample_shift:sampel_number_per_sec+i*sample_shift]\n",
        "        \n",
        "        rawdataChannels = normalize_channel_data(rawdataChannels, ch_min, ch_max)\n",
        "        #print(rawdataChannels)\n",
        "        \n",
        "        if i<test_start_index :\n",
        "            ids =  np.zeros((160), dtype = float)\n",
        "            ids[:] =s\n",
        "            rawdataChannels_id = np.vstack([rawdataChannels, ids])\n",
        "        \n",
        "            train_img[s*train_number + i][0] = rawdataChannels_id\n",
        "           \n",
        "            \n",
        "        else:\n",
        "            test_img[s*test_number + i-test_start_index][0] = rawdataChannels\n",
        "            test_label = np.append(test_label, (s))\n",
        "            \n",
        "            \n"
      ],
      "execution_count": 0,
      "outputs": []
    },
    {
      "metadata": {
        "id": "FtnqGktW6hv6",
        "colab_type": "code",
        "colab": {}
      },
      "cell_type": "code",
      "source": [
        "#shaffle train img array\n",
        "train_img_shuffle = train_img\n",
        "\n",
        "np.random.shuffle(train_img_shuffle) \n"
      ],
      "execution_count": 0,
      "outputs": []
    },
    {
      "metadata": {
        "id": "YAK-2ue06hv-",
        "colab_type": "code",
        "colab": {}
      },
      "cell_type": "code",
      "source": [
        "train_img_2 = np.zeros((train_number*subject_number, 1, 64, 160), dtype = float)\n",
        "# img label \n",
        "\n",
        "train_img_shuffle_len =len(train_img_shuffle)\n",
        "for i in range(train_img_shuffle_len):\n",
        "    train_label = np.append(train_label, (train_img_shuffle[i][0][64][0] )) \n",
        "    train_img_2[i][0] = np.delete(train_img_shuffle[i][0], (64), axis=0)"
      ],
      "execution_count": 0,
      "outputs": []
    },
    {
      "metadata": {
        "id": "zdh8-B8j6hwC",
        "colab_type": "code",
        "colab": {
          "base_uri": "https://localhost:8080/",
          "height": 34
        },
        "outputId": "40b39292-75c5-476d-fc36-803accb0af3b"
      },
      "cell_type": "code",
      "source": [
        "import keras\n",
        "from keras.utils import to_categorical"
      ],
      "execution_count": 9,
      "outputs": [
        {
          "output_type": "stream",
          "text": [
            "Using TensorFlow backend.\n"
          ],
          "name": "stderr"
        }
      ]
    },
    {
      "metadata": {
        "id": "WolxpSpB6hwF",
        "colab_type": "code",
        "colab": {}
      },
      "cell_type": "code",
      "source": [
        "train_label = to_categorical(train_label, subject_number)\n",
        "test_label = to_categorical(test_label, subject_number)"
      ],
      "execution_count": 0,
      "outputs": []
    },
    {
      "metadata": {
        "id": "7oYAty736hwI",
        "colab_type": "code",
        "colab": {},
        "outputId": "fa03fa2a-60ed-4487-da19-e00ea857c470"
      },
      "cell_type": "code",
      "source": [
        "train_label[:10]"
      ],
      "execution_count": 0,
      "outputs": [
        {
          "output_type": "execute_result",
          "data": {
            "text/plain": [
              "array([[1., 0.],\n",
              "       [0., 1.],\n",
              "       [1., 0.],\n",
              "       [0., 1.],\n",
              "       [1., 0.],\n",
              "       [0., 1.],\n",
              "       [0., 1.],\n",
              "       [1., 0.],\n",
              "       [1., 0.],\n",
              "       [0., 1.]])"
            ]
          },
          "metadata": {
            "tags": []
          },
          "execution_count": 15
        }
      ]
    },
    {
      "metadata": {
        "id": "J6m-ql5H6hwM",
        "colab_type": "code",
        "colab": {
          "base_uri": "https://localhost:8080/",
          "height": 34
        },
        "outputId": "8c4d3abd-9297-4610-ec4d-8a022aca091e"
      },
      "cell_type": "code",
      "source": [
        "\n",
        "# valid & train\n",
        "x_train =train_img_2[:8000]\n",
        "y_train =train_label[:8000]\n",
        "\n",
        "x_valid =train_img_2[8000:]\n",
        "y_valid =train_label[8000:]\n",
        "\n",
        "x_train.shape"
      ],
      "execution_count": 11,
      "outputs": [
        {
          "output_type": "execute_result",
          "data": {
            "text/plain": [
              "(8000, 1, 64, 160)"
            ]
          },
          "metadata": {
            "tags": []
          },
          "execution_count": 11
        }
      ]
    },
    {
      "metadata": {
        "id": "XoJOU9Fi6hwV",
        "colab_type": "code",
        "colab": {
          "base_uri": "https://localhost:8080/",
          "height": 238
        },
        "outputId": "07aeeaef-4e93-4538-8099-5152ab16a9bf"
      },
      "cell_type": "code",
      "source": [
        "from keras import layers\n",
        "from keras import models\n",
        "from keras import regularizers\n",
        "\n",
        "\n",
        "model = models.Sequential()\n",
        "model.add(layers.Conv2D(64, (5,5), activation = 'relu', input_shape = (1,64,160), data_format= \"channels_first\" ))\n",
        "print(model.output.shape)\n",
        "model.add(layers.MaxPooling2D((2,2)))\n",
        "print(model.output.shape)\n",
        "model.add(layers.Conv2D(128, (5,5), activation = 'relu'))\n",
        "print(model.output.shape)\n",
        "model.add(layers.MaxPooling2D((2,2)))\n",
        "\n",
        "model.add(layers.Flatten())\n",
        "print(model.output.shape)\n",
        "model.add(layers.Dense(512, activation = 'relu'))\n",
        "model.add(layers.Dropout(0.5))\n",
        "print(model.output.shape)\n",
        "model.add(layers.Dense(subject_number, activation = 'softmax'))\n",
        "print(model.output.shape)"
      ],
      "execution_count": 12,
      "outputs": [
        {
          "output_type": "stream",
          "text": [
            "WARNING:tensorflow:From /usr/local/lib/python3.6/dist-packages/tensorflow/python/framework/op_def_library.py:263: colocate_with (from tensorflow.python.framework.ops) is deprecated and will be removed in a future version.\n",
            "Instructions for updating:\n",
            "Colocations handled automatically by placer.\n",
            "(?, 64, 60, 156)\n",
            "(?, 32, 30, 156)\n",
            "(?, 28, 26, 128)\n",
            "(?, ?)\n",
            "WARNING:tensorflow:From /usr/local/lib/python3.6/dist-packages/keras/backend/tensorflow_backend.py:3445: calling dropout (from tensorflow.python.ops.nn_ops) with keep_prob is deprecated and will be removed in a future version.\n",
            "Instructions for updating:\n",
            "Please use `rate` instead of `keep_prob`. Rate should be set to `rate = 1 - keep_prob`.\n",
            "(?, 512)\n",
            "(?, 10)\n"
          ],
          "name": "stdout"
        }
      ]
    },
    {
      "metadata": {
        "id": "xY3HhDNw6hwY",
        "colab_type": "code",
        "colab": {}
      },
      "cell_type": "code",
      "source": [
        "from keras import optimizers\n",
        "\n",
        "model.compile(loss= 'categorical_crossentropy',\n",
        "              optimizer= optimizers.RMSprop(lr= 1e-4),\n",
        "              metrics = ['acc'])"
      ],
      "execution_count": 0,
      "outputs": []
    },
    {
      "metadata": {
        "id": "rOa5Xbcw6hwi",
        "colab_type": "code",
        "colab": {
          "base_uri": "https://localhost:8080/",
          "height": 272
        },
        "outputId": "729371fa-8efd-4d08-87e2-919f4bf39da7"
      },
      "cell_type": "code",
      "source": [
        "history = model.fit(\n",
        "        x_train,\n",
        "        y_train,\n",
        "        epochs = 5,\n",
        "        batch_size = 10,\n",
        "        validation_data = (x_valid, y_valid)\n",
        ")"
      ],
      "execution_count": 14,
      "outputs": [
        {
          "output_type": "stream",
          "text": [
            "WARNING:tensorflow:From /usr/local/lib/python3.6/dist-packages/tensorflow/python/ops/math_ops.py:3066: to_int32 (from tensorflow.python.ops.math_ops) is deprecated and will be removed in a future version.\n",
            "Instructions for updating:\n",
            "Use tf.cast instead.\n",
            "Train on 8000 samples, validate on 6170 samples\n",
            "Epoch 1/5\n",
            "8000/8000 [==============================] - 914s 114ms/step - loss: 0.7767 - acc: 0.7451 - val_loss: 0.0294 - val_acc: 0.9956\n",
            "Epoch 2/5\n",
            "8000/8000 [==============================] - 913s 114ms/step - loss: 0.0346 - acc: 0.9901 - val_loss: 0.0030 - val_acc: 0.9990\n",
            "Epoch 3/5\n",
            "8000/8000 [==============================] - 934s 117ms/step - loss: 0.0072 - acc: 0.9975 - val_loss: 6.5743e-04 - val_acc: 1.0000\n",
            "Epoch 4/5\n",
            "8000/8000 [==============================] - 938s 117ms/step - loss: 0.0018 - acc: 0.9994 - val_loss: 2.1630e-04 - val_acc: 1.0000\n",
            "Epoch 5/5\n",
            "8000/8000 [==============================] - 923s 115ms/step - loss: 0.0014 - acc: 0.9995 - val_loss: 6.0086e-05 - val_acc: 1.0000\n"
          ],
          "name": "stdout"
        }
      ]
    },
    {
      "metadata": {
        "id": "PTjrH0Z76hwm",
        "colab_type": "code",
        "colab": {},
        "outputId": "720f5242-905e-44b5-e24d-5523d5fb2514"
      },
      "cell_type": "code",
      "source": [
        "rawdataChannels_t, times_t=rawdataChannels, times =list_rawdata[2][0][:1,9600:]\n",
        "rawdataChannels_t"
      ],
      "execution_count": 0,
      "outputs": [
        {
          "output_type": "execute_result",
          "data": {
            "text/plain": [
              "array([[9.3e-05, 5.8e-05, 5.8e-05, 5.8e-05, 5.5e-05, 6.4e-05, 5.9e-05,\n",
              "        5.0e-05, 7.2e-05, 6.8e-05, 6.0e-05, 5.6e-05, 6.0e-05, 7.0e-05,\n",
              "        7.1e-05, 7.3e-05, 6.9e-05, 3.7e-05, 4.1e-05, 2.1e-05, 2.9e-05,\n",
              "        5.9e-05, 7.0e-05, 7.4e-05, 6.6e-05, 8.8e-05, 7.7e-05, 5.5e-05,\n",
              "        7.1e-05, 8.8e-05, 8.9e-05, 8.4e-05, 0.0e+00, 0.0e+00, 0.0e+00,\n",
              "        0.0e+00, 0.0e+00, 0.0e+00, 0.0e+00, 0.0e+00, 0.0e+00, 0.0e+00,\n",
              "        0.0e+00, 0.0e+00, 0.0e+00, 0.0e+00, 0.0e+00, 0.0e+00, 0.0e+00,\n",
              "        0.0e+00, 0.0e+00, 0.0e+00, 0.0e+00, 0.0e+00, 0.0e+00, 0.0e+00,\n",
              "        0.0e+00, 0.0e+00, 0.0e+00, 0.0e+00, 0.0e+00, 0.0e+00, 0.0e+00,\n",
              "        0.0e+00, 0.0e+00, 0.0e+00, 0.0e+00, 0.0e+00, 0.0e+00, 0.0e+00,\n",
              "        0.0e+00, 0.0e+00, 0.0e+00, 0.0e+00, 0.0e+00, 0.0e+00, 0.0e+00,\n",
              "        0.0e+00, 0.0e+00, 0.0e+00, 0.0e+00, 0.0e+00, 0.0e+00, 0.0e+00,\n",
              "        0.0e+00, 0.0e+00, 0.0e+00, 0.0e+00, 0.0e+00, 0.0e+00, 0.0e+00,\n",
              "        0.0e+00, 0.0e+00, 0.0e+00, 0.0e+00, 0.0e+00, 0.0e+00, 0.0e+00,\n",
              "        0.0e+00, 0.0e+00, 0.0e+00, 0.0e+00, 0.0e+00, 0.0e+00, 0.0e+00,\n",
              "        0.0e+00, 0.0e+00, 0.0e+00, 0.0e+00, 0.0e+00, 0.0e+00, 0.0e+00,\n",
              "        0.0e+00, 0.0e+00, 0.0e+00, 0.0e+00, 0.0e+00, 0.0e+00, 0.0e+00,\n",
              "        0.0e+00, 0.0e+00, 0.0e+00, 0.0e+00, 0.0e+00, 0.0e+00, 0.0e+00,\n",
              "        0.0e+00, 0.0e+00, 0.0e+00, 0.0e+00, 0.0e+00, 0.0e+00, 0.0e+00,\n",
              "        0.0e+00, 0.0e+00, 0.0e+00, 0.0e+00, 0.0e+00, 0.0e+00, 0.0e+00,\n",
              "        0.0e+00, 0.0e+00, 0.0e+00, 0.0e+00, 0.0e+00, 0.0e+00, 0.0e+00,\n",
              "        0.0e+00, 0.0e+00, 0.0e+00, 0.0e+00, 0.0e+00, 0.0e+00, 0.0e+00,\n",
              "        0.0e+00, 0.0e+00, 0.0e+00, 0.0e+00, 0.0e+00, 0.0e+00]])"
            ]
          },
          "metadata": {
            "tags": []
          },
          "execution_count": 37
        }
      ]
    },
    {
      "metadata": {
        "id": "Xc9dVDzrI04Y",
        "colab_type": "code",
        "colab": {
          "base_uri": "https://localhost:8080/",
          "height": 50
        },
        "outputId": "66933c1c-44d8-46e7-f587-f4ebf1d3b4a3"
      },
      "cell_type": "code",
      "source": [
        "model.evaluate(test_img, test_label)\n"
      ],
      "execution_count": 15,
      "outputs": [
        {
          "output_type": "stream",
          "text": [
            "4720/4720 [==============================] - 127s 27ms/step\n"
          ],
          "name": "stdout"
        },
        {
          "output_type": "execute_result",
          "data": {
            "text/plain": [
              "[0.0017816473381189507, 0.9995762711864407]"
            ]
          },
          "metadata": {
            "tags": []
          },
          "execution_count": 15
        }
      ]
    },
    {
      "metadata": {
        "id": "UE6Vy27a6hws",
        "colab_type": "code",
        "colab": {}
      },
      "cell_type": "code",
      "source": [
        ""
      ],
      "execution_count": 0,
      "outputs": []
    }
  ]
}