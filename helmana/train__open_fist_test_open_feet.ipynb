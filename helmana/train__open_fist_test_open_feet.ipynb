{
  "nbformat": 4,
  "nbformat_minor": 0,
  "metadata": {
    "colab": {
      "name": "train _open fist - test_open feet.ipynb",
      "version": "0.3.2",
      "provenance": [],
      "include_colab_link": true
    },
    "kernelspec": {
      "name": "python3",
      "display_name": "Python 3"
    }
  },
  "cells": [
    {
      "cell_type": "markdown",
      "metadata": {
        "id": "view-in-github",
        "colab_type": "text"
      },
      "source": [
        "<a href=\"https://colab.research.google.com/github/helmana/DLeeg/blob/master/train__open_fist_test_open_feet.ipynb\" target=\"_parent\"><img src=\"https://colab.research.google.com/assets/colab-badge.svg\" alt=\"Open In Colab\"/></a>"
      ]
    },
    {
      "cell_type": "code",
      "metadata": {
        "id": "WKHucXHHYG-9",
        "colab_type": "code",
        "colab": {}
      },
      "source": [
        "'''\n",
        "train data : open fist\n",
        "test data : open feet\n",
        "\n",
        "subject : 50\n",
        "channel : 64\n",
        "\n",
        "layers: 3 conv2D(3,3) & maxpooling(2,2) - 1 Dense(512) \n",
        "\n",
        "epoch: 30\n",
        "batch size: 20\n",
        "\n",
        "\n",
        "test acc: \n",
        "test loss: \n",
        "\n",
        "'''\n"
      ],
      "execution_count": 0,
      "outputs": []
    },
    {
      "cell_type": "code",
      "metadata": {
        "id": "NMcjnDQBQPUD",
        "colab_type": "code",
        "colab": {}
      },
      "source": [
        "\n",
        "\n",
        "subject_number= 50\n",
        "task_number= 3\n",
        "\n",
        "# load dataset in array\n",
        "list_raw_fnames_train = [[0]*task_number]*subject_number\n",
        "list_raw_fnames_test = [[0]*task_number]*subject_number\n",
        "\n",
        "for x in range(subject_number):\n",
        "    list_raw_fnames_train[x] = mne.datasets.eegbci.load_data(x+1,[3,7,11]) #train task: open fist\n",
        "    list_raw_fnames_test[x] = mne.datasets.eegbci.load_data(x+1,[5,9,13]) #test task: open feet\n",
        "\n",
        "list_rawdata_train = np.zeros((subject_number,task_number), dtype='object')\n",
        "list_rawdata_test = np.zeros((subject_number,task_number), dtype='object')\n",
        "\n",
        "\n",
        "for i in range(subject_number):\n",
        "    for j in range(task_number):\n",
        "        list_rawdata_train[i][j] = mne.io.read_raw_edf(list_raw_fnames_train[i][j], preload=True)\n",
        "        list_rawdata_test[i][j] = mne.io.read_raw_edf(list_raw_fnames_test[i][j], preload=True)\n",
        "\n",
        "\n"
      ],
      "execution_count": 0,
      "outputs": []
    },
    {
      "cell_type": "code",
      "metadata": {
        "id": "SLZrUyLKiULh",
        "colab_type": "code",
        "colab": {}
      },
      "source": [
        "import math\n",
        "\n",
        "\n",
        "task_time_train = 60 # train task time\n",
        "task_time_test = 60 # test task time\n",
        "\n",
        "sampel_number_per_sec =  160 # sampel rate\n",
        "\n",
        "total_sampel_number_train =  sampel_number_per_sec *task_time_train # train task time *160\n",
        "total_sampel_number_test =  sampel_number_per_sec *task_time_test # test task time *160\n",
        "\n",
        "sample_shift = 4 #step len\n",
        "window_len= 20\n",
        "\n",
        "# img number for each one\n",
        "train_number = math.floor((total_sampel_number_train - sampel_number_per_sec) / sample_shift) +1 - window_len +1\n",
        "test_number = math.floor((total_sampel_number_test - sampel_number_per_sec) / sample_shift) +1 - window_len +1\n",
        " \n",
        "\n"
      ],
      "execution_count": 0,
      "outputs": []
    },
    {
      "cell_type": "code",
      "metadata": {
        "id": "6S9OYHMgReFF",
        "colab_type": "code",
        "colab": {}
      },
      "source": [
        "\n",
        "ch_number = 64\n",
        "\n",
        "train_img = np.zeros((train_number*subject_number*task_number, ch_number, window_len + 1, 160), dtype = float)\n",
        "train_label =[]\n",
        "\n",
        "\n",
        "test_img = np.zeros((test_number*subject_number*task_number, ch_number, window_len + 1, 160), dtype = float)\n",
        "test_label =[]\n",
        "\n",
        "\n",
        "train_img.shape\n"
      ],
      "execution_count": 0,
      "outputs": []
    },
    {
      "cell_type": "code",
      "metadata": {
        "id": "HBf8a0U4SDNk",
        "colab_type": "code",
        "colab": {}
      },
      "source": [
        "def normalize_channel_data(ch , i, ch_min, ch_max):\n",
        "  ch = ((ch - ch_min[i]) / (ch_max[i] - ch_min[i] ))\n",
        "  return ch"
      ],
      "execution_count": 0,
      "outputs": []
    },
    {
      "cell_type": "code",
      "metadata": {
        "id": "nFWM-o3lSIhE",
        "colab_type": "code",
        "colab": {}
      },
      "source": [
        "# train img & train label\n",
        "\n",
        "\n",
        "for s in range(subject_number):\n",
        "  for t in range(task_number):\n",
        "    rawdataChannels_t_train, times_t_train =list_rawdata_train[s][t][:64,:9600]\n",
        "    ch_max =[]\n",
        "    ch_min =[]\n",
        "    for p in range(len(rawdataChannels_t_train)):\n",
        "        ch_max = np.append(ch_max, max(rawdataChannels_t_train[p])) # max for each cannel\n",
        "        ch_min = np.append(ch_min, min(rawdataChannels_t_train[p])) # min for each cannel\n",
        "\n",
        "    for j in range (train_number):\n",
        "        for i in range(ch_number):\n",
        "            for z in range (window_len):\n",
        "                rawdataChannels_train, times_train =list_rawdata_train[s][t][i,0+(j+z)*sample_shift:sampel_number_per_sec+(j+z)*sample_shift]\n",
        "\n",
        "                # normalize method\n",
        "                rawdataChannels_train = normalize_channel_data(rawdataChannels_train, i, ch_min, ch_max)\n",
        "                train_img[s*task_number*train_number + t*train_number + j][i][z] = rawdataChannels_train\n",
        "                if z==window_len-1 :\n",
        "                  train_img[s*task_number*train_number + t*train_number + j][i][z+1] = s\n",
        "                      \n",
        "\n"
      ],
      "execution_count": 0,
      "outputs": []
    },
    {
      "cell_type": "code",
      "metadata": {
        "id": "ZRx-k3bYSciT",
        "colab_type": "code",
        "colab": {}
      },
      "source": [
        "#shaffle train img array\n",
        "train_img_shuffle = train_img\n",
        "\n",
        "np.random.shuffle(train_img_shuffle)"
      ],
      "execution_count": 0,
      "outputs": []
    },
    {
      "cell_type": "code",
      "metadata": {
        "id": "xsac77fbSdoD",
        "colab_type": "code",
        "colab": {}
      },
      "source": [
        "\n",
        "train_img_2 = np.zeros((train_number*subject_number*task_number, ch_number, window_len, 160), dtype = float)\n",
        "\n",
        "#train img label \n",
        "\n",
        "train_img_shuffle_len =len(train_img_shuffle)\n",
        "for i in range(train_img_shuffle_len):\n",
        "    train_label = np.append(train_label, (train_img_shuffle[i][0][window_len][0] ))\n",
        "    for j in range (ch_number):\n",
        "      train_img_2[i][j] = np.delete(train_img_shuffle[i][j], window_len, axis=0)\n",
        "\n",
        "\n",
        "\n",
        "train_img_2.shape"
      ],
      "execution_count": 0,
      "outputs": []
    },
    {
      "cell_type": "code",
      "metadata": {
        "id": "dHIkAfHFSmXc",
        "colab_type": "code",
        "colab": {}
      },
      "source": [
        "# test img & test label\n",
        "\n",
        "\n",
        "for s in range(subject_number):\n",
        "  for t in range(task_number):\n",
        "    rawdataChannels_t_test, times_t_test =list_rawdata_test[s][t][:64,:9600]\n",
        "    ch_max =[]\n",
        "    ch_min =[]\n",
        "    for p in range(len(rawdataChannels_t_test)):\n",
        "        ch_max = np.append(ch_max, max(rawdataChannels_t_test[p])) # max for each cannel\n",
        "        ch_min = np.append(ch_min, min(rawdataChannels_t_test[p])) # min for each cannel\n",
        "\n",
        "    for j in range (test_number):\n",
        "        for i in range(ch_number):\n",
        "            for z in range (window_len):\n",
        "                rawdataChannels_test, times_test =list_rawdata_test[s][t][i,0+(j+z)*sample_shift:0+sampel_number_per_sec+(j+z)*sample_shift]\n",
        "\n",
        "                # normalize method\n",
        "                rawdataChannels_test = normalize_channel_data(rawdataChannels_test, i, ch_min, ch_max)\n",
        "                test_img[s*task_number*test_number + t*test_number + j][i][z] = rawdataChannels_test\n",
        "                if z==window_len-1 :\n",
        "                  test_img[s*task_number*test_number + t*test_number + j][i][z+1] = s\n",
        "                      \n",
        "                      \n",
        "\n"
      ],
      "execution_count": 0,
      "outputs": []
    },
    {
      "cell_type": "code",
      "metadata": {
        "id": "gcGO6-sHSpNs",
        "colab_type": "code",
        "colab": {}
      },
      "source": [
        "#shaffle test img array\n",
        "test_img_shuffle = test_img\n",
        "\n",
        "np.random.shuffle(test_img_shuffle)"
      ],
      "execution_count": 0,
      "outputs": []
    },
    {
      "cell_type": "code",
      "metadata": {
        "id": "6MKBbmg8Sqt9",
        "colab_type": "code",
        "colab": {}
      },
      "source": [
        "\n",
        "test_img_2 = np.zeros((test_number*subject_number*task_number, ch_number, window_len, 160), dtype = float)\n",
        "\n",
        "# img label \n",
        "\n",
        "test_img_shuffle_len =len(test_img_shuffle)\n",
        "for i in range(test_img_shuffle_len):\n",
        "    test_label = np.append(test_label, (test_img_shuffle[i][0][window_len][0] ))\n",
        "    for j in range (ch_number):\n",
        "      test_img_2[i][j] = np.delete(test_img_shuffle[i][j], window_len, axis=0)\n",
        "\n",
        "test_img_2.shape"
      ],
      "execution_count": 0,
      "outputs": []
    },
    {
      "cell_type": "code",
      "metadata": {
        "id": "-aUk1KBaS0ek",
        "colab_type": "code",
        "colab": {}
      },
      "source": [
        "from keras.utils import to_categorical\n"
      ],
      "execution_count": 0,
      "outputs": []
    },
    {
      "cell_type": "code",
      "metadata": {
        "id": "sRWxZ2cJS-iD",
        "colab_type": "code",
        "colab": {}
      },
      "source": [
        "train_label = to_categorical(train_label, subject_number)\n",
        "test_label = to_categorical(test_label, subject_number)"
      ],
      "execution_count": 0,
      "outputs": []
    },
    {
      "cell_type": "code",
      "metadata": {
        "id": "p1TaNXK1ThS0",
        "colab_type": "code",
        "colab": {}
      },
      "source": [
        "\n",
        "\n",
        "validation_index = math.floor( len(train_img_2) * 0.3)\n",
        "\n",
        "\n",
        "# valid & train\n",
        "x_train =train_img_2[validation_index:]\n",
        "y_train =train_label[validation_index:]\n",
        "\n",
        "x_valid =train_img_2[:validation_index]\n",
        "y_valid =train_label[:validation_index]\n",
        "\n",
        "x_valid.shape\n",
        "\n",
        "\n"
      ],
      "execution_count": 0,
      "outputs": []
    },
    {
      "cell_type": "code",
      "metadata": {
        "id": "nQj3XWQ-T6aa",
        "colab_type": "code",
        "colab": {}
      },
      "source": [
        "test_index =  len(test_image)//5\n",
        "\n",
        "\n",
        "# valid & train\n",
        "test_image_partial =test_image[:test_index]\n",
        "test_label_partial =test_label[:test_index]\n",
        "\n",
        "test_image_partial.shape"
      ],
      "execution_count": 0,
      "outputs": []
    },
    {
      "cell_type": "code",
      "metadata": {
        "id": "JYppi1xNUAhx",
        "colab_type": "code",
        "colab": {}
      },
      "source": [
        "from keras import layers\n",
        "from keras import models\n",
        "from keras import regularizers\n",
        "\n",
        "\n",
        "model = models.Sequential()\n",
        "model.add(layers.Conv2D(64, (3,3), activation = 'relu', padding='same', input_shape = (ch_number,window_len,160), data_format= \"channels_first\" ))\n",
        "print(model.output.shape)\n",
        "model.add(layers.MaxPooling2D((2,2)))\n",
        "print(model.output.shape)\n",
        "model.add(layers.Conv2D(128, (3,3), activation = 'relu'))\n",
        "print(model.output.shape)\n",
        "model.add(layers.MaxPooling2D((2,2)))\n",
        "print(model.output.shape)\n",
        "model.add(layers.Conv2D(256, (3,3), activation = 'relu'))\n",
        "print(model.output.shape)\n",
        "model.add(layers.MaxPooling2D((2,2)))\n",
        "\n",
        "\n",
        "model.add(layers.Flatten())\n",
        "print(model.output.shape)\n",
        "model.add(layers.Dense(512, activation = 'relu'))\n",
        "model.add(layers.Dropout(0.5))\n",
        "print(model.output.shape)\n",
        "model.add(layers.Dense(subject_number, activation = 'softmax'))\n",
        "print(model.output.shape)\n"
      ],
      "execution_count": 0,
      "outputs": []
    },
    {
      "cell_type": "code",
      "metadata": {
        "id": "BCFGH6SiUBDi",
        "colab_type": "code",
        "colab": {}
      },
      "source": [
        "from keras import optimizers\n",
        "\n",
        "model.compile(loss= 'categorical_crossentropy',\n",
        "              optimizer= optimizers.RMSprop(lr=  1e-4),\n",
        "              metrics = ['acc'])"
      ],
      "execution_count": 0,
      "outputs": []
    },
    {
      "cell_type": "code",
      "metadata": {
        "id": "Vd4shOi1UFp5",
        "colab_type": "code",
        "colab": {}
      },
      "source": [
        "history = model.fit(\n",
        "        x_train,\n",
        "        y_train,\n",
        "        epochs = 30,\n",
        "        batch_size = 20,\n",
        "        validation_data = (x_valid, y_valid)\n",
        ")"
      ],
      "execution_count": 0,
      "outputs": []
    },
    {
      "cell_type": "code",
      "metadata": {
        "id": "QJthDnVbUHoi",
        "colab_type": "code",
        "colab": {}
      },
      "source": [
        "model.evaluate(test_image_partial, test_label_partial)"
      ],
      "execution_count": 0,
      "outputs": []
    },
    {
      "cell_type": "code",
      "metadata": {
        "id": "5tRHMFgbUTzZ",
        "colab_type": "code",
        "colab": {}
      },
      "source": [
        "import matplotlib.pyplot as plt\n",
        "\n",
        "history_dict = history.history \n",
        "\n",
        "loss_values = history_dict ['loss'] \n",
        "\n",
        "val_loss_values = history_dict['val_loss']\n",
        "\n",
        "epochs = range(1, len(loss_values) + 1)\n",
        "\n",
        "\n",
        "\n",
        "plt.plot(epochs, loss_values, 'bo', label='Training loss') \n",
        "\n",
        "plt.plot(epochs, val_loss_values, 'b', label='Validation loss') \n",
        "\n",
        "plt.title('Training and validation loss') \n",
        "\n",
        "plt.xlabel('Epochs') \n",
        "\n",
        "plt.ylabel('Loss') \n",
        "\n",
        "plt.legend()\n",
        "\n",
        "plt.show()"
      ],
      "execution_count": 0,
      "outputs": []
    },
    {
      "cell_type": "code",
      "metadata": {
        "id": "RO0DKarGUUaw",
        "colab_type": "code",
        "colab": {}
      },
      "source": [
        "history_dict = history.history \n",
        "\n",
        "acc_values = history_dict ['acc'] \n",
        "\n",
        "val_acc_values = history_dict['val_acc']\n",
        "\n",
        "\n",
        "\n",
        "plt.plot(epochs, acc_values, 'bo', label='Training acc') \n",
        "\n",
        "plt.plot(epochs, val_acc_values, 'b', label='Validation acc') \n",
        "\n",
        "plt.title('Training and validation acc') \n",
        "\n",
        "plt.xlabel('Epochs') \n",
        "\n",
        "plt.ylabel('acc') \n",
        "\n",
        "plt.legend()\n",
        "\n",
        "plt.show()"
      ],
      "execution_count": 0,
      "outputs": []
    }
  ]
}