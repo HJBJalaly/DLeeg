{
  "nbformat": 4,
  "nbformat_minor": 0,
  "metadata": {
    "colab": {
      "name": "Untitled10.ipynb",
      "version": "0.3.2",
      "provenance": [],
      "collapsed_sections": [],
      "include_colab_link": true
    },
    "kernelspec": {
      "name": "python3",
      "display_name": "Python 3"
    }
  },
  "cells": [
    {
      "cell_type": "markdown",
      "metadata": {
        "id": "view-in-github",
        "colab_type": "text"
      },
      "source": [
        "<a href=\"https://colab.research.google.com/github/helmana/DLeeg/blob/master/2ch%20-%2010s.ipynb\" target=\"_parent\"><img src=\"https://colab.research.google.com/assets/colab-badge.svg\" alt=\"Open In Colab\"/></a>"
      ]
    },
    {
      "metadata": {
        "id": "T3Y6t3dmt6Sh",
        "colab_type": "code",
        "outputId": "3f7b5321-7778-44b7-a507-e0df156858f7",
        "colab": {
          "base_uri": "https://localhost:8080/",
          "height": 188
        }
      },
      "cell_type": "code",
      "source": [
        "!pip install mne"
      ],
      "execution_count": 1,
      "outputs": [
        {
          "output_type": "stream",
          "text": [
            "Collecting mne\n",
            "\u001b[?25l  Downloading https://files.pythonhosted.org/packages/68/97/fc6be75f8cc9b3f79b7c2558a45b61c6c7d02da20182f0db01ac239858be/mne-0.17.2.tar.gz (6.2MB)\n",
            "\u001b[K    100% |████████████████████████████████| 6.2MB 5.5MB/s \n",
            "\u001b[?25hBuilding wheels for collected packages: mne\n",
            "  Building wheel for mne (setup.py) ... \u001b[?25ldone\n",
            "\u001b[?25h  Stored in directory: /root/.cache/pip/wheels/e4/be/8b/6b737d272fb91d42e7ac5d61cc93227df7d71944e0e0eb15dd\n",
            "Successfully built mne\n",
            "Installing collected packages: mne\n",
            "Successfully installed mne-0.17.2\n"
          ],
          "name": "stdout"
        }
      ]
    },
    {
      "metadata": {
        "id": "6rJvVJ14vMBS",
        "colab_type": "code",
        "outputId": "f90cf9a7-013b-430f-ce36-89df966486a0",
        "colab": {
          "base_uri": "https://localhost:8080/",
          "height": 34
        }
      },
      "cell_type": "code",
      "source": [
        "\n",
        "import matplotlib\n",
        "\n",
        "from matplotlib import pyplot as plt\n",
        "import numpy as np\n",
        "\n",
        "\n",
        "\n",
        "import random\n",
        "import mne\n",
        "from mne.preprocessing import create_ecg_epochs, create_eog_epochs\n",
        "from mne import io\n",
        "from mne import viz\n",
        "#from mne.datasets import testing\n",
        "from mne import Epochs, io, pick_types\n",
        "from mne.event import define_target_events\n",
        "from mne.time_frequency import psd_welch\n",
        "print(__doc__)"
      ],
      "execution_count": 2,
      "outputs": [
        {
          "output_type": "stream",
          "text": [
            "Automatically created module for IPython interactive environment\n"
          ],
          "name": "stdout"
        }
      ]
    },
    {
      "metadata": {
        "id": "h7iL6LmsU-kq",
        "colab_type": "code",
        "colab": {}
      },
      "cell_type": "code",
      "source": [
        "#with np.errstate(divide='ignore'):\n",
        "   # np.float64(1.0) / 0.0"
      ],
      "execution_count": 0,
      "outputs": []
    },
    {
      "metadata": {
        "id": "LmBnMz2QvTdo",
        "colab_type": "code",
        "outputId": "45c505cf-9fe9-4da2-9388-48900d1fc75a",
        "colab": {
          "base_uri": "https://localhost:8080/",
          "height": 3562
        }
      },
      "cell_type": "code",
      "source": [
        "subject_number=10\n",
        "\n",
        "\n",
        "# load dataset in array\n",
        "list_raw_fnames = [[0]*2]*subject_number\n",
        "for x in range(subject_number):\n",
        "    list_raw_fnames[x] = mne.datasets.eegbci.load_data(x+1,[1,2])\n",
        "\n",
        "list_rawdata = np.zeros((subject_number,2), dtype='object')\n",
        "\n",
        "for i in range(subject_number):\n",
        "    for j in range(2):\n",
        "        list_rawdata[i][j] = mne.io.read_raw_edf(list_raw_fnames[i][j], preload=True)\n",
        "print( list_rawdata[:][:])"
      ],
      "execution_count": 3,
      "outputs": [
        {
          "output_type": "stream",
          "text": [
            "Using default location ~/mne_data for EEGBCI...\n",
            "Creating ~/mne_data\n",
            "Downloading http://www.physionet.org/physiobank/database/eegmmidb/S001/S001R01.edf (1.2 MB)\n",
            "[........................................] 100.00% (  1.2 MB,  11.2 MB/s) \\   \n",
            "Do you want to set the path:\n",
            "    /root/mne_data\n",
            "as the default EEGBCI dataset path in the mne-python config [y]/n? n\n",
            "Using default location ~/mne_data for EEGBCI...\n",
            "Downloading http://www.physionet.org/physiobank/database/eegmmidb/S001/S001R02.edf (1.2 MB)\n",
            "[........................................] 100.00% (  1.2 MB,  14.4 MB/s) \\   \n",
            "Do you want to set the path:\n",
            "    /root/mne_data\n",
            "as the default EEGBCI dataset path in the mne-python config [y]/n? y\n",
            "Attempting to create new mne-python configuration file:\n",
            "/root/.mne/mne-python.json\n",
            "Downloading http://www.physionet.org/physiobank/database/eegmmidb/S002/S002R01.edf (1.2 MB)\n",
            "[........................................] 100.00% (  1.2 MB,  20.1 MB/s) |   \n",
            "Downloading http://www.physionet.org/physiobank/database/eegmmidb/S002/S002R02.edf (1.2 MB)\n",
            "[........................................] 100.00% (  1.2 MB,  17.6 MB/s) |   \n",
            "Downloading http://www.physionet.org/physiobank/database/eegmmidb/S003/S003R01.edf (1.2 MB)\n",
            "[........................................] 100.00% (  1.2 MB,  21.8 MB/s) |   \n",
            "Downloading http://www.physionet.org/physiobank/database/eegmmidb/S003/S003R02.edf (1.2 MB)\n",
            "[........................................] 100.00% (  1.2 MB,  12.7 MB/s) \\   \n",
            "Downloading http://www.physionet.org/physiobank/database/eegmmidb/S004/S004R01.edf (1.2 MB)\n",
            "[........................................] 100.00% (  1.2 MB,  16.1 MB/s) |   \n",
            "Downloading http://www.physionet.org/physiobank/database/eegmmidb/S004/S004R02.edf (1.2 MB)\n",
            "[........................................] 100.00% (  1.2 MB,  13.9 MB/s) \\   \n",
            "Downloading http://www.physionet.org/physiobank/database/eegmmidb/S005/S005R01.edf (1.2 MB)\n",
            "[........................................] 100.00% (  1.2 MB,  15.3 MB/s) \\   \n",
            "Downloading http://www.physionet.org/physiobank/database/eegmmidb/S005/S005R02.edf (1.2 MB)\n",
            "[........................................] 100.00% (  1.2 MB,  20.6 MB/s) |   \n",
            "Downloading http://www.physionet.org/physiobank/database/eegmmidb/S006/S006R01.edf (1.2 MB)\n",
            "[........................................] 100.00% (  1.2 MB,  12.9 MB/s) \\   \n",
            "Downloading http://www.physionet.org/physiobank/database/eegmmidb/S006/S006R02.edf (1.2 MB)\n",
            "[........................................] 100.00% (  1.2 MB,  15.1 MB/s) \\   \n",
            "Downloading http://www.physionet.org/physiobank/database/eegmmidb/S007/S007R01.edf (1.2 MB)\n",
            "[........................................] 100.00% (  1.2 MB,  13.2 MB/s) \\   \n",
            "Downloading http://www.physionet.org/physiobank/database/eegmmidb/S007/S007R02.edf (1.2 MB)\n",
            "[........................................] 100.00% (  1.2 MB,  11.3 MB/s) \\   \n",
            "Downloading http://www.physionet.org/physiobank/database/eegmmidb/S008/S008R01.edf (1.2 MB)\n",
            "[........................................] 100.00% (  1.2 MB,  12.5 MB/s) \\   \n",
            "Downloading http://www.physionet.org/physiobank/database/eegmmidb/S008/S008R02.edf (1.2 MB)\n",
            "[........................................] 100.00% (  1.2 MB,  15.0 MB/s) \\   \n",
            "Downloading http://www.physionet.org/physiobank/database/eegmmidb/S009/S009R01.edf (1.2 MB)\n",
            "[........................................] 100.00% (  1.2 MB,  12.9 MB/s) \\   \n",
            "Downloading http://www.physionet.org/physiobank/database/eegmmidb/S009/S009R02.edf (1.2 MB)\n",
            "[........................................] 100.00% (  1.2 MB,  13.2 MB/s) \\   \n",
            "Downloading http://www.physionet.org/physiobank/database/eegmmidb/S010/S010R01.edf (1.2 MB)\n",
            "[........................................] 100.00% (  1.2 MB,  14.7 MB/s) \\   \n",
            "Downloading http://www.physionet.org/physiobank/database/eegmmidb/S010/S010R02.edf (1.2 MB)\n",
            "[........................................] 100.00% (  1.2 MB,  12.4 MB/s) \\   \n",
            "Extracting EDF parameters from /root/mne_data/MNE-eegbci-data/physiobank/database/eegmmidb/S001/S001R01.edf...\n",
            "EDF file detected\n",
            "EDF annotations detected (consider using raw.find_edf_events() to extract them)\n",
            "Setting channel info structure...\n",
            "Creating raw.info structure...\n",
            "Reading 0 ... 9759  =      0.000 ...    60.994 secs...\n",
            "Used Annotations descriptions: ['T0']\n",
            "Extracting EDF parameters from /root/mne_data/MNE-eegbci-data/physiobank/database/eegmmidb/S001/S001R02.edf...\n",
            "EDF file detected\n",
            "EDF annotations detected (consider using raw.find_edf_events() to extract them)\n",
            "Setting channel info structure...\n",
            "Creating raw.info structure...\n",
            "Reading 0 ... 9759  =      0.000 ...    60.994 secs...\n",
            "Used Annotations descriptions: ['T0']\n",
            "Extracting EDF parameters from /root/mne_data/MNE-eegbci-data/physiobank/database/eegmmidb/S002/S002R01.edf...\n",
            "EDF file detected\n",
            "EDF annotations detected (consider using raw.find_edf_events() to extract them)\n",
            "Setting channel info structure...\n",
            "Creating raw.info structure...\n",
            "Reading 0 ... 9759  =      0.000 ...    60.994 secs...\n",
            "Used Annotations descriptions: ['T0']\n",
            "Extracting EDF parameters from /root/mne_data/MNE-eegbci-data/physiobank/database/eegmmidb/S002/S002R02.edf...\n",
            "EDF file detected\n",
            "EDF annotations detected (consider using raw.find_edf_events() to extract them)\n",
            "Setting channel info structure...\n",
            "Creating raw.info structure...\n",
            "Reading 0 ... 9759  =      0.000 ...    60.994 secs...\n",
            "Used Annotations descriptions: ['T0']\n",
            "Extracting EDF parameters from /root/mne_data/MNE-eegbci-data/physiobank/database/eegmmidb/S003/S003R01.edf...\n",
            "EDF file detected\n",
            "EDF annotations detected (consider using raw.find_edf_events() to extract them)\n",
            "Setting channel info structure...\n",
            "Creating raw.info structure...\n",
            "Reading 0 ... 9759  =      0.000 ...    60.994 secs...\n",
            "Used Annotations descriptions: ['T0']\n",
            "Extracting EDF parameters from /root/mne_data/MNE-eegbci-data/physiobank/database/eegmmidb/S003/S003R02.edf...\n",
            "EDF file detected\n",
            "EDF annotations detected (consider using raw.find_edf_events() to extract them)\n",
            "Setting channel info structure...\n",
            "Creating raw.info structure...\n",
            "Reading 0 ... 9759  =      0.000 ...    60.994 secs...\n",
            "Used Annotations descriptions: ['T0']\n",
            "Extracting EDF parameters from /root/mne_data/MNE-eegbci-data/physiobank/database/eegmmidb/S004/S004R01.edf...\n",
            "EDF file detected\n",
            "EDF annotations detected (consider using raw.find_edf_events() to extract them)\n",
            "Setting channel info structure...\n",
            "Creating raw.info structure...\n",
            "Reading 0 ... 9759  =      0.000 ...    60.994 secs...\n",
            "Used Annotations descriptions: ['T0']\n",
            "Extracting EDF parameters from /root/mne_data/MNE-eegbci-data/physiobank/database/eegmmidb/S004/S004R02.edf...\n",
            "EDF file detected\n",
            "EDF annotations detected (consider using raw.find_edf_events() to extract them)\n",
            "Setting channel info structure...\n",
            "Creating raw.info structure...\n",
            "Reading 0 ... 9759  =      0.000 ...    60.994 secs...\n",
            "Used Annotations descriptions: ['T0']\n",
            "Extracting EDF parameters from /root/mne_data/MNE-eegbci-data/physiobank/database/eegmmidb/S005/S005R01.edf...\n",
            "EDF file detected\n",
            "EDF annotations detected (consider using raw.find_edf_events() to extract them)\n",
            "Setting channel info structure...\n",
            "Creating raw.info structure...\n",
            "Reading 0 ... 9759  =      0.000 ...    60.994 secs...\n",
            "Used Annotations descriptions: ['T0']\n",
            "Extracting EDF parameters from /root/mne_data/MNE-eegbci-data/physiobank/database/eegmmidb/S005/S005R02.edf...\n",
            "EDF file detected\n",
            "EDF annotations detected (consider using raw.find_edf_events() to extract them)\n",
            "Setting channel info structure...\n",
            "Creating raw.info structure...\n",
            "Reading 0 ... 9759  =      0.000 ...    60.994 secs...\n",
            "Used Annotations descriptions: ['T0']\n",
            "Extracting EDF parameters from /root/mne_data/MNE-eegbci-data/physiobank/database/eegmmidb/S006/S006R01.edf...\n",
            "EDF file detected\n",
            "EDF annotations detected (consider using raw.find_edf_events() to extract them)\n",
            "Setting channel info structure...\n",
            "Creating raw.info structure...\n",
            "Reading 0 ... 9759  =      0.000 ...    60.994 secs...\n",
            "Used Annotations descriptions: ['T0']\n",
            "Extracting EDF parameters from /root/mne_data/MNE-eegbci-data/physiobank/database/eegmmidb/S006/S006R02.edf...\n",
            "EDF file detected\n",
            "EDF annotations detected (consider using raw.find_edf_events() to extract them)\n",
            "Setting channel info structure...\n",
            "Creating raw.info structure...\n",
            "Reading 0 ... 9759  =      0.000 ...    60.994 secs...\n",
            "Used Annotations descriptions: ['T0']\n",
            "Extracting EDF parameters from /root/mne_data/MNE-eegbci-data/physiobank/database/eegmmidb/S007/S007R01.edf...\n",
            "EDF file detected\n",
            "EDF annotations detected (consider using raw.find_edf_events() to extract them)\n",
            "Setting channel info structure...\n",
            "Creating raw.info structure...\n",
            "Reading 0 ... 9759  =      0.000 ...    60.994 secs...\n",
            "Used Annotations descriptions: ['T0']\n",
            "Extracting EDF parameters from /root/mne_data/MNE-eegbci-data/physiobank/database/eegmmidb/S007/S007R02.edf...\n",
            "EDF file detected\n",
            "EDF annotations detected (consider using raw.find_edf_events() to extract them)\n",
            "Setting channel info structure...\n",
            "Creating raw.info structure...\n",
            "Reading 0 ... 9759  =      0.000 ...    60.994 secs...\n",
            "Used Annotations descriptions: ['T0']\n",
            "Extracting EDF parameters from /root/mne_data/MNE-eegbci-data/physiobank/database/eegmmidb/S008/S008R01.edf...\n",
            "EDF file detected\n",
            "EDF annotations detected (consider using raw.find_edf_events() to extract them)\n",
            "Setting channel info structure...\n",
            "Creating raw.info structure...\n",
            "Reading 0 ... 9759  =      0.000 ...    60.994 secs...\n",
            "Used Annotations descriptions: ['T0']\n",
            "Extracting EDF parameters from /root/mne_data/MNE-eegbci-data/physiobank/database/eegmmidb/S008/S008R02.edf...\n",
            "EDF file detected\n",
            "EDF annotations detected (consider using raw.find_edf_events() to extract them)\n",
            "Setting channel info structure...\n",
            "Creating raw.info structure...\n",
            "Reading 0 ... 9759  =      0.000 ...    60.994 secs...\n",
            "Used Annotations descriptions: ['T0']\n",
            "Extracting EDF parameters from /root/mne_data/MNE-eegbci-data/physiobank/database/eegmmidb/S009/S009R01.edf...\n",
            "EDF file detected\n",
            "EDF annotations detected (consider using raw.find_edf_events() to extract them)\n",
            "Setting channel info structure...\n",
            "Creating raw.info structure...\n",
            "Reading 0 ... 9759  =      0.000 ...    60.994 secs...\n",
            "Used Annotations descriptions: ['T0']\n",
            "Extracting EDF parameters from /root/mne_data/MNE-eegbci-data/physiobank/database/eegmmidb/S009/S009R02.edf...\n",
            "EDF file detected\n",
            "EDF annotations detected (consider using raw.find_edf_events() to extract them)\n",
            "Setting channel info structure...\n",
            "Creating raw.info structure...\n",
            "Reading 0 ... 9759  =      0.000 ...    60.994 secs...\n",
            "Used Annotations descriptions: ['T0']\n",
            "Extracting EDF parameters from /root/mne_data/MNE-eegbci-data/physiobank/database/eegmmidb/S010/S010R01.edf...\n",
            "EDF file detected\n",
            "EDF annotations detected (consider using raw.find_edf_events() to extract them)\n",
            "Setting channel info structure...\n",
            "Creating raw.info structure...\n",
            "Reading 0 ... 9759  =      0.000 ...    60.994 secs...\n",
            "Used Annotations descriptions: ['T0']\n",
            "Extracting EDF parameters from /root/mne_data/MNE-eegbci-data/physiobank/database/eegmmidb/S010/S010R02.edf...\n",
            "EDF file detected\n",
            "EDF annotations detected (consider using raw.find_edf_events() to extract them)\n",
            "Setting channel info structure...\n",
            "Creating raw.info structure...\n",
            "Reading 0 ... 9759  =      0.000 ...    60.994 secs...\n",
            "Used Annotations descriptions: ['T0']\n",
            "[[<RawEDF  |  S001R01.edf, n_channels x n_times : 65 x 9760 (61.0 sec), ~5.0 MB, data loaded>\n",
            "  <RawEDF  |  S001R02.edf, n_channels x n_times : 65 x 9760 (61.0 sec), ~5.0 MB, data loaded>]\n",
            " [<RawEDF  |  S002R01.edf, n_channels x n_times : 65 x 9760 (61.0 sec), ~5.0 MB, data loaded>\n",
            "  <RawEDF  |  S002R02.edf, n_channels x n_times : 65 x 9760 (61.0 sec), ~5.0 MB, data loaded>]\n",
            " [<RawEDF  |  S003R01.edf, n_channels x n_times : 65 x 9760 (61.0 sec), ~5.0 MB, data loaded>\n",
            "  <RawEDF  |  S003R02.edf, n_channels x n_times : 65 x 9760 (61.0 sec), ~5.0 MB, data loaded>]\n",
            " [<RawEDF  |  S004R01.edf, n_channels x n_times : 65 x 9760 (61.0 sec), ~5.0 MB, data loaded>\n",
            "  <RawEDF  |  S004R02.edf, n_channels x n_times : 65 x 9760 (61.0 sec), ~5.0 MB, data loaded>]\n",
            " [<RawEDF  |  S005R01.edf, n_channels x n_times : 65 x 9760 (61.0 sec), ~5.0 MB, data loaded>\n",
            "  <RawEDF  |  S005R02.edf, n_channels x n_times : 65 x 9760 (61.0 sec), ~5.0 MB, data loaded>]\n",
            " [<RawEDF  |  S006R01.edf, n_channels x n_times : 65 x 9760 (61.0 sec), ~5.0 MB, data loaded>\n",
            "  <RawEDF  |  S006R02.edf, n_channels x n_times : 65 x 9760 (61.0 sec), ~5.0 MB, data loaded>]\n",
            " [<RawEDF  |  S007R01.edf, n_channels x n_times : 65 x 9760 (61.0 sec), ~5.0 MB, data loaded>\n",
            "  <RawEDF  |  S007R02.edf, n_channels x n_times : 65 x 9760 (61.0 sec), ~5.0 MB, data loaded>]\n",
            " [<RawEDF  |  S008R01.edf, n_channels x n_times : 65 x 9760 (61.0 sec), ~5.0 MB, data loaded>\n",
            "  <RawEDF  |  S008R02.edf, n_channels x n_times : 65 x 9760 (61.0 sec), ~5.0 MB, data loaded>]\n",
            " [<RawEDF  |  S009R01.edf, n_channels x n_times : 65 x 9760 (61.0 sec), ~5.0 MB, data loaded>\n",
            "  <RawEDF  |  S009R02.edf, n_channels x n_times : 65 x 9760 (61.0 sec), ~5.0 MB, data loaded>]\n",
            " [<RawEDF  |  S010R01.edf, n_channels x n_times : 65 x 9760 (61.0 sec), ~5.0 MB, data loaded>\n",
            "  <RawEDF  |  S010R02.edf, n_channels x n_times : 65 x 9760 (61.0 sec), ~5.0 MB, data loaded>]]\n"
          ],
          "name": "stdout"
        }
      ]
    },
    {
      "metadata": {
        "id": "d-iW3M6zvXVE",
        "colab_type": "code",
        "outputId": "e2bbefb3-2b13-42d9-e84d-556cb7790b4c",
        "colab": {
          "base_uri": "https://localhost:8080/",
          "height": 34
        }
      },
      "cell_type": "code",
      "source": [
        "import math\n",
        "\n",
        "\n",
        "task_number=1\n",
        "task_time = 60\n",
        "sampel_number_per_sec =  160 # sampel rate\n",
        "total_sampel_number =  sampel_number_per_sec *task_time # 60*160\n",
        "sample_shift = 5 #step len\n",
        "window_len= 10\n",
        "\n",
        "# img for each one\n",
        "subject_img_number = math.floor((total_sampel_number - sampel_number_per_sec) / sample_shift) +1 - window_len +1\n",
        "test_start_index=subject_img_number - math.floor(subject_img_number/4) \n",
        "\n",
        "train_number =  test_start_index \n",
        "test_number = subject_img_number - test_start_index\n",
        "train_number"
      ],
      "execution_count": 4,
      "outputs": [
        {
          "output_type": "execute_result",
          "data": {
            "text/plain": [
              "1410"
            ]
          },
          "metadata": {
            "tags": []
          },
          "execution_count": 4
        }
      ]
    },
    {
      "metadata": {
        "id": "9ueWuVOIvyyS",
        "colab_type": "code",
        "outputId": "956f425e-f300-45a3-f127-9ce135a42f4d",
        "colab": {
          "base_uri": "https://localhost:8080/",
          "height": 34
        }
      },
      "cell_type": "code",
      "source": [
        "ch_number = 2\n",
        "\n",
        "train_img = np.zeros((train_number*subject_number, ch_number, window_len + 1, 160), dtype = float)\n",
        "train_label =[]\n",
        "\n",
        "\n",
        "test_img = np.zeros((test_number*subject_number, ch_number, window_len, 160), dtype = float)\n",
        "test_label =[]\n",
        "\n",
        "\n",
        "train_img.shape"
      ],
      "execution_count": 5,
      "outputs": [
        {
          "output_type": "execute_result",
          "data": {
            "text/plain": [
              "(14100, 2, 11, 160)"
            ]
          },
          "metadata": {
            "tags": []
          },
          "execution_count": 5
        }
      ]
    },
    {
      "metadata": {
        "id": "JhRgEkfcwdYQ",
        "colab_type": "code",
        "colab": {}
      },
      "cell_type": "code",
      "source": [
        "\n",
        "def normalize_channel_data(ch , i, ch_min, ch_max):\n",
        "  ch = ((ch - ch_min[i]) / (ch_max[i] - ch_min[i] ) )\n",
        "  return ch"
      ],
      "execution_count": 0,
      "outputs": []
    },
    {
      "metadata": {
        "id": "pS3qsxAG4UqV",
        "colab_type": "code",
        "colab": {}
      },
      "cell_type": "code",
      "source": [
        "for s in range(subject_number):\n",
        "    rawdataChannels_t, times_t=rawdataChannels, times =list_rawdata[s][0][:64,:9600]\n",
        "    ch_max =[]\n",
        "    ch_min =[]\n",
        "    for p in range(len(rawdataChannels_t)):\n",
        "        ch_max = np.append(ch_max, max(rawdataChannels_t[p])) # max for each cannel\n",
        "        ch_min = np.append(ch_min, min(rawdataChannels_t[p])) # min for each cannel\n",
        "\n",
        "    for j in range (subject_img_number):\n",
        "        for i in range(ch_number):\n",
        "            for z in range (window_len):\n",
        "                rawdataChannels, times=rawdataChannels, times =list_rawdata[s][0][i,0+(j+z)*sample_shift:sampel_number_per_sec+(j+z)*sample_shift]\n",
        "\n",
        "                      # normalize method\n",
        "                rawdataChannels = normalize_channel_data(rawdataChannels, i, ch_min, ch_max)\n",
        "                if j <test_start_index :\n",
        "                    train_img[s*train_number + j][i][z] = rawdataChannels\n",
        "                    if z==window_len-1 :\n",
        "                      train_img[s*train_number + j][i][z+1] = s\n",
        "                      \n",
        "                      \n",
        "                else:\n",
        "                    test_img[s*test_number + j - test_start_index][i][z] = rawdataChannels\n",
        "        if j >=test_start_index :\n",
        "          test_label = np.append(test_label, (s))\n",
        "\n",
        "           "
      ],
      "execution_count": 0,
      "outputs": []
    },
    {
      "metadata": {
        "id": "Ahuuy3MywsXh",
        "colab_type": "code",
        "colab": {}
      },
      "cell_type": "code",
      "source": [
        "#shaffle train img array\n",
        "train_img_shuffle = train_img\n",
        "\n",
        "np.random.shuffle(train_img_shuffle)"
      ],
      "execution_count": 0,
      "outputs": []
    },
    {
      "metadata": {
        "id": "d38jY7Puwsho",
        "colab_type": "code",
        "colab": {}
      },
      "cell_type": "code",
      "source": [
        "train_img_2 = np.zeros((train_number*subject_number, ch_number, window_len, 160), dtype = float)\n"
      ],
      "execution_count": 0,
      "outputs": []
    },
    {
      "metadata": {
        "id": "Kg9ChsJ5TcTI",
        "colab_type": "code",
        "outputId": "e9ea033a-b42f-474e-bb2e-f8579c6b3242",
        "colab": {
          "base_uri": "https://localhost:8080/",
          "height": 34
        }
      },
      "cell_type": "code",
      "source": [
        "train_img_2.shape"
      ],
      "execution_count": 0,
      "outputs": [
        {
          "output_type": "execute_result",
          "data": {
            "text/plain": [
              "(7050, 5, 10, 160)"
            ]
          },
          "metadata": {
            "tags": []
          },
          "execution_count": 36
        }
      ]
    },
    {
      "metadata": {
        "id": "rNp-sUV60qka",
        "colab_type": "code",
        "colab": {}
      },
      "cell_type": "code",
      "source": [
        "# img label \n",
        "\n",
        "train_img_shuffle_len =len(train_img_shuffle)\n",
        "for i in range(train_img_shuffle_len):\n",
        "    train_label = np.append(train_label, (train_img_shuffle[i][0][window_len][0] ))\n",
        "    for j in range (ch_number):\n",
        "      train_img_2[i][j] = np.delete(train_img_shuffle[i][j], window_len, axis=0)"
      ],
      "execution_count": 0,
      "outputs": []
    },
    {
      "metadata": {
        "id": "fcohyUUd-bUS",
        "colab_type": "code",
        "colab": {
          "base_uri": "https://localhost:8080/",
          "height": 34
        },
        "outputId": "5d54811c-e164-46d6-daa0-52a10d25e83e"
      },
      "cell_type": "code",
      "source": [
        "import keras\n",
        "from keras.utils import to_categorical"
      ],
      "execution_count": 11,
      "outputs": [
        {
          "output_type": "stream",
          "text": [
            "Using TensorFlow backend.\n"
          ],
          "name": "stderr"
        }
      ]
    },
    {
      "metadata": {
        "id": "avj5JZL--CIb",
        "colab_type": "code",
        "colab": {}
      },
      "cell_type": "code",
      "source": [
        "train_label = to_categorical(train_label, subject_number)\n",
        "test_label = to_categorical(test_label, subject_number)"
      ],
      "execution_count": 0,
      "outputs": []
    },
    {
      "metadata": {
        "id": "wGXxfUBc-iwT",
        "colab_type": "code",
        "outputId": "ce9b0ef3-e6ef-4f12-b8cf-835c2e9be9e7",
        "colab": {
          "base_uri": "https://localhost:8080/",
          "height": 34
        }
      },
      "cell_type": "code",
      "source": [
        "# valid & train\n",
        "x_train =train_img_2[:8000]\n",
        "y_train =train_label[:8000]\n",
        "\n",
        "x_valid =train_img_2[8000:]\n",
        "y_valid =train_label[8000:]\n",
        "\n",
        "x_train.shape"
      ],
      "execution_count": 13,
      "outputs": [
        {
          "output_type": "execute_result",
          "data": {
            "text/plain": [
              "(8000, 2, 10, 160)"
            ]
          },
          "metadata": {
            "tags": []
          },
          "execution_count": 13
        }
      ]
    },
    {
      "metadata": {
        "id": "oJPj5Pw4-lXH",
        "colab_type": "code",
        "outputId": "978384d9-280f-4a2e-9e85-ad39df1944e7",
        "colab": {
          "base_uri": "https://localhost:8080/",
          "height": 238
        }
      },
      "cell_type": "code",
      "source": [
        "from keras import layers\n",
        "from keras import models\n",
        "from keras import regularizers\n",
        "\n",
        "\n",
        "model = models.Sequential()\n",
        "model.add(layers.Conv2D(64, (3,3), activation = 'relu', input_shape = (ch_number,window_len,160), data_format= \"channels_first\" ))\n",
        "print(model.output.shape)\n",
        "model.add(layers.MaxPooling2D((2,2)))\n",
        "print(model.output.shape)\n",
        "model.add(layers.Conv2D(128, (3,3), activation = 'relu'))\n",
        "print(model.output.shape)\n",
        "model.add(layers.MaxPooling2D((2,2)))\n",
        "\n",
        "model.add(layers.Flatten())\n",
        "print(model.output.shape)\n",
        "model.add(layers.Dense(512, activation = 'relu'))\n",
        "model.add(layers.Dropout(0.5))\n",
        "print(model.output.shape)\n",
        "model.add(layers.Dense(subject_number, activation = 'softmax'))\n",
        "print(model.output.shape)"
      ],
      "execution_count": 14,
      "outputs": [
        {
          "output_type": "stream",
          "text": [
            "WARNING:tensorflow:From /usr/local/lib/python3.6/dist-packages/tensorflow/python/framework/op_def_library.py:263: colocate_with (from tensorflow.python.framework.ops) is deprecated and will be removed in a future version.\n",
            "Instructions for updating:\n",
            "Colocations handled automatically by placer.\n",
            "(?, 64, 8, 158)\n",
            "(?, 32, 4, 158)\n",
            "(?, 30, 2, 128)\n",
            "(?, ?)\n",
            "WARNING:tensorflow:From /usr/local/lib/python3.6/dist-packages/keras/backend/tensorflow_backend.py:3445: calling dropout (from tensorflow.python.ops.nn_ops) with keep_prob is deprecated and will be removed in a future version.\n",
            "Instructions for updating:\n",
            "Please use `rate` instead of `keep_prob`. Rate should be set to `rate = 1 - keep_prob`.\n",
            "(?, 512)\n",
            "(?, 10)\n"
          ],
          "name": "stdout"
        }
      ]
    },
    {
      "metadata": {
        "id": "w8TTCrGy-lfv",
        "colab_type": "code",
        "colab": {}
      },
      "cell_type": "code",
      "source": [
        "\n",
        "from keras import optimizers\n",
        "\n",
        "model.compile(loss= 'categorical_crossentropy',\n",
        "              optimizer= optimizers.RMSprop(lr= 1e-4),\n",
        "              metrics = ['acc'])"
      ],
      "execution_count": 0,
      "outputs": []
    },
    {
      "metadata": {
        "id": "RdNLORh0AZYc",
        "colab_type": "code",
        "outputId": "af87923f-686d-4c8f-e844-104c0aee0be3",
        "colab": {
          "base_uri": "https://localhost:8080/",
          "height": 608
        }
      },
      "cell_type": "code",
      "source": [
        "history = model.fit(\n",
        "        x_train,\n",
        "        y_train,\n",
        "        epochs = 15,\n",
        "        batch_size = 10,\n",
        "        validation_data = (x_valid, y_valid)\n",
        ")"
      ],
      "execution_count": 16,
      "outputs": [
        {
          "output_type": "stream",
          "text": [
            "WARNING:tensorflow:From /usr/local/lib/python3.6/dist-packages/tensorflow/python/ops/math_ops.py:3066: to_int32 (from tensorflow.python.ops.math_ops) is deprecated and will be removed in a future version.\n",
            "Instructions for updating:\n",
            "Use tf.cast instead.\n",
            "Train on 8000 samples, validate on 6100 samples\n",
            "Epoch 1/15\n",
            "8000/8000 [==============================] - 55s 7ms/step - loss: 1.7326 - acc: 0.3679 - val_loss: 1.1331 - val_acc: 0.6608\n",
            "Epoch 2/15\n",
            "8000/8000 [==============================] - 55s 7ms/step - loss: 1.0113 - acc: 0.6303 - val_loss: 0.7740 - val_acc: 0.7152\n",
            "Epoch 3/15\n",
            "8000/8000 [==============================] - 54s 7ms/step - loss: 0.7623 - acc: 0.7186 - val_loss: 0.6067 - val_acc: 0.7595\n",
            "Epoch 4/15\n",
            "8000/8000 [==============================] - 54s 7ms/step - loss: 0.5994 - acc: 0.7869 - val_loss: 0.4481 - val_acc: 0.8669\n",
            "Epoch 5/15\n",
            "8000/8000 [==============================] - 56s 7ms/step - loss: 0.4470 - acc: 0.8505 - val_loss: 0.3446 - val_acc: 0.8866\n",
            "Epoch 6/15\n",
            "8000/8000 [==============================] - 55s 7ms/step - loss: 0.3326 - acc: 0.8910 - val_loss: 0.3282 - val_acc: 0.8816\n",
            "Epoch 7/15\n",
            "8000/8000 [==============================] - 55s 7ms/step - loss: 0.2471 - acc: 0.9197 - val_loss: 0.1621 - val_acc: 0.9510\n",
            "Epoch 8/15\n",
            "8000/8000 [==============================] - 56s 7ms/step - loss: 0.2055 - acc: 0.9325 - val_loss: 0.1420 - val_acc: 0.9523\n",
            "Epoch 9/15\n",
            "8000/8000 [==============================] - 55s 7ms/step - loss: 0.1721 - acc: 0.9410 - val_loss: 0.1203 - val_acc: 0.9661\n",
            "Epoch 10/15\n",
            "8000/8000 [==============================] - 56s 7ms/step - loss: 0.1418 - acc: 0.9515 - val_loss: 0.1075 - val_acc: 0.9611\n",
            "Epoch 11/15\n",
            "8000/8000 [==============================] - 55s 7ms/step - loss: 0.1208 - acc: 0.9571 - val_loss: 0.0821 - val_acc: 0.9710\n",
            "Epoch 12/15\n",
            "8000/8000 [==============================] - 55s 7ms/step - loss: 0.1056 - acc: 0.9640 - val_loss: 0.0684 - val_acc: 0.9787\n",
            "Epoch 13/15\n",
            "8000/8000 [==============================] - 55s 7ms/step - loss: 0.0916 - acc: 0.9696 - val_loss: 0.0655 - val_acc: 0.9802\n",
            "Epoch 14/15\n",
            "8000/8000 [==============================] - 55s 7ms/step - loss: 0.0800 - acc: 0.9726 - val_loss: 0.0407 - val_acc: 0.9921\n",
            "Epoch 15/15\n",
            "8000/8000 [==============================] - 55s 7ms/step - loss: 0.0749 - acc: 0.9749 - val_loss: 0.1127 - val_acc: 0.9613\n"
          ],
          "name": "stdout"
        }
      ]
    },
    {
      "metadata": {
        "id": "Jl50FoGlAZb0",
        "colab_type": "code",
        "outputId": "0548b9d4-f972-404c-ce3f-91bda177d2e4",
        "colab": {
          "base_uri": "https://localhost:8080/",
          "height": 50
        }
      },
      "cell_type": "code",
      "source": [
        "model.evaluate(test_img, test_label)\n"
      ],
      "execution_count": 17,
      "outputs": [
        {
          "output_type": "stream",
          "text": [
            "4700/4700 [==============================] - 7s 1ms/step\n"
          ],
          "name": "stdout"
        },
        {
          "output_type": "execute_result",
          "data": {
            "text/plain": [
              "[0.1348031418279795, 0.943404255319149]"
            ]
          },
          "metadata": {
            "tags": []
          },
          "execution_count": 17
        }
      ]
    },
    {
      "metadata": {
        "id": "JgwRtpWuW1RR",
        "colab_type": "code",
        "colab": {}
      },
      "cell_type": "code",
      "source": [
        ""
      ],
      "execution_count": 0,
      "outputs": []
    }
  ]
}