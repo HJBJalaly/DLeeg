{
  "nbformat": 4,
  "nbformat_minor": 0,
  "metadata": {
    "colab": {
      "name": "Untitled21.ipynb",
      "version": "0.3.2",
      "provenance": [],
      "collapsed_sections": [],
      "include_colab_link": true
    },
    "kernelspec": {
      "name": "python3",
      "display_name": "Python 3"
    }
  },
  "cells": [
    {
      "cell_type": "markdown",
      "metadata": {
        "id": "view-in-github",
        "colab_type": "text"
      },
      "source": [
        "<a href=\"https://colab.research.google.com/github/helmana/DLeeg/blob/master/13ch%20(Fp%2C%20AF%2C%20F)%20_F4.ipynb\" target=\"_parent\"><img src=\"https://colab.research.google.com/assets/colab-badge.svg\" alt=\"Open In Colab\"/></a>"
      ]
    },
    {
      "cell_type": "code",
      "metadata": {
        "id": "aBmhejaooJ4n",
        "colab_type": "code",
        "colab": {
          "base_uri": "https://localhost:8080/",
          "height": 33
        },
        "outputId": "03b93a67-a11e-4500-e20a-7d86b09078a9"
      },
      "source": [
        "'''\n",
        "13 channel = {Fp1, Fp2, Af7, Af3, Af4, Af8, F7, F5, F3, F1, F2, F6, F8 } => cut F4 (35)\n",
        "\n",
        "layers: 2 conv2D(3,3) & maxpooling(2,2)\n",
        "epoch: 15 \n",
        "batch size: 20\n",
        "\n",
        "test acc: 1.0\n",
        "\n",
        "'''\n",
        "\n",
        "import matplotlib\n",
        "\n",
        "from matplotlib import pyplot as plt\n",
        "import numpy as np\n",
        "\n",
        "\n",
        "\n",
        "import random\n",
        "import mne\n",
        "from mne.preprocessing import create_ecg_epochs, create_eog_epochs\n",
        "from mne import io\n",
        "from mne import viz\n",
        "#from mne.datasets import testing\n",
        "from mne import Epochs, io, pick_types\n",
        "from mne.event import define_target_events\n",
        "from mne.time_frequency import psd_welch\n",
        "print(__doc__)"
      ],
      "execution_count": 1,
      "outputs": [
        {
          "output_type": "stream",
          "text": [
            "Automatically created module for IPython interactive environment\n"
          ],
          "name": "stdout"
        }
      ]
    },
    {
      "cell_type": "code",
      "metadata": {
        "id": "ybO8DuqI2wNB",
        "colab_type": "code",
        "colab": {
          "base_uri": "https://localhost:8080/",
          "height": 873
        },
        "outputId": "e7153279-a126-47d7-8da4-b8288ccee5f7"
      },
      "source": [
        "subject_number=5\n",
        "\n",
        "\n",
        "# load dataset in array\n",
        "list_raw_fnames = [[0]*2]*subject_number\n",
        "for x in range(subject_number):\n",
        "    list_raw_fnames[x] = mne.datasets.eegbci.load_data(x+1,[1,2])\n",
        "\n",
        "list_rawdata1 = np.zeros((subject_number,2), dtype='object')\n",
        "list_rawdata = np.zeros((subject_number,2), dtype='object')\n",
        "\n",
        "for i in range(subject_number):\n",
        "    for j in range(2):\n",
        "        list_rawdata[i][j] = mne.io.read_raw_edf(list_raw_fnames[i][j], preload=True)\n",
        "       "
      ],
      "execution_count": 4,
      "outputs": [
        {
          "output_type": "stream",
          "text": [
            "Extracting EDF parameters from /root/mne_data/MNE-eegbci-data/physiobank/database/eegmmidb/S001/S001R01.edf...\n",
            "EDF file detected\n",
            "Setting channel info structure...\n",
            "Creating raw.info structure...\n",
            "Reading 0 ... 9759  =      0.000 ...    60.994 secs...\n",
            "Extracting EDF parameters from /root/mne_data/MNE-eegbci-data/physiobank/database/eegmmidb/S001/S001R02.edf...\n",
            "EDF file detected\n",
            "Setting channel info structure...\n",
            "Creating raw.info structure...\n",
            "Reading 0 ... 9759  =      0.000 ...    60.994 secs...\n",
            "Extracting EDF parameters from /root/mne_data/MNE-eegbci-data/physiobank/database/eegmmidb/S002/S002R01.edf...\n",
            "EDF file detected\n",
            "Setting channel info structure...\n",
            "Creating raw.info structure...\n",
            "Reading 0 ... 9759  =      0.000 ...    60.994 secs...\n",
            "Extracting EDF parameters from /root/mne_data/MNE-eegbci-data/physiobank/database/eegmmidb/S002/S002R02.edf...\n",
            "EDF file detected\n",
            "Setting channel info structure...\n",
            "Creating raw.info structure...\n",
            "Reading 0 ... 9759  =      0.000 ...    60.994 secs...\n",
            "Extracting EDF parameters from /root/mne_data/MNE-eegbci-data/physiobank/database/eegmmidb/S003/S003R01.edf...\n",
            "EDF file detected\n",
            "Setting channel info structure...\n",
            "Creating raw.info structure...\n",
            "Reading 0 ... 9759  =      0.000 ...    60.994 secs...\n",
            "Extracting EDF parameters from /root/mne_data/MNE-eegbci-data/physiobank/database/eegmmidb/S003/S003R02.edf...\n",
            "EDF file detected\n",
            "Setting channel info structure...\n",
            "Creating raw.info structure...\n",
            "Reading 0 ... 9759  =      0.000 ...    60.994 secs...\n",
            "Extracting EDF parameters from /root/mne_data/MNE-eegbci-data/physiobank/database/eegmmidb/S004/S004R01.edf...\n",
            "EDF file detected\n",
            "Setting channel info structure...\n",
            "Creating raw.info structure...\n",
            "Reading 0 ... 9759  =      0.000 ...    60.994 secs...\n",
            "Extracting EDF parameters from /root/mne_data/MNE-eegbci-data/physiobank/database/eegmmidb/S004/S004R02.edf...\n",
            "EDF file detected\n",
            "Setting channel info structure...\n",
            "Creating raw.info structure...\n",
            "Reading 0 ... 9759  =      0.000 ...    60.994 secs...\n",
            "Extracting EDF parameters from /root/mne_data/MNE-eegbci-data/physiobank/database/eegmmidb/S005/S005R01.edf...\n",
            "EDF file detected\n",
            "Setting channel info structure...\n",
            "Creating raw.info structure...\n",
            "Reading 0 ... 9759  =      0.000 ...    60.994 secs...\n",
            "Extracting EDF parameters from /root/mne_data/MNE-eegbci-data/physiobank/database/eegmmidb/S005/S005R02.edf...\n",
            "EDF file detected\n",
            "Setting channel info structure...\n",
            "Creating raw.info structure...\n",
            "Reading 0 ... 9759  =      0.000 ...    60.994 secs...\n"
          ],
          "name": "stdout"
        }
      ]
    },
    {
      "cell_type": "code",
      "metadata": {
        "id": "NN4vbO1NoTO2",
        "colab_type": "code",
        "colab": {
          "base_uri": "https://localhost:8080/",
          "height": 33
        },
        "outputId": "f7f93711-fbae-4045-a5c1-829d3fcffae9"
      },
      "source": [
        "import math\n",
        "\n",
        "\n",
        "task_number=1\n",
        "task_time = 60\n",
        "sampel_number_per_sec =  160 # sampel rate\n",
        "total_sampel_number =  sampel_number_per_sec *task_time # 60*160\n",
        "sample_shift = 4 #step len\n",
        "window_len= 20\n",
        "list_channel = [21,23,24,25,27,28,29,30,31,32,34,36,37] # channel index {Fp1, Fp2, Af7, Af3, Af4, Af8, F7, F5, F3, F1, F2, F6, F8 }\n",
        "\n",
        "# img for each one\n",
        "subject_img_number = math.floor((total_sampel_number - sampel_number_per_sec) / sample_shift) +1 - window_len +1\n",
        "test_start_index=subject_img_number - math.floor(subject_img_number/4) \n",
        "\n",
        "train_number =  test_start_index \n",
        "test_number = subject_img_number - test_start_index\n",
        "train_number"
      ],
      "execution_count": 5,
      "outputs": [
        {
          "output_type": "execute_result",
          "data": {
            "text/plain": [
              "1757"
            ]
          },
          "metadata": {
            "tags": []
          },
          "execution_count": 5
        }
      ]
    },
    {
      "cell_type": "code",
      "metadata": {
        "id": "7EUZy46xoKo7",
        "colab_type": "code",
        "colab": {
          "base_uri": "https://localhost:8080/",
          "height": 33
        },
        "outputId": "d850cc72-4b33-496d-e379-b24836cb24c7"
      },
      "source": [
        "ch_number = len(list_channel)\n",
        "\n",
        "train_img = np.zeros((train_number*subject_number, ch_number, window_len + 1, 160), dtype = float)\n",
        "train_label =[]\n",
        "\n",
        "\n",
        "test_img = np.zeros((test_number*subject_number, ch_number, window_len, 160), dtype = float)\n",
        "test_label =[]\n",
        "\n",
        "\n",
        "train_img.shape\n",
        "\n",
        "train_img.shape"
      ],
      "execution_count": 6,
      "outputs": [
        {
          "output_type": "execute_result",
          "data": {
            "text/plain": [
              "(8785, 13, 21, 160)"
            ]
          },
          "metadata": {
            "tags": []
          },
          "execution_count": 6
        }
      ]
    },
    {
      "cell_type": "code",
      "metadata": {
        "id": "v4MgJrzr2i_U",
        "colab_type": "code",
        "colab": {}
      },
      "source": [
        "def normalize_channel_data(ch , i, ch_min, ch_max):\n",
        "  ch = ((ch - ch_min[i]) / (ch_max[i] - ch_min[i] ))\n",
        "  return ch"
      ],
      "execution_count": 0,
      "outputs": []
    },
    {
      "cell_type": "code",
      "metadata": {
        "id": "-1gRaqNd2jEF",
        "colab_type": "code",
        "colab": {}
      },
      "source": [
        "for s in range(subject_number):\n",
        "    ch_max =[]\n",
        "    ch_min =[]\n",
        "    for ch in list_channel:\n",
        "      rawdataChannels_t, times_t=rawdataChannels, times =list_rawdata[s][0][ch,:9600]\n",
        "      #print(rawdataChannels_t)\n",
        "      ch_max = np.append(ch_max, max(rawdataChannels_t[0])) # max for each cannel\n",
        "      ch_min = np.append(ch_min, min(rawdataChannels_t[0])) # min for each cannel\n",
        "    \n",
        "    for j in range (subject_img_number):\n",
        "        i = 0\n",
        "        for index in list_channel: # فقط کانال های با اندیس مشخص را دربرمیگیرد\n",
        "            \n",
        "            for z in range (window_len):\n",
        "                rawdataChannels, times=rawdataChannels, times =list_rawdata[s][0][index, (j+z)*sample_shift:sampel_number_per_sec+(j+z)*sample_shift]\n",
        "\n",
        "                      # normalize method\n",
        "                rawdataChannels = normalize_channel_data(rawdataChannels, i, ch_min, ch_max)\n",
        "                if j <test_start_index :\n",
        "                    train_img[s*train_number + j][i][z] = rawdataChannels\n",
        "                    if z==window_len-1 :\n",
        "                      train_img[s*train_number + j][i][z+1] = s\n",
        "                      \n",
        "                      \n",
        "                else:\n",
        "                    test_img[s*test_number + j - test_start_index][i][z] = rawdataChannels\n",
        "            i+=1            \n",
        "                    \n",
        "              \n",
        "        if j >=test_start_index :\n",
        "          test_label = np.append(test_label, (s))"
      ],
      "execution_count": 0,
      "outputs": []
    },
    {
      "cell_type": "code",
      "metadata": {
        "id": "szu19pgooyC2",
        "colab_type": "code",
        "colab": {}
      },
      "source": [
        "#shaffle train img array\n",
        "train_img_shuffle = train_img\n",
        "\n",
        "np.random.shuffle(train_img_shuffle)"
      ],
      "execution_count": 0,
      "outputs": []
    },
    {
      "cell_type": "code",
      "metadata": {
        "id": "FYS-EUStoUda",
        "colab_type": "code",
        "colab": {}
      },
      "source": [
        "train_img_2 = np.zeros((train_number*subject_number, ch_number, window_len, 160), dtype = float)\n",
        "\n",
        "# img label \n",
        "train_img_shuffle_len =len(train_img_shuffle)\n",
        "for i in range(train_img_shuffle_len):\n",
        "    train_label = np.append(train_label, (train_img_shuffle[i][0][window_len][0] ))\n",
        "    for j in range (ch_number):\n",
        "      train_img_2[i][j] = np.delete(train_img_shuffle[i][j], window_len, axis=0)"
      ],
      "execution_count": 0,
      "outputs": []
    },
    {
      "cell_type": "code",
      "metadata": {
        "id": "ftF9broMotzp",
        "colab_type": "code",
        "colab": {
          "base_uri": "https://localhost:8080/",
          "height": 33
        },
        "outputId": "f36c1b8c-36cc-4fec-9368-1665e336c9e7"
      },
      "source": [
        "train_img_2.shape"
      ],
      "execution_count": 11,
      "outputs": [
        {
          "output_type": "execute_result",
          "data": {
            "text/plain": [
              "(8785, 13, 20, 160)"
            ]
          },
          "metadata": {
            "tags": []
          },
          "execution_count": 11
        }
      ]
    },
    {
      "cell_type": "code",
      "metadata": {
        "id": "VpJYLO2ftSxD",
        "colab_type": "code",
        "colab": {
          "base_uri": "https://localhost:8080/",
          "height": 33
        },
        "outputId": "b5ee9726-5f5e-4ad0-9bf0-cd7367e51438"
      },
      "source": [
        "import keras\n",
        "from keras.utils import to_categorical"
      ],
      "execution_count": 12,
      "outputs": [
        {
          "output_type": "stream",
          "text": [
            "Using TensorFlow backend.\n"
          ],
          "name": "stderr"
        }
      ]
    },
    {
      "cell_type": "code",
      "metadata": {
        "id": "h6XFCyW30YC5",
        "colab_type": "code",
        "colab": {}
      },
      "source": [
        "train_label = to_categorical(train_label, subject_number)\n",
        "test_label = to_categorical(test_label, subject_number)"
      ],
      "execution_count": 0,
      "outputs": []
    },
    {
      "cell_type": "code",
      "metadata": {
        "id": "KLEERdYz0t4S",
        "colab_type": "code",
        "colab": {
          "base_uri": "https://localhost:8080/",
          "height": 33
        },
        "outputId": "15401cfc-62ee-4e98-f59d-1952c568f2da"
      },
      "source": [
        "# valid & train\n",
        "x_train =train_img_2[:5000]\n",
        "y_train =train_label[:5000]\n",
        "\n",
        "x_valid =train_img_2[5000:]\n",
        "y_valid =train_label[5000:]\n",
        "\n",
        "x_valid.shape"
      ],
      "execution_count": 14,
      "outputs": [
        {
          "output_type": "execute_result",
          "data": {
            "text/plain": [
              "(3785, 13, 20, 160)"
            ]
          },
          "metadata": {
            "tags": []
          },
          "execution_count": 14
        }
      ]
    },
    {
      "cell_type": "code",
      "metadata": {
        "id": "HoI6DunO01er",
        "colab_type": "code",
        "colab": {
          "base_uri": "https://localhost:8080/",
          "height": 405
        },
        "outputId": "49b911c5-0c94-4d1b-cc86-01721b484d3c"
      },
      "source": [
        "from keras import layers\n",
        "from keras import models\n",
        "from keras import regularizers\n",
        "\n",
        "\n",
        "model = models.Sequential()\n",
        "model.add(layers.Conv2D(64, (3,3), activation = 'relu', input_shape = (ch_number,window_len,160), data_format= \"channels_first\" ))\n",
        "print(model.output.shape)\n",
        "model.add(layers.MaxPooling2D((2,2)))\n",
        "print(model.output.shape)\n",
        "model.add(layers.Conv2D(128, (3,3), activation = 'relu'))\n",
        "print(model.output.shape)\n",
        "model.add(layers.MaxPooling2D((2,2)))\n",
        "\n",
        "model.add(layers.Flatten())\n",
        "print(model.output.shape)\n",
        "model.add(layers.Dense(512, activation = 'relu'))\n",
        "model.add(layers.Dropout(0.5))\n",
        "print(model.output.shape)\n",
        "model.add(layers.Dense(subject_number, activation = 'softmax'))\n",
        "print(model.output.shape)"
      ],
      "execution_count": 15,
      "outputs": [
        {
          "output_type": "stream",
          "text": [
            "WARNING: Logging before flag parsing goes to stderr.\n",
            "W0704 16:08:21.871549 139651770419072 deprecation_wrapper.py:119] From /usr/local/lib/python3.6/dist-packages/keras/backend/tensorflow_backend.py:74: The name tf.get_default_graph is deprecated. Please use tf.compat.v1.get_default_graph instead.\n",
            "\n",
            "W0704 16:08:21.895076 139651770419072 deprecation_wrapper.py:119] From /usr/local/lib/python3.6/dist-packages/keras/backend/tensorflow_backend.py:517: The name tf.placeholder is deprecated. Please use tf.compat.v1.placeholder instead.\n",
            "\n",
            "W0704 16:08:21.902746 139651770419072 deprecation_wrapper.py:119] From /usr/local/lib/python3.6/dist-packages/keras/backend/tensorflow_backend.py:4138: The name tf.random_uniform is deprecated. Please use tf.random.uniform instead.\n",
            "\n",
            "W0704 16:08:21.927638 139651770419072 deprecation_wrapper.py:119] From /usr/local/lib/python3.6/dist-packages/keras/backend/tensorflow_backend.py:174: The name tf.get_default_session is deprecated. Please use tf.compat.v1.get_default_session instead.\n",
            "\n",
            "W0704 16:08:21.929673 139651770419072 deprecation_wrapper.py:119] From /usr/local/lib/python3.6/dist-packages/keras/backend/tensorflow_backend.py:181: The name tf.ConfigProto is deprecated. Please use tf.compat.v1.ConfigProto instead.\n",
            "\n",
            "W0704 16:08:21.984245 139651770419072 deprecation_wrapper.py:119] From /usr/local/lib/python3.6/dist-packages/keras/backend/tensorflow_backend.py:3976: The name tf.nn.max_pool is deprecated. Please use tf.nn.max_pool2d instead.\n",
            "\n",
            "W0704 16:08:22.039410 139651770419072 deprecation.py:506] From /usr/local/lib/python3.6/dist-packages/keras/backend/tensorflow_backend.py:3445: calling dropout (from tensorflow.python.ops.nn_ops) with keep_prob is deprecated and will be removed in a future version.\n",
            "Instructions for updating:\n",
            "Please use `rate` instead of `keep_prob`. Rate should be set to `rate = 1 - keep_prob`.\n"
          ],
          "name": "stderr"
        },
        {
          "output_type": "stream",
          "text": [
            "(?, 64, 18, 158)\n",
            "(?, 32, 9, 158)\n",
            "(?, 30, 7, 128)\n",
            "(?, ?)\n",
            "(?, 512)\n",
            "(?, 5)\n"
          ],
          "name": "stdout"
        }
      ]
    },
    {
      "cell_type": "code",
      "metadata": {
        "id": "oy9QIzdN03Rw",
        "colab_type": "code",
        "colab": {
          "base_uri": "https://localhost:8080/",
          "height": 70
        },
        "outputId": "6028cae5-a739-4535-9b5f-0b6184c6f520"
      },
      "source": [
        "from keras import optimizers\n",
        "\n",
        "model.compile(loss= 'categorical_crossentropy',\n",
        "              optimizer= optimizers.RMSprop(lr= 1e-4),\n",
        "              metrics = ['acc'])"
      ],
      "execution_count": 16,
      "outputs": [
        {
          "output_type": "stream",
          "text": [
            "W0704 16:08:33.319476 139651770419072 deprecation_wrapper.py:119] From /usr/local/lib/python3.6/dist-packages/keras/optimizers.py:790: The name tf.train.Optimizer is deprecated. Please use tf.compat.v1.train.Optimizer instead.\n",
            "\n"
          ],
          "name": "stderr"
        }
      ]
    },
    {
      "cell_type": "code",
      "metadata": {
        "id": "qlWN6lvtEMI8",
        "colab_type": "code",
        "colab": {
          "base_uri": "https://localhost:8080/",
          "height": 605
        },
        "outputId": "000b3998-fb5d-4d67-ae40-ec336be6c9ea"
      },
      "source": [
        "history = model.fit(\n",
        "        x_train,\n",
        "        y_train,\n",
        "        epochs = 15,\n",
        "        batch_size = 20,\n",
        "        validation_data = (x_valid, y_valid)\n",
        ")"
      ],
      "execution_count": 17,
      "outputs": [
        {
          "output_type": "stream",
          "text": [
            "W0704 16:08:37.144474 139651770419072 deprecation.py:323] From /usr/local/lib/python3.6/dist-packages/tensorflow/python/ops/math_grad.py:1250: add_dispatch_support.<locals>.wrapper (from tensorflow.python.ops.array_ops) is deprecated and will be removed in a future version.\n",
            "Instructions for updating:\n",
            "Use tf.where in 2.0, which has the same broadcast rule as np.where\n"
          ],
          "name": "stderr"
        },
        {
          "output_type": "stream",
          "text": [
            "Train on 5000 samples, validate on 3785 samples\n",
            "Epoch 1/15\n",
            "5000/5000 [==============================] - 86s 17ms/step - loss: 0.5737 - acc: 0.7924 - val_loss: 0.1554 - val_acc: 0.9437\n",
            "Epoch 2/15\n",
            "5000/5000 [==============================] - 85s 17ms/step - loss: 0.1233 - acc: 0.9562 - val_loss: 0.0293 - val_acc: 0.9966\n",
            "Epoch 3/15\n",
            "5000/5000 [==============================] - 85s 17ms/step - loss: 0.0624 - acc: 0.9796 - val_loss: 0.0246 - val_acc: 0.9931\n",
            "Epoch 4/15\n",
            "5000/5000 [==============================] - 84s 17ms/step - loss: 0.0354 - acc: 0.9890 - val_loss: 0.0054 - val_acc: 0.9984\n",
            "Epoch 5/15\n",
            "5000/5000 [==============================] - 85s 17ms/step - loss: 0.0269 - acc: 0.9920 - val_loss: 0.0184 - val_acc: 0.9952\n",
            "Epoch 6/15\n",
            "5000/5000 [==============================] - 85s 17ms/step - loss: 0.0195 - acc: 0.9948 - val_loss: 0.0034 - val_acc: 1.0000\n",
            "Epoch 7/15\n",
            "5000/5000 [==============================] - 84s 17ms/step - loss: 0.0137 - acc: 0.9954 - val_loss: 6.8269e-04 - val_acc: 1.0000\n",
            "Epoch 8/15\n",
            "5000/5000 [==============================] - 84s 17ms/step - loss: 0.0142 - acc: 0.9952 - val_loss: 3.6106e-04 - val_acc: 1.0000\n",
            "Epoch 9/15\n",
            "5000/5000 [==============================] - 85s 17ms/step - loss: 0.0080 - acc: 0.9978 - val_loss: 2.8133e-04 - val_acc: 1.0000\n",
            "Epoch 10/15\n",
            "5000/5000 [==============================] - 85s 17ms/step - loss: 0.0081 - acc: 0.9970 - val_loss: 1.3692e-04 - val_acc: 1.0000\n",
            "Epoch 11/15\n",
            "5000/5000 [==============================] - 84s 17ms/step - loss: 0.0141 - acc: 0.9972 - val_loss: 0.2216 - val_acc: 0.9416\n",
            "Epoch 12/15\n",
            "5000/5000 [==============================] - 85s 17ms/step - loss: 0.0084 - acc: 0.9976 - val_loss: 1.2963e-04 - val_acc: 1.0000\n",
            "Epoch 13/15\n",
            "5000/5000 [==============================] - 85s 17ms/step - loss: 0.0083 - acc: 0.9974 - val_loss: 4.5337e-04 - val_acc: 1.0000\n",
            "Epoch 14/15\n",
            "5000/5000 [==============================] - 84s 17ms/step - loss: 0.0061 - acc: 0.9980 - val_loss: 4.0439e-04 - val_acc: 1.0000\n",
            "Epoch 15/15\n",
            "5000/5000 [==============================] - 85s 17ms/step - loss: 0.0071 - acc: 0.9982 - val_loss: 4.7008e-04 - val_acc: 1.0000\n"
          ],
          "name": "stdout"
        }
      ]
    },
    {
      "cell_type": "code",
      "metadata": {
        "id": "UYQL6mUhEOvV",
        "colab_type": "code",
        "colab": {
          "base_uri": "https://localhost:8080/",
          "height": 50
        },
        "outputId": "5e4cbe0e-2e11-4f3c-f0c6-221daaa44503"
      },
      "source": [
        "model.evaluate(test_img, test_label)\n"
      ],
      "execution_count": 18,
      "outputs": [
        {
          "output_type": "stream",
          "text": [
            "2925/2925 [==============================] - 13s 4ms/step\n"
          ],
          "name": "stdout"
        },
        {
          "output_type": "execute_result",
          "data": {
            "text/plain": [
              "[0.0008301816726245897, 1.0]"
            ]
          },
          "metadata": {
            "tags": []
          },
          "execution_count": 18
        }
      ]
    },
    {
      "cell_type": "code",
      "metadata": {
        "id": "DY7gdAwLR-Ib",
        "colab_type": "code",
        "colab": {
          "base_uri": "https://localhost:8080/",
          "height": 294
        },
        "outputId": "9f00b5bb-517f-43ba-fbc9-bfffb57c5cc6"
      },
      "source": [
        "import matplotlib.pyplot as plt\n",
        "\n",
        "history_dict = history.history \n",
        "\n",
        "loss_values = history_dict ['loss'] \n",
        "\n",
        "val_loss_values = history_dict['val_loss']\n",
        "\n",
        "epochs = range(1, len(loss_values) + 1)\n",
        "\n",
        "\n",
        "\n",
        "plt.plot(epochs, loss_values, 'bo', label='Training loss') \n",
        "\n",
        "plt.plot(epochs, val_loss_values, 'b', label='Validation loss') \n",
        "\n",
        "plt.title('Training and validation loss') \n",
        "\n",
        "plt.xlabel('Epochs') \n",
        "\n",
        "plt.ylabel('Loss') \n",
        "\n",
        "plt.legend()\n",
        "\n",
        "plt.show()"
      ],
      "execution_count": 19,
      "outputs": [
        {
          "output_type": "display_data",
          "data": {
            "image/png": "[encoded data removed]",
            "text/plain": [
              "<Figure size 432x288 with 1 Axes>"
            ]
          },
          "metadata": {
            "tags": []
          }
        }
      ]
    },
    {
      "cell_type": "code",
      "metadata": {
        "id": "JnfZTVejR-Lv",
        "colab_type": "code",
        "colab": {
          "base_uri": "https://localhost:8080/",
          "height": 294
        },
        "outputId": "779bc6ea-9362-49b3-9e38-c0cc822e15d7"
      },
      "source": [
        "history_dict = history.history \n",
        "\n",
        "acc_values = history_dict ['acc'] \n",
        "\n",
        "val_acc_values = history_dict['val_acc']\n",
        "\n",
        "\n",
        "\n",
        "plt.plot(epochs, acc_values, 'bo', label='Training acc') \n",
        "\n",
        "plt.plot(epochs, val_acc_values, 'b', label='Validation acc') \n",
        "\n",
        "plt.title('Training and validation acc') \n",
        "\n",
        "plt.xlabel('Epochs') \n",
        "\n",
        "plt.ylabel('acc') \n",
        "\n",
        "plt.legend()\n",
        "\n",
        "plt.show()"
      ],
      "execution_count": 20,
      "outputs": [
        {
          "output_type": "display_data",
          "data": {
            "image/png": "[encoded data removed]",
            "text/plain": [
              "<Figure size 432x288 with 1 Axes>"
            ]
          },
          "metadata": {
            "tags": []
          }
        }
      ]
    },
    {
      "cell_type": "code",
      "metadata": {
        "id": "qC994zFdJ4wf",
        "colab_type": "code",
        "colab": {}
      },
      "source": [
        "# Run this cell to mount your Google Drive.\n",
        "from google.colab import drive\n",
        "drive.mount('/content/drive')"
      ],
      "execution_count": 0,
      "outputs": []
    }
  ]
}